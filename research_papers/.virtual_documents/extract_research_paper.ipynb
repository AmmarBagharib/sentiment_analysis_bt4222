import PyPDF2
# Load the summarization pipeline


pdf_summary_text = ""


pdf_file_path = "dong2020.pdf"

# # Open the PDF file in read-binary mode
pdf_file = open(pdf_file_path, 'rb')

#create a PDF object
pdf_reader = PyPDF2.PdfReader(pdf_file)


# Initialize a list to store extracted text from each page
extracted_text = []

# Loop through all the pages in the PDF file
for page_number in range(len(pdf_reader.pages)):
    # Extract text from the current page
    page = pdf_reader.pages[page_number]
    page_text = page.extract_text().lower()
    
    # Append the extracted text to the list
    extracted_text.append(page_text)

# Close the PDF file
pdf_file.close()


range(len(pdf_reader.pages))


extracted_text[0]
