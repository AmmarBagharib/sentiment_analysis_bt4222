{
 "cells": [
  {
   "cell_type": "markdown",
   "id": "e8a761e7-884a-41c9-8e60-0430947d6a2b",
   "metadata": {},
   "source": [
    "# Steps to Summarize a Paper with Python and the ChatGPT API"
   ]
  },
  {
   "cell_type": "markdown",
   "id": "91459842-5d24-4349-8d25-d1efc68d1387",
   "metadata": {},
   "source": [
    "## 1. Import the required libraries:"
   ]
  },
  {
   "cell_type": "code",
   "execution_count": 1,
   "id": "5a3d6338-0cad-439f-bf4c-132c4546f3e3",
   "metadata": {},
   "outputs": [
    {
     "name": "stdout",
     "output_type": "stream",
     "text": [
      "2.0.1\n"
     ]
    }
   ],
   "source": [
    "import PyPDF2\n",
    "# Load the summarization pipeline"
   ]
  },
  {
   "cell_type": "markdown",
   "id": "5e2f7b52-2a09-45ae-ad06-2a0ad0b27a27",
   "metadata": {},
   "source": [
    "## 2. Initialize an empty string to store the summarized text:"
   ]
  },
  {
   "cell_type": "code",
   "execution_count": 3,
   "id": "f9b3352c-c545-41cc-a4b1-37ca837693b0",
   "metadata": {},
   "outputs": [],
   "source": [
    "pdf_summary_text = \"\""
   ]
  },
  {
   "cell_type": "markdown",
   "id": "748523bc-402d-4b79-b327-da419898ddb9",
   "metadata": {},
   "source": [
    "## 3. Open the PDF file and create a PyPDF2 reader object:"
   ]
  },
  {
   "cell_type": "code",
   "execution_count": 4,
   "id": "63ff9a49-c021-4d1e-a721-d5087b4be018",
   "metadata": {},
   "outputs": [],
   "source": [
    "pdf_file_path = \"dong2020.pdf\"\n",
    "\n",
    "# # Open the PDF file in read-binary mode\n",
    "pdf_file = open(pdf_file_path, 'rb')\n",
    "\n",
    "#create a PDF object\n",
    "pdf_reader = PyPDF2.PdfReader(pdf_file)"
   ]
  },
  {
   "cell_type": "markdown",
   "id": "af193fc9-16f0-4be9-a3ab-475e3e687646",
   "metadata": {},
   "source": [
    "## 4. Loop through all the pages in the PDF file, extracting the text from each page:"
   ]
  },
  {
   "cell_type": "code",
   "execution_count": 5,
   "id": "70e93927-b7ca-4854-932a-a5ed58d20c48",
   "metadata": {},
   "outputs": [],
   "source": [
    "# Initialize a list to store extracted text from each page\n",
    "extracted_text = []\n",
    "\n",
    "# Loop through all the pages in the PDF file\n",
    "for page_number in range(len(pdf_reader.pages)):\n",
    "    # Extract text from the current page\n",
    "    page = pdf_reader.pages[page_number]\n",
    "    page_text = page.extract_text().lower()\n",
    "    \n",
    "    # Append the extracted text to the list\n",
    "    extracted_text.append(page_text)\n",
    "\n",
    "# Close the PDF file\n",
    "pdf_file.close()"
   ]
  },
  {
   "cell_type": "code",
   "execution_count": 6,
   "id": "29621e56-a401-4b6b-b9ff-8f29e9002fbe",
   "metadata": {},
   "outputs": [
    {
     "data": {
      "text/plain": [
       "range(0, 21)"
      ]
     },
     "execution_count": 6,
     "metadata": {},
     "output_type": "execute_result"
    }
   ],
   "source": [
    "range(len(pdf_reader.pages))"
   ]
  },
  {
   "cell_type": "code",
   "execution_count": 19,
   "id": "b69b6fd5-8a2c-43f3-ba7b-333c408a3cb9",
   "metadata": {},
   "outputs": [
    {
     "data": {
      "text/plain": [
       "'software and systems modeling\\nhttps://doi.org/10.1007/s10270-020-00790-w\\nspecial section paper\\nproﬁling users via their reviews: an extended systematic mapping\\nstudy\\nxin dong1·tong li1·rui song1·zhiming ding1\\nreceived: 30 september 2019 / revised: 10 march 2020 / accepted: 12 march 2020\\n© springer-verlag gmbh germany, part of springer nature 2020\\nabstract\\nwith the extensive development of big data and social networks, the user proﬁle ﬁeld has received much attention. user proﬁling\\nis essential for understanding the characteristics of various users, contributing to better understanding of their requirements\\nin speciﬁc scenarios. user-generated contents which directly reﬂect people’s thoughts and intention are a valuable sourcefor proﬁling users, among which user reviews by nature are invaluable sources for acquiring user requirements and have\\ndrawn increasing attention from both academia and industry. however, review-based user proﬁling (rbup), as an emerging\\nresearch direction, has not been systematically reviewed, hindering researchers from further investigation. in this work, wecarry out a systematic mapping study on review-based user proﬁling, with an emphasis on investigating the generic analysis\\nprocess of rbup and identifying potential research directions. speciﬁcally, 51 out of 2478 papers were carefully selected\\nfor investigation under a standardized and systematic procedure. by carrying out in-depth analysis over such papers, wehave identiﬁed a generic process that should be followed to perform review-based user proﬁling. in addition, we performmulti-dimensional analysis on each step of the process in order to review current research progress and identify challenges\\nand potential research directions. the results show that although traditional methods have been continuously improved,\\nthey are not sufﬁcient to unleash the full potential of large-scale user reviews, especially the use of heterogeneous data formulti-dimensional user proﬁling.\\nkeywords user-generated reviews ·user proﬁling ·systematic mapping study ·software requirements\\n1 introduction\\nsoftware requirements analysis is a crucial stage of the soft-\\nware development life cycle [ 42]. in order to precisely elicit\\nuser requirements, in particular understanding their require-\\nments, it is essential to establish user proﬁles. typically, userproﬁles are elicited and tagged in terms of statistic attributes,\\ne.g., the number of products a person has bought [ 1]. more-\\ncommunicated by jelena zdravkovic and iris reinhartz-berger.\\nb tong li\\nlitong@bjut.edu.cn\\nxin dong\\ndongxin19@foxmail.com\\nrui song\\nsongrui@emails.bjut.edu.cn\\nzhiming ding\\nzmding@bjut.edu.cn\\n1beijing university of technology, beijing, people’s republicof chinaover, rate-based user proﬁling [ 1] has been investigated for\\nyears, which judges whether users like the product accord-\\ning to their ratings. however, rate-based user proﬁling cannotmine ﬁne-grained information such as about user’s opinions\\nand rationale.\\nrecently, user reviews are becoming an ideal data source\\nfor proﬁling users [ 21]. in particular, user reviews are an\\nimportant way for users to express their requirements and\\npreferences on speciﬁc products or services, by mining whichwe can obtain more precise user proﬁles. given such apromising research direction, currently there is a lack of\\nsystematic survey and comparison of new technologies for\\nreview-based user proﬁling (rbup), which may result inreinventing wheels and hinder the development of this ﬁeld.\\nfor example, in the literature [ 21], the current status and\\nresearch trends of rbup are not clearly stated, and it focuseson the application ﬁeld of the user proﬁling, not the devel-\\nopment of rbup itself. in addition, the techniques of user\\nproﬁles are divided into three categories in the literature[8], content-based method, hybrid method, and collaborative\\n123'"
      ]
     },
     "execution_count": 19,
     "metadata": {},
     "output_type": "execute_result"
    }
   ],
   "source": [
    "extracted_text[0]"
   ]
  }
 ],
 "metadata": {
  "kernelspec": {
   "display_name": "Python [conda env:bt4222_hotels]",
   "language": "python",
   "name": "conda-env-bt4222_hotels-py"
  },
  "language_info": {
   "codemirror_mode": {
    "name": "ipython",
    "version": 3
   },
   "file_extension": ".py",
   "mimetype": "text/x-python",
   "name": "python",
   "nbconvert_exporter": "python",
   "pygments_lexer": "ipython3",
   "version": "3.10.5"
  }
 },
 "nbformat": 4,
 "nbformat_minor": 5
}
