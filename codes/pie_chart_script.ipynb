{
 "cells": [
  {
   "cell_type": "markdown",
   "metadata": {
    "id": "gV0sbDLOPrV6",
    "tags": []
   },
   "source": [
    "# Imports"
   ]
  },
  {
   "cell_type": "code",
   "execution_count": 1,
   "metadata": {
    "executionInfo": {
     "elapsed": 2686,
     "status": "ok",
     "timestamp": 1695291480902,
     "user": {
      "displayName": "Hien Nga Luong",
      "userId": "10313683531485500593"
     },
     "user_tz": -480
    },
    "id": "A9cwoyvJPrV6",
    "tags": []
   },
   "outputs": [],
   "source": [
    "import numpy as np\n",
    "import pandas as pd\n",
    "import matplotlib.pyplot as plt\n",
    "import string\n",
    "import os"
   ]
  },
  {
   "cell_type": "code",
   "execution_count": 2,
   "metadata": {
    "executionInfo": {
     "elapsed": 5,
     "status": "ok",
     "timestamp": 1695291480903,
     "user": {
      "displayName": "Hien Nga Luong",
      "userId": "10313683531485500593"
     },
     "user_tz": -480
    },
    "id": "MgYUGGR0PrV8"
   },
   "outputs": [],
   "source": [
    "import warnings\n",
    "warnings.filterwarnings('ignore')\n",
    "plt.rcParams['figure.figsize'] = (17,7)\n",
    "plt.rcParams['font.size'] = 18"
   ]
  },
  {
   "cell_type": "markdown",
   "metadata": {
    "id": "R3eqBG9GPrV9"
   },
   "source": [
    "## Load Cleaned Data"
   ]
  },
  {
   "cell_type": "code",
   "execution_count": null,
   "metadata": {
    "_kg_hide-input": false,
    "_kg_hide-output": true,
    "colab": {
     "base_uri": "https://localhost:8080/",
     "height": 1000
    },
    "executionInfo": {
     "elapsed": 3875,
     "status": "ok",
     "timestamp": 1695291515820,
     "user": {
      "displayName": "Hien Nga Luong",
      "userId": "10313683531485500593"
     },
     "user_tz": -480
    },
    "id": "3UXtACkoPrV9",
    "outputId": "c049168c-b451-4ff2-8f03-174e594cf215",
    "tags": []
   },
   "outputs": [],
   "source": [
    "data = pd.read_csv(here('data/cleaned/cleaned_mbs_reviews.csv'))\n",
    "data.head(1)"
   ]
  },
  {
   "cell_type": "markdown",
   "metadata": {},
   "source": [
    "## Plot overall sentiment pie chart"
   ]
  },
  {
   "cell_type": "code",
   "execution_count": null,
   "metadata": {
    "colab": {
     "base_uri": "https://localhost:8080/",
     "height": 576
    },
    "executionInfo": {
     "elapsed": 808,
     "status": "ok",
     "timestamp": 1695291573596,
     "user": {
      "displayName": "Hien Nga Luong",
      "userId": "10313683531485500593"
     },
     "user_tz": -480
    },
    "id": "KPSo-ZRMPrV_",
    "outputId": "2145c85b-6a15-4a05-d459-6624606f225b",
    "tags": []
   },
   "outputs": [],
   "source": [
    "plt.pie(data['label'].value_counts(), labels=data['label'].unique().tolist(), autopct='%1.1f%%')\n",
    "plt.show()"
   ]
  },
  {
   "cell_type": "markdown",
   "metadata": {},
   "source": [
    "## Plot Review against Time"
   ]
  },
  {
   "cell_type": "code",
   "execution_count": 4,
   "metadata": {},
   "outputs": [
    {
     "ename": "NameError",
     "evalue": "name 'data' is not defined",
     "output_type": "error",
     "traceback": [
      "\u001b[1;31m---------------------------------------------------------------------------\u001b[0m",
      "\u001b[1;31mNameError\u001b[0m                                 Traceback (most recent call last)",
      "\u001b[1;32m<ipython-input-4-85bfc21cf74f>\u001b[0m in \u001b[0;36m<module>\u001b[1;34m\u001b[0m\n\u001b[1;32m----> 1\u001b[1;33m \u001b[0mtimeline\u001b[0m \u001b[1;33m=\u001b[0m \u001b[0mdata\u001b[0m\u001b[1;33m.\u001b[0m\u001b[0mgroupby\u001b[0m\u001b[1;33m(\u001b[0m\u001b[1;34m'date'\u001b[0m\u001b[1;33m)\u001b[0m\u001b[1;33m.\u001b[0m\u001b[0mcount\u001b[0m\u001b[1;33m(\u001b[0m\u001b[1;33m)\u001b[0m\u001b[1;33m[\u001b[0m\u001b[1;34m'traveller_username'\u001b[0m\u001b[1;33m]\u001b[0m\u001b[1;33m\u001b[0m\u001b[1;33m\u001b[0m\u001b[0m\n\u001b[0m\u001b[0;32m      2\u001b[0m \u001b[1;33m\u001b[0m\u001b[0m\n\u001b[0;32m      3\u001b[0m \u001b[0mtimeline\u001b[0m\u001b[1;33m.\u001b[0m\u001b[0mindex\u001b[0m \u001b[1;33m=\u001b[0m \u001b[0mpd\u001b[0m\u001b[1;33m.\u001b[0m\u001b[0mto_datetime\u001b[0m\u001b[1;33m(\u001b[0m\u001b[0mtimeline\u001b[0m\u001b[1;33m.\u001b[0m\u001b[0mindex\u001b[0m\u001b[1;33m)\u001b[0m\u001b[1;33m\u001b[0m\u001b[1;33m\u001b[0m\u001b[0m\n\u001b[0;32m      4\u001b[0m \u001b[1;33m\u001b[0m\u001b[0m\n\u001b[0;32m      5\u001b[0m \u001b[0mtimeline\u001b[0m \u001b[1;33m=\u001b[0m \u001b[0mtimeline\u001b[0m\u001b[1;33m.\u001b[0m\u001b[0msort_index\u001b[0m\u001b[1;33m(\u001b[0m\u001b[1;33m)\u001b[0m\u001b[1;33m\u001b[0m\u001b[1;33m\u001b[0m\u001b[0m\n",
      "\u001b[1;31mNameError\u001b[0m: name 'data' is not defined"
     ]
    }
   ],
   "source": [
    "timeline = data.groupby('date').count()['traveller_username']\n",
    "\n",
    "timeline.index = pd.to_datetime(timeline.index)\n",
    "\n",
    "timeline = timeline.sort_index()"
   ]
  },
  {
   "cell_type": "code",
   "execution_count": null,
   "metadata": {},
   "outputs": [],
   "source": [
    "plt.plot(timeline)\n",
    "plt.title(\"Time against Number of Reviews\")\n",
    "plt.xlabel(\"Date\")\n",
    "plt.ylabel(\"Number of Reviews\")"
   ]
  },
  {
   "cell_type": "markdown",
   "metadata": {},
   "source": [
    "## Plot review in Pre, During and Post Covid Time"
   ]
  },
  {
   "cell_type": "code",
   "execution_count": 66,
   "metadata": {
    "tags": []
   },
   "outputs": [],
   "source": [
    "covid_data = data.dropna(axis=0, subset=['covid'])\n",
    "\n",
    "covid_data['covid'].value_counts()"
   ]
  },
  {
   "cell_type": "code",
   "execution_count": 68,
   "metadata": {},
   "outputs": [
    {
     "data": {
      "image/png": "[encoded data removed]",
      "text/plain": [
       "<Figure size 1224x504 with 1 Axes>"
      ]
     },
     "metadata": {},
     "output_type": "display_data"
    }
   ],
   "source": [
    "plt.pie(covid_data['covid'].value_counts(), labels=covid_data['covid'].value_counts().index.unique().tolist(), autopct='%1.1f%%')\n",
    "plt.show()"
   ]
  },
  {
   "cell_type": "code",
   "execution_count": 5,
   "metadata": {},
   "outputs": [
    {
     "data": {
      "text/plain": [
       "['cleaned_crowne-plaza.csv',\n",
       " 'cleaned_fullerton.csv',\n",
       " 'cleaned_grand-mercure-sg-roxy.csv',\n",
       " 'cleaned_holiday-inn-express-clarke-quay.csv',\n",
       " 'cleaned_hotel-boss.csv',\n",
       " 'cleaned_hotel-G.csv',\n",
       " 'cleaned_ibis-sg-bencoolen.csv',\n",
       " 'cleaned_mbs_reviews.csv',\n",
       " 'cleaned_mbs_total.csv',\n",
       " 'cleaned_pan-pacific.csv',\n",
       " 'cleaned_paradox-sg-merchant-court.csv',\n",
       " 'cleaned_park-regis.csv',\n",
       " 'cleaned_parkroyal-collection-marina-bay.csv',\n",
       " 'cleaned_swissotel-the-stamford.csv',\n",
       " 'cleaned_village-hotel-albert-court-by-far-east-hospitality.csv',\n",
       " 'cleaned_village-hotel-changi-by-far-east-hospitality.csv']"
      ]
     },
     "execution_count": 5,
     "metadata": {},
     "output_type": "execute_result"
    }
   ],
   "source": [
    "csvs = os.listdir(r\"C:\\Nga\\BT4222\\sentiment_analysis_bt4222\\data\\cleaned\")\n",
    "csvs"
   ]
  },
  {
   "cell_type": "code",
   "execution_count": 6,
   "metadata": {},
   "outputs": [],
   "source": [
    "star3 = ['cleaned_ibis-sg-bencoolen.csv','cleaned_hotel-boss.csv','cleaned_hotel-G.csv',\n",
    "           'cleaned_village-hotel-albert-court-by-far-east-hospitality.csv',\n",
    "           'cleaned_holiday-inn-express-clarke-quay.csv']\n",
    "star4 = ['cleaned_village-hotel-changi-by-far-east-hospitality.csv',\n",
    "         'cleaned_park-regis.csv', 'cleaned_grand-mercure-sg-roxy.csv',\n",
    "         'cleaned_paradox-sg-merchant-court.csv','cleaned_crowne-plaza.csv']\n",
    "star5 = ['cleaned_fullerton.csv', 'cleaned_parkroyal-collection-marina-bay.csv', 'cleaned_pan-pacific.csv',\n",
    "          'cleaned_mbs_total.csv', 'cleaned_swissotel-the-stamford.csv']"
   ]
  },
  {
   "cell_type": "code",
   "execution_count": 7,
   "metadata": {},
   "outputs": [],
   "source": [
    "ROOT = r'C:\\Nga\\BT4222\\sentiment_analysis_bt4222'\n",
    "RAW_FOLDER = \"data\\\\cleaned\""
   ]
  },
  {
   "cell_type": "code",
   "execution_count": 8,
   "metadata": {},
   "outputs": [],
   "source": [
    "import pandas as pd\n",
    "\n",
    "def combine_csv_to_dataframe(file_names):\n",
    "    \"\"\"\n",
    "    Combine multiple CSV files into a single DataFrame.\n",
    "\n",
    "    Parameters:\n",
    "    file_names (list): List of CSV file names.\n",
    "\n",
    "    Returns:\n",
    "    pd.DataFrame: Combined DataFrame.\n",
    "    \"\"\"\n",
    "    combined_df = pd.DataFrame()\n",
    "    \n",
    "    for file_name in file_names:\n",
    "        file_name = ROOT + \"\\\\\"+RAW_FOLDER + \"\\\\\" + file_name\n",
    "        try:\n",
    "            df = pd.read_csv(file_name)\n",
    "            combined_df = pd.concat([combined_df, df], ignore_index=True)\n",
    "        except FileNotFoundError:\n",
    "            print(f\"File not found: {file_name}\")\n",
    "        except pd.errors.EmptyDataError:\n",
    "            print(f\"Empty or invalid CSV file: {file_name}\")\n",
    "    \n",
    "    return combined_df\n"
   ]
  },
  {
   "cell_type": "code",
   "execution_count": 11,
   "metadata": {},
   "outputs": [
    {
     "data": {
      "text/plain": [
       "Index(['Unnamed: 0', 'date_of_stay', 'traveller_username', 'review_title',\n",
       "       'review_text', 'travel_type', 'traveller_country_origin',\n",
       "       'traveller_total_contributions',\n",
       "       'traveller_total_helpful_contributions', 'rating1', 'rating2', 'rating',\n",
       "       'valid_rating', 'label', 'cleaned_review', 'combined_review', 'date',\n",
       "       'covid'],\n",
       "      dtype='object')"
      ]
     },
     "execution_count": 11,
     "metadata": {},
     "output_type": "execute_result"
    }
   ],
   "source": [
    "combined_dataframe.columns"
   ]
  },
  {
   "cell_type": "code",
   "execution_count": 17,
   "metadata": {},
   "outputs": [
    {
     "data": {
      "text/html": [
       "<div>\n",
       "<style scoped>\n",
       "    .dataframe tbody tr th:only-of-type {\n",
       "        vertical-align: middle;\n",
       "    }\n",
       "\n",
       "    .dataframe tbody tr th {\n",
       "        vertical-align: top;\n",
       "    }\n",
       "\n",
       "    .dataframe thead th {\n",
       "        text-align: right;\n",
       "    }\n",
       "</style>\n",
       "<table border=\"1\" class=\"dataframe\">\n",
       "  <thead>\n",
       "    <tr style=\"text-align: right;\">\n",
       "      <th></th>\n",
       "      <th>traveller_username</th>\n",
       "      <th>date</th>\n",
       "      <th>travel_type</th>\n",
       "      <th>traveller_total_contributions</th>\n",
       "      <th>traveller_total_helpful_contributions</th>\n",
       "      <th>review_title</th>\n",
       "      <th>review_text</th>\n",
       "      <th>rating</th>\n",
       "    </tr>\n",
       "  </thead>\n",
       "  <tbody>\n",
       "    <tr>\n",
       "      <th>0</th>\n",
       "      <td>Love_Life_Sydney</td>\n",
       "      <td>2023-08-01</td>\n",
       "      <td>Trip type: Travelled as a couple</td>\n",
       "      <td>2302.0</td>\n",
       "      <td>871.0</td>\n",
       "      <td>Clean and comfortable</td>\n",
       "      <td>Hotel rooms in Singapore are so expensive so t...</td>\n",
       "      <td>4.0</td>\n",
       "    </tr>\n",
       "    <tr>\n",
       "      <th>1</th>\n",
       "      <td>Bilal S</td>\n",
       "      <td>2023-08-01</td>\n",
       "      <td>Trip type: Travelled with family</td>\n",
       "      <td>4.0</td>\n",
       "      <td>NaN</td>\n",
       "      <td>Good hotel, great location</td>\n",
       "      <td>This is a great place! Location is great but t...</td>\n",
       "      <td>5.0</td>\n",
       "    </tr>\n",
       "    <tr>\n",
       "      <th>2</th>\n",
       "      <td>Anthony Fernando</td>\n",
       "      <td>2022-10-01</td>\n",
       "      <td>Trip type: Travelled with friends</td>\n",
       "      <td>39.0</td>\n",
       "      <td>38.0</td>\n",
       "      <td>Good place for a decent price.</td>\n",
       "      <td>Good place good price  Easy access to the city...</td>\n",
       "      <td>5.0</td>\n",
       "    </tr>\n",
       "    <tr>\n",
       "      <th>3</th>\n",
       "      <td>Mjkc204</td>\n",
       "      <td>2023-08-01</td>\n",
       "      <td>Trip type: Travelled solo</td>\n",
       "      <td>37.0</td>\n",
       "      <td>19.0</td>\n",
       "      <td>Great Location and great staff.</td>\n",
       "      <td>The IBIS was a neat and tidy hotel in line wit...</td>\n",
       "      <td>5.0</td>\n",
       "    </tr>\n",
       "    <tr>\n",
       "      <th>4</th>\n",
       "      <td>Aung Nanda</td>\n",
       "      <td>2022-08-01</td>\n",
       "      <td>Trip type: Travelled on business</td>\n",
       "      <td>3.0</td>\n",
       "      <td>4.0</td>\n",
       "      <td>Good for budget stay.</td>\n",
       "      <td>I stayed there for 7 days. It was a nice locat...</td>\n",
       "      <td>4.0</td>\n",
       "    </tr>\n",
       "  </tbody>\n",
       "</table>\n",
       "</div>"
      ],
      "text/plain": [
       "  traveller_username        date                        travel_type  \\\n",
       "0   Love_Life_Sydney  2023-08-01   Trip type: Travelled as a couple   \n",
       "1            Bilal S  2023-08-01   Trip type: Travelled with family   \n",
       "2   Anthony Fernando  2022-10-01  Trip type: Travelled with friends   \n",
       "3            Mjkc204  2023-08-01          Trip type: Travelled solo   \n",
       "4         Aung Nanda  2022-08-01   Trip type: Travelled on business   \n",
       "\n",
       "  traveller_total_contributions  traveller_total_helpful_contributions  \\\n",
       "0                        2302.0                                  871.0   \n",
       "1                           4.0                                    NaN   \n",
       "2                          39.0                                   38.0   \n",
       "3                          37.0                                   19.0   \n",
       "4                           3.0                                    4.0   \n",
       "\n",
       "                      review_title  \\\n",
       "0            Clean and comfortable   \n",
       "1      Good hotel, great location    \n",
       "2   Good place for a decent price.   \n",
       "3  Great Location and great staff.   \n",
       "4            Good for budget stay.   \n",
       "\n",
       "                                         review_text  rating  \n",
       "0  Hotel rooms in Singapore are so expensive so t...     4.0  \n",
       "1  This is a great place! Location is great but t...     5.0  \n",
       "2  Good place good price  Easy access to the city...     5.0  \n",
       "3  The IBIS was a neat and tidy hotel in line wit...     5.0  \n",
       "4  I stayed there for 7 days. It was a nice locat...     4.0  "
      ]
     },
     "execution_count": 17,
     "metadata": {},
     "output_type": "execute_result"
    }
   ],
   "source": [
    "combined_dataframe = combine_csv_to_dataframe(star3)\n",
    "combined_dataframe[['traveller_username','date','travel_type','traveller_total_contributions','traveller_total_helpful_contributions','review_title','review_text','rating']].head(5)"
   ]
  },
  {
   "cell_type": "code",
   "execution_count": 31,
   "metadata": {},
   "outputs": [
    {
     "data": {
      "text/plain": [
       "PreCovid     25407\n",
       "PostCovid     1344\n",
       "Covid          673\n",
       "Name: covid, dtype: int64"
      ]
     },
     "execution_count": 31,
     "metadata": {},
     "output_type": "execute_result"
    }
   ],
   "source": [
    "combined_dataframe.covid.value_counts()"
   ]
  },
  {
   "cell_type": "code",
   "execution_count": 27,
   "metadata": {},
   "outputs": [
    {
     "data": {
      "image/png": "[encoded data removed]",
      "text/plain": [
       "<Figure size 1224x504 with 1 Axes>"
      ]
     },
     "metadata": {},
     "output_type": "display_data"
    }
   ],
   "source": [
    "plt.pie(combined_dataframe['covid'].value_counts(), labels=combined_dataframe['covid'].value_counts().index.unique().tolist(), autopct='%1.1f%%')\n",
    "plt.title(\"Covid Time Distribution for 5 star hotels\")\n",
    "plt.show()"
   ]
  },
  {
   "cell_type": "code",
   "execution_count": 104,
   "metadata": {},
   "outputs": [
    {
     "data": {
      "image/png": "[encoded data removed]",
      "text/plain": [
       "<Figure size 1008x432 with 2 Axes>"
      ]
     },
     "metadata": {},
     "output_type": "display_data"
    }
   ],
   "source": [
    "# Create a figure with 1 row and 2 columns of subplots\n",
    "fig, axs = plt.subplots(1, 2, figsize=(14, 6))\n",
    "#fig.suptitle('3 star hotels', y=1.02)  # Adjust the y position of the title\n",
    "\n",
    "# Plot pie chart for label distribution\n",
    "labels1 = combined_dataframe['label'].value_counts().index\n",
    "sizes1 = combined_dataframe['label'].value_counts()\n",
    "threshold1 = 1  # Adjust the threshold for displaying percentages\n",
    "def func1(pct, allvalues):\n",
    "    absolute = int(pct/100.*np.sum(allvalues))\n",
    "    return \"{:.1f}%\".format(pct) if pct > threshold1 else \"\"\n",
    "\n",
    "axs[0].pie(sizes1, labels=labels1, autopct=lambda pct: func1(pct, sizes1), startangle=140, rotatelabels=False, textprops={'fontsize': 14})\n",
    "axs[0].set_title(\"Label Distribution\")\n",
    "\n",
    "# Plot pie chart for COVID combined_dataframe\n",
    "covid_combined_dataframe = combined_dataframe.dropna(axis=0, subset=['covid'])\n",
    "labels2 = covid_combined_dataframe['covid'].value_counts().index\n",
    "sizes2 = covid_combined_dataframe['covid'].value_counts()\n",
    "threshold2 = 3  # Adjust the threshold for displaying percentages\n",
    "def func2(pct, allvalues):\n",
    "    absolute = int(pct/100.*np.sum(allvalues))\n",
    "    return \"{:.1f}%\".format(pct) if pct > threshold2 else \"\"\n",
    "\n",
    "axs[1].pie(sizes2, labels=labels2, autopct=lambda pct: func2(pct, sizes2), startangle=140, rotatelabels=False, textprops={'fontsize': 14})\n",
    "axs[1].set_title(\"COVID Distribution\")\n",
    "\n",
    "# Adjust layout and spacing\n",
    "plt.tight_layout(rect=[0, 0, 0.85, 0.9])  # Adjust the rectangle for the layout\n",
    "plt.subplots_adjust(wspace=0.5)  # Adjust horizontal spacing between subplots\n",
    "\n",
    "plt.show()"
   ]
  },
  {
   "cell_type": "code",
   "execution_count": null,
   "metadata": {},
   "outputs": [],
   "source": []
  }
 ],
 "metadata": {
  "colab": {
   "provenance": []
  },
  "kernelspec": {
   "display_name": "Python 3 (ipykernel)",
   "language": "python",
   "name": "python3"
  },
  "language_info": {
   "codemirror_mode": {
    "name": "ipython",
    "version": 3
   },
   "file_extension": ".py",
   "mimetype": "text/x-python",
   "name": "python",
   "nbconvert_exporter": "python",
   "pygments_lexer": "ipython3",
   "version": "3.8.8"
  }
 },
 "nbformat": 4,
 "nbformat_minor": 4
}
