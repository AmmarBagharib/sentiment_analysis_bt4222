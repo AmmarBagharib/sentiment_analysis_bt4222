{
 "cells": [
  {
   "cell_type": "code",
   "execution_count": 25,
   "metadata": {},
   "outputs": [
    {
     "name": "stdout",
     "output_type": "stream",
     "text": [
      "Sentiment Counts:\n",
      "sentiment\n",
      "Negative     6161\n",
      "Neutral      4780\n",
      "Positive    35894\n",
      "dtype: int64\n",
      "sentiment\n",
      "Negative     6161\n",
      "Neutral      4780\n",
      "Positive    35894\n",
      "dtype: int64\n"
     ]
    }
   ],
   "source": [
    "import pandas as pd\n",
    "import ast\n",
    "import re\n",
    "\n",
    "# Assuming your data is in a CSV file named 'your_file.csv'\n",
    "df = pd.read_csv('dp_textblob_3_star.csv')\n",
    "\n",
    "# Function to get the polarity based on the threshold\n",
    "def get_polarity(topic_number, threshold=0):\n",
    "    if topic_number == threshold:\n",
    "        return \"Neutral\"\n",
    "    elif topic_number > threshold:\n",
    "        return \"Positive\"\n",
    "    else:\n",
    "        return \"Negative\"\n",
    "\n",
    "# Create a new DataFrame to store aspect, topic number, and sentiment\n",
    "new_df = pd.DataFrame(columns=['topic_number', 'aspect', 'sentiment'])\n",
    "\n",
    "# Iterate through each row and update the new_df\n",
    "for index, row in df.iterrows():\n",
    "    aspect_sentiment_str = row['aspect_sentiment']\n",
    "    \n",
    "    # Add quotes around words in the string representation\n",
    "    aspect_sentiment_str_fixed = re.sub(r'(\\b\\w+\\b)', r'\"\\1\"', aspect_sentiment_str)\n",
    "    \n",
    "    try:\n",
    "        aspect_sentiment_list = ast.literal_eval(aspect_sentiment_str_fixed)\n",
    "        for aspect_entry in aspect_sentiment_list:\n",
    "            aspect = aspect_entry[0]\n",
    "            topic_number = aspect_entry[2]\n",
    "            polarity = df.at[index, f'topic_{topic_number}']\n",
    "            sentiment = get_polarity(polarity)\n",
    "            \n",
    "            # Append to new_df\n",
    "            new_df.loc[len(new_df)] = {'topic_number': topic_number, 'aspect': aspect, 'sentiment': sentiment}\n",
    "            \n",
    "            # print(f\"Aspect: {aspect}, Topic Number: {topic_number}, Sentiment: {sentiment}\")\n",
    "    except Exception as e:\n",
    "        print(f\"Error processing row {index}: {e}\")\n",
    "\n",
    "# Group by 'topic_number' and 'sentiment', then count occurrences\n",
    "textblob_sentiment_counts = new_df.groupby(['topic_number', 'sentiment']).size().unstack(fill_value=0)\n",
    "\n",
    "# Display the counts\n",
    "print(\"Sentiment Counts:\")\n",
    "# Summing up the values for each sentiment across all topics\n",
    "total_sentiments = textblob_sentiment_counts.sum(axis=0)\n",
    "\n",
    "# Display the result\n",
    "print(total_sentiments)\n",
    "print(textblob_sentiment_counts.sum())\n"
   ]
  },
  {
   "cell_type": "code",
   "execution_count": 26,
   "metadata": {},
   "outputs": [
    {
     "name": "stdout",
     "output_type": "stream",
     "text": [
      "Sentiment Counts:\n",
      "sentiment\n",
      "Negative     8398\n",
      "Neutral      4855\n",
      "Positive    19449\n",
      "dtype: int64\n",
      "sentiment\n",
      "Negative     8398\n",
      "Neutral      4855\n",
      "Positive    19449\n",
      "dtype: int64\n"
     ]
    }
   ],
   "source": [
    "import pandas as pd\n",
    "import ast\n",
    "\n",
    "# Assuming your data is in a CSV file named 'your_other_file.csv'\n",
    "other_df = pd.read_csv('3star_pyABSA_updated.csv')\n",
    "\n",
    "# Create a new DataFrame to store aspect, topic number, and sentiment\n",
    "other_new_df = pd.DataFrame(columns=['topic_number', 'sentiment'])\n",
    "\n",
    "# Iterate through each row and update the other_new_df\n",
    "for index, row in other_df.iterrows():\n",
    "    topics_str = row['topics']\n",
    "    \n",
    "    try:\n",
    "        topics_list = ast.literal_eval(topics_str)\n",
    "        for topic_entry in topics_list:\n",
    "            topic_number = topic_entry[0]\n",
    "            sentiment = topic_entry[1]\n",
    "            \n",
    "            # Append to other_new_df\n",
    "            other_new_df.loc[len(other_new_df)] = {'topic_number': topic_number, 'sentiment': sentiment}\n",
    "            \n",
    "            #print(f\"Topic Number: {topic_number}, Sentiment: {sentiment}\")\n",
    "    except Exception as e:\n",
    "        print(f\"Error processing row {index}: {e}\")\n",
    "\n",
    "\n",
    "# Group by 'topic_number' and 'sentiment', then count occurrences\n",
    "pyabsa_sentiment_counts = other_new_df.groupby(['topic_number', 'sentiment']).size().unstack(fill_value=0)\n",
    "\n",
    "# Display the counts\n",
    "print(\"Sentiment Counts:\")\n",
    "# Summing up the values for each sentiment across all topics\n",
    "total_sentiments_pyabsa = pyabsa_sentiment_counts.sum(axis=0)\n",
    "\n",
    "# Display the result\n",
    "print(total_sentiments_pyabsa)"
   ]
  },
  {
   "cell_type": "code",
   "execution_count": 31,
   "metadata": {},
   "outputs": [
    {
     "name": "stdout",
     "output_type": "stream",
     "text": [
      "topic_number\n",
      "0    14.950156\n",
      "1    15.641245\n",
      "2    29.915601\n",
      "3    39.492997\n",
      "Name: Percentage, dtype: float64\n",
      "sentiment      Negative    Neutral   Positive\n",
      "topic_number                                 \n",
      "0             19.247290   7.363469  23.389241\n",
      "1             17.067449   4.486804  28.445748\n",
      "2              7.415926  12.179291  30.404784\n",
      "3             12.849400   5.005807  32.144793\n"
     ]
    }
   ],
   "source": [
    "pyabsa_sentiment_counts\n",
    "\n",
    "# Calculate the total number of sentiments for each topic\n",
    "pyabsa_sentiment_counts['Total'] = pyabsa_sentiment_counts.sum(axis=1)\n",
    "\n",
    "# Calculate the percentage of positive, neutral, and negative sentiments for each topic\n",
    "df_percentage = pyabsa_sentiment_counts[['Negative', 'Neutral', 'Positive']].div(pyabsa_sentiment_counts['Total'], axis=0) * 100\n",
    "\n",
    "# Calculate the total number of sentiments for each topic\n",
    "pyabsa_sentiment_counts['Total'] = pyabsa_sentiment_counts.sum(axis=1)\n",
    "\n",
    "# Calculate the percentage representation of each topic with respect to the 'Total' column\n",
    "pyabsa_sentiment_counts['Percentage'] = pyabsa_sentiment_counts['Total'] / pyabsa_sentiment_counts['Total'].sum() * 100\n",
    "\n",
    "# Print the result\n",
    "print(pyabsa_sentiment_counts[\"Percentage\"])\n",
    "\n",
    "# Print the result\n",
    "print(df_percentage)"
   ]
  },
  {
   "cell_type": "code",
   "execution_count": 32,
   "metadata": {},
   "outputs": [
    {
     "name": "stdout",
     "output_type": "stream",
     "text": [
      "topic_number\n",
      "0    28.378350\n",
      "1    15.430768\n",
      "2    29.578307\n",
      "3    26.612576\n",
      "Name: Percentage, dtype: float64\n",
      "sentiment     Negative   Neutral   Positive\n",
      "topic_number                               \n",
      "0             8.866902  5.387104  35.745994\n",
      "1             8.855680  6.185139  34.959181\n",
      "2             4.666859  4.175991  41.157150\n",
      "3             4.938222  5.202985  39.858793\n"
     ]
    }
   ],
   "source": [
    "textblob_sentiment_counts\n",
    "\n",
    "# Calculate the total number of sentiments for each topic\n",
    "textblob_sentiment_counts['Total'] = textblob_sentiment_counts.sum(axis=1)\n",
    "\n",
    "# Calculate the percentage of positive, neutral, and negative sentiments for each topic\n",
    "df_percentage = textblob_sentiment_counts[['Negative', 'Neutral', 'Positive']].div(textblob_sentiment_counts['Total'], axis=0) * 100\n",
    "\n",
    "# Calculate the total number of sentiments for each topic\n",
    "textblob_sentiment_counts['Total'] = textblob_sentiment_counts.sum(axis=1)\n",
    "\n",
    "# Calculate the percentage representation of each topic with respect to the 'Total' column\n",
    "textblob_sentiment_counts['Percentage'] = textblob_sentiment_counts['Total'] / textblob_sentiment_counts['Total'].sum() * 100\n",
    "\n",
    "# Print the result\n",
    "print(textblob_sentiment_counts[\"Percentage\"])\n",
    "\n",
    "# Print the result\n",
    "print(df_percentage)\n"
   ]
  }
 ],
 "metadata": {
  "kernelspec": {
   "display_name": "Python 3",
   "language": "python",
   "name": "python3"
  },
  "language_info": {
   "codemirror_mode": {
    "name": "ipython",
    "version": 3
   },
   "file_extension": ".py",
   "mimetype": "text/x-python",
   "name": "python",
   "nbconvert_exporter": "python",
   "pygments_lexer": "ipython3",
   "version": "3.11.5"
  }
 },
 "nbformat": 4,
 "nbformat_minor": 2
}
