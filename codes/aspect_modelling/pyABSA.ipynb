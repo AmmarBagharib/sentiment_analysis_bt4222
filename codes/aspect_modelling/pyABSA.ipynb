{
 "cells": [
  {
   "cell_type": "code",
   "execution_count": 1,
   "id": "691fcd48-297e-435f-a80e-f7290de2873d",
   "metadata": {},
   "outputs": [],
   "source": [
    "import pandas as pd\n",
    "import numpy as np\n",
    "import pyprojroot.here as here"
   ]
  },
  {
   "cell_type": "markdown",
   "id": "1a4b0125-77a0-4965-8232-034c74004bbf",
   "metadata": {
    "jp-MarkdownHeadingCollapsed": true,
    "tags": []
   },
   "source": [
    "# Load Files"
   ]
  },
  {
   "cell_type": "code",
   "execution_count": 2,
   "id": "802ebbd7-1843-4484-9ce7-dff350ce45e4",
   "metadata": {},
   "outputs": [],
   "source": [
    "# TODO: modify these list if needed (eg. if you want to load only 1 csv from star3, delete other csvs in star3 list)\n",
    "star3 = ['cleaned_ibis-sg-bencoolen.csv','cleaned_hotel-boss.csv','cleaned_hotel-G.csv',\n",
    "           'cleaned_village-hotel-albert-court-by-far-east-hospitality.csv',\n",
    "           'cleaned_holiday-inn-express-clarke-quay.csv']\n",
    "star4 = ['cleaned_village-hotel-changi-by-far-east-hospitality.csv',\n",
    "         'cleaned_park-regis.csv', 'cleaned_grand-mercure-sg-roxy.csv',\n",
    "         'cleaned_paradox-sg-merchant-court.csv','cleaned_crowne-plaza.csv']\n",
    "star5 = ['cleaned_fullerton.csv', 'cleaned_parkroyal-collection-marina-bay.csv', 'cleaned_pan-pacific.csv',\n",
    "          'cleaned_mbs_total.csv', 'cleaned_swissotel-the-stamford.csv']\n",
    "\n",
    "RAW_FOLDER = \"data/processed/\"\n",
    "\n",
    "def combine_csv_to_dataframe(file_names, all_star = False, filterDate = True):\n",
    "    \"\"\"\n",
    "    Combine multiple CSV files into a single DataFrame.\n",
    "\n",
    "    Parameters:\n",
    "    file_names (list): List of CSV file names. \n",
    "    all_star (bool): whether or not to load all the hotels (False if only want to load 1 type of hotel star). \n",
    "    filterData (bool): whether or not to remove all data dated before 2015\n",
    "\n",
    "    Returns:\n",
    "    pd.DataFrame: Combined DataFrame.\n",
    "    \"\"\"\n",
    "    combined_df = pd.DataFrame()\n",
    "\n",
    "    for file_name in file_names:\n",
    "        file_interim_path = RAW_FOLDER + file_name\n",
    "        file_path = here(file_interim_path)\n",
    "        try:\n",
    "            df = pd.read_csv(file_path)\n",
    "            if all_star:\n",
    "                if file_name in star3:\n",
    "                    df[\"star\"] = 3\n",
    "                elif file_name in star4:\n",
    "                    df[\"star\"] = 4\n",
    "                else:\n",
    "                    df[\"star\"] = 5\n",
    "            #print(f\"Length of {file_name} is {len(df)}\")\n",
    "            combined_df = pd.concat([combined_df, df], ignore_index=True)\n",
    "            #print(len(combined_df))\n",
    "        except FileNotFoundError:\n",
    "            print(f\"File not found: {file_name}\")\n",
    "        except pd.errors.EmptyDataError:\n",
    "            print(f\"Empty or invalid CSV file: {file_name}\")\n",
    "            \n",
    "    combined_df = combined_df[combined_df.year > 2000]\n",
    "                    \n",
    "    return combined_df"
   ]
  },
  {
   "cell_type": "code",
   "execution_count": 3,
   "id": "7d1ddb70-3224-4b63-8b40-4d145bf4822b",
   "metadata": {},
   "outputs": [
    {
     "name": "stdout",
     "output_type": "stream",
     "text": [
      "<class 'pandas.core.frame.DataFrame'>\n",
      "RangeIndex: 68292 entries, 0 to 68291\n",
      "Data columns (total 19 columns):\n",
      " #   Column                                 Non-Null Count  Dtype  \n",
      "---  ------                                 --------------  -----  \n",
      " 0   Unnamed: 0                             68292 non-null  int64  \n",
      " 1   traveller_username                     68292 non-null  object \n",
      " 2   review_title                           68253 non-null  object \n",
      " 3   review_text                            68292 non-null  object \n",
      " 4   travel_type                            31354 non-null  object \n",
      " 5   traveller_country_origin               51724 non-null  object \n",
      " 6   traveller_total_contributions          68103 non-null  object \n",
      " 7   traveller_total_helpful_contributions  54090 non-null  float64\n",
      " 8   rating                                 54837 non-null  float64\n",
      " 9   valid_rating                           68292 non-null  bool   \n",
      " 10  label                                  54837 non-null  object \n",
      " 11  cleaned_review                         68292 non-null  object \n",
      " 12  combined_review                        68292 non-null  object \n",
      " 13  date                                   68292 non-null  object \n",
      " 14  covid                                  68292 non-null  object \n",
      " 15  year                                   68292 non-null  int64  \n",
      " 16  stem_review                            68292 non-null  object \n",
      " 17  lem_review                             68292 non-null  object \n",
      " 18  star                                   68292 non-null  int64  \n",
      "dtypes: bool(1), float64(2), int64(3), object(13)\n",
      "memory usage: 9.4+ MB\n"
     ]
    },
    {
     "data": {
      "text/html": [
       "<div>\n",
       "<style scoped>\n",
       "    .dataframe tbody tr th:only-of-type {\n",
       "        vertical-align: middle;\n",
       "    }\n",
       "\n",
       "    .dataframe tbody tr th {\n",
       "        vertical-align: top;\n",
       "    }\n",
       "\n",
       "    .dataframe thead th {\n",
       "        text-align: right;\n",
       "    }\n",
       "</style>\n",
       "<table border=\"1\" class=\"dataframe\">\n",
       "  <thead>\n",
       "    <tr style=\"text-align: right;\">\n",
       "      <th></th>\n",
       "      <th>Unnamed: 0</th>\n",
       "      <th>traveller_username</th>\n",
       "      <th>review_title</th>\n",
       "      <th>review_text</th>\n",
       "      <th>travel_type</th>\n",
       "      <th>traveller_country_origin</th>\n",
       "      <th>traveller_total_contributions</th>\n",
       "      <th>traveller_total_helpful_contributions</th>\n",
       "      <th>rating</th>\n",
       "      <th>valid_rating</th>\n",
       "      <th>label</th>\n",
       "      <th>cleaned_review</th>\n",
       "      <th>combined_review</th>\n",
       "      <th>date</th>\n",
       "      <th>covid</th>\n",
       "      <th>year</th>\n",
       "      <th>stem_review</th>\n",
       "      <th>lem_review</th>\n",
       "      <th>star</th>\n",
       "    </tr>\n",
       "  </thead>\n",
       "  <tbody>\n",
       "    <tr>\n",
       "      <th>0</th>\n",
       "      <td>0</td>\n",
       "      <td>Love_Life_Sydney</td>\n",
       "      <td>Clean and comfortable</td>\n",
       "      <td>Hotel rooms in Singapore are so expensive so t...</td>\n",
       "      <td>Trip type: Travelled as a couple</td>\n",
       "      <td>Sydney, Australia</td>\n",
       "      <td>2302.0</td>\n",
       "      <td>871.0</td>\n",
       "      <td>4.0</td>\n",
       "      <td>True</td>\n",
       "      <td>Positive</td>\n",
       "      <td>clean comfortable hotel rooms singapore expens...</td>\n",
       "      <td>Clean and comfortable Hotel rooms in Singapore...</td>\n",
       "      <td>2023-08-01</td>\n",
       "      <td>PostCovid</td>\n",
       "      <td>2023</td>\n",
       "      <td>clean comfort hotel room singapor expens find ...</td>\n",
       "      <td>clean comfortable hotel room singapore expensi...</td>\n",
       "      <td>3</td>\n",
       "    </tr>\n",
       "    <tr>\n",
       "      <th>1</th>\n",
       "      <td>1</td>\n",
       "      <td>Bilal S</td>\n",
       "      <td>Good hotel, great location</td>\n",
       "      <td>This is a great place! Location is great but t...</td>\n",
       "      <td>Trip type: Travelled with family</td>\n",
       "      <td>Houston, Texas</td>\n",
       "      <td>4.0</td>\n",
       "      <td>NaN</td>\n",
       "      <td>5.0</td>\n",
       "      <td>True</td>\n",
       "      <td>Positive</td>\n",
       "      <td>good hotel great location great place location...</td>\n",
       "      <td>Good hotel, great location  This is a great pl...</td>\n",
       "      <td>2023-08-01</td>\n",
       "      <td>PostCovid</td>\n",
       "      <td>2023</td>\n",
       "      <td>good hotel great locat great place locat great...</td>\n",
       "      <td>good hotel great location great place location...</td>\n",
       "      <td>3</td>\n",
       "    </tr>\n",
       "    <tr>\n",
       "      <th>2</th>\n",
       "      <td>2</td>\n",
       "      <td>Anthony Fernando</td>\n",
       "      <td>Good place for a decent price.</td>\n",
       "      <td>Good place good price  Easy access to the city...</td>\n",
       "      <td>Trip type: Travelled with friends</td>\n",
       "      <td>Dubai, United Arab Emirates</td>\n",
       "      <td>39.0</td>\n",
       "      <td>38.0</td>\n",
       "      <td>5.0</td>\n",
       "      <td>True</td>\n",
       "      <td>Positive</td>\n",
       "      <td>good place decent price good place good price ...</td>\n",
       "      <td>Good place for a decent price. Good place good...</td>\n",
       "      <td>2022-10-01</td>\n",
       "      <td>PostCovid</td>\n",
       "      <td>2022</td>\n",
       "      <td>good place decent price good place good price ...</td>\n",
       "      <td>good place decent price good place good price ...</td>\n",
       "      <td>3</td>\n",
       "    </tr>\n",
       "    <tr>\n",
       "      <th>3</th>\n",
       "      <td>3</td>\n",
       "      <td>Mjkc204</td>\n",
       "      <td>Great Location and great staff.</td>\n",
       "      <td>The IBIS was a neat and tidy hotel in line wit...</td>\n",
       "      <td>Trip type: Travelled solo</td>\n",
       "      <td>Ellenbrook, Australia</td>\n",
       "      <td>37.0</td>\n",
       "      <td>19.0</td>\n",
       "      <td>5.0</td>\n",
       "      <td>True</td>\n",
       "      <td>Positive</td>\n",
       "      <td>great location great staff ibis neat tidy hote...</td>\n",
       "      <td>Great Location and great staff. The IBIS was a...</td>\n",
       "      <td>2023-08-01</td>\n",
       "      <td>PostCovid</td>\n",
       "      <td>2023</td>\n",
       "      <td>great locat great staff ibi neat tidi hotel li...</td>\n",
       "      <td>great location great staff ibis neat tidy hote...</td>\n",
       "      <td>3</td>\n",
       "    </tr>\n",
       "    <tr>\n",
       "      <th>4</th>\n",
       "      <td>4</td>\n",
       "      <td>Aung Nanda</td>\n",
       "      <td>Good for budget stay.</td>\n",
       "      <td>I stayed there for 7 days. It was a nice locat...</td>\n",
       "      <td>Trip type: Travelled on business</td>\n",
       "      <td>Dubai, United Arab Emirates</td>\n",
       "      <td>3.0</td>\n",
       "      <td>4.0</td>\n",
       "      <td>4.0</td>\n",
       "      <td>True</td>\n",
       "      <td>Positive</td>\n",
       "      <td>good budget stay stayed days nice location sev...</td>\n",
       "      <td>Good for budget stay. I stayed there for 7 day...</td>\n",
       "      <td>2022-08-01</td>\n",
       "      <td>PostCovid</td>\n",
       "      <td>2022</td>\n",
       "      <td>good budget stay stay day nice locat seven ele...</td>\n",
       "      <td>good budget stay stay day nice location seven ...</td>\n",
       "      <td>3</td>\n",
       "    </tr>\n",
       "  </tbody>\n",
       "</table>\n",
       "</div>"
      ],
      "text/plain": [
       "   Unnamed: 0 traveller_username                     review_title  \\\n",
       "0           0   Love_Life_Sydney            Clean and comfortable   \n",
       "1           1            Bilal S      Good hotel, great location    \n",
       "2           2   Anthony Fernando   Good place for a decent price.   \n",
       "3           3            Mjkc204  Great Location and great staff.   \n",
       "4           4         Aung Nanda            Good for budget stay.   \n",
       "\n",
       "                                         review_text  \\\n",
       "0  Hotel rooms in Singapore are so expensive so t...   \n",
       "1  This is a great place! Location is great but t...   \n",
       "2  Good place good price  Easy access to the city...   \n",
       "3  The IBIS was a neat and tidy hotel in line wit...   \n",
       "4  I stayed there for 7 days. It was a nice locat...   \n",
       "\n",
       "                         travel_type     traveller_country_origin  \\\n",
       "0   Trip type: Travelled as a couple            Sydney, Australia   \n",
       "1   Trip type: Travelled with family               Houston, Texas   \n",
       "2  Trip type: Travelled with friends  Dubai, United Arab Emirates   \n",
       "3          Trip type: Travelled solo        Ellenbrook, Australia   \n",
       "4   Trip type: Travelled on business  Dubai, United Arab Emirates   \n",
       "\n",
       "  traveller_total_contributions  traveller_total_helpful_contributions  \\\n",
       "0                        2302.0                                  871.0   \n",
       "1                           4.0                                    NaN   \n",
       "2                          39.0                                   38.0   \n",
       "3                          37.0                                   19.0   \n",
       "4                           3.0                                    4.0   \n",
       "\n",
       "   rating  valid_rating     label  \\\n",
       "0     4.0          True  Positive   \n",
       "1     5.0          True  Positive   \n",
       "2     5.0          True  Positive   \n",
       "3     5.0          True  Positive   \n",
       "4     4.0          True  Positive   \n",
       "\n",
       "                                      cleaned_review  \\\n",
       "0  clean comfortable hotel rooms singapore expens...   \n",
       "1  good hotel great location great place location...   \n",
       "2  good place decent price good place good price ...   \n",
       "3  great location great staff ibis neat tidy hote...   \n",
       "4  good budget stay stayed days nice location sev...   \n",
       "\n",
       "                                     combined_review        date      covid  \\\n",
       "0  Clean and comfortable Hotel rooms in Singapore...  2023-08-01  PostCovid   \n",
       "1  Good hotel, great location  This is a great pl...  2023-08-01  PostCovid   \n",
       "2  Good place for a decent price. Good place good...  2022-10-01  PostCovid   \n",
       "3  Great Location and great staff. The IBIS was a...  2023-08-01  PostCovid   \n",
       "4  Good for budget stay. I stayed there for 7 day...  2022-08-01  PostCovid   \n",
       "\n",
       "   year                                        stem_review  \\\n",
       "0  2023  clean comfort hotel room singapor expens find ...   \n",
       "1  2023  good hotel great locat great place locat great...   \n",
       "2  2022  good place decent price good place good price ...   \n",
       "3  2023  great locat great staff ibi neat tidi hotel li...   \n",
       "4  2022  good budget stay stay day nice locat seven ele...   \n",
       "\n",
       "                                          lem_review  star  \n",
       "0  clean comfortable hotel room singapore expensi...     3  \n",
       "1  good hotel great location great place location...     3  \n",
       "2  good place decent price good place good price ...     3  \n",
       "3  great location great staff ibis neat tidy hote...     3  \n",
       "4  good budget stay stay day nice location seven ...     3  "
      ]
     },
     "execution_count": 3,
     "metadata": {},
     "output_type": "execute_result"
    }
   ],
   "source": [
    "data = combine_csv_to_dataframe(star3+star4+star5, all_star = True, filterDate = True)\n",
    "#data[['traveller_username','date','travel_type','traveller_total_contributions','traveller_total_helpful_contributions','review_title','review_text','rating']].head(5)\n",
    "data.info()\n",
    "data.head()"
   ]
  },
  {
   "cell_type": "code",
   "execution_count": 4,
   "id": "535cd94b-454a-4fdc-9012-f4a3f6d373ee",
   "metadata": {},
   "outputs": [
    {
     "data": {
      "text/plain": [
       "year\n",
       "2017    12243\n",
       "2016    11747\n",
       "2018    10700\n",
       "2019    10537\n",
       "2015    10111\n",
       "2022     4126\n",
       "2023     3719\n",
       "2021     2675\n",
       "2020     2434\n",
       "Name: count, dtype: int64"
      ]
     },
     "execution_count": 4,
     "metadata": {},
     "output_type": "execute_result"
    }
   ],
   "source": [
    "data.year.value_counts()"
   ]
  },
  {
   "cell_type": "code",
   "execution_count": 5,
   "id": "b2af4e13-2109-4b38-bdc1-19221d500580",
   "metadata": {},
   "outputs": [
    {
     "data": {
      "text/plain": [
       "star\n",
       "5    35622\n",
       "4    18600\n",
       "3    14070\n",
       "Name: count, dtype: int64"
      ]
     },
     "execution_count": 5,
     "metadata": {},
     "output_type": "execute_result"
    }
   ],
   "source": [
    "data.star.value_counts()"
   ]
  },
  {
   "cell_type": "markdown",
   "id": "e203230f-027a-40b4-bbba-29f27029b0d0",
   "metadata": {},
   "source": [
    "# Pre-Covid"
   ]
  },
  {
   "cell_type": "code",
   "execution_count": 6,
   "id": "0b88f0b2-12f7-40ee-9365-355766330907",
   "metadata": {},
   "outputs": [],
   "source": [
    "precovid = data[data.covid == \"PreCovid\"]\n",
    "precovid_3star = precovid[precovid.star==3]\n",
    "precovid_4star = precovid[precovid.star==4]\n",
    "precovid_5star = precovid[precovid.star==5]"
   ]
  },
  {
   "cell_type": "markdown",
   "id": "e69f06d2-97e1-4a8b-acfe-2ef197e11886",
   "metadata": {},
   "source": [
    "# Post-Covid"
   ]
  },
  {
   "cell_type": "code",
   "execution_count": 8,
   "id": "a61bef23-7628-456c-8d41-f4447f07a696",
   "metadata": {},
   "outputs": [],
   "source": [
    "postcovid = data[data.covid == \"PostCovid\"]\n",
    "postcovid_3star = postcovid[postcovid.star==3]\n",
    "postcovid_4star = postcovid[postcovid.star==4]\n",
    "postcovid_5star = postcovid[postcovid.star==5]"
   ]
  },
  {
   "cell_type": "markdown",
   "id": "0a8a26ef-19c4-4515-9fc6-d923c8f502bc",
   "metadata": {
    "tags": []
   },
   "source": [
    "# pyABSA"
   ]
  },
  {
   "cell_type": "code",
   "execution_count": 9,
   "id": "3aed9a13-9995-41a3-aefd-4ecb34e59dec",
   "metadata": {
    "collapsed": true,
    "jupyter": {
     "outputs_hidden": true
    },
    "tags": []
   },
   "outputs": [
    {
     "name": "stderr",
     "output_type": "stream",
     "text": [
      "/bin/sh: nvidia-smi: command not found\n",
      "/Users/ammarbagharib/miniforge3/envs/bt4222_hotels/lib/python3.10/site-packages/tqdm/auto.py:21: TqdmWarning: IProgress not found. Please update jupyter and ipywidgets. See https://ipywidgets.readthedocs.io/en/stable/user_install.html\n",
      "  from .autonotebook import tqdm as notebook_tqdm\n"
     ]
    },
    {
     "name": "stdout",
     "output_type": "stream",
     "text": [
      "No CUDA GPU found in your device\n",
      "[2023-11-09 02:19:14] (2.3.4) \u001b[31mPyABSA(2.3.4): If your code crashes on Colab, please use the GPU runtime. Then run \"pip install pyabsa[dev] -U\" and restart the kernel.\n",
      "Or if it does not work, you can use v1.x versions, e.g., pip install pyabsa<2.0 -U\n",
      "\n",
      "\n",
      "\n",
      "\n",
      "WARNING: When you fails to load a checkpoint, e.g., Unexpected key(s),\n",
      "Try to downgrade transformers<=4.29.0.\n",
      "\n",
      "\n",
      "\n",
      "\u001b[0m\n"
     ]
    },
    {
     "name": "stderr",
     "output_type": "stream",
     "text": [
      "/Users/ammarbagharib/miniforge3/envs/bt4222_hotels/lib/python3.10/multiprocessing/pool.py:265: ResourceWarning: unclosed running multiprocessing pool <multiprocessing.pool.Pool state=RUN pool_size=1>\n",
      "  _warn(f\"unclosed running multiprocessing pool {self!r}\",\n",
      "ResourceWarning: Enable tracemalloc to get the object allocation traceback\n"
     ]
    }
   ],
   "source": [
    "from pyabsa import (\n",
    "    ATEPCCheckpointManager,\n",
    "    AspectTermExtraction as ATEPC,\n",
    "    DeviceTypeOption,\n",
    "    available_checkpoints,\n",
    ")\n",
    "from pyabsa import TaskCodeOption\n",
    "\n",
    "import re \n",
    "from nltk.corpus import stopwords\n",
    "import matplotlib.pyplot as plt\n",
    "import warnings \n",
    "warnings.filterwarnings(\"ignore\")"
   ]
  },
  {
   "cell_type": "markdown",
   "id": "d9dca1af-74ff-4dfb-9ab2-6dc8bed85770",
   "metadata": {},
   "source": [
    "## Define Checkpoint"
   ]
  },
  {
   "cell_type": "code",
   "execution_count": 10,
   "id": "7503520b-e197-42d3-b416-a8f070beb135",
   "metadata": {},
   "outputs": [],
   "source": [
    "checkpoint_map = available_checkpoints(\n",
    "    TaskCodeOption.Aspect_Polarity_Classification, show_ckpts=True\n",
    ")"
   ]
  },
  {
   "cell_type": "markdown",
   "id": "3a7fa1ee-3267-4e9d-bdd7-e1f632c9d157",
   "metadata": {},
   "source": [
    "## Define aspect extractor"
   ]
  },
  {
   "cell_type": "code",
   "execution_count": 11,
   "id": "446b3cdc-b685-47e2-910b-d4ad80dcdea7",
   "metadata": {},
   "outputs": [
    {
     "name": "stdout",
     "output_type": "stream",
     "text": [
      "[2023-11-09 02:19:34] (2.3.4) \u001b[32mDownloading checkpoint:english \u001b[0m\n",
      "[2023-11-09 02:19:34] (2.3.4) \u001b[31mNotice: The pretrained model are used for testing, it is recommended to train the model on your own custom datasets\u001b[0m\n",
      "[2023-11-09 02:19:34] (2.3.4) Checkpoint already downloaded, skip\n",
      "[2023-11-09 02:19:34] (2.3.4) Load aspect extractor from checkpoints/ATEPC_ENGLISH_CHECKPOINT/fast_lcf_atepc_English_cdw_apcacc_82.36_apcf1_81.89_atef1_75.43\n",
      "[2023-11-09 02:19:34] (2.3.4) config: checkpoints/ATEPC_ENGLISH_CHECKPOINT/fast_lcf_atepc_English_cdw_apcacc_82.36_apcf1_81.89_atef1_75.43/fast_lcf_atepc.config\n",
      "[2023-11-09 02:19:34] (2.3.4) state_dict: checkpoints/ATEPC_ENGLISH_CHECKPOINT/fast_lcf_atepc_English_cdw_apcacc_82.36_apcf1_81.89_atef1_75.43/fast_lcf_atepc.state_dict\n",
      "[2023-11-09 02:19:34] (2.3.4) model: None\n",
      "[2023-11-09 02:19:34] (2.3.4) tokenizer: checkpoints/ATEPC_ENGLISH_CHECKPOINT/fast_lcf_atepc_English_cdw_apcacc_82.36_apcf1_81.89_atef1_75.43/fast_lcf_atepc.tokenizer\n",
      "[2023-11-09 02:19:34] (2.3.4) Set Model Device: cpu\n",
      "[2023-11-09 02:19:34] (2.3.4) Device Name: Unknown\n"
     ]
    },
    {
     "name": "stderr",
     "output_type": "stream",
     "text": [
      "Special tokens have been added in the vocabulary, make sure the associated word embeddings are fine-tuned or trained.\n",
      "Special tokens have been added in the vocabulary, make sure the associated word embeddings are fine-tuned or trained.\n"
     ]
    }
   ],
   "source": [
    "aspect_extractor = ATEPC.AspectExtractor('english', auto_device=DeviceTypeOption.AUTO)"
   ]
  },
  {
   "cell_type": "markdown",
   "id": "bb8d91a6-0a81-4730-97ff-f2c9411dec8e",
   "metadata": {},
   "source": [
    "# Batch Extraction"
   ]
  },
  {
   "cell_type": "markdown",
   "id": "dfa1e786-6d56-4dfb-af7c-95064d82eea8",
   "metadata": {},
   "source": [
    "## Pre-Covid 3 Star"
   ]
  },
  {
   "cell_type": "code",
   "execution_count": 17,
   "id": "8325f2ca-b667-41b3-a8cf-86aa75aa8010",
   "metadata": {
    "collapsed": true,
    "jupyter": {
     "outputs_hidden": true
    },
    "tags": []
   },
   "outputs": [
    {
     "name": "stderr",
     "output_type": "stream",
     "text": [
      "preparing ate inference dataloader: 100%|██████████| 12181/12181 [00:18<00:00, 654.85it/s]\n",
      "extracting aspect terms: 100%|██████████| 381/381 [37:28<00:00,  5.90s/it]\n",
      "preparing apc inference dataloader: 100%|██████████| 39690/39690 [00:58<00:00, 682.18it/s]\n",
      "classifying aspect sentiments: 100%|██████████| 1241/1241 [1:39:47<00:00,  4.83s/it]\n"
     ]
    },
    {
     "name": "stdout",
     "output_type": "stream",
     "text": [
      "[2023-11-09 04:46:35] (2.3.4) The results of aspect term extraction have been saved in /Users/ammarbagharib/git/sentiment_analysis_bt4222/codes/aspect_modelling/Aspect Term Extraction and Polarity Classification.FAST_LCF_ATEPC.result.json\n"
     ]
    },
    {
     "name": "stderr",
     "output_type": "stream",
     "text": [
      "IOPub data rate exceeded.\n",
      "The Jupyter server will temporarily stop sending output\n",
      "to the client in order to avoid crashing it.\n",
      "To change this limit, set the config variable\n",
      "`--ServerApp.iopub_data_rate_limit`.\n",
      "\n",
      "Current values:\n",
      "ServerApp.iopub_data_rate_limit=1000000.0 (bytes/sec)\n",
      "ServerApp.rate_limit_window=3.0 (secs)\n",
      "\n"
     ]
    }
   ],
   "source": [
    "atepc_result = aspect_extractor.batch_predict(\n",
    "    list(precovid_3star[\"lem_review\"]),  #\n",
    "    save_result=True,\n",
    "    print_result=False,  # print the result\n",
    "    pred_sentiment=True,  # Predict the sentiment of extracted aspect terms\n",
    "    eval_batch_size=32,\n",
    ")"
   ]
  },
  {
   "cell_type": "code",
   "execution_count": 20,
   "id": "6b084c9a-133f-455b-ae84-2f67fc292d04",
   "metadata": {},
   "outputs": [
    {
     "data": {
      "text/plain": [
       "{'sentence': 'smart clean good location value money second stay ibis bencoolen accor gold member allow early checkin late checkout pm welcome drink breakfast really nice great variety recommend business budget traveller',\n",
       " 'IOB': ['O',\n",
       "  'O',\n",
       "  'O',\n",
       "  'B-ASP',\n",
       "  'O',\n",
       "  'O',\n",
       "  'O',\n",
       "  'O',\n",
       "  'O',\n",
       "  'O',\n",
       "  'O',\n",
       "  'O',\n",
       "  'O',\n",
       "  'O',\n",
       "  'O',\n",
       "  'O',\n",
       "  'O',\n",
       "  'O',\n",
       "  'O',\n",
       "  'B-ASP',\n",
       "  'I-ASP',\n",
       "  'I-ASP',\n",
       "  'O',\n",
       "  'O',\n",
       "  'O',\n",
       "  'O',\n",
       "  'O',\n",
       "  'O',\n",
       "  'O',\n",
       "  'O'],\n",
       " 'tokens': ['smart',\n",
       "  'clean',\n",
       "  'good',\n",
       "  'location',\n",
       "  'value',\n",
       "  'money',\n",
       "  'second',\n",
       "  'stay',\n",
       "  'ibis',\n",
       "  'bencoolen',\n",
       "  'accor',\n",
       "  'gold',\n",
       "  'member',\n",
       "  'allow',\n",
       "  'early',\n",
       "  'checkin',\n",
       "  'late',\n",
       "  'checkout',\n",
       "  'pm',\n",
       "  'welcome',\n",
       "  'drink',\n",
       "  'breakfast',\n",
       "  'really',\n",
       "  'nice',\n",
       "  'great',\n",
       "  'variety',\n",
       "  'recommend',\n",
       "  'business',\n",
       "  'budget',\n",
       "  'traveller'],\n",
       " 'aspect': ['location', 'welcome drink breakfast'],\n",
       " 'position': [[3], [19, 20, 21]],\n",
       " 'sentiment': ['Positive', 'Positive'],\n",
       " 'probs': [[0.0002267445088364184, 0.006421257741749287, 0.993351936340332],\n",
       "  [0.00018259217904414982, 0.03305363655090332, 0.9667637348175049]],\n",
       " 'confidence': [0.9934, 0.9668]}"
      ]
     },
     "execution_count": 20,
     "metadata": {},
     "output_type": "execute_result"
    }
   ],
   "source": [
    "atepc_result[1]"
   ]
  },
  {
   "cell_type": "markdown",
   "id": "25dfb87e-2aa8-4567-9214-83a5a3f88ecc",
   "metadata": {},
   "source": [
    "## Pre-Covid 4 Star"
   ]
  },
  {
   "cell_type": "code",
   "execution_count": null,
   "id": "1fd53e05-9da5-43bd-8390-3a4047c14eda",
   "metadata": {},
   "outputs": [],
   "source": [
    "atepc_result2 = aspect_extractor.batch_predict(\n",
    "    list(precovid_4star[\"lem_review\"]),  #\n",
    "    save_result=True,\n",
    "    print_result=False,  # print the result\n",
    "    pred_sentiment=True,  # Predict the sentiment of extracted aspect terms\n",
    "    eval_batch_size=32,\n",
    ")"
   ]
  },
  {
   "cell_type": "markdown",
   "id": "2d845039-49a1-4f00-8390-ffbb743151a2",
   "metadata": {},
   "source": [
    "## Pre-Covid 5 Star"
   ]
  },
  {
   "cell_type": "code",
   "execution_count": null,
   "id": "37d8abef-008c-4693-8c47-28906e8d6b63",
   "metadata": {
    "tags": []
   },
   "outputs": [],
   "source": [
    "atepc_result3 = aspect_extractor.batch_predict(\n",
    "    list(precovid_5star[\"lem_review\"]),  #\n",
    "    save_result=True,\n",
    "    print_result=False,  # print the result\n",
    "    pred_sentiment=True,  # Predict the sentiment of extracted aspect terms\n",
    "    eval_batch_size=32,\n",
    ")"
   ]
  },
  {
   "cell_type": "markdown",
   "id": "b2dc2946-7856-4ade-84a3-1ae90a64347a",
   "metadata": {},
   "source": [
    "## Post-Covid 3 Star"
   ]
  },
  {
   "cell_type": "code",
   "execution_count": null,
   "id": "5fff6c31-d3c6-4c2f-bec2-11e8841ea81b",
   "metadata": {
    "tags": []
   },
   "outputs": [],
   "source": [
    "atepc_result4 = aspect_extractor.batch_predict(\n",
    "    list(precovid_3star[\"lem_review\"]),  #\n",
    "    save_result=True,\n",
    "    print_result=False,  # print the result\n",
    "    pred_sentiment=True,  # Predict the sentiment of extracted aspect terms\n",
    "    eval_batch_size=32,\n",
    ")"
   ]
  },
  {
   "cell_type": "markdown",
   "id": "4f1820bc-243c-4cd4-b153-559e1762e37f",
   "metadata": {},
   "source": [
    "## Post-Covid 4 Star"
   ]
  },
  {
   "cell_type": "code",
   "execution_count": null,
   "id": "6e2e671e-145c-4878-826c-d4ef212a6628",
   "metadata": {
    "tags": []
   },
   "outputs": [],
   "source": [
    "atepc_result5 = aspect_extractor.batch_predict(\n",
    "    list(postcovid_4star[\"lem_review\"]),  #\n",
    "    save_result=True,\n",
    "    print_result=False,  # print the result\n",
    "    pred_sentiment=True,  # Predict the sentiment of extracted aspect terms\n",
    "    eval_batch_size=32,\n",
    ")"
   ]
  },
  {
   "cell_type": "markdown",
   "id": "f492d0ff-2076-452b-aed0-e6540e89f441",
   "metadata": {},
   "source": [
    "## Post-Covid 5 Star"
   ]
  },
  {
   "cell_type": "code",
   "execution_count": null,
   "id": "a6ec619d-b3ac-458d-9f2c-8ef08d72f37a",
   "metadata": {
    "tags": []
   },
   "outputs": [],
   "source": [
    "atepc_result5 = aspect_extractor.batch_predict(\n",
    "    list(postcovid_5star[\"lem_review\"]),  #\n",
    "    save_result=True,\n",
    "    print_result=False,  # print the result\n",
    "    pred_sentiment=True,  # Predict the sentiment of extracted aspect terms\n",
    "    eval_batch_size=32,\n",
    ")"
   ]
  }
 ],
 "metadata": {
  "kernelspec": {
   "display_name": "Python [conda env:bt4222_hotels]",
   "language": "python",
   "name": "conda-env-bt4222_hotels-py"
  },
  "language_info": {
   "codemirror_mode": {
    "name": "ipython",
    "version": 3
   },
   "file_extension": ".py",
   "mimetype": "text/x-python",
   "name": "python",
   "nbconvert_exporter": "python",
   "pygments_lexer": "ipython3",
   "version": "3.10.4"
  }
 },
 "nbformat": 4,
 "nbformat_minor": 5
}
