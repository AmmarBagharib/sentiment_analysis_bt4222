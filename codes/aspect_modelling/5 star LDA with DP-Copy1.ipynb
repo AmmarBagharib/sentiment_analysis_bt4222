{
 "cells": [
  {
   "cell_type": "code",
   "execution_count": 2,
   "id": "6c5fad77-7d63-4e74-a979-45614631558a",
   "metadata": {},
   "outputs": [],
   "source": [
    "import warnings\n",
    "warnings.filterwarnings(\"ignore\")\n",
    "\n",
    "import pandas as pd \n",
    "import numpy as np\n",
    "import re\n",
    "import pyprojroot.here as here\n",
    "\n",
    "##LDA stuff\n",
    "import gensim\n",
    "from gensim.utils import simple_preprocess\n",
    "import nltk\n",
    "from nltk.corpus import words\n",
    "from nltk.corpus import stopwords\n",
    "from nltk.tokenize import word_tokenize\n",
    "\n",
    "##cleaning stuff\n",
    "from sklearn.metrics.pairwise import cosine_similarity\n",
    "from nltk.stem.porter import PorterStemmer\n",
    "from nltk.stem import WordNetLemmatizer\n",
    "\n",
    "import gensim.corpora as corpora\n",
    "import pyLDAvis\n",
    "import pyLDAvis.gensim\n",
    "from gensim.models import CoherenceModel\n",
    "\n",
    "##plotting\n",
    "from matplotlib import pyplot as plt\n",
    "from matplotlib import colors as mcolors\n",
    "import seaborn as sns"
   ]
  },
  {
   "cell_type": "markdown",
   "id": "9fa591a5-8ef1-4f64-a69b-b184ff2c69f1",
   "metadata": {
    "tags": []
   },
   "source": [
    "# Load Files"
   ]
  },
  {
   "cell_type": "code",
   "execution_count": 3,
   "id": "278bfd47-17de-40fc-a92d-ef3d76343ca8",
   "metadata": {},
   "outputs": [],
   "source": [
    "# TODO: modify these list if needed (eg. if you want to load only 1 csv from star3, delete other csvs in star3 list)\n",
    "star3 = ['cleaned_ibis-sg-bencoolen.csv','cleaned_hotel-boss.csv','cleaned_hotel-G.csv',\n",
    "           'cleaned_village-hotel-albert-court-by-far-east-hospitality.csv',\n",
    "           'cleaned_holiday-inn-express-clarke-quay.csv']\n",
    "star4 = ['cleaned_village-hotel-changi-by-far-east-hospitality.csv',\n",
    "         'cleaned_park-regis.csv', 'cleaned_grand-mercure-sg-roxy.csv',\n",
    "         'cleaned_paradox-sg-merchant-court.csv','cleaned_crowne-plaza.csv']\n",
    "star5 = ['cleaned_fullerton.csv', 'cleaned_parkroyal-collection-marina-bay.csv', 'cleaned_pan-pacific.csv',\n",
    "          'cleaned_mbs_total.csv', 'cleaned_swissotel-the-stamford.csv']\n",
    "\n",
    "RAW_FOLDER = \"data/processed/\"\n",
    "\n",
    "def combine_csv_to_dataframe(file_names, all_star = False, filterDate = True):\n",
    "    \"\"\"\n",
    "    Combine multiple CSV files into a single DataFrame.\n",
    "\n",
    "    Parameters:\n",
    "    file_names (list): List of CSV file names. \n",
    "    all_star (bool): whether or not to load all the hotels (False if only want to load 1 type of hotel star). \n",
    "    filterData (bool): whether or not to remove all data dated before 2015\n",
    "\n",
    "    Returns:\n",
    "    pd.DataFrame: Combined DataFrame.\n",
    "    \"\"\"\n",
    "    combined_df = pd.DataFrame()\n",
    "\n",
    "    for file_name in file_names:\n",
    "        file_interim_path = RAW_FOLDER + file_name\n",
    "        file_path = here(file_interim_path)\n",
    "        try:\n",
    "            df = pd.read_csv(file_path)\n",
    "            if all_star:\n",
    "                if file_name in star3:\n",
    "                    df[\"star\"] = 3\n",
    "                elif file_name in star4:\n",
    "                    df[\"star\"] = 4\n",
    "                else:\n",
    "                    df[\"star\"] = 5\n",
    "            #print(f\"Length of {file_name} is {len(df)}\")\n",
    "            combined_df = pd.concat([combined_df, df], ignore_index=True)\n",
    "            #print(len(combined_df))\n",
    "        except FileNotFoundError:\n",
    "            print(f\"File not found: {file_name}\")\n",
    "        except pd.errors.EmptyDataError:\n",
    "            print(f\"Empty or invalid CSV file: {file_name}\")\n",
    "            \n",
    "    combined_df = combined_df[combined_df.year > 2000]\n",
    "                    \n",
    "    return combined_df"
   ]
  },
  {
   "cell_type": "code",
   "execution_count": 4,
   "id": "aa258a7d-5563-4578-8667-614be405194f",
   "metadata": {},
   "outputs": [
    {
     "name": "stdout",
     "output_type": "stream",
     "text": [
      "<class 'pandas.core.frame.DataFrame'>\n",
      "RangeIndex: 68292 entries, 0 to 68291\n",
      "Data columns (total 19 columns):\n",
      " #   Column                                 Non-Null Count  Dtype  \n",
      "---  ------                                 --------------  -----  \n",
      " 0   Unnamed: 0                             68292 non-null  int64  \n",
      " 1   traveller_username                     68292 non-null  object \n",
      " 2   review_title                           68253 non-null  object \n",
      " 3   review_text                            68292 non-null  object \n",
      " 4   travel_type                            31354 non-null  object \n",
      " 5   traveller_country_origin               51724 non-null  object \n",
      " 6   traveller_total_contributions          68103 non-null  object \n",
      " 7   traveller_total_helpful_contributions  54090 non-null  float64\n",
      " 8   rating                                 54837 non-null  float64\n",
      " 9   valid_rating                           68292 non-null  bool   \n",
      " 10  label                                  54837 non-null  object \n",
      " 11  cleaned_review                         68292 non-null  object \n",
      " 12  combined_review                        68292 non-null  object \n",
      " 13  date                                   68292 non-null  object \n",
      " 14  covid                                  68292 non-null  object \n",
      " 15  year                                   68292 non-null  int64  \n",
      " 16  stem_review                            68292 non-null  object \n",
      " 17  lem_review                             68292 non-null  object \n",
      " 18  star                                   68292 non-null  int64  \n",
      "dtypes: bool(1), float64(2), int64(3), object(13)\n",
      "memory usage: 9.4+ MB\n"
     ]
    },
    {
     "data": {
      "text/html": [
       "<div>\n",
       "<style scoped>\n",
       "    .dataframe tbody tr th:only-of-type {\n",
       "        vertical-align: middle;\n",
       "    }\n",
       "\n",
       "    .dataframe tbody tr th {\n",
       "        vertical-align: top;\n",
       "    }\n",
       "\n",
       "    .dataframe thead th {\n",
       "        text-align: right;\n",
       "    }\n",
       "</style>\n",
       "<table border=\"1\" class=\"dataframe\">\n",
       "  <thead>\n",
       "    <tr style=\"text-align: right;\">\n",
       "      <th></th>\n",
       "      <th>Unnamed: 0</th>\n",
       "      <th>traveller_username</th>\n",
       "      <th>review_title</th>\n",
       "      <th>review_text</th>\n",
       "      <th>travel_type</th>\n",
       "      <th>traveller_country_origin</th>\n",
       "      <th>traveller_total_contributions</th>\n",
       "      <th>traveller_total_helpful_contributions</th>\n",
       "      <th>rating</th>\n",
       "      <th>valid_rating</th>\n",
       "      <th>label</th>\n",
       "      <th>cleaned_review</th>\n",
       "      <th>combined_review</th>\n",
       "      <th>date</th>\n",
       "      <th>covid</th>\n",
       "      <th>year</th>\n",
       "      <th>stem_review</th>\n",
       "      <th>lem_review</th>\n",
       "      <th>star</th>\n",
       "    </tr>\n",
       "  </thead>\n",
       "  <tbody>\n",
       "    <tr>\n",
       "      <th>0</th>\n",
       "      <td>0</td>\n",
       "      <td>Love_Life_Sydney</td>\n",
       "      <td>Clean and comfortable</td>\n",
       "      <td>Hotel rooms in Singapore are so expensive so t...</td>\n",
       "      <td>Trip type: Travelled as a couple</td>\n",
       "      <td>Sydney, Australia</td>\n",
       "      <td>2302.0</td>\n",
       "      <td>871.0</td>\n",
       "      <td>4.0</td>\n",
       "      <td>True</td>\n",
       "      <td>Positive</td>\n",
       "      <td>clean comfortable hotel rooms singapore expens...</td>\n",
       "      <td>Clean and comfortable Hotel rooms in Singapore...</td>\n",
       "      <td>2023-08-01</td>\n",
       "      <td>PostCovid</td>\n",
       "      <td>2023</td>\n",
       "      <td>clean comfort hotel room singapor expens find ...</td>\n",
       "      <td>clean comfortable hotel room singapore expensi...</td>\n",
       "      <td>3</td>\n",
       "    </tr>\n",
       "    <tr>\n",
       "      <th>1</th>\n",
       "      <td>1</td>\n",
       "      <td>Bilal S</td>\n",
       "      <td>Good hotel, great location</td>\n",
       "      <td>This is a great place! Location is great but t...</td>\n",
       "      <td>Trip type: Travelled with family</td>\n",
       "      <td>Houston, Texas</td>\n",
       "      <td>4.0</td>\n",
       "      <td>NaN</td>\n",
       "      <td>5.0</td>\n",
       "      <td>True</td>\n",
       "      <td>Positive</td>\n",
       "      <td>good hotel great location great place location...</td>\n",
       "      <td>Good hotel, great location  This is a great pl...</td>\n",
       "      <td>2023-08-01</td>\n",
       "      <td>PostCovid</td>\n",
       "      <td>2023</td>\n",
       "      <td>good hotel great locat great place locat great...</td>\n",
       "      <td>good hotel great location great place location...</td>\n",
       "      <td>3</td>\n",
       "    </tr>\n",
       "    <tr>\n",
       "      <th>2</th>\n",
       "      <td>2</td>\n",
       "      <td>Anthony Fernando</td>\n",
       "      <td>Good place for a decent price.</td>\n",
       "      <td>Good place good price  Easy access to the city...</td>\n",
       "      <td>Trip type: Travelled with friends</td>\n",
       "      <td>Dubai, United Arab Emirates</td>\n",
       "      <td>39.0</td>\n",
       "      <td>38.0</td>\n",
       "      <td>5.0</td>\n",
       "      <td>True</td>\n",
       "      <td>Positive</td>\n",
       "      <td>good place decent price good place good price ...</td>\n",
       "      <td>Good place for a decent price. Good place good...</td>\n",
       "      <td>2022-10-01</td>\n",
       "      <td>PostCovid</td>\n",
       "      <td>2022</td>\n",
       "      <td>good place decent price good place good price ...</td>\n",
       "      <td>good place decent price good place good price ...</td>\n",
       "      <td>3</td>\n",
       "    </tr>\n",
       "    <tr>\n",
       "      <th>3</th>\n",
       "      <td>3</td>\n",
       "      <td>Mjkc204</td>\n",
       "      <td>Great Location and great staff.</td>\n",
       "      <td>The IBIS was a neat and tidy hotel in line wit...</td>\n",
       "      <td>Trip type: Travelled solo</td>\n",
       "      <td>Ellenbrook, Australia</td>\n",
       "      <td>37.0</td>\n",
       "      <td>19.0</td>\n",
       "      <td>5.0</td>\n",
       "      <td>True</td>\n",
       "      <td>Positive</td>\n",
       "      <td>great location great staff ibis neat tidy hote...</td>\n",
       "      <td>Great Location and great staff. The IBIS was a...</td>\n",
       "      <td>2023-08-01</td>\n",
       "      <td>PostCovid</td>\n",
       "      <td>2023</td>\n",
       "      <td>great locat great staff ibi neat tidi hotel li...</td>\n",
       "      <td>great location great staff ibis neat tidy hote...</td>\n",
       "      <td>3</td>\n",
       "    </tr>\n",
       "    <tr>\n",
       "      <th>4</th>\n",
       "      <td>4</td>\n",
       "      <td>Aung Nanda</td>\n",
       "      <td>Good for budget stay.</td>\n",
       "      <td>I stayed there for 7 days. It was a nice locat...</td>\n",
       "      <td>Trip type: Travelled on business</td>\n",
       "      <td>Dubai, United Arab Emirates</td>\n",
       "      <td>3.0</td>\n",
       "      <td>4.0</td>\n",
       "      <td>4.0</td>\n",
       "      <td>True</td>\n",
       "      <td>Positive</td>\n",
       "      <td>good budget stay stayed days nice location sev...</td>\n",
       "      <td>Good for budget stay. I stayed there for 7 day...</td>\n",
       "      <td>2022-08-01</td>\n",
       "      <td>PostCovid</td>\n",
       "      <td>2022</td>\n",
       "      <td>good budget stay stay day nice locat seven ele...</td>\n",
       "      <td>good budget stay stay day nice location seven ...</td>\n",
       "      <td>3</td>\n",
       "    </tr>\n",
       "  </tbody>\n",
       "</table>\n",
       "</div>"
      ],
      "text/plain": [
       "   Unnamed: 0 traveller_username                     review_title  \\\n",
       "0           0   Love_Life_Sydney            Clean and comfortable   \n",
       "1           1            Bilal S      Good hotel, great location    \n",
       "2           2   Anthony Fernando   Good place for a decent price.   \n",
       "3           3            Mjkc204  Great Location and great staff.   \n",
       "4           4         Aung Nanda            Good for budget stay.   \n",
       "\n",
       "                                         review_text  \\\n",
       "0  Hotel rooms in Singapore are so expensive so t...   \n",
       "1  This is a great place! Location is great but t...   \n",
       "2  Good place good price  Easy access to the city...   \n",
       "3  The IBIS was a neat and tidy hotel in line wit...   \n",
       "4  I stayed there for 7 days. It was a nice locat...   \n",
       "\n",
       "                         travel_type     traveller_country_origin  \\\n",
       "0   Trip type: Travelled as a couple            Sydney, Australia   \n",
       "1   Trip type: Travelled with family               Houston, Texas   \n",
       "2  Trip type: Travelled with friends  Dubai, United Arab Emirates   \n",
       "3          Trip type: Travelled solo        Ellenbrook, Australia   \n",
       "4   Trip type: Travelled on business  Dubai, United Arab Emirates   \n",
       "\n",
       "  traveller_total_contributions  traveller_total_helpful_contributions  \\\n",
       "0                        2302.0                                  871.0   \n",
       "1                           4.0                                    NaN   \n",
       "2                          39.0                                   38.0   \n",
       "3                          37.0                                   19.0   \n",
       "4                           3.0                                    4.0   \n",
       "\n",
       "   rating  valid_rating     label  \\\n",
       "0     4.0          True  Positive   \n",
       "1     5.0          True  Positive   \n",
       "2     5.0          True  Positive   \n",
       "3     5.0          True  Positive   \n",
       "4     4.0          True  Positive   \n",
       "\n",
       "                                      cleaned_review  \\\n",
       "0  clean comfortable hotel rooms singapore expens...   \n",
       "1  good hotel great location great place location...   \n",
       "2  good place decent price good place good price ...   \n",
       "3  great location great staff ibis neat tidy hote...   \n",
       "4  good budget stay stayed days nice location sev...   \n",
       "\n",
       "                                     combined_review        date      covid  \\\n",
       "0  Clean and comfortable Hotel rooms in Singapore...  2023-08-01  PostCovid   \n",
       "1  Good hotel, great location  This is a great pl...  2023-08-01  PostCovid   \n",
       "2  Good place for a decent price. Good place good...  2022-10-01  PostCovid   \n",
       "3  Great Location and great staff. The IBIS was a...  2023-08-01  PostCovid   \n",
       "4  Good for budget stay. I stayed there for 7 day...  2022-08-01  PostCovid   \n",
       "\n",
       "   year                                        stem_review  \\\n",
       "0  2023  clean comfort hotel room singapor expens find ...   \n",
       "1  2023  good hotel great locat great place locat great...   \n",
       "2  2022  good place decent price good place good price ...   \n",
       "3  2023  great locat great staff ibi neat tidi hotel li...   \n",
       "4  2022  good budget stay stay day nice locat seven ele...   \n",
       "\n",
       "                                          lem_review  star  \n",
       "0  clean comfortable hotel room singapore expensi...     3  \n",
       "1  good hotel great location great place location...     3  \n",
       "2  good place decent price good place good price ...     3  \n",
       "3  great location great staff ibis neat tidy hote...     3  \n",
       "4  good budget stay stay day nice location seven ...     3  "
      ]
     },
     "execution_count": 4,
     "metadata": {},
     "output_type": "execute_result"
    }
   ],
   "source": [
    "data = combine_csv_to_dataframe(star3+star4+star5, all_star = True, filterDate = True)\n",
    "#data[['traveller_username','date','travel_type','traveller_total_contributions','traveller_total_helpful_contributions','review_title','review_text','rating']].head(5)\n",
    "data.info()\n",
    "data.head()"
   ]
  },
  {
   "cell_type": "code",
   "execution_count": 5,
   "id": "d79a9465",
   "metadata": {},
   "outputs": [
    {
     "data": {
      "text/plain": [
       "(35622, 19)"
      ]
     },
     "execution_count": 5,
     "metadata": {},
     "output_type": "execute_result"
    }
   ],
   "source": [
    "df_combi = data.query('star==5') #filter only for 5 star hotels\n",
    "##filter for year >= 2015\n",
    "df_filtered = df_combi[df_combi['year'] >= 2015]\n",
    "df_filtered.shape"
   ]
  },
  {
   "cell_type": "markdown",
   "id": "260ff48d",
   "metadata": {
    "tags": []
   },
   "source": [
    "## Lemmatized"
   ]
  },
  {
   "cell_type": "code",
   "execution_count": 10,
   "id": "048454a7",
   "metadata": {
    "collapsed": true,
    "jupyter": {
     "outputs_hidden": true
    },
    "tags": []
   },
   "outputs": [
    {
     "name": "stderr",
     "output_type": "stream",
     "text": [
      "[nltk_data] Downloading package stopwords to\n",
      "[nltk_data]     /Users/ammarbagharib/nltk_data...\n",
      "[nltk_data]   Package stopwords is already up-to-date!\n",
      "[nltk_data] Downloading package words to\n",
      "[nltk_data]     /Users/ammarbagharib/nltk_data...\n",
      "[nltk_data]   Package words is already up-to-date!\n"
     ]
    }
   ],
   "source": [
    "##preprocess text\n",
    "nltk.download('stopwords')\n",
    "nltk.download('words')\n",
    "# Get the list of valid English words\n",
    "english_words = set(words.words())\n",
    "# set stopwords\n",
    "sw = stopwords.words('english')\n",
    "sw.append('fullerton')\n",
    "sw.append('parkroyal')\n",
    "sw.append('marina_bay')\n",
    "sw.append('marina')\n",
    "sw.append('swissotel')\n",
    "sw.append('stamford')\n",
    "sw.append('pan_pacific')\n",
    "stop_words = set(sw)\n",
    "lemmatizer = WordNetLemmatizer()"
   ]
  },
  {
   "cell_type": "code",
   "execution_count": 14,
   "id": "6993c09e-3582-428a-94bd-56ff3869591e",
   "metadata": {
    "tags": []
   },
   "outputs": [],
   "source": [
    "def preprocess(text):\n",
    "    tokens = word_tokenize(text)\n",
    "    tokens = [word for word in tokens if word.isalnum()]\n",
    "    tokens = [word.lower() for word in tokens]\n",
    "    return tokens\n",
    "\n",
    "def remove_stopwords(text):\n",
    "    tokens = word_tokenize(text)\n",
    "    ans = [w for w in tokens if w.lower() not in stop_words]\n",
    "    return ' '.join(ans)"
   ]
  },
  {
   "cell_type": "code",
   "execution_count": 19,
   "id": "262e10eb",
   "metadata": {},
   "outputs": [],
   "source": [
    "df_filtered['lem_review'] = df_filtered['lem_review'].apply(remove_stopwords)\n",
    "df_filtered['tokens'] = df_filtered['lem_review'].apply(preprocess)"
   ]
  },
  {
   "cell_type": "code",
   "execution_count": 20,
   "id": "4633e9d6",
   "metadata": {},
   "outputs": [],
   "source": [
    "df_precovid = df_filtered[df_filtered['covid'] == 'PreCovid']\n",
    "df_postcovid = df_filtered[df_filtered['covid'] == 'PostCovid']"
   ]
  },
  {
   "cell_type": "code",
   "execution_count": 21,
   "id": "5986a149",
   "metadata": {},
   "outputs": [],
   "source": [
    "##Generate LDA dictionary and corpus\n",
    "pre_dict = corpora.Dictionary(df_precovid['tokens'])\n",
    "pre_corpus = [pre_dict.doc2bow(text) for text in df_precovid['tokens']]\n",
    "\n",
    "##Generate LDA dictionary and corpus\n",
    "post_dict = corpora.Dictionary(df_postcovid['tokens'])\n",
    "post_corpus = [post_dict.doc2bow(text) for text in df_postcovid['tokens']]\n",
    "\n",
    "## Use 5 topics as baseline\n",
    "lda = gensim.models.ldamodel.LdaModel\n",
    "pre_ldamodel = lda(pre_corpus, num_topics=5, id2word=pre_dict, passes=15)\n",
    "post_ldamodel = lda(post_corpus, num_topics=5, id2word=post_dict, passes=15)"
   ]
  },
  {
   "cell_type": "code",
   "execution_count": 22,
   "id": "99980c03",
   "metadata": {},
   "outputs": [],
   "source": [
    "# For Pre-COVID\n",
    "topics_pre = pre_ldamodel.show_topics(formatted=False)\n",
    "data_flat_pre = [word for word_list in df_precovid['tokens'] for word in word_list]\n",
    "\n",
    "# For Post-COVID\n",
    "topics_post = post_ldamodel.show_topics(formatted=False)\n",
    "data_flat_post = [word for word_list in df_postcovid['tokens'] for word in word_list]"
   ]
  },
  {
   "cell_type": "markdown",
   "id": "032dcca3-dd9f-463c-b61d-33717db88ccf",
   "metadata": {},
   "source": [
    "# Dependency Parsing"
   ]
  },
  {
   "cell_type": "code",
   "execution_count": 23,
   "id": "20af0093-21f5-4011-b973-90f8f1c20556",
   "metadata": {},
   "outputs": [],
   "source": [
    "import spacy"
   ]
  },
  {
   "cell_type": "code",
   "execution_count": 24,
   "id": "f3723e9b-3c30-4318-9e85-344a28e837f4",
   "metadata": {},
   "outputs": [],
   "source": [
    "# Pass in LDA topics output to remove overlap words by choosing highest prob\n",
    "def restruct_topics(topics): \n",
    "    word_prob_dict = {}\n",
    "    for i in range(len(topics)):\n",
    "        topic_num = topics[i][0]\n",
    "        for word, prob in topics[i][1]:\n",
    "            if word in word_prob_dict:\n",
    "                word_prob_dict[word].append((topic_num, prob))\n",
    "            else:\n",
    "                ls = [(topic_num, prob)]\n",
    "                word_prob_dict[word] = ls\n",
    "    new_dict = {}\n",
    "    for word in word_prob_dict:\n",
    "        topic, highest_prob = max(word_prob_dict[word], key = lambda x: x[1])\n",
    "        if topic in new_dict:\n",
    "            new_dict[topic].append(word)\n",
    "        else:\n",
    "            ls = [word]\n",
    "            new_dict[topic] = ls\n",
    "    return new_dict"
   ]
  },
  {
   "cell_type": "code",
   "execution_count": 25,
   "id": "288cbd19-53f8-4de9-88e6-19d368532112",
   "metadata": {},
   "outputs": [
    {
     "name": "stdout",
     "output_type": "stream",
     "text": [
      "length topic 0: 10\n",
      "length topic 1: 6\n",
      "length topic 4: 8\n",
      "length topic 2: 7\n",
      "length topic 3: 8\n"
     ]
    }
   ],
   "source": [
    "new_dict = restruct_topics(topics_pre)\n",
    "for x in new_dict:\n",
    "    print(f'length topic {x}: {len(new_dict[x])}')"
   ]
  },
  {
   "cell_type": "code",
   "execution_count": 26,
   "id": "88aae961-763d-4c94-95cf-d895a6239944",
   "metadata": {},
   "outputs": [],
   "source": [
    "nlp = spacy.load(\"en_core_web_sm\")"
   ]
  },
  {
   "cell_type": "code",
   "execution_count": 38,
   "id": "dc60de21-2af6-41fb-a6fd-c35006e4f03d",
   "metadata": {},
   "outputs": [],
   "source": [
    "#takes in the dataframe and appends to each row (aspect, review) pair(s)\n",
    "def dep_parse(data, new_dict):\n",
    "    data['aspect_sentiment'] = np.empty((len(data), 0)).tolist()\n",
    "    \n",
    "    for i in range(len(data)):\n",
    "        \n",
    "        sentence = data['lem_review'][i]\n",
    "        doc = nlp(sentence)\n",
    "        aspect_sentiment = []\n",
    "        \n",
    "        for word in doc:\n",
    "            cond = False\n",
    "            for x in new_dict.values():\n",
    "                if word.text in x:\n",
    "                    cond = True\n",
    "                    break\n",
    "            if not cond:\n",
    "                continue\n",
    "            if word.pos_ == 'NOUN': \n",
    "                for j in word.lefts:\n",
    "                    #print(j, word, j.dep_, j.pos_)\n",
    "                    if j.dep_ == 'amod' and j.pos_ == 'ADJ':\n",
    "                        tup = [word, j, list(new_dict.values()).index(x)]\n",
    "                        #print(tup)\n",
    "                        aspect_sentiment.append(tup)\n",
    "                    for k in j.lefts:\n",
    "                        if k.dep_ == 'advmod':\n",
    "                            #print(word, j ,k)\n",
    "                            tup = (word, k.text + ' ' + j.text)\n",
    "                            aspect_sentiment.append(tup)\n",
    "                            if (word, j) in aspect_sentiment:\n",
    "                                aspect_sentiment.remove([word, j, list(new_dict.values()).index(x)])\n",
    "        data['aspect_sentiment'][i] = aspect_sentiment"
   ]
  },
  {
   "cell_type": "code",
   "execution_count": 41,
   "id": "86dd31bf-8d7b-414e-8e28-6c7048c2ad52",
   "metadata": {},
   "outputs": [
    {
     "ename": "TypeError",
     "evalue": "Argument 'other' has incorrect type (expected spacy.tokens.token.Token, got str)",
     "output_type": "error",
     "traceback": [
      "\u001b[0;31m---------------------------------------------------------------------------\u001b[0m",
      "\u001b[0;31mTypeError\u001b[0m                                 Traceback (most recent call last)",
      "Cell \u001b[0;32mIn[41], line 1\u001b[0m\n\u001b[0;32m----> 1\u001b[0m \u001b[43mdep_parse\u001b[49m\u001b[43m(\u001b[49m\u001b[43mdf_filtered\u001b[49m\u001b[43m,\u001b[49m\u001b[43m \u001b[49m\u001b[43mnew_dict\u001b[49m\u001b[43m)\u001b[49m\n",
      "Cell \u001b[0;32mIn[40], line 26\u001b[0m, in \u001b[0;36mdep_parse\u001b[0;34m(data, new_dict)\u001b[0m\n\u001b[1;32m     24\u001b[0m                     tup \u001b[38;5;241m=\u001b[39m (word, k\u001b[38;5;241m.\u001b[39mtext \u001b[38;5;241m+\u001b[39m \u001b[38;5;124m'\u001b[39m\u001b[38;5;124m \u001b[39m\u001b[38;5;124m'\u001b[39m \u001b[38;5;241m+\u001b[39m j\u001b[38;5;241m.\u001b[39mtext)\n\u001b[1;32m     25\u001b[0m                     aspect_sentiment\u001b[38;5;241m.\u001b[39mappend(tup)\n\u001b[0;32m---> 26\u001b[0m                     \u001b[38;5;28;01mif\u001b[39;00m \u001b[43m(\u001b[49m\u001b[43mword\u001b[49m\u001b[43m,\u001b[49m\u001b[43m \u001b[49m\u001b[43mj\u001b[49m\u001b[43m)\u001b[49m\u001b[43m \u001b[49m\u001b[38;5;129;43;01min\u001b[39;49;00m\u001b[43m \u001b[49m\u001b[43maspect_sentiment\u001b[49m:\n\u001b[1;32m     27\u001b[0m                         aspect_sentiment\u001b[38;5;241m.\u001b[39mremove((word, j))  \u001b[38;5;66;03m# Fix this line\u001b[39;00m\n\u001b[1;32m     29\u001b[0m data[\u001b[38;5;124m'\u001b[39m\u001b[38;5;124maspect_sentiment\u001b[39m\u001b[38;5;124m'\u001b[39m][i] \u001b[38;5;241m=\u001b[39m aspect_sentiment\n",
      "\u001b[0;31mTypeError\u001b[0m: Argument 'other' has incorrect type (expected spacy.tokens.token.Token, got str)"
     ]
    }
   ],
   "source": [
    "dep_parse(df_filtered, new_dict)"
   ]
  },
  {
   "cell_type": "code",
   "execution_count": 30,
   "id": "df65aa72-fe84-466e-b9b4-200f95cb4c64",
   "metadata": {},
   "outputs": [
    {
     "data": {
      "text/plain": [
       "0                                                   []\n",
       "1        [[hotel, Best, 2], [location, impressive, 2]]\n",
       "2                                    [[stay, nice, 1]]\n",
       "3                                                   []\n",
       "4                                    [[time, next, 3]]\n",
       "                             ...                      \n",
       "35617                                               []\n",
       "35618                                               []\n",
       "35619                                               []\n",
       "35620                                               []\n",
       "35621                                               []\n",
       "Name: aspect_sentiment, Length: 35622, dtype: object"
      ]
     },
     "execution_count": 30,
     "metadata": {},
     "output_type": "execute_result"
    }
   ],
   "source": [
    "df_filtered['aspect_sentiment']"
   ]
  },
  {
   "cell_type": "markdown",
   "id": "ff87e50b-efe8-4ebd-b303-673b51cb717e",
   "metadata": {},
   "source": [
    "### EDITED CODE"
   ]
  },
  {
   "cell_type": "code",
   "execution_count": null,
   "id": "94550527-cc4f-4b91-ab5b-27a986766e36",
   "metadata": {},
   "outputs": [],
   "source": [
    "def dep_parse(data, new_dict):\n",
    "    data['aspect_sentiment'] = np.empty((len(data), 0)).tolist()\n",
    "\n",
    "    for i in range(len(data)):\n",
    "        sentence = data['lem_review'][i]\n",
    "        doc = nlp(sentence)\n",
    "        aspect_sentiment = []\n",
    "\n",
    "        for word in doc:\n",
    "            cond = False\n",
    "            for x in new_dict.values():\n",
    "                if word.text in x:\n",
    "                    cond = True\n",
    "                    break\n",
    "            if not cond:\n",
    "                continue\n",
    "            if word.pos_ == 'NOUN': \n",
    "                for j in word.lefts:\n",
    "                    if j.dep_ == 'amod' and j.pos_ == 'ADJ':\n",
    "                        aspect_sentiment.append([word.text, j.text, list(new_dict.values()).index(x)])\n",
    "                    for k in j.lefts:\n",
    "                        if k.dep_ == 'advmod':\n",
    "                            aspect_sentiment.append([word.text, k.text + ' ' + j.text, list(new_dict.values()).index(x)])\n",
    "\n",
    "        data['aspect_sentiment'][i] = aspect_sentiment\n",
    "\n",
    "# Assuming df_filtered and new_dict are already defined\n",
    "dep_parse(df_filtered, new_dict)"
   ]
  }
 ],
 "metadata": {
  "kernelspec": {
   "display_name": "Python [conda env:bt4222_hotels]",
   "language": "python",
   "name": "conda-env-bt4222_hotels-py"
  },
  "language_info": {
   "codemirror_mode": {
    "name": "ipython",
    "version": 3
   },
   "file_extension": ".py",
   "mimetype": "text/x-python",
   "name": "python",
   "nbconvert_exporter": "python",
   "pygments_lexer": "ipython3",
   "version": "3.10.4"
  }
 },
 "nbformat": 4,
 "nbformat_minor": 5
}
