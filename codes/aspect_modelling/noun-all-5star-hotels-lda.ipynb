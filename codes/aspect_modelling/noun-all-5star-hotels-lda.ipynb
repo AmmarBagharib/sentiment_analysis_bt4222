{
 "cells": [
  {
   "cell_type": "markdown",
   "metadata": {
    "id": "EQNHWjtpxe5u"
   },
   "source": [
    "\n",
    "# **Topic Modeling**\n",
    "## **Introduction**\n",
    "\n",
    "\n",
    "\n",
    "\n",
    "\n",
    "\n",
    "Another popular text analysis technique is called topic modeling. The ultimate goal of topic modeling is to find various topics that are present in your corpus. Each document in the corpus will be made up of at least one topic, if not multiple topics.\n",
    "\n",
    "In this notebook, we will be covering the steps on how to do **Latent Dirichlet Allocation (LDA)**, which is one of many topic modeling techniques. It was specifically designed for text data.\n",
    "\n",
    "To use a topic modeling technique, you need to provide\n",
    "\n",
    "\n",
    "\n",
    "> (1) a document-term matrix and\n",
    "\n",
    "> (2) the number of topics you would like the algorithm to pick up.\n",
    "\n",
    "\n",
    "\n",
    "\n",
    "\n",
    "\n",
    "Once the topic modeling technique is applied, your job as a human is to interpret the results and see if the mix of words in each topic make sense. If they don't make sense, you can try changing up the number of topics, the terms in the document-term matrix, model parameters, or even try a different model.\n"
   ]
  },
  {
   "cell_type": "markdown",
   "metadata": {},
   "source": [
    "# NOTE: LDA takes VERY LONG TO RUN"
   ]
  },
  {
   "cell_type": "markdown",
   "metadata": {
    "id": "eMkLoD_7yL4N"
   },
   "source": [
    "**Importing the data**"
   ]
  },
  {
   "cell_type": "code",
   "execution_count": 1,
   "metadata": {
    "id": "yihNbSwjvI9w"
   },
   "outputs": [],
   "source": [
    "import pandas as pd\n",
    "import numpy as np\n",
    "import pyprojroot.here as here"
   ]
  },
  {
   "cell_type": "markdown",
   "metadata": {
    "tags": []
   },
   "source": [
    "# Data Cleaning"
   ]
  },
  {
   "cell_type": "code",
   "execution_count": 2,
   "metadata": {},
   "outputs": [
    {
     "name": "stdout",
     "output_type": "stream",
     "text": [
      "5058\n",
      "10523\n",
      "7430\n",
      "6237\n",
      "6374\n"
     ]
    },
    {
     "data": {
      "text/plain": [
       "35622"
      ]
     },
     "execution_count": 2,
     "metadata": {},
     "output_type": "execute_result"
    }
   ],
   "source": [
    "data1 = pd.read_csv(here(\"data/processed/cleaned_swissotel-the-stamford.csv\"))\n",
    "data2 = pd.read_csv(here(\"data/processed/cleaned_mbs_total.csv\"))\n",
    "data3 = pd.read_csv(here(\"data/processed/cleaned_pan-pacific.csv\"))\n",
    "data4 = pd.read_csv(here(\"data/processed/cleaned_parkroyal-collection-marina-bay.csv\"))\n",
    "data5 = pd.read_csv(here(\"data/processed/cleaned_fullerton.csv\"))\n",
    "df = pd.concat([data1, data2, data3, data4, data5], ignore_index = True)\n",
    "print(len(data1))\n",
    "print(len(data2))\n",
    "print(len(data3))\n",
    "print(len(data4))\n",
    "print(len(data5))\n",
    "len(df)"
   ]
  },
  {
   "cell_type": "code",
   "execution_count": 3,
   "metadata": {
    "colab": {
     "base_uri": "https://localhost:8080/",
     "height": 626
    },
    "id": "v2yoWZT9vZ2f",
    "outputId": "545b8bc2-247e-49b2-c1bb-0b058afd5791"
   },
   "outputs": [
    {
     "data": {
      "text/html": [
       "<div>\n",
       "<style scoped>\n",
       "    .dataframe tbody tr th:only-of-type {\n",
       "        vertical-align: middle;\n",
       "    }\n",
       "\n",
       "    .dataframe tbody tr th {\n",
       "        vertical-align: top;\n",
       "    }\n",
       "\n",
       "    .dataframe thead th {\n",
       "        text-align: right;\n",
       "    }\n",
       "</style>\n",
       "<table border=\"1\" class=\"dataframe\">\n",
       "  <thead>\n",
       "    <tr style=\"text-align: right;\">\n",
       "      <th></th>\n",
       "      <th>Unnamed: 0</th>\n",
       "      <th>traveller_username</th>\n",
       "      <th>review_title</th>\n",
       "      <th>review_text</th>\n",
       "      <th>travel_type</th>\n",
       "      <th>traveller_country_origin</th>\n",
       "      <th>traveller_total_contributions</th>\n",
       "      <th>traveller_total_helpful_contributions</th>\n",
       "      <th>rating</th>\n",
       "      <th>valid_rating</th>\n",
       "      <th>label</th>\n",
       "      <th>cleaned_review</th>\n",
       "      <th>combined_review</th>\n",
       "      <th>date</th>\n",
       "      <th>covid</th>\n",
       "      <th>year</th>\n",
       "      <th>stem_review</th>\n",
       "      <th>lem_review</th>\n",
       "    </tr>\n",
       "  </thead>\n",
       "  <tbody>\n",
       "    <tr>\n",
       "      <th>0</th>\n",
       "      <td>0</td>\n",
       "      <td>Ernest L</td>\n",
       "      <td>Excellent stay with fantastic scenery</td>\n",
       "      <td>This is our 4th stay. I still remember that I ...</td>\n",
       "      <td>Trip type: Travelled with family</td>\n",
       "      <td>NaN</td>\n",
       "      <td>1.0</td>\n",
       "      <td>NaN</td>\n",
       "      <td>5.0</td>\n",
       "      <td>True</td>\n",
       "      <td>Positive</td>\n",
       "      <td>excellent stay fantastic scenery th stay still...</td>\n",
       "      <td>Excellent stay with fantastic scenery This is ...</td>\n",
       "      <td>2023-09-01</td>\n",
       "      <td>PostCovid</td>\n",
       "      <td>2023</td>\n",
       "      <td>excel stay fantast sceneri th stay still remem...</td>\n",
       "      <td>excellent stay fantastic scenery th stay still...</td>\n",
       "    </tr>\n",
       "    <tr>\n",
       "      <th>1</th>\n",
       "      <td>1</td>\n",
       "      <td>lovemylife999</td>\n",
       "      <td>Pampercation</td>\n",
       "      <td>64th floor Crest Suite Harbour view. Spacious ...</td>\n",
       "      <td>Trip type: Travelled as a couple</td>\n",
       "      <td>Singapore, Singapore</td>\n",
       "      <td>91.0</td>\n",
       "      <td>2.0</td>\n",
       "      <td>NaN</td>\n",
       "      <td>False</td>\n",
       "      <td>NaN</td>\n",
       "      <td>pampercation th floor crest suite harbour view...</td>\n",
       "      <td>Pampercation 64th floor Crest Suite Harbour vi...</td>\n",
       "      <td>2023-05-01</td>\n",
       "      <td>PostCovid</td>\n",
       "      <td>2023</td>\n",
       "      <td>pamperc th floor crest suit harbour view spaci...</td>\n",
       "      <td>pampercation th floor crest suite harbour view...</td>\n",
       "    </tr>\n",
       "    <tr>\n",
       "      <th>2</th>\n",
       "      <td>2</td>\n",
       "      <td>JOSE JOAQUIN ORTIZ GARCIA</td>\n",
       "      <td>Excellent location and facilities as a confere...</td>\n",
       "      <td>The hotel is located near the marina, so going...</td>\n",
       "      <td>Trip type: Travelled on business</td>\n",
       "      <td>Chia, Colombia</td>\n",
       "      <td>32.0</td>\n",
       "      <td>NaN</td>\n",
       "      <td>5.0</td>\n",
       "      <td>True</td>\n",
       "      <td>Positive</td>\n",
       "      <td>excellent location facilities conference venue...</td>\n",
       "      <td>Excellent location and facilities as a confere...</td>\n",
       "      <td>2023-09-01</td>\n",
       "      <td>PostCovid</td>\n",
       "      <td>2023</td>\n",
       "      <td>excel locat facil confer venu hotel locat near...</td>\n",
       "      <td>excellent location facility conference venue h...</td>\n",
       "    </tr>\n",
       "  </tbody>\n",
       "</table>\n",
       "</div>"
      ],
      "text/plain": [
       "   Unnamed: 0         traveller_username  \\\n",
       "0           0                   Ernest L   \n",
       "1           1              lovemylife999   \n",
       "2           2  JOSE JOAQUIN ORTIZ GARCIA   \n",
       "\n",
       "                                        review_title  \\\n",
       "0              Excellent stay with fantastic scenery   \n",
       "1                                       Pampercation   \n",
       "2  Excellent location and facilities as a confere...   \n",
       "\n",
       "                                         review_text  \\\n",
       "0  This is our 4th stay. I still remember that I ...   \n",
       "1  64th floor Crest Suite Harbour view. Spacious ...   \n",
       "2  The hotel is located near the marina, so going...   \n",
       "\n",
       "                        travel_type traveller_country_origin  \\\n",
       "0  Trip type: Travelled with family                      NaN   \n",
       "1  Trip type: Travelled as a couple     Singapore, Singapore   \n",
       "2  Trip type: Travelled on business           Chia, Colombia   \n",
       "\n",
       "  traveller_total_contributions  traveller_total_helpful_contributions  \\\n",
       "0                           1.0                                    NaN   \n",
       "1                          91.0                                    2.0   \n",
       "2                          32.0                                    NaN   \n",
       "\n",
       "   rating  valid_rating     label  \\\n",
       "0     5.0          True  Positive   \n",
       "1     NaN         False       NaN   \n",
       "2     5.0          True  Positive   \n",
       "\n",
       "                                      cleaned_review  \\\n",
       "0  excellent stay fantastic scenery th stay still...   \n",
       "1  pampercation th floor crest suite harbour view...   \n",
       "2  excellent location facilities conference venue...   \n",
       "\n",
       "                                     combined_review        date      covid  \\\n",
       "0  Excellent stay with fantastic scenery This is ...  2023-09-01  PostCovid   \n",
       "1  Pampercation 64th floor Crest Suite Harbour vi...  2023-05-01  PostCovid   \n",
       "2  Excellent location and facilities as a confere...  2023-09-01  PostCovid   \n",
       "\n",
       "   year                                        stem_review  \\\n",
       "0  2023  excel stay fantast sceneri th stay still remem...   \n",
       "1  2023  pamperc th floor crest suit harbour view spaci...   \n",
       "2  2023  excel locat facil confer venu hotel locat near...   \n",
       "\n",
       "                                          lem_review  \n",
       "0  excellent stay fantastic scenery th stay still...  \n",
       "1  pampercation th floor crest suite harbour view...  \n",
       "2  excellent location facility conference venue h...  "
      ]
     },
     "execution_count": 3,
     "metadata": {},
     "output_type": "execute_result"
    }
   ],
   "source": [
    "# Load the dataset\n",
    "df.head(3)"
   ]
  },
  {
   "cell_type": "code",
   "execution_count": 4,
   "metadata": {},
   "outputs": [
    {
     "data": {
      "text/plain": [
       "array([' As a remarkable landmark of Singapore, I recommend this hotel. As you know, it is known for its great infinity pool and definitely it is wonderful. And also the staffs are kind and professional. There are several Korean staffs and they are ready to help you. That is why I tried this hotel twice - first was 2016 and this time. A room condition was okay and met my expectation.   * 수영장 하나만으로도 값어치 한다고 생각합니다. 인피니티 풀에서 보는 뷰는 낮/밤 모두 환상적이니 꼭 챙겨보세요 :) '],\n",
       "      dtype=object)"
      ]
     },
     "execution_count": 4,
     "metadata": {},
     "output_type": "execute_result"
    }
   ],
   "source": [
    "df[df.traveller_username == 'Jayne Jeong'].review_text.values"
   ]
  },
  {
   "cell_type": "code",
   "execution_count": 5,
   "metadata": {
    "colab": {
     "base_uri": "https://localhost:8080/",
     "height": 374
    },
    "id": "AWWvpqvzv2S-",
    "outputId": "6177f240-a5dd-43ff-c285-6dc2ddd7577f"
   },
   "outputs": [
    {
     "data": {
      "text/plain": [
       "Unnamed: 0                                   0\n",
       "traveller_username                           0\n",
       "review_title                                32\n",
       "review_text                                  0\n",
       "travel_type                              17656\n",
       "traveller_country_origin                  9043\n",
       "traveller_total_contributions              138\n",
       "traveller_total_helpful_contributions     6030\n",
       "rating                                    4937\n",
       "valid_rating                                 0\n",
       "label                                     4937\n",
       "cleaned_review                               0\n",
       "combined_review                              0\n",
       "date                                         0\n",
       "covid                                        0\n",
       "year                                         0\n",
       "stem_review                                  0\n",
       "lem_review                                   0\n",
       "dtype: int64"
      ]
     },
     "execution_count": 5,
     "metadata": {},
     "output_type": "execute_result"
    }
   ],
   "source": [
    "df.isnull().sum()"
   ]
  },
  {
   "cell_type": "markdown",
   "metadata": {
    "id": "alI9h-z7yXfO"
   },
   "source": [
    "### Create document-term matrix\n"
   ]
  },
  {
   "cell_type": "code",
   "execution_count": 6,
   "metadata": {
    "colab": {
     "base_uri": "https://localhost:8080/",
     "height": 35
    },
    "id": "ptVXKuGmO4-M",
    "outputId": "6b6e6742-f2c9-4989-af8a-336b2347a704"
   },
   "outputs": [
    {
     "data": {
      "text/plain": [
       "(35622, 18)"
      ]
     },
     "execution_count": 6,
     "metadata": {},
     "output_type": "execute_result"
    }
   ],
   "source": [
    "df.shape"
   ]
  },
  {
   "cell_type": "markdown",
   "metadata": {
    "id": "LOYzCcy6mjsq",
    "tags": []
   },
   "source": [
    "# Topic Modeling with Good reviews (rating >= 4)"
   ]
  },
  {
   "cell_type": "code",
   "execution_count": 7,
   "metadata": {
    "id": "QWof6g2jSxmQ"
   },
   "outputs": [
    {
     "data": {
      "text/plain": [
       "(26961, 18)"
      ]
     },
     "execution_count": 7,
     "metadata": {},
     "output_type": "execute_result"
    }
   ],
   "source": [
    "df_good_reviews= df.loc[df.rating>=4]\n",
    "df_good_reviews.shape"
   ]
  },
  {
   "cell_type": "code",
   "execution_count": 8,
   "metadata": {
    "id": "ONnlaF-J1v4r"
   },
   "outputs": [],
   "source": [
    "# Create document-term matrix\n",
    "from sklearn.feature_extraction import text\n",
    "from sklearn.feature_extraction.text import CountVectorizer\n",
    "\n",
    "cv = CountVectorizer()\n",
    "data_cv = cv.fit_transform(df_good_reviews.cleaned_review)"
   ]
  },
  {
   "cell_type": "code",
   "execution_count": 9,
   "metadata": {
    "colab": {
     "base_uri": "https://localhost:8080/",
     "height": 35
    },
    "id": "PPPxTDy3PkjQ",
    "outputId": "bdb27c9f-1ed5-475a-ab55-14729d28fd38"
   },
   "outputs": [
    {
     "data": {
      "text/plain": [
       "(26961, 26109)"
      ]
     },
     "execution_count": 9,
     "metadata": {},
     "output_type": "execute_result"
    }
   ],
   "source": [
    "data_cv.shape"
   ]
  },
  {
   "cell_type": "code",
   "execution_count": 10,
   "metadata": {},
   "outputs": [
    {
     "data": {
      "text/html": [
       "<div>\n",
       "<style scoped>\n",
       "    .dataframe tbody tr th:only-of-type {\n",
       "        vertical-align: middle;\n",
       "    }\n",
       "\n",
       "    .dataframe tbody tr th {\n",
       "        vertical-align: top;\n",
       "    }\n",
       "\n",
       "    .dataframe thead th {\n",
       "        text-align: right;\n",
       "    }\n",
       "</style>\n",
       "<table border=\"1\" class=\"dataframe\">\n",
       "  <thead>\n",
       "    <tr style=\"text-align: right;\">\n",
       "      <th></th>\n",
       "      <th>Unnamed: 0</th>\n",
       "      <th>traveller_username</th>\n",
       "      <th>review_title</th>\n",
       "      <th>review_text</th>\n",
       "      <th>travel_type</th>\n",
       "      <th>traveller_country_origin</th>\n",
       "      <th>traveller_total_contributions</th>\n",
       "      <th>traveller_total_helpful_contributions</th>\n",
       "      <th>rating</th>\n",
       "      <th>valid_rating</th>\n",
       "      <th>label</th>\n",
       "      <th>cleaned_review</th>\n",
       "      <th>combined_review</th>\n",
       "      <th>date</th>\n",
       "      <th>covid</th>\n",
       "      <th>year</th>\n",
       "      <th>stem_review</th>\n",
       "      <th>lem_review</th>\n",
       "    </tr>\n",
       "  </thead>\n",
       "  <tbody>\n",
       "    <tr>\n",
       "      <th>0</th>\n",
       "      <td>0</td>\n",
       "      <td>Ernest L</td>\n",
       "      <td>Excellent stay with fantastic scenery</td>\n",
       "      <td>This is our 4th stay. I still remember that I ...</td>\n",
       "      <td>Trip type: Travelled with family</td>\n",
       "      <td>NaN</td>\n",
       "      <td>1.0</td>\n",
       "      <td>NaN</td>\n",
       "      <td>5.0</td>\n",
       "      <td>True</td>\n",
       "      <td>Positive</td>\n",
       "      <td>excellent stay fantastic scenery th stay still...</td>\n",
       "      <td>Excellent stay with fantastic scenery This is ...</td>\n",
       "      <td>2023-09-01</td>\n",
       "      <td>PostCovid</td>\n",
       "      <td>2023</td>\n",
       "      <td>excel stay fantast sceneri th stay still remem...</td>\n",
       "      <td>excellent stay fantastic scenery th stay still...</td>\n",
       "    </tr>\n",
       "    <tr>\n",
       "      <th>2</th>\n",
       "      <td>2</td>\n",
       "      <td>JOSE JOAQUIN ORTIZ GARCIA</td>\n",
       "      <td>Excellent location and facilities as a confere...</td>\n",
       "      <td>The hotel is located near the marina, so going...</td>\n",
       "      <td>Trip type: Travelled on business</td>\n",
       "      <td>Chia, Colombia</td>\n",
       "      <td>32.0</td>\n",
       "      <td>NaN</td>\n",
       "      <td>5.0</td>\n",
       "      <td>True</td>\n",
       "      <td>Positive</td>\n",
       "      <td>excellent location facilities conference venue...</td>\n",
       "      <td>Excellent location and facilities as a confere...</td>\n",
       "      <td>2023-09-01</td>\n",
       "      <td>PostCovid</td>\n",
       "      <td>2023</td>\n",
       "      <td>excel locat facil confer venu hotel locat near...</td>\n",
       "      <td>excellent location facility conference venue h...</td>\n",
       "    </tr>\n",
       "    <tr>\n",
       "      <th>3</th>\n",
       "      <td>3</td>\n",
       "      <td>Changboo C</td>\n",
       "      <td>Great experience while staying the Swissotel</td>\n",
       "      <td>Was the great staying. I have watched the whol...</td>\n",
       "      <td>Trip type: Travelled on business</td>\n",
       "      <td>NaN</td>\n",
       "      <td>1.0</td>\n",
       "      <td>NaN</td>\n",
       "      <td>5.0</td>\n",
       "      <td>True</td>\n",
       "      <td>Positive</td>\n",
       "      <td>great experience staying swissotel great stayi...</td>\n",
       "      <td>Great experience while staying the Swissotel W...</td>\n",
       "      <td>2023-09-01</td>\n",
       "      <td>PostCovid</td>\n",
       "      <td>2023</td>\n",
       "      <td>great experi stay swissotel great stay watch w...</td>\n",
       "      <td>great experience stay swissotel great staying ...</td>\n",
       "    </tr>\n",
       "    <tr>\n",
       "      <th>5</th>\n",
       "      <td>5</td>\n",
       "      <td>Shu Mun L</td>\n",
       "      <td>Great stay</td>\n",
       "      <td>Great location. Very convenient for food, shop...</td>\n",
       "      <td>Trip type: Travelled on business</td>\n",
       "      <td>Kuala Lumpur, Malaysia</td>\n",
       "      <td>8.0</td>\n",
       "      <td>1.0</td>\n",
       "      <td>5.0</td>\n",
       "      <td>True</td>\n",
       "      <td>Positive</td>\n",
       "      <td>great stay great location convenient food shop...</td>\n",
       "      <td>Great stay Great location. Very convenient for...</td>\n",
       "      <td>2023-08-01</td>\n",
       "      <td>PostCovid</td>\n",
       "      <td>2023</td>\n",
       "      <td>great stay great locat conveni food shop walk ...</td>\n",
       "      <td>great stay great location convenient food shop...</td>\n",
       "    </tr>\n",
       "    <tr>\n",
       "      <th>6</th>\n",
       "      <td>6</td>\n",
       "      <td>Cruiser62845265595</td>\n",
       "      <td>A great place to stay</td>\n",
       "      <td>The rooms are quiet and clean with easy access...</td>\n",
       "      <td>Trip type: Travelled with family</td>\n",
       "      <td>NaN</td>\n",
       "      <td>1.0</td>\n",
       "      <td>NaN</td>\n",
       "      <td>5.0</td>\n",
       "      <td>True</td>\n",
       "      <td>Positive</td>\n",
       "      <td>great place stay rooms quiet clean easy access...</td>\n",
       "      <td>A great place to stay The rooms are quiet and ...</td>\n",
       "      <td>2023-09-01</td>\n",
       "      <td>PostCovid</td>\n",
       "      <td>2023</td>\n",
       "      <td>great place stay room quiet clean easi access ...</td>\n",
       "      <td>great place stay room quiet clean easy access ...</td>\n",
       "    </tr>\n",
       "  </tbody>\n",
       "</table>\n",
       "</div>"
      ],
      "text/plain": [
       "   Unnamed: 0         traveller_username  \\\n",
       "0           0                   Ernest L   \n",
       "2           2  JOSE JOAQUIN ORTIZ GARCIA   \n",
       "3           3                 Changboo C   \n",
       "5           5                  Shu Mun L   \n",
       "6           6         Cruiser62845265595   \n",
       "\n",
       "                                        review_title  \\\n",
       "0              Excellent stay with fantastic scenery   \n",
       "2  Excellent location and facilities as a confere...   \n",
       "3       Great experience while staying the Swissotel   \n",
       "5                                         Great stay   \n",
       "6                              A great place to stay   \n",
       "\n",
       "                                         review_text  \\\n",
       "0  This is our 4th stay. I still remember that I ...   \n",
       "2  The hotel is located near the marina, so going...   \n",
       "3  Was the great staying. I have watched the whol...   \n",
       "5  Great location. Very convenient for food, shop...   \n",
       "6  The rooms are quiet and clean with easy access...   \n",
       "\n",
       "                        travel_type traveller_country_origin  \\\n",
       "0  Trip type: Travelled with family                      NaN   \n",
       "2  Trip type: Travelled on business           Chia, Colombia   \n",
       "3  Trip type: Travelled on business                      NaN   \n",
       "5  Trip type: Travelled on business   Kuala Lumpur, Malaysia   \n",
       "6  Trip type: Travelled with family                      NaN   \n",
       "\n",
       "  traveller_total_contributions  traveller_total_helpful_contributions  \\\n",
       "0                           1.0                                    NaN   \n",
       "2                          32.0                                    NaN   \n",
       "3                           1.0                                    NaN   \n",
       "5                           8.0                                    1.0   \n",
       "6                           1.0                                    NaN   \n",
       "\n",
       "   rating  valid_rating     label  \\\n",
       "0     5.0          True  Positive   \n",
       "2     5.0          True  Positive   \n",
       "3     5.0          True  Positive   \n",
       "5     5.0          True  Positive   \n",
       "6     5.0          True  Positive   \n",
       "\n",
       "                                      cleaned_review  \\\n",
       "0  excellent stay fantastic scenery th stay still...   \n",
       "2  excellent location facilities conference venue...   \n",
       "3  great experience staying swissotel great stayi...   \n",
       "5  great stay great location convenient food shop...   \n",
       "6  great place stay rooms quiet clean easy access...   \n",
       "\n",
       "                                     combined_review        date      covid  \\\n",
       "0  Excellent stay with fantastic scenery This is ...  2023-09-01  PostCovid   \n",
       "2  Excellent location and facilities as a confere...  2023-09-01  PostCovid   \n",
       "3  Great experience while staying the Swissotel W...  2023-09-01  PostCovid   \n",
       "5  Great stay Great location. Very convenient for...  2023-08-01  PostCovid   \n",
       "6  A great place to stay The rooms are quiet and ...  2023-09-01  PostCovid   \n",
       "\n",
       "   year                                        stem_review  \\\n",
       "0  2023  excel stay fantast sceneri th stay still remem...   \n",
       "2  2023  excel locat facil confer venu hotel locat near...   \n",
       "3  2023  great experi stay swissotel great stay watch w...   \n",
       "5  2023  great stay great locat conveni food shop walk ...   \n",
       "6  2023  great place stay room quiet clean easi access ...   \n",
       "\n",
       "                                          lem_review  \n",
       "0  excellent stay fantastic scenery th stay still...  \n",
       "2  excellent location facility conference venue h...  \n",
       "3  great experience stay swissotel great staying ...  \n",
       "5  great stay great location convenient food shop...  \n",
       "6  great place stay room quiet clean easy access ...  "
      ]
     },
     "execution_count": 10,
     "metadata": {},
     "output_type": "execute_result"
    }
   ],
   "source": [
    "df_good_reviews.head()"
   ]
  },
  {
   "cell_type": "markdown",
   "metadata": {
    "id": "Jm_hsis9ZzJd",
    "tags": []
   },
   "source": [
    "## Topic Modeling - Attempt #1 (Nouns Only)"
   ]
  },
  {
   "cell_type": "code",
   "execution_count": 11,
   "metadata": {
    "colab": {
     "base_uri": "https://localhost:8080/",
     "height": 124
    },
    "id": "4dNkKcP-ZuXI",
    "outputId": "6ac5284e-e20c-43d2-a87c-13c30d055af4",
    "tags": []
   },
   "outputs": [
    {
     "name": "stderr",
     "output_type": "stream",
     "text": [
      "[nltk_data] Downloading package punkt to\n",
      "[nltk_data]     /Users/ammarbagharib/nltk_data...\n",
      "[nltk_data]   Package punkt is already up-to-date!\n",
      "[nltk_data] Downloading package averaged_perceptron_tagger to\n",
      "[nltk_data]     /Users/ammarbagharib/nltk_data...\n",
      "[nltk_data]   Package averaged_perceptron_tagger is already up-to-\n",
      "[nltk_data]       date!\n"
     ]
    }
   ],
   "source": [
    "from nltk.corpus import stopwords\n",
    "import nltk\n",
    "nltk.download('punkt')\n",
    "nltk.download('averaged_perceptron_tagger')\n",
    "import string\n",
    "from nltk import word_tokenize, pos_tag"
   ]
  },
  {
   "cell_type": "code",
   "execution_count": 16,
   "metadata": {},
   "outputs": [],
   "source": [
    "from gensim import matutils, models\n",
    "import scipy.sparse"
   ]
  },
  {
   "cell_type": "code",
   "execution_count": 12,
   "metadata": {
    "id": "0KoZhhEPZuZ3"
   },
   "outputs": [],
   "source": [
    "# Let's create a function to pull out nouns from a string of text\n",
    "def nouns(text):\n",
    "    '''Given a string of text, tokenize the text and pull out only the nouns.'''\n",
    "    is_noun = lambda pos: pos[:2] == 'NN'\n",
    "    tokenized = word_tokenize(text)\n",
    "    all_nouns = [word for (word, pos) in pos_tag(tokenized) if is_noun(pos)]\n",
    "    return ' '.join(all_nouns)"
   ]
  },
  {
   "cell_type": "code",
   "execution_count": 13,
   "metadata": {
    "colab": {
     "base_uri": "https://localhost:8080/",
     "height": 424
    },
    "id": "Vad692wBZuc9",
    "outputId": "4a0c6ca3-ff81-4eb0-86a1-be39f052f953",
    "tags": []
   },
   "outputs": [
    {
     "data": {
      "text/html": [
       "<div>\n",
       "<style scoped>\n",
       "    .dataframe tbody tr th:only-of-type {\n",
       "        vertical-align: middle;\n",
       "    }\n",
       "\n",
       "    .dataframe tbody tr th {\n",
       "        vertical-align: top;\n",
       "    }\n",
       "\n",
       "    .dataframe thead th {\n",
       "        text-align: right;\n",
       "    }\n",
       "</style>\n",
       "<table border=\"1\" class=\"dataframe\">\n",
       "  <thead>\n",
       "    <tr style=\"text-align: right;\">\n",
       "      <th></th>\n",
       "      <th>cleaned_review</th>\n",
       "    </tr>\n",
       "  </thead>\n",
       "  <tbody>\n",
       "    <tr>\n",
       "      <th>0</th>\n",
       "      <td>stay scenery th stay wife hotel hotel times wa...</td>\n",
       "    </tr>\n",
       "    <tr>\n",
       "      <th>2</th>\n",
       "      <td>location facilities conference hotel marina mo...</td>\n",
       "    </tr>\n",
       "    <tr>\n",
       "      <th>3</th>\n",
       "      <td>experience swissotel f singapore view location...</td>\n",
       "    </tr>\n",
       "    <tr>\n",
       "      <th>5</th>\n",
       "      <td>stay location convenient food shopping tourist...</td>\n",
       "    </tr>\n",
       "    <tr>\n",
       "      <th>6</th>\n",
       "      <td>place stay rooms access mrt facilities staff f...</td>\n",
       "    </tr>\n",
       "    <tr>\n",
       "      <th>...</th>\n",
       "      <td>...</td>\n",
       "    </tr>\n",
       "    <tr>\n",
       "      <th>35617</th>\n",
       "      <td>fullerton hotels hotel star chain surpass room...</td>\n",
       "    </tr>\n",
       "    <tr>\n",
       "      <th>35618</th>\n",
       "      <td>stay stay location service breakfast room faci...</td>\n",
       "    </tr>\n",
       "    <tr>\n",
       "      <th>35619</th>\n",
       "      <td>elegance comfort fullerton hotel position sing...</td>\n",
       "    </tr>\n",
       "    <tr>\n",
       "      <th>35620</th>\n",
       "      <td>sunday brunch singapore afternoon head brunch ...</td>\n",
       "    </tr>\n",
       "    <tr>\n",
       "      <th>35621</th>\n",
       "      <td>service staff celebration room bay fireworks e...</td>\n",
       "    </tr>\n",
       "  </tbody>\n",
       "</table>\n",
       "<p>26961 rows × 1 columns</p>\n",
       "</div>"
      ],
      "text/plain": [
       "                                          cleaned_review\n",
       "0      stay scenery th stay wife hotel hotel times wa...\n",
       "2      location facilities conference hotel marina mo...\n",
       "3      experience swissotel f singapore view location...\n",
       "5      stay location convenient food shopping tourist...\n",
       "6      place stay rooms access mrt facilities staff f...\n",
       "...                                                  ...\n",
       "35617  fullerton hotels hotel star chain surpass room...\n",
       "35618  stay stay location service breakfast room faci...\n",
       "35619  elegance comfort fullerton hotel position sing...\n",
       "35620  sunday brunch singapore afternoon head brunch ...\n",
       "35621  service staff celebration room bay fireworks e...\n",
       "\n",
       "[26961 rows x 1 columns]"
      ]
     },
     "execution_count": 13,
     "metadata": {},
     "output_type": "execute_result"
    }
   ],
   "source": [
    "data_nouns = pd.DataFrame(df_good_reviews.cleaned_review.apply(nouns))\n",
    "data_nouns"
   ]
  },
  {
   "cell_type": "code",
   "execution_count": 14,
   "metadata": {
    "colab": {
     "base_uri": "https://localhost:8080/",
     "height": 444
    },
    "id": "bHdNEiwHZugW",
    "outputId": "aa6f2151-c28b-45fd-dc0c-a8d8d2f1f296"
   },
   "outputs": [
    {
     "data": {
      "text/html": [
       "<div>\n",
       "<style scoped>\n",
       "    .dataframe tbody tr th:only-of-type {\n",
       "        vertical-align: middle;\n",
       "    }\n",
       "\n",
       "    .dataframe tbody tr th {\n",
       "        vertical-align: top;\n",
       "    }\n",
       "\n",
       "    .dataframe thead th {\n",
       "        text-align: right;\n",
       "    }\n",
       "</style>\n",
       "<table border=\"1\" class=\"dataframe\">\n",
       "  <thead>\n",
       "    <tr style=\"text-align: right;\">\n",
       "      <th></th>\n",
       "      <th>aaaaaa</th>\n",
       "      <th>aahhhh</th>\n",
       "      <th>aaleyah</th>\n",
       "      <th>aaron</th>\n",
       "      <th>aawesome</th>\n",
       "      <th>abalone</th>\n",
       "      <th>abandon</th>\n",
       "      <th>abby</th>\n",
       "      <th>abd</th>\n",
       "      <th>abdi</th>\n",
       "      <th>...</th>\n",
       "      <th>zoo</th>\n",
       "      <th>zool</th>\n",
       "      <th>zoom</th>\n",
       "      <th>zoos</th>\n",
       "      <th>zul</th>\n",
       "      <th>zulfadhli</th>\n",
       "      <th>zulfadli</th>\n",
       "      <th>zura</th>\n",
       "      <th>zurich</th>\n",
       "      <th>zzzz</th>\n",
       "    </tr>\n",
       "  </thead>\n",
       "  <tbody>\n",
       "    <tr>\n",
       "      <th>0</th>\n",
       "      <td>0</td>\n",
       "      <td>0</td>\n",
       "      <td>0</td>\n",
       "      <td>0</td>\n",
       "      <td>0</td>\n",
       "      <td>0</td>\n",
       "      <td>0</td>\n",
       "      <td>0</td>\n",
       "      <td>0</td>\n",
       "      <td>0</td>\n",
       "      <td>...</td>\n",
       "      <td>0</td>\n",
       "      <td>0</td>\n",
       "      <td>0</td>\n",
       "      <td>0</td>\n",
       "      <td>0</td>\n",
       "      <td>0</td>\n",
       "      <td>0</td>\n",
       "      <td>0</td>\n",
       "      <td>0</td>\n",
       "      <td>0</td>\n",
       "    </tr>\n",
       "    <tr>\n",
       "      <th>2</th>\n",
       "      <td>0</td>\n",
       "      <td>0</td>\n",
       "      <td>0</td>\n",
       "      <td>0</td>\n",
       "      <td>0</td>\n",
       "      <td>0</td>\n",
       "      <td>0</td>\n",
       "      <td>0</td>\n",
       "      <td>0</td>\n",
       "      <td>0</td>\n",
       "      <td>...</td>\n",
       "      <td>0</td>\n",
       "      <td>0</td>\n",
       "      <td>0</td>\n",
       "      <td>0</td>\n",
       "      <td>0</td>\n",
       "      <td>0</td>\n",
       "      <td>0</td>\n",
       "      <td>0</td>\n",
       "      <td>0</td>\n",
       "      <td>0</td>\n",
       "    </tr>\n",
       "    <tr>\n",
       "      <th>3</th>\n",
       "      <td>0</td>\n",
       "      <td>0</td>\n",
       "      <td>0</td>\n",
       "      <td>0</td>\n",
       "      <td>0</td>\n",
       "      <td>0</td>\n",
       "      <td>0</td>\n",
       "      <td>0</td>\n",
       "      <td>0</td>\n",
       "      <td>0</td>\n",
       "      <td>...</td>\n",
       "      <td>0</td>\n",
       "      <td>0</td>\n",
       "      <td>0</td>\n",
       "      <td>0</td>\n",
       "      <td>0</td>\n",
       "      <td>0</td>\n",
       "      <td>0</td>\n",
       "      <td>0</td>\n",
       "      <td>0</td>\n",
       "      <td>0</td>\n",
       "    </tr>\n",
       "    <tr>\n",
       "      <th>5</th>\n",
       "      <td>0</td>\n",
       "      <td>0</td>\n",
       "      <td>0</td>\n",
       "      <td>0</td>\n",
       "      <td>0</td>\n",
       "      <td>0</td>\n",
       "      <td>0</td>\n",
       "      <td>0</td>\n",
       "      <td>0</td>\n",
       "      <td>0</td>\n",
       "      <td>...</td>\n",
       "      <td>0</td>\n",
       "      <td>0</td>\n",
       "      <td>0</td>\n",
       "      <td>0</td>\n",
       "      <td>0</td>\n",
       "      <td>0</td>\n",
       "      <td>0</td>\n",
       "      <td>0</td>\n",
       "      <td>0</td>\n",
       "      <td>0</td>\n",
       "    </tr>\n",
       "    <tr>\n",
       "      <th>6</th>\n",
       "      <td>0</td>\n",
       "      <td>0</td>\n",
       "      <td>0</td>\n",
       "      <td>0</td>\n",
       "      <td>0</td>\n",
       "      <td>0</td>\n",
       "      <td>0</td>\n",
       "      <td>0</td>\n",
       "      <td>0</td>\n",
       "      <td>0</td>\n",
       "      <td>...</td>\n",
       "      <td>0</td>\n",
       "      <td>0</td>\n",
       "      <td>0</td>\n",
       "      <td>0</td>\n",
       "      <td>0</td>\n",
       "      <td>0</td>\n",
       "      <td>0</td>\n",
       "      <td>0</td>\n",
       "      <td>0</td>\n",
       "      <td>0</td>\n",
       "    </tr>\n",
       "    <tr>\n",
       "      <th>...</th>\n",
       "      <td>...</td>\n",
       "      <td>...</td>\n",
       "      <td>...</td>\n",
       "      <td>...</td>\n",
       "      <td>...</td>\n",
       "      <td>...</td>\n",
       "      <td>...</td>\n",
       "      <td>...</td>\n",
       "      <td>...</td>\n",
       "      <td>...</td>\n",
       "      <td>...</td>\n",
       "      <td>...</td>\n",
       "      <td>...</td>\n",
       "      <td>...</td>\n",
       "      <td>...</td>\n",
       "      <td>...</td>\n",
       "      <td>...</td>\n",
       "      <td>...</td>\n",
       "      <td>...</td>\n",
       "      <td>...</td>\n",
       "      <td>...</td>\n",
       "    </tr>\n",
       "    <tr>\n",
       "      <th>35617</th>\n",
       "      <td>0</td>\n",
       "      <td>0</td>\n",
       "      <td>0</td>\n",
       "      <td>0</td>\n",
       "      <td>0</td>\n",
       "      <td>0</td>\n",
       "      <td>0</td>\n",
       "      <td>0</td>\n",
       "      <td>0</td>\n",
       "      <td>0</td>\n",
       "      <td>...</td>\n",
       "      <td>0</td>\n",
       "      <td>0</td>\n",
       "      <td>0</td>\n",
       "      <td>0</td>\n",
       "      <td>0</td>\n",
       "      <td>0</td>\n",
       "      <td>0</td>\n",
       "      <td>0</td>\n",
       "      <td>0</td>\n",
       "      <td>0</td>\n",
       "    </tr>\n",
       "    <tr>\n",
       "      <th>35618</th>\n",
       "      <td>0</td>\n",
       "      <td>0</td>\n",
       "      <td>0</td>\n",
       "      <td>0</td>\n",
       "      <td>0</td>\n",
       "      <td>0</td>\n",
       "      <td>0</td>\n",
       "      <td>0</td>\n",
       "      <td>0</td>\n",
       "      <td>0</td>\n",
       "      <td>...</td>\n",
       "      <td>0</td>\n",
       "      <td>0</td>\n",
       "      <td>0</td>\n",
       "      <td>0</td>\n",
       "      <td>0</td>\n",
       "      <td>0</td>\n",
       "      <td>0</td>\n",
       "      <td>0</td>\n",
       "      <td>0</td>\n",
       "      <td>0</td>\n",
       "    </tr>\n",
       "    <tr>\n",
       "      <th>35619</th>\n",
       "      <td>0</td>\n",
       "      <td>0</td>\n",
       "      <td>0</td>\n",
       "      <td>0</td>\n",
       "      <td>0</td>\n",
       "      <td>0</td>\n",
       "      <td>0</td>\n",
       "      <td>0</td>\n",
       "      <td>0</td>\n",
       "      <td>0</td>\n",
       "      <td>...</td>\n",
       "      <td>0</td>\n",
       "      <td>0</td>\n",
       "      <td>0</td>\n",
       "      <td>0</td>\n",
       "      <td>0</td>\n",
       "      <td>0</td>\n",
       "      <td>0</td>\n",
       "      <td>0</td>\n",
       "      <td>0</td>\n",
       "      <td>0</td>\n",
       "    </tr>\n",
       "    <tr>\n",
       "      <th>35620</th>\n",
       "      <td>0</td>\n",
       "      <td>0</td>\n",
       "      <td>0</td>\n",
       "      <td>0</td>\n",
       "      <td>0</td>\n",
       "      <td>0</td>\n",
       "      <td>0</td>\n",
       "      <td>0</td>\n",
       "      <td>0</td>\n",
       "      <td>0</td>\n",
       "      <td>...</td>\n",
       "      <td>0</td>\n",
       "      <td>0</td>\n",
       "      <td>0</td>\n",
       "      <td>0</td>\n",
       "      <td>0</td>\n",
       "      <td>0</td>\n",
       "      <td>0</td>\n",
       "      <td>0</td>\n",
       "      <td>0</td>\n",
       "      <td>0</td>\n",
       "    </tr>\n",
       "    <tr>\n",
       "      <th>35621</th>\n",
       "      <td>0</td>\n",
       "      <td>0</td>\n",
       "      <td>0</td>\n",
       "      <td>0</td>\n",
       "      <td>0</td>\n",
       "      <td>0</td>\n",
       "      <td>0</td>\n",
       "      <td>0</td>\n",
       "      <td>0</td>\n",
       "      <td>0</td>\n",
       "      <td>...</td>\n",
       "      <td>0</td>\n",
       "      <td>0</td>\n",
       "      <td>0</td>\n",
       "      <td>0</td>\n",
       "      <td>0</td>\n",
       "      <td>0</td>\n",
       "      <td>0</td>\n",
       "      <td>0</td>\n",
       "      <td>0</td>\n",
       "      <td>0</td>\n",
       "    </tr>\n",
       "  </tbody>\n",
       "</table>\n",
       "<p>26961 rows × 16189 columns</p>\n",
       "</div>"
      ],
      "text/plain": [
       "       aaaaaa  aahhhh  aaleyah  aaron  aawesome  abalone  abandon  abby  abd  \\\n",
       "0           0       0        0      0         0        0        0     0    0   \n",
       "2           0       0        0      0         0        0        0     0    0   \n",
       "3           0       0        0      0         0        0        0     0    0   \n",
       "5           0       0        0      0         0        0        0     0    0   \n",
       "6           0       0        0      0         0        0        0     0    0   \n",
       "...       ...     ...      ...    ...       ...      ...      ...   ...  ...   \n",
       "35617       0       0        0      0         0        0        0     0    0   \n",
       "35618       0       0        0      0         0        0        0     0    0   \n",
       "35619       0       0        0      0         0        0        0     0    0   \n",
       "35620       0       0        0      0         0        0        0     0    0   \n",
       "35621       0       0        0      0         0        0        0     0    0   \n",
       "\n",
       "       abdi  ...  zoo  zool  zoom  zoos  zul  zulfadhli  zulfadli  zura  \\\n",
       "0         0  ...    0     0     0     0    0          0         0     0   \n",
       "2         0  ...    0     0     0     0    0          0         0     0   \n",
       "3         0  ...    0     0     0     0    0          0         0     0   \n",
       "5         0  ...    0     0     0     0    0          0         0     0   \n",
       "6         0  ...    0     0     0     0    0          0         0     0   \n",
       "...     ...  ...  ...   ...   ...   ...  ...        ...       ...   ...   \n",
       "35617     0  ...    0     0     0     0    0          0         0     0   \n",
       "35618     0  ...    0     0     0     0    0          0         0     0   \n",
       "35619     0  ...    0     0     0     0    0          0         0     0   \n",
       "35620     0  ...    0     0     0     0    0          0         0     0   \n",
       "35621     0  ...    0     0     0     0    0          0         0     0   \n",
       "\n",
       "       zurich  zzzz  \n",
       "0           0     0  \n",
       "2           0     0  \n",
       "3           0     0  \n",
       "5           0     0  \n",
       "6           0     0  \n",
       "...       ...   ...  \n",
       "35617       0     0  \n",
       "35618       0     0  \n",
       "35619       0     0  \n",
       "35620       0     0  \n",
       "35621       0     0  \n",
       "\n",
       "[26961 rows x 16189 columns]"
      ]
     },
     "execution_count": 14,
     "metadata": {},
     "output_type": "execute_result"
    }
   ],
   "source": [
    "# Recreate a document-term matrix with only nouns\n",
    "cvn = CountVectorizer()\n",
    "data_cvn = cvn.fit_transform(data_nouns.cleaned_review)\n",
    "data_dtmn = pd.DataFrame(data_cvn.toarray(), columns=cvn.get_feature_names_out())\n",
    "data_dtmn.index = data_nouns.index\n",
    "data_dtmn"
   ]
  },
  {
   "cell_type": "code",
   "execution_count": 15,
   "metadata": {
    "id": "fzmOCdCYZujP"
   },
   "outputs": [
    {
     "ename": "NameError",
     "evalue": "name 'matutils' is not defined",
     "output_type": "error",
     "traceback": [
      "\u001b[0;31m---------------------------------------------------------------------------\u001b[0m",
      "\u001b[0;31mNameError\u001b[0m                                 Traceback (most recent call last)",
      "Cell \u001b[0;32mIn[15], line 2\u001b[0m\n\u001b[1;32m      1\u001b[0m \u001b[38;5;66;03m# Create the gensim corpus\u001b[39;00m\n\u001b[0;32m----> 2\u001b[0m corpusn \u001b[38;5;241m=\u001b[39m \u001b[43mmatutils\u001b[49m\u001b[38;5;241m.\u001b[39mSparse2Corpus(scipy\u001b[38;5;241m.\u001b[39msparse\u001b[38;5;241m.\u001b[39mcsr_matrix(data_dtmn\u001b[38;5;241m.\u001b[39mtranspose()))\n\u001b[1;32m      4\u001b[0m \u001b[38;5;66;03m# Create the vocabulary dictionary\u001b[39;00m\n\u001b[1;32m      5\u001b[0m id2wordn \u001b[38;5;241m=\u001b[39m \u001b[38;5;28mdict\u001b[39m((v, k) \u001b[38;5;28;01mfor\u001b[39;00m k, v \u001b[38;5;129;01min\u001b[39;00m cvn\u001b[38;5;241m.\u001b[39mvocabulary_\u001b[38;5;241m.\u001b[39mitems())\n",
      "\u001b[0;31mNameError\u001b[0m: name 'matutils' is not defined"
     ]
    }
   ],
   "source": [
    "# Create the gensim corpus\n",
    "corpusn = matutils.Sparse2Corpus(scipy.sparse.csr_matrix(data_dtmn.transpose()))\n",
    "\n",
    "# Create the vocabulary dictionary\n",
    "id2wordn = dict((v, k) for k, v in cvn.vocabulary_.items())"
   ]
  },
  {
   "cell_type": "code",
   "execution_count": null,
   "metadata": {},
   "outputs": [],
   "source": [
    "# Let's try topics = 3\n",
    "ldan = models.LdaModel(corpus=corpusn, num_topics=3, id2word=id2wordn, passes=10)\n",
    "ldan.print_topics()"
   ]
  },
  {
   "cell_type": "code",
   "execution_count": null,
   "metadata": {},
   "outputs": [],
   "source": [
    "# Let's try topics = 4\n",
    "ldan = models.LdaModel(corpus=corpusn, num_topics=4, id2word=id2wordn, passes=10)\n",
    "ldan.print_topics()"
   ]
  },
  {
   "cell_type": "code",
   "execution_count": null,
   "metadata": {},
   "outputs": [],
   "source": [
    "# Let's try topics = 5\n",
    "ldan = models.LdaModel(corpus=corpusn, num_topics=5, id2word=id2wordn, passes=10)\n",
    "ldan.print_topics()"
   ]
  },
  {
   "cell_type": "code",
   "execution_count": null,
   "metadata": {},
   "outputs": [],
   "source": [
    "# Let's try topics = 6\n",
    "ldan = models.LdaModel(corpus=corpusn, num_topics=6, id2word=id2wordn, passes=10)\n",
    "ldan.print_topics()"
   ]
  },
  {
   "cell_type": "markdown",
   "metadata": {
    "id": "JMTiGbTomgW9"
   },
   "source": [
    "# Topic Modeling with Bad reviews (rating <= 2)"
   ]
  },
  {
   "cell_type": "markdown",
   "metadata": {
    "id": "Jm_hsis9ZzJd",
    "tags": []
   },
   "source": [
    "## Topic Modeling - Attempt #2 (Nouns Only)"
   ]
  },
  {
   "cell_type": "code",
   "execution_count": null,
   "metadata": {
    "colab": {
     "base_uri": "https://localhost:8080/",
     "height": 424
    },
    "id": "Vad692wBZuc9",
    "outputId": "4a0c6ca3-ff81-4eb0-86a1-be39f052f953",
    "tags": []
   },
   "outputs": [],
   "source": [
    "data_nouns = pd.DataFrame(df_bad_reviews.cleaned_review.apply(nouns))\n",
    "data_nouns"
   ]
  },
  {
   "cell_type": "code",
   "execution_count": null,
   "metadata": {
    "colab": {
     "base_uri": "https://localhost:8080/",
     "height": 444
    },
    "id": "bHdNEiwHZugW",
    "outputId": "aa6f2151-c28b-45fd-dc0c-a8d8d2f1f296"
   },
   "outputs": [],
   "source": [
    "# Recreate a document-term matrix with only nouns\n",
    "cvn = CountVectorizer()\n",
    "data_cvn = cvn.fit_transform(data_nouns.cleaned_review)\n",
    "data_dtmn = pd.DataFrame(data_cvn.toarray(), columns=cvn.get_feature_names_out())\n",
    "data_dtmn.index = data_nouns.index\n",
    "data_dtmn"
   ]
  },
  {
   "cell_type": "code",
   "execution_count": null,
   "metadata": {
    "id": "fzmOCdCYZujP"
   },
   "outputs": [],
   "source": [
    "# Create the gensim corpus\n",
    "corpusn = matutils.Sparse2Corpus(scipy.sparse.csr_matrix(data_dtmn.transpose()))\n",
    "\n",
    "# Create the vocabulary dictionary\n",
    "id2wordn = dict((v, k) for k, v in cvn.vocabulary_.items())"
   ]
  },
  {
   "cell_type": "code",
   "execution_count": null,
   "metadata": {},
   "outputs": [],
   "source": [
    "# Let's try topics = 3\n",
    "ldan = models.LdaModel(corpus=corpusn, num_topics=3, id2word=id2wordn, passes=10)\n",
    "ldan.print_topics()"
   ]
  },
  {
   "cell_type": "code",
   "execution_count": null,
   "metadata": {},
   "outputs": [],
   "source": [
    "# Let's try topics = 4\n",
    "ldan = models.LdaModel(corpus=corpusn, num_topics=4, id2word=id2wordn, passes=10)\n",
    "ldan.print_topics()"
   ]
  },
  {
   "cell_type": "code",
   "execution_count": null,
   "metadata": {},
   "outputs": [],
   "source": [
    "# Let's try topics = 5\n",
    "ldan = models.LdaModel(corpus=corpusn, num_topics=5, id2word=id2wordn, passes=10)\n",
    "ldan.print_topics()"
   ]
  },
  {
   "cell_type": "code",
   "execution_count": null,
   "metadata": {},
   "outputs": [],
   "source": [
    "# Let's try topics = 6\n",
    "ldan = models.LdaModel(corpus=corpusn, num_topics=6, id2word=id2wordn, passes=10)\n",
    "ldan.print_topics()"
   ]
  },
  {
   "cell_type": "code",
   "execution_count": null,
   "metadata": {},
   "outputs": [],
   "source": []
  },
  {
   "cell_type": "code",
   "execution_count": null,
   "metadata": {},
   "outputs": [],
   "source": []
  }
 ],
 "metadata": {
  "colab": {
   "collapsed_sections": [
    "WHCd7NXwXE17",
    "JMTiGbTomgW9",
    "keD2ODBHoBFd",
    "Z8YvsKt7o2gk"
   ],
   "machine_shape": "hm",
   "provenance": []
  },
  "kernelspec": {
   "display_name": "Python [conda env:bt4222_hotels]",
   "language": "python",
   "name": "conda-env-bt4222_hotels-py"
  },
  "language_info": {
   "codemirror_mode": {
    "name": "ipython",
    "version": 3
   },
   "file_extension": ".py",
   "mimetype": "text/x-python",
   "name": "python",
   "nbconvert_exporter": "python",
   "pygments_lexer": "ipython3",
   "version": "3.10.4"
  }
 },
 "nbformat": 4,
 "nbformat_minor": 4
}
