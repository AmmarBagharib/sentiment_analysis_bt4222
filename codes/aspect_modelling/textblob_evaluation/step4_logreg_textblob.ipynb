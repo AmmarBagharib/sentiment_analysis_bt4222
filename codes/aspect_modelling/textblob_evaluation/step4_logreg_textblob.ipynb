{
 "cells": [
  {
   "cell_type": "code",
   "execution_count": 79,
   "id": "cdef94e4-71c3-44a9-af25-22e4985efc11",
   "metadata": {},
   "outputs": [],
   "source": [
    "import pandas as pd\n",
    "import numpy as np\n",
    "\n",
    "from sklearn.linear_model import LogisticRegression\n",
    "from sklearn import metrics\n",
    "from sklearn.model_selection import train_test_split\n",
    "from sklearn.preprocessing import OneHotEncoder"
   ]
  },
  {
   "cell_type": "code",
   "execution_count": 138,
   "id": "135304c3-6387-4070-af56-29dd1de2d35d",
   "metadata": {},
   "outputs": [
    {
     "name": "stdout",
     "output_type": "stream",
     "text": [
      "(12331, 11)\n",
      "(16349, 12)\n",
      "(30972, 12)\n"
     ]
    }
   ],
   "source": [
    "df_3star = pd.read_csv(\"dp_textblob_3_star.csv\")\n",
    "df_4star = pd.read_csv(\"dp_textblob_4_star.csv\")\n",
    "df_5star = pd.read_csv(\"dp_textblob_5_star.csv\")\n",
    "print(df_3star.shape)\n",
    "print(df_4star.shape)\n",
    "print(df_5star.shape)"
   ]
  },
  {
   "cell_type": "markdown",
   "id": "5421c6dd-3685-4813-acd3-c1f833f5230e",
   "metadata": {},
   "source": [
    "# 3 Star"
   ]
  },
  {
   "cell_type": "code",
   "execution_count": 139,
   "id": "d0b0eb5f-b288-41f2-a484-76a9f532b110",
   "metadata": {},
   "outputs": [
    {
     "data": {
      "text/html": [
       "<div>\n",
       "<style scoped>\n",
       "    .dataframe tbody tr th:only-of-type {\n",
       "        vertical-align: middle;\n",
       "    }\n",
       "\n",
       "    .dataframe tbody tr th {\n",
       "        vertical-align: top;\n",
       "    }\n",
       "\n",
       "    .dataframe thead th {\n",
       "        text-align: right;\n",
       "    }\n",
       "</style>\n",
       "<table border=\"1\" class=\"dataframe\">\n",
       "  <thead>\n",
       "    <tr style=\"text-align: right;\">\n",
       "      <th></th>\n",
       "      <th>travel_type</th>\n",
       "      <th>rating</th>\n",
       "      <th>label</th>\n",
       "      <th>covid</th>\n",
       "      <th>is_local</th>\n",
       "      <th>aspect_sentiment</th>\n",
       "      <th>topic_2</th>\n",
       "      <th>topic_0</th>\n",
       "      <th>topic_1</th>\n",
       "      <th>topic_3</th>\n",
       "      <th>overall_textblob_polarity</th>\n",
       "      <th>polarity</th>\n",
       "    </tr>\n",
       "  </thead>\n",
       "  <tbody>\n",
       "    <tr>\n",
       "      <th>0</th>\n",
       "      <td>couple</td>\n",
       "      <td>4.0</td>\n",
       "      <td>Positive</td>\n",
       "      <td>PostCovid</td>\n",
       "      <td>0</td>\n",
       "      <td>[[hotel, clean, 2], [hotel, comfortable, 2], [...</td>\n",
       "      <td>0.311111</td>\n",
       "      <td>0.143333</td>\n",
       "      <td>0.205556</td>\n",
       "      <td>NaN</td>\n",
       "      <td>0.149749</td>\n",
       "      <td>Positive</td>\n",
       "    </tr>\n",
       "    <tr>\n",
       "      <th>1</th>\n",
       "      <td>family</td>\n",
       "      <td>5.0</td>\n",
       "      <td>Positive</td>\n",
       "      <td>PostCovid</td>\n",
       "      <td>0</td>\n",
       "      <td>[[room, great, 0], [room, small, 0], [hotel, g...</td>\n",
       "      <td>0.700000</td>\n",
       "      <td>0.275000</td>\n",
       "      <td>NaN</td>\n",
       "      <td>NaN</td>\n",
       "      <td>0.455000</td>\n",
       "      <td>Positive</td>\n",
       "    </tr>\n",
       "    <tr>\n",
       "      <th>2</th>\n",
       "      <td>friends</td>\n",
       "      <td>5.0</td>\n",
       "      <td>Positive</td>\n",
       "      <td>PostCovid</td>\n",
       "      <td>0</td>\n",
       "      <td>[[food, close, 2], [check, easy, 3]]</td>\n",
       "      <td>0.000000</td>\n",
       "      <td>NaN</td>\n",
       "      <td>NaN</td>\n",
       "      <td>0.433333</td>\n",
       "      <td>0.396296</td>\n",
       "      <td>Positive</td>\n",
       "    </tr>\n",
       "    <tr>\n",
       "      <th>3</th>\n",
       "      <td>solo</td>\n",
       "      <td>5.0</td>\n",
       "      <td>Positive</td>\n",
       "      <td>PostCovid</td>\n",
       "      <td>0</td>\n",
       "      <td>[[staff, great, 3]]</td>\n",
       "      <td>NaN</td>\n",
       "      <td>NaN</td>\n",
       "      <td>NaN</td>\n",
       "      <td>0.800000</td>\n",
       "      <td>0.312083</td>\n",
       "      <td>Positive</td>\n",
       "    </tr>\n",
       "    <tr>\n",
       "      <th>4</th>\n",
       "      <td>business</td>\n",
       "      <td>4.0</td>\n",
       "      <td>Positive</td>\n",
       "      <td>PostCovid</td>\n",
       "      <td>0</td>\n",
       "      <td>[[room, 'also night', 0], [time, long, 3]]</td>\n",
       "      <td>NaN</td>\n",
       "      <td>0.000000</td>\n",
       "      <td>NaN</td>\n",
       "      <td>-0.050000</td>\n",
       "      <td>0.372917</td>\n",
       "      <td>Positive</td>\n",
       "    </tr>\n",
       "  </tbody>\n",
       "</table>\n",
       "</div>"
      ],
      "text/plain": [
       "  travel_type  rating     label      covid  is_local  \\\n",
       "0      couple     4.0  Positive  PostCovid         0   \n",
       "1      family     5.0  Positive  PostCovid         0   \n",
       "2     friends     5.0  Positive  PostCovid         0   \n",
       "3        solo     5.0  Positive  PostCovid         0   \n",
       "4    business     4.0  Positive  PostCovid         0   \n",
       "\n",
       "                                    aspect_sentiment   topic_2   topic_0  \\\n",
       "0  [[hotel, clean, 2], [hotel, comfortable, 2], [...  0.311111  0.143333   \n",
       "1  [[room, great, 0], [room, small, 0], [hotel, g...  0.700000  0.275000   \n",
       "2               [[food, close, 2], [check, easy, 3]]  0.000000       NaN   \n",
       "3                                [[staff, great, 3]]       NaN       NaN   \n",
       "4         [[room, 'also night', 0], [time, long, 3]]       NaN  0.000000   \n",
       "\n",
       "    topic_1   topic_3  overall_textblob_polarity  polarity  \n",
       "0  0.205556       NaN                   0.149749  Positive  \n",
       "1       NaN       NaN                   0.455000  Positive  \n",
       "2       NaN  0.433333                   0.396296  Positive  \n",
       "3       NaN  0.800000                   0.312083  Positive  \n",
       "4       NaN -0.050000                   0.372917  Positive  "
      ]
     },
     "execution_count": 139,
     "metadata": {},
     "output_type": "execute_result"
    }
   ],
   "source": [
    "df_3star[\"polarity\"] = np.where(df_3star[\"rating\"] >= 4, \"Positive\", \"Negative\")\n",
    "df_3star[\"polarity\"] = np.where(df_3star[\"rating\"] == 3.0, np.NaN, df_3star[\"polarity\"])\n",
    "df_3star = df_3star.dropna(subset = \"polarity\")\n",
    "df_3star.head()"
   ]
  },
  {
   "cell_type": "code",
   "execution_count": 140,
   "id": "27b28723-f805-4cdc-b520-c975bbde533b",
   "metadata": {},
   "outputs": [
    {
     "name": "stderr",
     "output_type": "stream",
     "text": [
      "/Users/nuzzul/opt/anaconda3/lib/python3.9/site-packages/sklearn/utils/deprecation.py:87: FutureWarning: Function get_feature_names is deprecated; get_feature_names is deprecated in 1.0 and will be removed in 1.2. Please use get_feature_names_out instead.\n",
      "  warnings.warn(msg, category=FutureWarning)\n"
     ]
    },
    {
     "data": {
      "text/html": [
       "<div>\n",
       "<style scoped>\n",
       "    .dataframe tbody tr th:only-of-type {\n",
       "        vertical-align: middle;\n",
       "    }\n",
       "\n",
       "    .dataframe tbody tr th {\n",
       "        vertical-align: top;\n",
       "    }\n",
       "\n",
       "    .dataframe thead th {\n",
       "        text-align: right;\n",
       "    }\n",
       "</style>\n",
       "<table border=\"1\" class=\"dataframe\">\n",
       "  <thead>\n",
       "    <tr style=\"text-align: right;\">\n",
       "      <th></th>\n",
       "      <th>travel_type_business</th>\n",
       "      <th>travel_type_couple</th>\n",
       "      <th>travel_type_family</th>\n",
       "      <th>travel_type_friends</th>\n",
       "      <th>travel_type_solo</th>\n",
       "      <th>travel_type_nan</th>\n",
       "      <th>covid_Covid</th>\n",
       "      <th>covid_PostCovid</th>\n",
       "      <th>covid_PreCovid</th>\n",
       "      <th>rating</th>\n",
       "      <th>label</th>\n",
       "      <th>is_local</th>\n",
       "      <th>aspect_sentiment</th>\n",
       "      <th>topic_2</th>\n",
       "      <th>topic_0</th>\n",
       "      <th>topic_1</th>\n",
       "      <th>topic_3</th>\n",
       "      <th>overall_textblob_polarity</th>\n",
       "      <th>polarity</th>\n",
       "    </tr>\n",
       "  </thead>\n",
       "  <tbody>\n",
       "    <tr>\n",
       "      <th>0</th>\n",
       "      <td>0.0</td>\n",
       "      <td>1.0</td>\n",
       "      <td>0.0</td>\n",
       "      <td>0.0</td>\n",
       "      <td>0.0</td>\n",
       "      <td>0.0</td>\n",
       "      <td>0.0</td>\n",
       "      <td>1.0</td>\n",
       "      <td>0.0</td>\n",
       "      <td>4.0</td>\n",
       "      <td>1</td>\n",
       "      <td>0.0</td>\n",
       "      <td>[[hotel, clean, 2], [hotel, comfortable, 2], [...</td>\n",
       "      <td>0.311111</td>\n",
       "      <td>0.143333</td>\n",
       "      <td>0.205556</td>\n",
       "      <td>NaN</td>\n",
       "      <td>0.149749</td>\n",
       "      <td>Positive</td>\n",
       "    </tr>\n",
       "    <tr>\n",
       "      <th>1</th>\n",
       "      <td>0.0</td>\n",
       "      <td>0.0</td>\n",
       "      <td>1.0</td>\n",
       "      <td>0.0</td>\n",
       "      <td>0.0</td>\n",
       "      <td>0.0</td>\n",
       "      <td>0.0</td>\n",
       "      <td>1.0</td>\n",
       "      <td>0.0</td>\n",
       "      <td>5.0</td>\n",
       "      <td>1</td>\n",
       "      <td>0.0</td>\n",
       "      <td>[[room, great, 0], [room, small, 0], [hotel, g...</td>\n",
       "      <td>0.700000</td>\n",
       "      <td>0.275000</td>\n",
       "      <td>NaN</td>\n",
       "      <td>NaN</td>\n",
       "      <td>0.455000</td>\n",
       "      <td>Positive</td>\n",
       "    </tr>\n",
       "    <tr>\n",
       "      <th>2</th>\n",
       "      <td>0.0</td>\n",
       "      <td>0.0</td>\n",
       "      <td>0.0</td>\n",
       "      <td>1.0</td>\n",
       "      <td>0.0</td>\n",
       "      <td>0.0</td>\n",
       "      <td>0.0</td>\n",
       "      <td>1.0</td>\n",
       "      <td>0.0</td>\n",
       "      <td>5.0</td>\n",
       "      <td>1</td>\n",
       "      <td>0.0</td>\n",
       "      <td>[[food, close, 2], [check, easy, 3]]</td>\n",
       "      <td>0.000000</td>\n",
       "      <td>NaN</td>\n",
       "      <td>NaN</td>\n",
       "      <td>0.433333</td>\n",
       "      <td>0.396296</td>\n",
       "      <td>Positive</td>\n",
       "    </tr>\n",
       "    <tr>\n",
       "      <th>3</th>\n",
       "      <td>0.0</td>\n",
       "      <td>0.0</td>\n",
       "      <td>0.0</td>\n",
       "      <td>0.0</td>\n",
       "      <td>1.0</td>\n",
       "      <td>0.0</td>\n",
       "      <td>0.0</td>\n",
       "      <td>1.0</td>\n",
       "      <td>0.0</td>\n",
       "      <td>5.0</td>\n",
       "      <td>1</td>\n",
       "      <td>0.0</td>\n",
       "      <td>[[staff, great, 3]]</td>\n",
       "      <td>NaN</td>\n",
       "      <td>NaN</td>\n",
       "      <td>NaN</td>\n",
       "      <td>0.800000</td>\n",
       "      <td>0.312083</td>\n",
       "      <td>Positive</td>\n",
       "    </tr>\n",
       "    <tr>\n",
       "      <th>4</th>\n",
       "      <td>1.0</td>\n",
       "      <td>0.0</td>\n",
       "      <td>0.0</td>\n",
       "      <td>0.0</td>\n",
       "      <td>0.0</td>\n",
       "      <td>0.0</td>\n",
       "      <td>0.0</td>\n",
       "      <td>1.0</td>\n",
       "      <td>0.0</td>\n",
       "      <td>4.0</td>\n",
       "      <td>1</td>\n",
       "      <td>0.0</td>\n",
       "      <td>[[room, 'also night', 0], [time, long, 3]]</td>\n",
       "      <td>NaN</td>\n",
       "      <td>0.000000</td>\n",
       "      <td>NaN</td>\n",
       "      <td>-0.050000</td>\n",
       "      <td>0.372917</td>\n",
       "      <td>Positive</td>\n",
       "    </tr>\n",
       "  </tbody>\n",
       "</table>\n",
       "</div>"
      ],
      "text/plain": [
       "   travel_type_business  travel_type_couple  travel_type_family  \\\n",
       "0                   0.0                 1.0                 0.0   \n",
       "1                   0.0                 0.0                 1.0   \n",
       "2                   0.0                 0.0                 0.0   \n",
       "3                   0.0                 0.0                 0.0   \n",
       "4                   1.0                 0.0                 0.0   \n",
       "\n",
       "   travel_type_friends  travel_type_solo  travel_type_nan  covid_Covid  \\\n",
       "0                  0.0               0.0              0.0          0.0   \n",
       "1                  0.0               0.0              0.0          0.0   \n",
       "2                  1.0               0.0              0.0          0.0   \n",
       "3                  0.0               1.0              0.0          0.0   \n",
       "4                  0.0               0.0              0.0          0.0   \n",
       "\n",
       "   covid_PostCovid  covid_PreCovid  rating  label  is_local  \\\n",
       "0              1.0             0.0     4.0      1       0.0   \n",
       "1              1.0             0.0     5.0      1       0.0   \n",
       "2              1.0             0.0     5.0      1       0.0   \n",
       "3              1.0             0.0     5.0      1       0.0   \n",
       "4              1.0             0.0     4.0      1       0.0   \n",
       "\n",
       "                                    aspect_sentiment   topic_2   topic_0  \\\n",
       "0  [[hotel, clean, 2], [hotel, comfortable, 2], [...  0.311111  0.143333   \n",
       "1  [[room, great, 0], [room, small, 0], [hotel, g...  0.700000  0.275000   \n",
       "2               [[food, close, 2], [check, easy, 3]]  0.000000       NaN   \n",
       "3                                [[staff, great, 3]]       NaN       NaN   \n",
       "4         [[room, 'also night', 0], [time, long, 3]]       NaN  0.000000   \n",
       "\n",
       "    topic_1   topic_3  overall_textblob_polarity  polarity  \n",
       "0  0.205556       NaN                   0.149749  Positive  \n",
       "1       NaN       NaN                   0.455000  Positive  \n",
       "2       NaN  0.433333                   0.396296  Positive  \n",
       "3       NaN  0.800000                   0.312083  Positive  \n",
       "4       NaN -0.050000                   0.372917  Positive  "
      ]
     },
     "execution_count": 140,
     "metadata": {},
     "output_type": "execute_result"
    }
   ],
   "source": [
    "encoder = OneHotEncoder(sparse=False)\n",
    "cols = ['travel_type', 'covid']\n",
    "df_encoded = pd.DataFrame(encoder.fit_transform(df_3star[cols]))\n",
    "df_encoded.columns = encoder.get_feature_names(cols)\n",
    "\n",
    "df_3star_final = df_3star.drop(cols ,axis=1)\n",
    "df_3star_final = pd.concat([df_encoded, df_3star_final], axis=1)\n",
    "\n",
    "df_3star_final['label'] = df_3star_final['label'].apply(lambda x: 1 if x == 'Positive' else 0)\n",
    "df_3star_final.head()"
   ]
  },
  {
   "cell_type": "markdown",
   "id": "66e0431b-4c63-4386-b533-4979a3ea5b66",
   "metadata": {},
   "source": [
    "## LogReg Baseline"
   ]
  },
  {
   "cell_type": "code",
   "execution_count": 141,
   "id": "c4c453ad-995e-4cd8-ae33-d179e39a489a",
   "metadata": {},
   "outputs": [],
   "source": [
    "features = [\"travel_type_business\", \"travel_type_couple\", \"travel_type_family\", \"travel_type_friends\", \n",
    "            \"travel_type_solo\", \"is_local\", \"covid_PreCovid\", \"overall_textblob_polarity\"]\n",
    "target = \"label\""
   ]
  },
  {
   "cell_type": "code",
   "execution_count": 142,
   "id": "dc2fd796-d444-4c9a-8849-51144bee20d6",
   "metadata": {},
   "outputs": [],
   "source": [
    "X = df_3star_final[features]\n",
    "y = df_3star_final[target]"
   ]
  },
  {
   "cell_type": "code",
   "execution_count": 143,
   "id": "20e065fe-2132-462c-a883-3576491ce442",
   "metadata": {},
   "outputs": [],
   "source": [
    "X = X.fillna(0)"
   ]
  },
  {
   "cell_type": "code",
   "execution_count": 144,
   "id": "10f31928-d3a4-47fa-8328-67ee8e6a2db1",
   "metadata": {},
   "outputs": [
    {
     "name": "stderr",
     "output_type": "stream",
     "text": [
      "/Users/nuzzul/opt/anaconda3/lib/python3.9/site-packages/sklearn/utils/validation.py:623: FutureWarning: is_sparse is deprecated and will be removed in a future version. Check `isinstance(dtype, pd.SparseDtype)` instead.\n",
      "  if not hasattr(array, \"sparse\") and array.dtypes.apply(is_sparse).any():\n"
     ]
    },
    {
     "data": {
      "text/plain": [
       "LogisticRegression()"
      ]
     },
     "execution_count": 144,
     "metadata": {},
     "output_type": "execute_result"
    }
   ],
   "source": [
    "X_train, X_test, y_train, y_test = train_test_split(X, y, test_size=0.2, random_state=0)\n",
    "logreg = LogisticRegression()\n",
    "logreg.fit(X_train, y_train)"
   ]
  },
  {
   "cell_type": "code",
   "execution_count": 145,
   "id": "7db59bef-d161-4232-ab3c-411f3eae0bc5",
   "metadata": {},
   "outputs": [
    {
     "name": "stdout",
     "output_type": "stream",
     "text": [
      "Accuracy of logistic regression classifier on test set: 0.95\n"
     ]
    },
    {
     "name": "stderr",
     "output_type": "stream",
     "text": [
      "/Users/nuzzul/opt/anaconda3/lib/python3.9/site-packages/sklearn/utils/validation.py:623: FutureWarning: is_sparse is deprecated and will be removed in a future version. Check `isinstance(dtype, pd.SparseDtype)` instead.\n",
      "  if not hasattr(array, \"sparse\") and array.dtypes.apply(is_sparse).any():\n",
      "/Users/nuzzul/opt/anaconda3/lib/python3.9/site-packages/sklearn/utils/validation.py:623: FutureWarning: is_sparse is deprecated and will be removed in a future version. Check `isinstance(dtype, pd.SparseDtype)` instead.\n",
      "  if not hasattr(array, \"sparse\") and array.dtypes.apply(is_sparse).any():\n"
     ]
    }
   ],
   "source": [
    "y_pred = logreg.predict(X_test)\n",
    "print('Accuracy of logistic regression classifier on test set: {:.2f}'.format(logreg.score(X_test, y_test)))"
   ]
  },
  {
   "cell_type": "code",
   "execution_count": 146,
   "id": "062b6149-b688-40a1-b331-bb04dcbd278c",
   "metadata": {},
   "outputs": [
    {
     "data": {
      "text/plain": [
       "array([-0.27414562, -0.16959379, -0.54194528,  0.09918599, -0.52258609,\n",
       "        0.64402139, -0.22782123, 17.90344235])"
      ]
     },
     "execution_count": 146,
     "metadata": {},
     "output_type": "execute_result"
    }
   ],
   "source": [
    "coefficients = logreg.coef_[0]\n",
    "coefficients"
   ]
  },
  {
   "cell_type": "code",
   "execution_count": 147,
   "id": "fc7107ae-9d25-4076-a0e7-73a356ef5563",
   "metadata": {},
   "outputs": [
    {
     "name": "stdout",
     "output_type": "stream",
     "text": [
      "3 Star Baseline\n",
      "Coeff of travel_type_business: -0.274\n",
      "Coeff of travel_type_couple: -0.170\n",
      "Coeff of travel_type_family: -0.542\n",
      "Coeff of travel_type_friends: 0.099\n",
      "Coeff of travel_type_solo: -0.523\n",
      "Coeff of is_local: 0.644\n",
      "Coeff of covid_PreCovid: -0.228\n",
      "Coeff of overall_textblob_polarity: 17.903\n"
     ]
    }
   ],
   "source": [
    "print(\"3 Star Baseline\")\n",
    "for i in range(len(features)):\n",
    "    print(f'Coeff of {features[i]}: %.3f' %coefficients[i])"
   ]
  },
  {
   "cell_type": "markdown",
   "id": "4f918935-2990-49e1-998e-e48c47df70c7",
   "metadata": {},
   "source": [
    "### LogReg with Aspects"
   ]
  },
  {
   "cell_type": "code",
   "execution_count": 148,
   "id": "61ec4acf-45af-4aaa-949a-fd9f58d01aae",
   "metadata": {},
   "outputs": [],
   "source": [
    "add_features = [\"topic_0\", \"topic_1\", \"topic_2\", \"topic_3\"]\n",
    "features += add_features\n",
    "features.remove(\"overall_textblob_polarity\")"
   ]
  },
  {
   "cell_type": "code",
   "execution_count": 149,
   "id": "b78c75ad-98e9-47ff-8ae2-339b8bd6dd08",
   "metadata": {},
   "outputs": [],
   "source": [
    "X = df_3star_final[features]\n",
    "y = df_3star_final[target]"
   ]
  },
  {
   "cell_type": "code",
   "execution_count": 150,
   "id": "3a51f918-f83e-4ce5-ac72-08df5be2a997",
   "metadata": {},
   "outputs": [],
   "source": [
    "X = X.fillna(0)"
   ]
  },
  {
   "cell_type": "code",
   "execution_count": 151,
   "id": "8255793a-0acf-4ebc-9d2b-c69468bfc752",
   "metadata": {},
   "outputs": [
    {
     "name": "stderr",
     "output_type": "stream",
     "text": [
      "/Users/nuzzul/opt/anaconda3/lib/python3.9/site-packages/sklearn/utils/validation.py:623: FutureWarning: is_sparse is deprecated and will be removed in a future version. Check `isinstance(dtype, pd.SparseDtype)` instead.\n",
      "  if not hasattr(array, \"sparse\") and array.dtypes.apply(is_sparse).any():\n"
     ]
    },
    {
     "data": {
      "text/plain": [
       "LogisticRegression()"
      ]
     },
     "execution_count": 151,
     "metadata": {},
     "output_type": "execute_result"
    }
   ],
   "source": [
    "X_train, X_test, y_train, y_test = train_test_split(X, y, test_size=0.2, random_state=0)\n",
    "logreg = LogisticRegression()\n",
    "logreg.fit(X_train, y_train)"
   ]
  },
  {
   "cell_type": "code",
   "execution_count": 152,
   "id": "4d4acdfe-3ff8-4365-b8be-4dba6edb361e",
   "metadata": {},
   "outputs": [
    {
     "name": "stdout",
     "output_type": "stream",
     "text": [
      "Accuracy of logistic regression classifier on test set: 0.81\n"
     ]
    },
    {
     "name": "stderr",
     "output_type": "stream",
     "text": [
      "/Users/nuzzul/opt/anaconda3/lib/python3.9/site-packages/sklearn/utils/validation.py:623: FutureWarning: is_sparse is deprecated and will be removed in a future version. Check `isinstance(dtype, pd.SparseDtype)` instead.\n",
      "  if not hasattr(array, \"sparse\") and array.dtypes.apply(is_sparse).any():\n",
      "/Users/nuzzul/opt/anaconda3/lib/python3.9/site-packages/sklearn/utils/validation.py:623: FutureWarning: is_sparse is deprecated and will be removed in a future version. Check `isinstance(dtype, pd.SparseDtype)` instead.\n",
      "  if not hasattr(array, \"sparse\") and array.dtypes.apply(is_sparse).any():\n"
     ]
    }
   ],
   "source": [
    "y_pred = logreg.predict(X_test)\n",
    "print('Accuracy of logistic regression classifier on test set: {:.2f}'.format(logreg.score(X_test, y_test)))"
   ]
  },
  {
   "cell_type": "code",
   "execution_count": 153,
   "id": "0d5a7c38-6dcb-4f07-a3bd-8f2d5f636659",
   "metadata": {},
   "outputs": [
    {
     "data": {
      "text/plain": [
       "array([-0.2391013 , -0.21263723, -0.42945266, -0.11149445, -0.63975048,\n",
       "        1.08619464, -0.33920653,  3.57453046,  3.43249177,  4.50062515,\n",
       "        4.62652208])"
      ]
     },
     "execution_count": 153,
     "metadata": {},
     "output_type": "execute_result"
    }
   ],
   "source": [
    "coefficients = logreg.coef_[0]\n",
    "coefficients"
   ]
  },
  {
   "cell_type": "code",
   "execution_count": 154,
   "id": "3c98cafb-4e6a-4498-9163-9c6327fdba77",
   "metadata": {},
   "outputs": [
    {
     "name": "stdout",
     "output_type": "stream",
     "text": [
      "3 Star Baseline + Aspects\n",
      "Coeff of travel_type_business: -0.239\n",
      "Coeff of travel_type_couple: -0.213\n",
      "Coeff of travel_type_family: -0.429\n",
      "Coeff of travel_type_friends: -0.111\n",
      "Coeff of travel_type_solo: -0.640\n",
      "Coeff of is_local: 1.086\n",
      "Coeff of covid_PreCovid: -0.339\n",
      "Coeff of topic_0: 3.575\n",
      "Coeff of topic_1: 3.432\n",
      "Coeff of topic_2: 4.501\n",
      "Coeff of topic_3: 4.627\n"
     ]
    }
   ],
   "source": [
    "print(\"3 Star Baseline + Aspects\")\n",
    "for i in range(len(features)):\n",
    "    print(f'Coeff of {features[i]}: %.3f' %coefficients[i])"
   ]
  },
  {
   "cell_type": "markdown",
   "id": "7065f0ab-a98b-402f-86d3-e82319639db3",
   "metadata": {},
   "source": [
    "# 4 Star"
   ]
  },
  {
   "cell_type": "code",
   "execution_count": 155,
   "id": "5631c09f-1c59-43e7-b791-d72eb0734758",
   "metadata": {},
   "outputs": [
    {
     "data": {
      "text/html": [
       "<div>\n",
       "<style scoped>\n",
       "    .dataframe tbody tr th:only-of-type {\n",
       "        vertical-align: middle;\n",
       "    }\n",
       "\n",
       "    .dataframe tbody tr th {\n",
       "        vertical-align: top;\n",
       "    }\n",
       "\n",
       "    .dataframe thead th {\n",
       "        text-align: right;\n",
       "    }\n",
       "</style>\n",
       "<table border=\"1\" class=\"dataframe\">\n",
       "  <thead>\n",
       "    <tr style=\"text-align: right;\">\n",
       "      <th></th>\n",
       "      <th>travel_type</th>\n",
       "      <th>rating</th>\n",
       "      <th>label</th>\n",
       "      <th>covid</th>\n",
       "      <th>is_local</th>\n",
       "      <th>aspect_sentiment</th>\n",
       "      <th>topic_0</th>\n",
       "      <th>topic_1</th>\n",
       "      <th>topic_3</th>\n",
       "      <th>topic_4</th>\n",
       "      <th>topic_2</th>\n",
       "      <th>overall_textblob_polarity</th>\n",
       "      <th>polarity</th>\n",
       "    </tr>\n",
       "  </thead>\n",
       "  <tbody>\n",
       "    <tr>\n",
       "      <th>0</th>\n",
       "      <td>NaN</td>\n",
       "      <td>NaN</td>\n",
       "      <td>NaN</td>\n",
       "      <td>PostCovid</td>\n",
       "      <td>1</td>\n",
       "      <td>[[hotel, affordable, 0], [pool, affordable, 1]]</td>\n",
       "      <td>0.0</td>\n",
       "      <td>0.0</td>\n",
       "      <td>NaN</td>\n",
       "      <td>NaN</td>\n",
       "      <td>NaN</td>\n",
       "      <td>0.600000</td>\n",
       "      <td>Negative</td>\n",
       "    </tr>\n",
       "    <tr>\n",
       "      <th>1</th>\n",
       "      <td>solo</td>\n",
       "      <td>NaN</td>\n",
       "      <td>NaN</td>\n",
       "      <td>PostCovid</td>\n",
       "      <td>0</td>\n",
       "      <td>[[room, comfortable, 3]]</td>\n",
       "      <td>NaN</td>\n",
       "      <td>NaN</td>\n",
       "      <td>0.400000</td>\n",
       "      <td>NaN</td>\n",
       "      <td>NaN</td>\n",
       "      <td>0.411515</td>\n",
       "      <td>Negative</td>\n",
       "    </tr>\n",
       "    <tr>\n",
       "      <th>3</th>\n",
       "      <td>NaN</td>\n",
       "      <td>NaN</td>\n",
       "      <td>NaN</td>\n",
       "      <td>PostCovid</td>\n",
       "      <td>1</td>\n",
       "      <td>[[room, excellent, 3], [room, polite, 3]]</td>\n",
       "      <td>NaN</td>\n",
       "      <td>NaN</td>\n",
       "      <td>0.500000</td>\n",
       "      <td>NaN</td>\n",
       "      <td>NaN</td>\n",
       "      <td>0.507407</td>\n",
       "      <td>Negative</td>\n",
       "    </tr>\n",
       "    <tr>\n",
       "      <th>4</th>\n",
       "      <td>NaN</td>\n",
       "      <td>NaN</td>\n",
       "      <td>NaN</td>\n",
       "      <td>PostCovid</td>\n",
       "      <td>0</td>\n",
       "      <td>[[room, double, 3], [room, twin, 3], [hotel, d...</td>\n",
       "      <td>0.0</td>\n",
       "      <td>NaN</td>\n",
       "      <td>0.000000</td>\n",
       "      <td>NaN</td>\n",
       "      <td>NaN</td>\n",
       "      <td>0.120000</td>\n",
       "      <td>Negative</td>\n",
       "    </tr>\n",
       "    <tr>\n",
       "      <th>5</th>\n",
       "      <td>NaN</td>\n",
       "      <td>NaN</td>\n",
       "      <td>NaN</td>\n",
       "      <td>PostCovid</td>\n",
       "      <td>0</td>\n",
       "      <td>[[airport, nice, 0], [airport, close, 0], [roo...</td>\n",
       "      <td>0.3</td>\n",
       "      <td>NaN</td>\n",
       "      <td>0.366667</td>\n",
       "      <td>NaN</td>\n",
       "      <td>NaN</td>\n",
       "      <td>0.254762</td>\n",
       "      <td>Negative</td>\n",
       "    </tr>\n",
       "  </tbody>\n",
       "</table>\n",
       "</div>"
      ],
      "text/plain": [
       "  travel_type  rating label      covid  is_local  \\\n",
       "0         NaN     NaN   NaN  PostCovid         1   \n",
       "1        solo     NaN   NaN  PostCovid         0   \n",
       "3         NaN     NaN   NaN  PostCovid         1   \n",
       "4         NaN     NaN   NaN  PostCovid         0   \n",
       "5         NaN     NaN   NaN  PostCovid         0   \n",
       "\n",
       "                                    aspect_sentiment  topic_0  topic_1  \\\n",
       "0    [[hotel, affordable, 0], [pool, affordable, 1]]      0.0      0.0   \n",
       "1                           [[room, comfortable, 3]]      NaN      NaN   \n",
       "3          [[room, excellent, 3], [room, polite, 3]]      NaN      NaN   \n",
       "4  [[room, double, 3], [room, twin, 3], [hotel, d...      0.0      NaN   \n",
       "5  [[airport, nice, 0], [airport, close, 0], [roo...      0.3      NaN   \n",
       "\n",
       "    topic_3  topic_4  topic_2  overall_textblob_polarity  polarity  \n",
       "0       NaN      NaN      NaN                   0.600000  Negative  \n",
       "1  0.400000      NaN      NaN                   0.411515  Negative  \n",
       "3  0.500000      NaN      NaN                   0.507407  Negative  \n",
       "4  0.000000      NaN      NaN                   0.120000  Negative  \n",
       "5  0.366667      NaN      NaN                   0.254762  Negative  "
      ]
     },
     "execution_count": 155,
     "metadata": {},
     "output_type": "execute_result"
    }
   ],
   "source": [
    "df_4star[\"polarity\"] = np.where(df_4star[\"rating\"] >= 4, \"Positive\", \"Negative\")\n",
    "df_4star[\"polarity\"] = np.where(df_4star[\"rating\"] == 3.0, np.NaN, df_4star[\"polarity\"])\n",
    "df_4star = df_4star.dropna(subset = \"polarity\")\n",
    "df_4star.head()"
   ]
  },
  {
   "cell_type": "code",
   "execution_count": 156,
   "id": "6aede0ee-b2fa-4878-977b-c28f1312925c",
   "metadata": {},
   "outputs": [
    {
     "name": "stderr",
     "output_type": "stream",
     "text": [
      "/Users/nuzzul/opt/anaconda3/lib/python3.9/site-packages/sklearn/utils/deprecation.py:87: FutureWarning: Function get_feature_names is deprecated; get_feature_names is deprecated in 1.0 and will be removed in 1.2. Please use get_feature_names_out instead.\n",
      "  warnings.warn(msg, category=FutureWarning)\n"
     ]
    },
    {
     "data": {
      "text/html": [
       "<div>\n",
       "<style scoped>\n",
       "    .dataframe tbody tr th:only-of-type {\n",
       "        vertical-align: middle;\n",
       "    }\n",
       "\n",
       "    .dataframe tbody tr th {\n",
       "        vertical-align: top;\n",
       "    }\n",
       "\n",
       "    .dataframe thead th {\n",
       "        text-align: right;\n",
       "    }\n",
       "</style>\n",
       "<table border=\"1\" class=\"dataframe\">\n",
       "  <thead>\n",
       "    <tr style=\"text-align: right;\">\n",
       "      <th></th>\n",
       "      <th>travel_type_business</th>\n",
       "      <th>travel_type_couple</th>\n",
       "      <th>travel_type_family</th>\n",
       "      <th>travel_type_friends</th>\n",
       "      <th>travel_type_solo</th>\n",
       "      <th>travel_type_nan</th>\n",
       "      <th>covid_Covid</th>\n",
       "      <th>covid_PostCovid</th>\n",
       "      <th>covid_PreCovid</th>\n",
       "      <th>rating</th>\n",
       "      <th>label</th>\n",
       "      <th>is_local</th>\n",
       "      <th>aspect_sentiment</th>\n",
       "      <th>topic_0</th>\n",
       "      <th>topic_1</th>\n",
       "      <th>topic_3</th>\n",
       "      <th>topic_4</th>\n",
       "      <th>topic_2</th>\n",
       "      <th>overall_textblob_polarity</th>\n",
       "      <th>polarity</th>\n",
       "    </tr>\n",
       "  </thead>\n",
       "  <tbody>\n",
       "    <tr>\n",
       "      <th>0</th>\n",
       "      <td>0.0</td>\n",
       "      <td>0.0</td>\n",
       "      <td>0.0</td>\n",
       "      <td>0.0</td>\n",
       "      <td>0.0</td>\n",
       "      <td>1.0</td>\n",
       "      <td>0.0</td>\n",
       "      <td>1.0</td>\n",
       "      <td>0.0</td>\n",
       "      <td>NaN</td>\n",
       "      <td>0</td>\n",
       "      <td>1.0</td>\n",
       "      <td>[[hotel, affordable, 0], [pool, affordable, 1]]</td>\n",
       "      <td>0.0</td>\n",
       "      <td>0.0</td>\n",
       "      <td>NaN</td>\n",
       "      <td>NaN</td>\n",
       "      <td>NaN</td>\n",
       "      <td>0.600000</td>\n",
       "      <td>Negative</td>\n",
       "    </tr>\n",
       "    <tr>\n",
       "      <th>1</th>\n",
       "      <td>0.0</td>\n",
       "      <td>0.0</td>\n",
       "      <td>0.0</td>\n",
       "      <td>0.0</td>\n",
       "      <td>1.0</td>\n",
       "      <td>0.0</td>\n",
       "      <td>0.0</td>\n",
       "      <td>1.0</td>\n",
       "      <td>0.0</td>\n",
       "      <td>NaN</td>\n",
       "      <td>0</td>\n",
       "      <td>0.0</td>\n",
       "      <td>[[room, comfortable, 3]]</td>\n",
       "      <td>NaN</td>\n",
       "      <td>NaN</td>\n",
       "      <td>0.4</td>\n",
       "      <td>NaN</td>\n",
       "      <td>NaN</td>\n",
       "      <td>0.411515</td>\n",
       "      <td>Negative</td>\n",
       "    </tr>\n",
       "    <tr>\n",
       "      <th>2</th>\n",
       "      <td>0.0</td>\n",
       "      <td>0.0</td>\n",
       "      <td>0.0</td>\n",
       "      <td>0.0</td>\n",
       "      <td>0.0</td>\n",
       "      <td>1.0</td>\n",
       "      <td>0.0</td>\n",
       "      <td>1.0</td>\n",
       "      <td>0.0</td>\n",
       "      <td>NaN</td>\n",
       "      <td>0</td>\n",
       "      <td>NaN</td>\n",
       "      <td>NaN</td>\n",
       "      <td>NaN</td>\n",
       "      <td>NaN</td>\n",
       "      <td>NaN</td>\n",
       "      <td>NaN</td>\n",
       "      <td>NaN</td>\n",
       "      <td>NaN</td>\n",
       "      <td>NaN</td>\n",
       "    </tr>\n",
       "    <tr>\n",
       "      <th>3</th>\n",
       "      <td>0.0</td>\n",
       "      <td>0.0</td>\n",
       "      <td>0.0</td>\n",
       "      <td>0.0</td>\n",
       "      <td>0.0</td>\n",
       "      <td>1.0</td>\n",
       "      <td>0.0</td>\n",
       "      <td>1.0</td>\n",
       "      <td>0.0</td>\n",
       "      <td>NaN</td>\n",
       "      <td>0</td>\n",
       "      <td>1.0</td>\n",
       "      <td>[[room, excellent, 3], [room, polite, 3]]</td>\n",
       "      <td>NaN</td>\n",
       "      <td>NaN</td>\n",
       "      <td>0.5</td>\n",
       "      <td>NaN</td>\n",
       "      <td>NaN</td>\n",
       "      <td>0.507407</td>\n",
       "      <td>Negative</td>\n",
       "    </tr>\n",
       "    <tr>\n",
       "      <th>4</th>\n",
       "      <td>0.0</td>\n",
       "      <td>0.0</td>\n",
       "      <td>0.0</td>\n",
       "      <td>0.0</td>\n",
       "      <td>0.0</td>\n",
       "      <td>1.0</td>\n",
       "      <td>0.0</td>\n",
       "      <td>1.0</td>\n",
       "      <td>0.0</td>\n",
       "      <td>NaN</td>\n",
       "      <td>0</td>\n",
       "      <td>0.0</td>\n",
       "      <td>[[room, double, 3], [room, twin, 3], [hotel, d...</td>\n",
       "      <td>0.0</td>\n",
       "      <td>NaN</td>\n",
       "      <td>0.0</td>\n",
       "      <td>NaN</td>\n",
       "      <td>NaN</td>\n",
       "      <td>0.120000</td>\n",
       "      <td>Negative</td>\n",
       "    </tr>\n",
       "  </tbody>\n",
       "</table>\n",
       "</div>"
      ],
      "text/plain": [
       "   travel_type_business  travel_type_couple  travel_type_family  \\\n",
       "0                   0.0                 0.0                 0.0   \n",
       "1                   0.0                 0.0                 0.0   \n",
       "2                   0.0                 0.0                 0.0   \n",
       "3                   0.0                 0.0                 0.0   \n",
       "4                   0.0                 0.0                 0.0   \n",
       "\n",
       "   travel_type_friends  travel_type_solo  travel_type_nan  covid_Covid  \\\n",
       "0                  0.0               0.0              1.0          0.0   \n",
       "1                  0.0               1.0              0.0          0.0   \n",
       "2                  0.0               0.0              1.0          0.0   \n",
       "3                  0.0               0.0              1.0          0.0   \n",
       "4                  0.0               0.0              1.0          0.0   \n",
       "\n",
       "   covid_PostCovid  covid_PreCovid  rating  label  is_local  \\\n",
       "0              1.0             0.0     NaN      0       1.0   \n",
       "1              1.0             0.0     NaN      0       0.0   \n",
       "2              1.0             0.0     NaN      0       NaN   \n",
       "3              1.0             0.0     NaN      0       1.0   \n",
       "4              1.0             0.0     NaN      0       0.0   \n",
       "\n",
       "                                    aspect_sentiment  topic_0  topic_1  \\\n",
       "0    [[hotel, affordable, 0], [pool, affordable, 1]]      0.0      0.0   \n",
       "1                           [[room, comfortable, 3]]      NaN      NaN   \n",
       "2                                                NaN      NaN      NaN   \n",
       "3          [[room, excellent, 3], [room, polite, 3]]      NaN      NaN   \n",
       "4  [[room, double, 3], [room, twin, 3], [hotel, d...      0.0      NaN   \n",
       "\n",
       "   topic_3  topic_4  topic_2  overall_textblob_polarity  polarity  \n",
       "0      NaN      NaN      NaN                   0.600000  Negative  \n",
       "1      0.4      NaN      NaN                   0.411515  Negative  \n",
       "2      NaN      NaN      NaN                        NaN       NaN  \n",
       "3      0.5      NaN      NaN                   0.507407  Negative  \n",
       "4      0.0      NaN      NaN                   0.120000  Negative  "
      ]
     },
     "execution_count": 156,
     "metadata": {},
     "output_type": "execute_result"
    }
   ],
   "source": [
    "encoder = OneHotEncoder(sparse=False)\n",
    "cols = ['travel_type', 'covid']\n",
    "df_encoded = pd.DataFrame(encoder.fit_transform(df_4star[cols]))\n",
    "df_encoded.columns = encoder.get_feature_names(cols)\n",
    "\n",
    "df_4star_final = df_4star.drop(cols ,axis=1)\n",
    "df_4star_final = pd.concat([df_encoded, df_4star_final], axis=1)\n",
    "\n",
    "df_4star_final['label'] = df_4star_final['label'].apply(lambda x: 1 if x == 'Positive' else 0)\n",
    "df_4star_final.head()"
   ]
  },
  {
   "cell_type": "markdown",
   "id": "8bf4ed35-2733-433b-88a2-859f6ac471f7",
   "metadata": {},
   "source": [
    "# LogReg Baseline"
   ]
  },
  {
   "cell_type": "code",
   "execution_count": 157,
   "id": "b90588f5-171a-4316-b7c6-1c2ed25a7b10",
   "metadata": {},
   "outputs": [],
   "source": [
    "features = [\"travel_type_business\", \"travel_type_couple\", \"travel_type_family\", \"travel_type_friends\", \n",
    "            \"travel_type_solo\", \"is_local\", \"covid_PreCovid\", \"overall_textblob_polarity\"]\n",
    "target = \"label\""
   ]
  },
  {
   "cell_type": "code",
   "execution_count": 158,
   "id": "b80c03cf-35a7-4cde-8020-c8a34614e35d",
   "metadata": {},
   "outputs": [],
   "source": [
    "X = df_4star_final[features]\n",
    "y = df_4star_final[target]"
   ]
  },
  {
   "cell_type": "code",
   "execution_count": 159,
   "id": "a482f14e-ee45-4f63-94e5-fd0d1cf65df0",
   "metadata": {},
   "outputs": [],
   "source": [
    "X = X.fillna(0)"
   ]
  },
  {
   "cell_type": "code",
   "execution_count": 160,
   "id": "e45f2515-ca06-4a0f-a659-667bfabe9b3e",
   "metadata": {},
   "outputs": [
    {
     "name": "stderr",
     "output_type": "stream",
     "text": [
      "/Users/nuzzul/opt/anaconda3/lib/python3.9/site-packages/sklearn/utils/validation.py:623: FutureWarning: is_sparse is deprecated and will be removed in a future version. Check `isinstance(dtype, pd.SparseDtype)` instead.\n",
      "  if not hasattr(array, \"sparse\") and array.dtypes.apply(is_sparse).any():\n"
     ]
    },
    {
     "data": {
      "text/plain": [
       "LogisticRegression()"
      ]
     },
     "execution_count": 160,
     "metadata": {},
     "output_type": "execute_result"
    }
   ],
   "source": [
    "X_train, X_test, y_train, y_test = train_test_split(X, y, test_size=0.2, random_state=0)\n",
    "logreg = LogisticRegression()\n",
    "logreg.fit(X_train, y_train)"
   ]
  },
  {
   "cell_type": "code",
   "execution_count": 161,
   "id": "bf5d14a9-9fc0-4005-8b2a-c459e2de130f",
   "metadata": {},
   "outputs": [
    {
     "name": "stdout",
     "output_type": "stream",
     "text": [
      "Accuracy of logistic regression classifier on test set: 0.80\n"
     ]
    },
    {
     "name": "stderr",
     "output_type": "stream",
     "text": [
      "/Users/nuzzul/opt/anaconda3/lib/python3.9/site-packages/sklearn/utils/validation.py:623: FutureWarning: is_sparse is deprecated and will be removed in a future version. Check `isinstance(dtype, pd.SparseDtype)` instead.\n",
      "  if not hasattr(array, \"sparse\") and array.dtypes.apply(is_sparse).any():\n",
      "/Users/nuzzul/opt/anaconda3/lib/python3.9/site-packages/sklearn/utils/validation.py:623: FutureWarning: is_sparse is deprecated and will be removed in a future version. Check `isinstance(dtype, pd.SparseDtype)` instead.\n",
      "  if not hasattr(array, \"sparse\") and array.dtypes.apply(is_sparse).any():\n"
     ]
    }
   ],
   "source": [
    "y_pred = logreg.predict(X_test)\n",
    "print('Accuracy of logistic regression classifier on test set: {:.2f}'.format(logreg.score(X_test, y_test)))"
   ]
  },
  {
   "cell_type": "code",
   "execution_count": 162,
   "id": "de8d0224-d0e6-4da2-846a-8b36f9b7c807",
   "metadata": {},
   "outputs": [
    {
     "data": {
      "text/plain": [
       "array([-3.23373232, -2.97053882, -2.82619039, -3.34726232, -3.17290161,\n",
       "       -0.25764641,  0.78219315,  3.61975613])"
      ]
     },
     "execution_count": 162,
     "metadata": {},
     "output_type": "execute_result"
    }
   ],
   "source": [
    "coefficients = logreg.coef_[0]\n",
    "coefficients"
   ]
  },
  {
   "cell_type": "code",
   "execution_count": 163,
   "id": "74cb9cee-892f-4958-974d-8b623b946b29",
   "metadata": {},
   "outputs": [
    {
     "name": "stdout",
     "output_type": "stream",
     "text": [
      "4 Star Baseline\n",
      "Coeff of travel_type_business: -3.234\n",
      "Coeff of travel_type_couple: -2.971\n",
      "Coeff of travel_type_family: -2.826\n",
      "Coeff of travel_type_friends: -3.347\n",
      "Coeff of travel_type_solo: -3.173\n",
      "Coeff of is_local: -0.258\n",
      "Coeff of covid_PreCovid: 0.782\n",
      "Coeff of overall_textblob_polarity: 3.620\n"
     ]
    }
   ],
   "source": [
    "print(\"4 Star Baseline\")\n",
    "for i in range(len(features)):\n",
    "    print(f'Coeff of {features[i]}: %.3f' %coefficients[i])"
   ]
  },
  {
   "cell_type": "markdown",
   "id": "68811ac4-40b3-4f0b-9257-70ad06b7588e",
   "metadata": {},
   "source": [
    "### LogReg w Aspects"
   ]
  },
  {
   "cell_type": "code",
   "execution_count": 164,
   "id": "ec558152-0583-47d7-b820-6148b317adaa",
   "metadata": {},
   "outputs": [],
   "source": [
    "add_features = [\"topic_0\", \"topic_1\", \"topic_2\", \"topic_3\", \"topic_4\"]\n",
    "features += add_features\n",
    "features.remove(\"overall_textblob_polarity\")"
   ]
  },
  {
   "cell_type": "code",
   "execution_count": 166,
   "id": "7eac7ca1-b5f8-4e02-9c4a-58ec52605c27",
   "metadata": {},
   "outputs": [],
   "source": [
    "X = df_4star_final[features]\n",
    "y = df_4star_final[target]"
   ]
  },
  {
   "cell_type": "code",
   "execution_count": 167,
   "id": "d1e0a98f-19c9-4663-ac43-e31a04560494",
   "metadata": {},
   "outputs": [],
   "source": [
    "X = X.fillna(0)"
   ]
  },
  {
   "cell_type": "code",
   "execution_count": 168,
   "id": "34beef82-9395-419c-a7ef-e79f60a1b9cf",
   "metadata": {},
   "outputs": [
    {
     "name": "stdout",
     "output_type": "stream",
     "text": [
      "Accuracy of logistic regression classifier on test set: 0.79\n"
     ]
    },
    {
     "name": "stderr",
     "output_type": "stream",
     "text": [
      "/Users/nuzzul/opt/anaconda3/lib/python3.9/site-packages/sklearn/utils/validation.py:623: FutureWarning: is_sparse is deprecated and will be removed in a future version. Check `isinstance(dtype, pd.SparseDtype)` instead.\n",
      "  if not hasattr(array, \"sparse\") and array.dtypes.apply(is_sparse).any():\n",
      "/Users/nuzzul/opt/anaconda3/lib/python3.9/site-packages/sklearn/utils/validation.py:623: FutureWarning: is_sparse is deprecated and will be removed in a future version. Check `isinstance(dtype, pd.SparseDtype)` instead.\n",
      "  if not hasattr(array, \"sparse\") and array.dtypes.apply(is_sparse).any():\n",
      "/Users/nuzzul/opt/anaconda3/lib/python3.9/site-packages/sklearn/utils/validation.py:623: FutureWarning: is_sparse is deprecated and will be removed in a future version. Check `isinstance(dtype, pd.SparseDtype)` instead.\n",
      "  if not hasattr(array, \"sparse\") and array.dtypes.apply(is_sparse).any():\n"
     ]
    }
   ],
   "source": [
    "X_train, X_test, y_train, y_test = train_test_split(X, y, test_size=0.2, random_state=0)\n",
    "logreg = LogisticRegression()\n",
    "logreg.fit(X_train, y_train)\n",
    "y_pred = logreg.predict(X_test)\n",
    "print('Accuracy of logistic regression classifier on test set: {:.2f}'.format(logreg.score(X_test, y_test)))"
   ]
  },
  {
   "cell_type": "code",
   "execution_count": 169,
   "id": "762350ce-a5ce-4fef-94d1-09659e4ce268",
   "metadata": {},
   "outputs": [
    {
     "name": "stdout",
     "output_type": "stream",
     "text": [
      "4 Star Baseline + Aspects\n",
      "Coeff of travel_type_business: -3.090\n",
      "Coeff of travel_type_couple: -2.850\n",
      "Coeff of travel_type_family: -2.714\n",
      "Coeff of travel_type_friends: -3.204\n",
      "Coeff of travel_type_solo: -3.046\n",
      "Coeff of is_local: -0.243\n",
      "Coeff of covid_PreCovid: 0.770\n",
      "Coeff of topic_0: 1.247\n",
      "Coeff of topic_1: 0.835\n",
      "Coeff of topic_2: 0.663\n",
      "Coeff of topic_3: 0.963\n",
      "Coeff of topic_4: 0.614\n"
     ]
    }
   ],
   "source": [
    "coefficients = logreg.coef_[0]\n",
    "print(\"4 Star Baseline + Aspects\")\n",
    "for i in range(len(features)):\n",
    "    print(f'Coeff of {features[i]}: %.3f' %coefficients[i])"
   ]
  },
  {
   "cell_type": "markdown",
   "id": "d69d2e0d-c0bd-40a1-b170-d08f2869c452",
   "metadata": {},
   "source": [
    "# 5 Star"
   ]
  },
  {
   "cell_type": "code",
   "execution_count": 170,
   "id": "7202afd7-4ce9-49e9-9613-96fd172e981b",
   "metadata": {},
   "outputs": [
    {
     "data": {
      "text/html": [
       "<div>\n",
       "<style scoped>\n",
       "    .dataframe tbody tr th:only-of-type {\n",
       "        vertical-align: middle;\n",
       "    }\n",
       "\n",
       "    .dataframe tbody tr th {\n",
       "        vertical-align: top;\n",
       "    }\n",
       "\n",
       "    .dataframe thead th {\n",
       "        text-align: right;\n",
       "    }\n",
       "</style>\n",
       "<table border=\"1\" class=\"dataframe\">\n",
       "  <thead>\n",
       "    <tr style=\"text-align: right;\">\n",
       "      <th></th>\n",
       "      <th>travel_type</th>\n",
       "      <th>rating</th>\n",
       "      <th>label</th>\n",
       "      <th>covid</th>\n",
       "      <th>is_local</th>\n",
       "      <th>aspect_sentiment</th>\n",
       "      <th>topic_0</th>\n",
       "      <th>topic_1</th>\n",
       "      <th>topic_2</th>\n",
       "      <th>topic_3</th>\n",
       "      <th>topic_4</th>\n",
       "      <th>overall_textblob_polarity</th>\n",
       "      <th>polarity</th>\n",
       "    </tr>\n",
       "  </thead>\n",
       "  <tbody>\n",
       "    <tr>\n",
       "      <th>0</th>\n",
       "      <td>couple</td>\n",
       "      <td>5.0</td>\n",
       "      <td>Positive</td>\n",
       "      <td>PostCovid</td>\n",
       "      <td>0</td>\n",
       "      <td>[[hotel, wonderful, 0]]</td>\n",
       "      <td>1.000000</td>\n",
       "      <td>NaN</td>\n",
       "      <td>NaN</td>\n",
       "      <td>NaN</td>\n",
       "      <td>NaN</td>\n",
       "      <td>0.541667</td>\n",
       "      <td>Positive</td>\n",
       "    </tr>\n",
       "    <tr>\n",
       "      <th>1</th>\n",
       "      <td>couple</td>\n",
       "      <td>NaN</td>\n",
       "      <td>NaN</td>\n",
       "      <td>PostCovid</td>\n",
       "      <td>0</td>\n",
       "      <td>[[lunch, delicious, 1]]</td>\n",
       "      <td>NaN</td>\n",
       "      <td>1.0</td>\n",
       "      <td>NaN</td>\n",
       "      <td>NaN</td>\n",
       "      <td>NaN</td>\n",
       "      <td>0.546753</td>\n",
       "      <td>Negative</td>\n",
       "    </tr>\n",
       "    <tr>\n",
       "      <th>2</th>\n",
       "      <td>business</td>\n",
       "      <td>5.0</td>\n",
       "      <td>Positive</td>\n",
       "      <td>PostCovid</td>\n",
       "      <td>0</td>\n",
       "      <td>[[hotel, attentive, 0], [hotel, 'kind visiting...</td>\n",
       "      <td>0.500000</td>\n",
       "      <td>NaN</td>\n",
       "      <td>NaN</td>\n",
       "      <td>NaN</td>\n",
       "      <td>NaN</td>\n",
       "      <td>0.510000</td>\n",
       "      <td>Positive</td>\n",
       "    </tr>\n",
       "    <tr>\n",
       "      <th>3</th>\n",
       "      <td>business</td>\n",
       "      <td>5.0</td>\n",
       "      <td>Positive</td>\n",
       "      <td>PostCovid</td>\n",
       "      <td>0</td>\n",
       "      <td>[[place, exclusive, 0], [place, comfortable, 0...</td>\n",
       "      <td>0.266667</td>\n",
       "      <td>NaN</td>\n",
       "      <td>NaN</td>\n",
       "      <td>NaN</td>\n",
       "      <td>NaN</td>\n",
       "      <td>0.352381</td>\n",
       "      <td>Positive</td>\n",
       "    </tr>\n",
       "    <tr>\n",
       "      <th>4</th>\n",
       "      <td>business</td>\n",
       "      <td>5.0</td>\n",
       "      <td>Positive</td>\n",
       "      <td>PostCovid</td>\n",
       "      <td>0</td>\n",
       "      <td>[[hotel, warm, 0], [hotel, welcome, 0], [time,...</td>\n",
       "      <td>0.700000</td>\n",
       "      <td>NaN</td>\n",
       "      <td>0.0</td>\n",
       "      <td>NaN</td>\n",
       "      <td>NaN</td>\n",
       "      <td>0.234722</td>\n",
       "      <td>Positive</td>\n",
       "    </tr>\n",
       "  </tbody>\n",
       "</table>\n",
       "</div>"
      ],
      "text/plain": [
       "  travel_type  rating     label      covid  is_local  \\\n",
       "0      couple     5.0  Positive  PostCovid         0   \n",
       "1      couple     NaN       NaN  PostCovid         0   \n",
       "2    business     5.0  Positive  PostCovid         0   \n",
       "3    business     5.0  Positive  PostCovid         0   \n",
       "4    business     5.0  Positive  PostCovid         0   \n",
       "\n",
       "                                    aspect_sentiment   topic_0  topic_1  \\\n",
       "0                            [[hotel, wonderful, 0]]  1.000000      NaN   \n",
       "1                            [[lunch, delicious, 1]]       NaN      1.0   \n",
       "2  [[hotel, attentive, 0], [hotel, 'kind visiting...  0.500000      NaN   \n",
       "3  [[place, exclusive, 0], [place, comfortable, 0...  0.266667      NaN   \n",
       "4  [[hotel, warm, 0], [hotel, welcome, 0], [time,...  0.700000      NaN   \n",
       "\n",
       "   topic_2  topic_3  topic_4  overall_textblob_polarity  polarity  \n",
       "0      NaN      NaN      NaN                   0.541667  Positive  \n",
       "1      NaN      NaN      NaN                   0.546753  Negative  \n",
       "2      NaN      NaN      NaN                   0.510000  Positive  \n",
       "3      NaN      NaN      NaN                   0.352381  Positive  \n",
       "4      0.0      NaN      NaN                   0.234722  Positive  "
      ]
     },
     "execution_count": 170,
     "metadata": {},
     "output_type": "execute_result"
    }
   ],
   "source": [
    "df_5star[\"polarity\"] = np.where(df_5star[\"rating\"] >= 4, \"Positive\", \"Negative\")\n",
    "df_5star[\"polarity\"] = np.where(df_5star[\"rating\"] == 3.0, np.NaN, df_5star[\"polarity\"])\n",
    "df_5star = df_5star.dropna(subset = \"polarity\")\n",
    "df_5star.head()"
   ]
  },
  {
   "cell_type": "code",
   "execution_count": 171,
   "id": "e21c55d6-43d0-4bd9-b0cc-4be470687969",
   "metadata": {},
   "outputs": [
    {
     "name": "stderr",
     "output_type": "stream",
     "text": [
      "/Users/nuzzul/opt/anaconda3/lib/python3.9/site-packages/sklearn/utils/deprecation.py:87: FutureWarning: Function get_feature_names is deprecated; get_feature_names is deprecated in 1.0 and will be removed in 1.2. Please use get_feature_names_out instead.\n",
      "  warnings.warn(msg, category=FutureWarning)\n"
     ]
    },
    {
     "data": {
      "text/html": [
       "<div>\n",
       "<style scoped>\n",
       "    .dataframe tbody tr th:only-of-type {\n",
       "        vertical-align: middle;\n",
       "    }\n",
       "\n",
       "    .dataframe tbody tr th {\n",
       "        vertical-align: top;\n",
       "    }\n",
       "\n",
       "    .dataframe thead th {\n",
       "        text-align: right;\n",
       "    }\n",
       "</style>\n",
       "<table border=\"1\" class=\"dataframe\">\n",
       "  <thead>\n",
       "    <tr style=\"text-align: right;\">\n",
       "      <th></th>\n",
       "      <th>travel_type_business</th>\n",
       "      <th>travel_type_couple</th>\n",
       "      <th>travel_type_family</th>\n",
       "      <th>travel_type_friends</th>\n",
       "      <th>travel_type_solo</th>\n",
       "      <th>travel_type_nan</th>\n",
       "      <th>covid_Covid</th>\n",
       "      <th>covid_PostCovid</th>\n",
       "      <th>covid_PreCovid</th>\n",
       "      <th>rating</th>\n",
       "      <th>label</th>\n",
       "      <th>is_local</th>\n",
       "      <th>aspect_sentiment</th>\n",
       "      <th>topic_0</th>\n",
       "      <th>topic_1</th>\n",
       "      <th>topic_2</th>\n",
       "      <th>topic_3</th>\n",
       "      <th>topic_4</th>\n",
       "      <th>overall_textblob_polarity</th>\n",
       "      <th>polarity</th>\n",
       "    </tr>\n",
       "  </thead>\n",
       "  <tbody>\n",
       "    <tr>\n",
       "      <th>0</th>\n",
       "      <td>0.0</td>\n",
       "      <td>1.0</td>\n",
       "      <td>0.0</td>\n",
       "      <td>0.0</td>\n",
       "      <td>0.0</td>\n",
       "      <td>0.0</td>\n",
       "      <td>0.0</td>\n",
       "      <td>1.0</td>\n",
       "      <td>0.0</td>\n",
       "      <td>5.0</td>\n",
       "      <td>1</td>\n",
       "      <td>0.0</td>\n",
       "      <td>[[hotel, wonderful, 0]]</td>\n",
       "      <td>1.000000</td>\n",
       "      <td>NaN</td>\n",
       "      <td>NaN</td>\n",
       "      <td>NaN</td>\n",
       "      <td>NaN</td>\n",
       "      <td>0.541667</td>\n",
       "      <td>Positive</td>\n",
       "    </tr>\n",
       "    <tr>\n",
       "      <th>1</th>\n",
       "      <td>0.0</td>\n",
       "      <td>1.0</td>\n",
       "      <td>0.0</td>\n",
       "      <td>0.0</td>\n",
       "      <td>0.0</td>\n",
       "      <td>0.0</td>\n",
       "      <td>0.0</td>\n",
       "      <td>1.0</td>\n",
       "      <td>0.0</td>\n",
       "      <td>NaN</td>\n",
       "      <td>0</td>\n",
       "      <td>0.0</td>\n",
       "      <td>[[lunch, delicious, 1]]</td>\n",
       "      <td>NaN</td>\n",
       "      <td>1.0</td>\n",
       "      <td>NaN</td>\n",
       "      <td>NaN</td>\n",
       "      <td>NaN</td>\n",
       "      <td>0.546753</td>\n",
       "      <td>Negative</td>\n",
       "    </tr>\n",
       "    <tr>\n",
       "      <th>2</th>\n",
       "      <td>1.0</td>\n",
       "      <td>0.0</td>\n",
       "      <td>0.0</td>\n",
       "      <td>0.0</td>\n",
       "      <td>0.0</td>\n",
       "      <td>0.0</td>\n",
       "      <td>0.0</td>\n",
       "      <td>1.0</td>\n",
       "      <td>0.0</td>\n",
       "      <td>5.0</td>\n",
       "      <td>1</td>\n",
       "      <td>0.0</td>\n",
       "      <td>[[hotel, attentive, 0], [hotel, 'kind visiting...</td>\n",
       "      <td>0.500000</td>\n",
       "      <td>NaN</td>\n",
       "      <td>NaN</td>\n",
       "      <td>NaN</td>\n",
       "      <td>NaN</td>\n",
       "      <td>0.510000</td>\n",
       "      <td>Positive</td>\n",
       "    </tr>\n",
       "    <tr>\n",
       "      <th>3</th>\n",
       "      <td>1.0</td>\n",
       "      <td>0.0</td>\n",
       "      <td>0.0</td>\n",
       "      <td>0.0</td>\n",
       "      <td>0.0</td>\n",
       "      <td>0.0</td>\n",
       "      <td>0.0</td>\n",
       "      <td>1.0</td>\n",
       "      <td>0.0</td>\n",
       "      <td>5.0</td>\n",
       "      <td>1</td>\n",
       "      <td>0.0</td>\n",
       "      <td>[[place, exclusive, 0], [place, comfortable, 0...</td>\n",
       "      <td>0.266667</td>\n",
       "      <td>NaN</td>\n",
       "      <td>NaN</td>\n",
       "      <td>NaN</td>\n",
       "      <td>NaN</td>\n",
       "      <td>0.352381</td>\n",
       "      <td>Positive</td>\n",
       "    </tr>\n",
       "    <tr>\n",
       "      <th>4</th>\n",
       "      <td>1.0</td>\n",
       "      <td>0.0</td>\n",
       "      <td>0.0</td>\n",
       "      <td>0.0</td>\n",
       "      <td>0.0</td>\n",
       "      <td>0.0</td>\n",
       "      <td>0.0</td>\n",
       "      <td>1.0</td>\n",
       "      <td>0.0</td>\n",
       "      <td>5.0</td>\n",
       "      <td>1</td>\n",
       "      <td>0.0</td>\n",
       "      <td>[[hotel, warm, 0], [hotel, welcome, 0], [time,...</td>\n",
       "      <td>0.700000</td>\n",
       "      <td>NaN</td>\n",
       "      <td>0.0</td>\n",
       "      <td>NaN</td>\n",
       "      <td>NaN</td>\n",
       "      <td>0.234722</td>\n",
       "      <td>Positive</td>\n",
       "    </tr>\n",
       "  </tbody>\n",
       "</table>\n",
       "</div>"
      ],
      "text/plain": [
       "   travel_type_business  travel_type_couple  travel_type_family  \\\n",
       "0                   0.0                 1.0                 0.0   \n",
       "1                   0.0                 1.0                 0.0   \n",
       "2                   1.0                 0.0                 0.0   \n",
       "3                   1.0                 0.0                 0.0   \n",
       "4                   1.0                 0.0                 0.0   \n",
       "\n",
       "   travel_type_friends  travel_type_solo  travel_type_nan  covid_Covid  \\\n",
       "0                  0.0               0.0              0.0          0.0   \n",
       "1                  0.0               0.0              0.0          0.0   \n",
       "2                  0.0               0.0              0.0          0.0   \n",
       "3                  0.0               0.0              0.0          0.0   \n",
       "4                  0.0               0.0              0.0          0.0   \n",
       "\n",
       "   covid_PostCovid  covid_PreCovid  rating  label  is_local  \\\n",
       "0              1.0             0.0     5.0      1       0.0   \n",
       "1              1.0             0.0     NaN      0       0.0   \n",
       "2              1.0             0.0     5.0      1       0.0   \n",
       "3              1.0             0.0     5.0      1       0.0   \n",
       "4              1.0             0.0     5.0      1       0.0   \n",
       "\n",
       "                                    aspect_sentiment   topic_0  topic_1  \\\n",
       "0                            [[hotel, wonderful, 0]]  1.000000      NaN   \n",
       "1                            [[lunch, delicious, 1]]       NaN      1.0   \n",
       "2  [[hotel, attentive, 0], [hotel, 'kind visiting...  0.500000      NaN   \n",
       "3  [[place, exclusive, 0], [place, comfortable, 0...  0.266667      NaN   \n",
       "4  [[hotel, warm, 0], [hotel, welcome, 0], [time,...  0.700000      NaN   \n",
       "\n",
       "   topic_2  topic_3  topic_4  overall_textblob_polarity  polarity  \n",
       "0      NaN      NaN      NaN                   0.541667  Positive  \n",
       "1      NaN      NaN      NaN                   0.546753  Negative  \n",
       "2      NaN      NaN      NaN                   0.510000  Positive  \n",
       "3      NaN      NaN      NaN                   0.352381  Positive  \n",
       "4      0.0      NaN      NaN                   0.234722  Positive  "
      ]
     },
     "execution_count": 171,
     "metadata": {},
     "output_type": "execute_result"
    }
   ],
   "source": [
    "encoder = OneHotEncoder(sparse=False)\n",
    "cols = ['travel_type', 'covid']\n",
    "df_encoded = pd.DataFrame(encoder.fit_transform(df_5star[cols]))\n",
    "df_encoded.columns = encoder.get_feature_names(cols)\n",
    "\n",
    "df_5star_final = df_5star.drop(cols ,axis=1)\n",
    "df_5star_final = pd.concat([df_encoded, df_5star_final], axis=1)\n",
    "\n",
    "df_5star_final['label'] = df_5star_final['label'].apply(lambda x: 1 if x == 'Positive' else 0)\n",
    "df_5star_final.head()"
   ]
  },
  {
   "cell_type": "markdown",
   "id": "a3f487c9-6d68-4d98-a1ad-982c539659dc",
   "metadata": {},
   "source": [
    "## LogReg Baseline"
   ]
  },
  {
   "cell_type": "code",
   "execution_count": 172,
   "id": "72612233-0a43-40a6-9ed9-194708db1825",
   "metadata": {},
   "outputs": [],
   "source": [
    "features = [\"travel_type_business\", \"travel_type_couple\", \"travel_type_family\", \"travel_type_friends\", \n",
    "            \"travel_type_solo\", \"is_local\", \"covid_PreCovid\", \"overall_textblob_polarity\"]\n",
    "target = \"label\""
   ]
  },
  {
   "cell_type": "code",
   "execution_count": 173,
   "id": "1c9c3c19-5324-42a7-99e2-edeefcd500b2",
   "metadata": {},
   "outputs": [],
   "source": [
    "X = df_5star_final[features]\n",
    "y = df_5star_final[target]"
   ]
  },
  {
   "cell_type": "code",
   "execution_count": 174,
   "id": "dd8810e8-fac3-41d3-b6ed-6dc0b26380e3",
   "metadata": {},
   "outputs": [
    {
     "name": "stdout",
     "output_type": "stream",
     "text": [
      "Accuracy of logistic regression classifier on test set: 0.82\n"
     ]
    },
    {
     "name": "stderr",
     "output_type": "stream",
     "text": [
      "/Users/nuzzul/opt/anaconda3/lib/python3.9/site-packages/sklearn/utils/validation.py:623: FutureWarning: is_sparse is deprecated and will be removed in a future version. Check `isinstance(dtype, pd.SparseDtype)` instead.\n",
      "  if not hasattr(array, \"sparse\") and array.dtypes.apply(is_sparse).any():\n",
      "/Users/nuzzul/opt/anaconda3/lib/python3.9/site-packages/sklearn/utils/validation.py:623: FutureWarning: is_sparse is deprecated and will be removed in a future version. Check `isinstance(dtype, pd.SparseDtype)` instead.\n",
      "  if not hasattr(array, \"sparse\") and array.dtypes.apply(is_sparse).any():\n",
      "/Users/nuzzul/opt/anaconda3/lib/python3.9/site-packages/sklearn/utils/validation.py:623: FutureWarning: is_sparse is deprecated and will be removed in a future version. Check `isinstance(dtype, pd.SparseDtype)` instead.\n",
      "  if not hasattr(array, \"sparse\") and array.dtypes.apply(is_sparse).any():\n"
     ]
    }
   ],
   "source": [
    "X = X.fillna(0)\n",
    "X_train, X_test, y_train, y_test = train_test_split(X, y, test_size=0.2, random_state=0)\n",
    "logreg = LogisticRegression()\n",
    "logreg.fit(X_train, y_train)\n",
    "y_pred = logreg.predict(X_test)\n",
    "print('Accuracy of logistic regression classifier on test set: {:.2f}'.format(logreg.score(X_test, y_test)))"
   ]
  },
  {
   "cell_type": "code",
   "execution_count": 175,
   "id": "1b3a5c19-92fa-440d-98ca-d5b8e4b627ee",
   "metadata": {},
   "outputs": [
    {
     "name": "stdout",
     "output_type": "stream",
     "text": [
      "5 Star Baseline\n",
      "Coeff of travel_type_business: -1.149\n",
      "Coeff of travel_type_couple: -0.785\n",
      "Coeff of travel_type_family: -0.835\n",
      "Coeff of travel_type_friends: -0.646\n",
      "Coeff of travel_type_solo: -0.891\n",
      "Coeff of is_local: 0.065\n",
      "Coeff of covid_PreCovid: 0.384\n",
      "Coeff of overall_textblob_polarity: 5.213\n"
     ]
    }
   ],
   "source": [
    "coefficients = logreg.coef_[0]\n",
    "print(\"5 Star Baseline\")\n",
    "for i in range(len(features)):\n",
    "    print(f'Coeff of {features[i]}: %.3f' %coefficients[i])"
   ]
  },
  {
   "cell_type": "markdown",
   "id": "500d1c42-fb54-40fe-8665-2468bdb8f254",
   "metadata": {},
   "source": [
    "## LogReg w Aspects"
   ]
  },
  {
   "cell_type": "code",
   "execution_count": 176,
   "id": "b6d2b21d-9301-453d-92c2-625978647d19",
   "metadata": {},
   "outputs": [],
   "source": [
    "add_features = [\"topic_0\", \"topic_1\", \"topic_2\", \"topic_3\", \"topic_4\"]\n",
    "features += add_features\n",
    "features.remove(\"overall_textblob_polarity\")"
   ]
  },
  {
   "cell_type": "code",
   "execution_count": 177,
   "id": "371b4b79-df8a-4cb8-992e-f2cbc7506316",
   "metadata": {},
   "outputs": [],
   "source": [
    "X = df_5star_final[features]\n",
    "y = df_5star_final[target]"
   ]
  },
  {
   "cell_type": "code",
   "execution_count": 178,
   "id": "130ad3aa-7e31-4a17-bd87-a02383011990",
   "metadata": {},
   "outputs": [
    {
     "name": "stdout",
     "output_type": "stream",
     "text": [
      "Accuracy of logistic regression classifier on test set: 0.78\n"
     ]
    },
    {
     "name": "stderr",
     "output_type": "stream",
     "text": [
      "/Users/nuzzul/opt/anaconda3/lib/python3.9/site-packages/sklearn/utils/validation.py:623: FutureWarning: is_sparse is deprecated and will be removed in a future version. Check `isinstance(dtype, pd.SparseDtype)` instead.\n",
      "  if not hasattr(array, \"sparse\") and array.dtypes.apply(is_sparse).any():\n",
      "/Users/nuzzul/opt/anaconda3/lib/python3.9/site-packages/sklearn/utils/validation.py:623: FutureWarning: is_sparse is deprecated and will be removed in a future version. Check `isinstance(dtype, pd.SparseDtype)` instead.\n",
      "  if not hasattr(array, \"sparse\") and array.dtypes.apply(is_sparse).any():\n",
      "/Users/nuzzul/opt/anaconda3/lib/python3.9/site-packages/sklearn/utils/validation.py:623: FutureWarning: is_sparse is deprecated and will be removed in a future version. Check `isinstance(dtype, pd.SparseDtype)` instead.\n",
      "  if not hasattr(array, \"sparse\") and array.dtypes.apply(is_sparse).any():\n"
     ]
    }
   ],
   "source": [
    "X = X.fillna(0)\n",
    "X_train, X_test, y_train, y_test = train_test_split(X, y, test_size=0.2, random_state=0)\n",
    "logreg = LogisticRegression()\n",
    "logreg.fit(X_train, y_train)\n",
    "y_pred = logreg.predict(X_test)\n",
    "print('Accuracy of logistic regression classifier on test set: {:.2f}'.format(logreg.score(X_test, y_test)))"
   ]
  },
  {
   "cell_type": "code",
   "execution_count": 179,
   "id": "d142a704-2735-4cbd-914a-46ac02538686",
   "metadata": {},
   "outputs": [
    {
     "name": "stdout",
     "output_type": "stream",
     "text": [
      "5 Star Baseline + Aspects\n",
      "Coeff of travel_type_business: -1.093\n",
      "Coeff of travel_type_couple: -0.763\n",
      "Coeff of travel_type_family: -0.809\n",
      "Coeff of travel_type_friends: -0.589\n",
      "Coeff of travel_type_solo: -0.834\n",
      "Coeff of is_local: 0.115\n",
      "Coeff of covid_PreCovid: 0.238\n",
      "Coeff of topic_0: 1.534\n",
      "Coeff of topic_1: 1.456\n",
      "Coeff of topic_2: 0.869\n",
      "Coeff of topic_3: 1.070\n",
      "Coeff of topic_4: 0.944\n"
     ]
    }
   ],
   "source": [
    "coefficients = logreg.coef_[0]\n",
    "print(\"5 Star Baseline + Aspects\")\n",
    "for i in range(len(features)):\n",
    "    print(f'Coeff of {features[i]}: %.3f' %coefficients[i])"
   ]
  }
 ],
 "metadata": {
  "kernelspec": {
   "display_name": "Python 3 (ipykernel)",
   "language": "python",
   "name": "python3"
  },
  "language_info": {
   "codemirror_mode": {
    "name": "ipython",
    "version": 3
   },
   "file_extension": ".py",
   "mimetype": "text/x-python",
   "name": "python",
   "nbconvert_exporter": "python",
   "pygments_lexer": "ipython3",
   "version": "3.9.13"
  }
 },
 "nbformat": 4,
 "nbformat_minor": 5
}
