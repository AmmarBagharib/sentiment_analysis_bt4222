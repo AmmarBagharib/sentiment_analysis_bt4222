{
 "cells": [
  {
   "cell_type": "code",
   "execution_count": 1,
   "metadata": {
    "executionInfo": {
     "elapsed": 4,
     "status": "ok",
     "timestamp": 1695284946502,
     "user": {
      "displayName": "Hien Nga Luong",
      "userId": "10313683531485500593"
     },
     "user_tz": -480
    },
    "id": "XbhdfhA58msr"
   },
   "outputs": [],
   "source": [
    "RANDOM_STATE = 1"
   ]
  },
  {
   "cell_type": "markdown",
   "metadata": {
    "id": "J7gjrM5d2rFt"
   },
   "source": [
    "# Imports"
   ]
  },
  {
   "cell_type": "code",
   "execution_count": 2,
   "metadata": {
    "executionInfo": {
     "elapsed": 2498,
     "status": "ok",
     "timestamp": 1695284946501,
     "user": {
      "displayName": "Hien Nga Luong",
      "userId": "10313683531485500593"
     },
     "user_tz": -480
    },
    "id": "jIQzdKEO2hcv"
   },
   "outputs": [],
   "source": [
    "import pandas as pd\n",
    "import time\n",
    "import numpy as np\n",
    "import pickle\n",
    "from sklearn.metrics import confusion_matrix\n",
    "import warnings\n",
    "warnings.filterwarnings(\"ignore\")\n",
    "pd.set_option('display.max_colwidth',300)\n",
    "import matplotlib.pyplot as plt\n",
    "import seaborn as sns\n",
    "import sklearn\n",
    "from sklearn.model_selection import GridSearchCV\n",
    "from sklearn.model_selection import train_test_split, KFold, GridSearchCV\n",
    "from sklearn.ensemble import RandomForestClassifier\n",
    "from sklearn.linear_model import LogisticRegression\n",
    "from sklearn.naive_bayes import MultinomialNB\n",
    "from sklearn.metrics import classification_report, precision_recall_curve, confusion_matrix, ConfusionMatrixDisplay\n",
    "from sklearn.feature_extraction.text import TfidfVectorizer\n",
    "from sklearn.ensemble import StackingClassifier\n",
    "from sklearn.neural_network import MLPClassifier\n",
    "from imblearn.under_sampling import RandomUnderSampler\n",
    "from sklearn.utils import shuffle"
   ]
  },
  {
   "cell_type": "code",
   "execution_count": 3,
   "metadata": {
    "executionInfo": {
     "elapsed": 518,
     "status": "ok",
     "timestamp": 1695284949845,
     "user": {
      "displayName": "Hien Nga Luong",
      "userId": "10313683531485500593"
     },
     "user_tz": -480
    },
    "id": "YlQ22k-C2vq-"
   },
   "outputs": [],
   "source": [
    "from nltk.corpus import stopwords\n",
    "import re\n",
    "import nltk\n",
    "from nltk import tokenize\n",
    "from nltk.stem import WordNetLemmatizer"
   ]
  },
  {
   "cell_type": "code",
   "execution_count": 4,
   "metadata": {
    "executionInfo": {
     "elapsed": 17196,
     "status": "ok",
     "timestamp": 1695285264038,
     "user": {
      "displayName": "Hien Nga Luong",
      "userId": "10313683531485500593"
     },
     "user_tz": -480
    },
    "id": "VfY2pENH3-I0"
   },
   "outputs": [],
   "source": [
    "import spacy"
   ]
  },
  {
   "cell_type": "markdown",
   "metadata": {
    "id": "yNwZ7KS62vlr"
   },
   "source": [
    "# Import datasets from drive"
   ]
  },
  {
   "cell_type": "markdown",
   "metadata": {
    "id": "XViMCq4E3il1"
   },
   "source": [
    "Note - for the purpose of brevity, data has already been preprocessed and cleaned."
   ]
  },
  {
   "cell_type": "code",
   "execution_count": 7,
   "metadata": {
    "colab": {
     "base_uri": "https://localhost:8080/"
    },
    "executionInfo": {
     "elapsed": 19315,
     "status": "ok",
     "timestamp": 1695285040903,
     "user": {
      "displayName": "Hien Nga Luong",
      "userId": "10313683531485500593"
     },
     "user_tz": -480
    },
    "id": "TrJjJAFp2zHG",
    "outputId": "955c85b4-afc0-4111-dead-fa8a972d996e"
   },
   "outputs": [],
   "source": [
    "#from google.colab import drive\n",
    "#drive.mount('/content/drive')"
   ]
  },
  {
   "cell_type": "code",
   "execution_count": 8,
   "metadata": {
    "executionInfo": {
     "elapsed": 5,
     "status": "ok",
     "timestamp": 1695285040904,
     "user": {
      "displayName": "Hien Nga Luong",
      "userId": "10313683531485500593"
     },
     "user_tz": -480
    },
    "id": "v6DgU-lDzeAK"
   },
   "outputs": [],
   "source": [
    "import math"
   ]
  },
  {
   "cell_type": "code",
   "execution_count": 17,
   "metadata": {},
   "outputs": [],
   "source": [
    "# TODO: modify these list if needed (eg. if you want to load only 1 csv from star3, delete other csvs in star3 list)\n",
    "star3 = ['cleaned_ibis-sg-bencoolen.csv','cleaned_hotel-boss.csv','cleaned_hotel-G.csv',\n",
    "           'cleaned_village-hotel-albert-court-by-far-east-hospitality.csv',\n",
    "           'cleaned_holiday-inn-express-clarke-quay.csv']\n",
    "star4 = ['cleaned_village-hotel-changi-by-far-east-hospitality.csv',\n",
    "         'cleaned_park-regis.csv', 'cleaned_grand-mercure-sg-roxy.csv',\n",
    "         'cleaned_paradox-sg-merchant-court.csv','cleaned_crowne-plaza.csv']\n",
    "star5 = ['cleaned_fullerton.csv', 'cleaned_parkroyal-collection-marina-bay.csv', 'cleaned_pan-pacific.csv',\n",
    "          'cleaned_mbs_total.csv', 'cleaned_swissotel-the-stamford.csv']\n",
    "ROOT = ''\n",
    "RAW_FOLDER = \"..\\\\data\\\\processed\"\n",
    "def filter_date(row):\n",
    "  try:\n",
    "    #print(int(row[\"date_of_stay\"][-4:]))\n",
    "    print(row[\"date_of_stay\"][-4:])\n",
    "    return int(row[\"date_of_stay\"][-4:])\n",
    "  except:\n",
    "    #print(\"2000\")\n",
    "    return 2000\n",
    "def combine_csv_to_dataframe(file_names, all_star = False, filterDate = True):\n",
    "    \"\"\"\n",
    "    Combine multiple CSV files into a single DataFrame.\n",
    "\n",
    "    Parameters:\n",
    "    file_names (list): List of CSV file names. \n",
    "    all_star (bool): whether or not to load all the hotels (False if only want to load 1 type of hotel star). \n",
    "    filterData (bool): whether or not to remove all data dated before 2015\n",
    "\n",
    "    Returns:\n",
    "    pd.DataFrame: Combined DataFrame.\n",
    "    \"\"\"\n",
    "    combined_df = pd.DataFrame()\n",
    "\n",
    "    for file_name in file_names:\n",
    "        file_name = RAW_FOLDER + \"\\\\\" + file_name\n",
    "        try:\n",
    "            df = pd.read_csv(file_name)\n",
    "            if all_star:\n",
    "              if file_name in star3:\n",
    "                df[\"star\"] = 3\n",
    "              elif file_name in star4:\n",
    "                df[\"star\"] = 4\n",
    "              else:\n",
    "                df[\"star\"] = 5\n",
    "            print(f\"Length of {file_name} is {len(df)}\")\n",
    "            combined_df = pd.concat([combined_df, df], ignore_index=True)\n",
    "        except FileNotFoundError:\n",
    "            print(f\"File not found: {file_name}\")\n",
    "        except pd.errors.EmptyDataError:\n",
    "            print(f\"Empty or invalid CSV file: {file_name}\")\n",
    "    if filterDate:\n",
    "      combined_df[\"year\"] = combined_df.apply(lambda row: filter_date(row), axis = 1)\n",
    "      combined_df = combined_df[combined_df[\"year\"]>=2015]\n",
    "    return combined_df"
   ]
  },
  {
   "cell_type": "code",
   "execution_count": null,
   "metadata": {},
   "outputs": [],
   "source": []
  },
  {
   "cell_type": "code",
   "execution_count": 68,
   "metadata": {
    "executionInfo": {
     "elapsed": 1589,
     "status": "ok",
     "timestamp": 1695285047288,
     "user": {
      "displayName": "Hien Nga Luong",
      "userId": "10313683531485500593"
     },
     "user_tz": -480
    },
    "id": "eWYRx4-e2zex"
   },
   "outputs": [
    {
     "name": "stdout",
     "output_type": "stream",
     "text": [
      "Length of ..\\data\\processed\\cleaned_ibis-sg-bencoolen.csv is 2217\n",
      "Length of ..\\data\\processed\\cleaned_hotel-boss.csv is 3568\n",
      "Length of ..\\data\\processed\\cleaned_hotel-G.csv is 3826\n",
      "Length of ..\\data\\processed\\cleaned_village-hotel-albert-court-by-far-east-hospitality.csv is 2290\n",
      "Length of ..\\data\\processed\\cleaned_holiday-inn-express-clarke-quay.csv is 2169\n"
     ]
    }
   ],
   "source": [
    "#data_path = '/content/drive/MyDrive/BT4222/data/mbs_reviews.csv'\n",
    "df = combine_csv_to_dataframe(star3, all_star = False, filterDate = False)"
   ]
  },
  {
   "cell_type": "code",
   "execution_count": 69,
   "metadata": {
    "colab": {
     "base_uri": "https://localhost:8080/"
    },
    "executionInfo": {
     "elapsed": 563,
     "status": "ok",
     "timestamp": 1695285727523,
     "user": {
      "displayName": "Hien Nga Luong",
      "userId": "10313683531485500593"
     },
     "user_tz": -480
    },
    "id": "8FKE7zrP5zqq",
    "outputId": "00612ddf-384b-4fd2-db25-db02e6953048"
   },
   "outputs": [
    {
     "name": "stdout",
     "output_type": "stream",
     "text": [
      "<class 'pandas.core.frame.DataFrame'>\n",
      "RangeIndex: 14070 entries, 0 to 14069\n",
      "Data columns (total 18 columns):\n",
      " #   Column                                 Non-Null Count  Dtype  \n",
      "---  ------                                 --------------  -----  \n",
      " 0   Unnamed: 0                             14070 non-null  int64  \n",
      " 1   traveller_username                     14070 non-null  object \n",
      " 2   review_title                           14068 non-null  object \n",
      " 3   review_text                            14070 non-null  object \n",
      " 4   travel_type                            4635 non-null   object \n",
      " 5   traveller_country_origin               9922 non-null   object \n",
      " 6   traveller_total_contributions          14041 non-null  object \n",
      " 7   traveller_total_helpful_contributions  9935 non-null   float64\n",
      " 8   rating                                 14069 non-null  float64\n",
      " 9   valid_rating                           14070 non-null  bool   \n",
      " 10  label                                  14069 non-null  object \n",
      " 11  cleaned_review                         14070 non-null  object \n",
      " 12  combined_review                        14070 non-null  object \n",
      " 13  date                                   14070 non-null  object \n",
      " 14  covid                                  14070 non-null  object \n",
      " 15  year                                   14070 non-null  int64  \n",
      " 16  stem_review                            14070 non-null  object \n",
      " 17  lem_review                             14070 non-null  object \n",
      "dtypes: bool(1), float64(2), int64(2), object(13)\n",
      "memory usage: 1.8+ MB\n"
     ]
    }
   ],
   "source": [
    "df.info()"
   ]
  },
  {
   "cell_type": "markdown",
   "metadata": {
    "id": "vzoBN5g-4fgu"
   },
   "source": [
    "# Data Preprocessing"
   ]
  },
  {
   "cell_type": "markdown",
   "metadata": {
    "id": "430Ee6JI8L6Q"
   },
   "source": [
    "Then, we split the data into train and validation sets using train_test_split."
   ]
  },
  {
   "cell_type": "code",
   "execution_count": 70,
   "metadata": {},
   "outputs": [],
   "source": [
    "df.dropna(subset=['label'], inplace=True)\n"
   ]
  },
  {
   "cell_type": "code",
   "execution_count": 71,
   "metadata": {},
   "outputs": [],
   "source": [
    "#df = df[df[\"label\"]!='Neutral']"
   ]
  },
  {
   "cell_type": "code",
   "execution_count": 72,
   "metadata": {},
   "outputs": [],
   "source": [
    "df['label'] = df['label'].astype('category')\n"
   ]
  },
  {
   "cell_type": "code",
   "execution_count": 73,
   "metadata": {
    "executionInfo": {
     "elapsed": 385,
     "status": "ok",
     "timestamp": 1695287785457,
     "user": {
      "displayName": "Hien Nga Luong",
      "userId": "10313683531485500593"
     },
     "user_tz": -480
    },
    "id": "LYxEkW3O8PYf"
   },
   "outputs": [],
   "source": [
    "train_set, test_set = train_test_split(df[['lem_review','label']],\n",
    "                                      test_size=0.2,\n",
    "                                      shuffle=True,\n",
    "                                      random_state=RANDOM_STATE)\n",
    "X_train = train_set.lem_review\n",
    "y_train = train_set.label\n",
    "X_test = test_set.lem_review\n",
    "y_test = test_set.label"
   ]
  },
  {
   "cell_type": "code",
   "execution_count": 74,
   "metadata": {},
   "outputs": [
    {
     "data": {
      "text/html": [
       "<div>\n",
       "<style scoped>\n",
       "    .dataframe tbody tr th:only-of-type {\n",
       "        vertical-align: middle;\n",
       "    }\n",
       "\n",
       "    .dataframe tbody tr th {\n",
       "        vertical-align: top;\n",
       "    }\n",
       "\n",
       "    .dataframe thead th {\n",
       "        text-align: right;\n",
       "    }\n",
       "</style>\n",
       "<table border=\"1\" class=\"dataframe\">\n",
       "  <thead>\n",
       "    <tr style=\"text-align: right;\">\n",
       "      <th></th>\n",
       "      <th>lem_review</th>\n",
       "      <th>label</th>\n",
       "    </tr>\n",
       "  </thead>\n",
       "  <tbody>\n",
       "    <tr>\n",
       "      <th>9595</th>\n",
       "      <td>ok one night stay room small ok single lightly pack going stay one night kettle room get hot water water fountain hotel far away subway hotel entrance really strange little awkward walk restaurant many place eat around hotel price good budget hotel</td>\n",
       "      <td>Neutral</td>\n",
       "    </tr>\n",
       "    <tr>\n",
       "      <th>10324</th>\n",
       "      <td>noise noise noise stay room noise throughout day night sound like renovation move big furniture upstairs disturb get proper sleep annoying part happen almost every min think stop also hot water shower unstable adjust temperature every sec</td>\n",
       "      <td>Negative</td>\n",
       "    </tr>\n",
       "    <tr>\n",
       "      <th>12679</th>\n",
       "      <td>second stay nice second stay property six month room comfortable albeit little small side staff good room always clean refresh timely manner room amenity great minor pool outstanding breakfast buffet plenty choice include fresh fruit location wise two block bus stop maybe five minute walk downto...</td>\n",
       "      <td>Positive</td>\n",
       "    </tr>\n",
       "    <tr>\n",
       "      <th>1915</th>\n",
       "      <td>nice stay middle bustling area location well locate ibis middle busy area around bugis great cheap shopping street food bencoolen close metro bugis min bus stop front hotel always plenty cheap taxi airport cost take minute walkable distance fort canning mins museum singapore hotel good quick che...</td>\n",
       "      <td>Positive</td>\n",
       "    </tr>\n",
       "    <tr>\n",
       "      <th>13852</th>\n",
       "      <td>couple holiday night may easy check check room excellent wifi good definitely stay next visit modern hotel swimming pool excellent staff helpful check check</td>\n",
       "      <td>Positive</td>\n",
       "    </tr>\n",
       "    <tr>\n",
       "      <th>...</th>\n",
       "      <td>...</td>\n",
       "      <td>...</td>\n",
       "    </tr>\n",
       "    <tr>\n",
       "      <th>905</th>\n",
       "      <td>superb central convenient location ibis hotel go ibis bencoolen par course people experience ibis hotel would expect decent economical star hotel clean contemporary ostentatious pretentious right comfort zone ibis bencoolen become go hotel short medium length stay singapore base upon decade long...</td>\n",
       "      <td>Positive</td>\n",
       "    </tr>\n",
       "    <tr>\n",
       "      <th>5192</th>\n",
       "      <td>simple practical lobby pack people apparently many tour group stay hotel however plenty check counter open check fast room small expect cozy nonetheless nice couple much space put big luggage shower clean well equip quite tiny imagine big tall person would feel bit cramp inside okay us love pool...</td>\n",
       "      <td>Positive</td>\n",
       "    </tr>\n",
       "    <tr>\n",
       "      <th>12173</th>\n",
       "      <td>clean hotel comfortable sleep check smooth room compact clean complementary parking overnight parking vehicle love smell shower gel soft firm pillow provide pretty much difference make ache severe neck pain thru night disturb love pool water warm time feel comfortable breakfast acceptable spread...</td>\n",
       "      <td>Neutral</td>\n",
       "    </tr>\n",
       "    <tr>\n",
       "      <th>235</th>\n",
       "      <td>good central location pick hotel singapore want central close mrt hotel close mrt station bencoolen little india bugis also bus stop right outside hotel orchard rd min walk little india bugis st within walk distance broadway food court base sim lim sq buffett breakfast variety food good standard...</td>\n",
       "      <td>Positive</td>\n",
       "    </tr>\n",
       "    <tr>\n",
       "      <th>13350</th>\n",
       "      <td>amazing absolutely rate hotel fantastic location friendly helpful staff great selection food breakfast relax roof top terrace fabulous view city room clean every morning fault could find breakfast busy find anywhere sit deter stay future</td>\n",
       "      <td>Positive</td>\n",
       "    </tr>\n",
       "  </tbody>\n",
       "</table>\n",
       "<p>11255 rows × 2 columns</p>\n",
       "</div>"
      ],
      "text/plain": [
       "                                                                                                                                                                                                                                                                                                        lem_review  \\\n",
       "9595                                                      ok one night stay room small ok single lightly pack going stay one night kettle room get hot water water fountain hotel far away subway hotel entrance really strange little awkward walk restaurant many place eat around hotel price good budget hotel   \n",
       "10324                                                               noise noise noise stay room noise throughout day night sound like renovation move big furniture upstairs disturb get proper sleep annoying part happen almost every min think stop also hot water shower unstable adjust temperature every sec   \n",
       "12679  second stay nice second stay property six month room comfortable albeit little small side staff good room always clean refresh timely manner room amenity great minor pool outstanding breakfast buffet plenty choice include fresh fruit location wise two block bus stop maybe five minute walk downto...   \n",
       "1915   nice stay middle bustling area location well locate ibis middle busy area around bugis great cheap shopping street food bencoolen close metro bugis min bus stop front hotel always plenty cheap taxi airport cost take minute walkable distance fort canning mins museum singapore hotel good quick che...   \n",
       "13852                                                                                                                                                 couple holiday night may easy check check room excellent wifi good definitely stay next visit modern hotel swimming pool excellent staff helpful check check   \n",
       "...                                                                                                                                                                                                                                                                                                            ...   \n",
       "905    superb central convenient location ibis hotel go ibis bencoolen par course people experience ibis hotel would expect decent economical star hotel clean contemporary ostentatious pretentious right comfort zone ibis bencoolen become go hotel short medium length stay singapore base upon decade long...   \n",
       "5192   simple practical lobby pack people apparently many tour group stay hotel however plenty check counter open check fast room small expect cozy nonetheless nice couple much space put big luggage shower clean well equip quite tiny imagine big tall person would feel bit cramp inside okay us love pool...   \n",
       "12173  clean hotel comfortable sleep check smooth room compact clean complementary parking overnight parking vehicle love smell shower gel soft firm pillow provide pretty much difference make ache severe neck pain thru night disturb love pool water warm time feel comfortable breakfast acceptable spread...   \n",
       "235    good central location pick hotel singapore want central close mrt hotel close mrt station bencoolen little india bugis also bus stop right outside hotel orchard rd min walk little india bugis st within walk distance broadway food court base sim lim sq buffett breakfast variety food good standard...   \n",
       "13350                                                                amazing absolutely rate hotel fantastic location friendly helpful staff great selection food breakfast relax roof top terrace fabulous view city room clean every morning fault could find breakfast busy find anywhere sit deter stay future   \n",
       "\n",
       "          label  \n",
       "9595    Neutral  \n",
       "10324  Negative  \n",
       "12679  Positive  \n",
       "1915   Positive  \n",
       "13852  Positive  \n",
       "...         ...  \n",
       "905    Positive  \n",
       "5192   Positive  \n",
       "12173   Neutral  \n",
       "235    Positive  \n",
       "13350  Positive  \n",
       "\n",
       "[11255 rows x 2 columns]"
      ]
     },
     "execution_count": 74,
     "metadata": {},
     "output_type": "execute_result"
    }
   ],
   "source": [
    "train_set"
   ]
  },
  {
   "cell_type": "code",
   "execution_count": 75,
   "metadata": {
    "colab": {
     "base_uri": "https://localhost:8080/"
    },
    "executionInfo": {
     "elapsed": 5,
     "status": "ok",
     "timestamp": 1695287786819,
     "user": {
      "displayName": "Hien Nga Luong",
      "userId": "10313683531485500593"
     },
     "user_tz": -480
    },
    "id": "oYvPOWGGSWMP",
    "outputId": "ac068b8a-eaeb-4f30-fd78-3c4e6643ea37"
   },
   "outputs": [
    {
     "data": {
      "text/plain": [
       "Positive    9011\n",
       "Neutral     1393\n",
       "Negative     851\n",
       "Name: label, dtype: int64"
      ]
     },
     "execution_count": 75,
     "metadata": {},
     "output_type": "execute_result"
    }
   ],
   "source": [
    "y_train.value_counts()"
   ]
  },
  {
   "cell_type": "markdown",
   "metadata": {
    "id": "flWoRNHRSjpL"
   },
   "source": [
    "The data is very imbalanced, so we will perform undersampling on the train data."
   ]
  },
  {
   "cell_type": "code",
   "execution_count": 76,
   "metadata": {},
   "outputs": [],
   "source": [
    "train_set['label'] = train_set['label'].astype('category')\n"
   ]
  },
  {
   "cell_type": "code",
   "execution_count": 77,
   "metadata": {
    "executionInfo": {
     "elapsed": 416,
     "status": "ok",
     "timestamp": 1695287791805,
     "user": {
      "displayName": "Hien Nga Luong",
      "userId": "10313683531485500593"
     },
     "user_tz": -480
    },
    "id": "SOTUK_cZSq_p"
   },
   "outputs": [],
   "source": [
    "rus = RandomUnderSampler(random_state=RANDOM_STATE)\n",
    "X_train, y_train = rus.fit_resample(train_set, train_set['label'])\n",
    "train_set = shuffle(X_train)\n",
    "train_set.reset_index(inplace=True, drop=True)"
   ]
  },
  {
   "cell_type": "code",
   "execution_count": 78,
   "metadata": {
    "executionInfo": {
     "elapsed": 4,
     "status": "ok",
     "timestamp": 1695287792215,
     "user": {
      "displayName": "Hien Nga Luong",
      "userId": "10313683531485500593"
     },
     "user_tz": -480
    },
    "id": "5G_agiUAXGTh"
   },
   "outputs": [],
   "source": [
    "X_train = train_set['lem_review']\n",
    "y_train = train_set['label']"
   ]
  },
  {
   "cell_type": "code",
   "execution_count": 79,
   "metadata": {
    "colab": {
     "base_uri": "https://localhost:8080/"
    },
    "executionInfo": {
     "elapsed": 4,
     "status": "ok",
     "timestamp": 1695287792534,
     "user": {
      "displayName": "Hien Nga Luong",
      "userId": "10313683531485500593"
     },
     "user_tz": -480
    },
    "id": "YU4FgDzCXTXD",
    "outputId": "57014394-11ec-4e98-f456-7e245a027e50"
   },
   "outputs": [
    {
     "data": {
      "text/plain": [
       "Negative    851\n",
       "Neutral     851\n",
       "Positive    851\n",
       "Name: label, dtype: int64"
      ]
     },
     "execution_count": 79,
     "metadata": {},
     "output_type": "execute_result"
    }
   ],
   "source": [
    "y_train.value_counts()"
   ]
  },
  {
   "cell_type": "markdown",
   "metadata": {
    "id": "t3D8PMGF6ZTb"
   },
   "source": [
    "We can now use this data for training and testing. To use text data in our machine learning models, we first convert them into TF-IDF vectors."
   ]
  },
  {
   "cell_type": "code",
   "execution_count": 80,
   "metadata": {
    "executionInfo": {
     "elapsed": 4780,
     "status": "ok",
     "timestamp": 1695287811469,
     "user": {
      "displayName": "Hien Nga Luong",
      "userId": "10313683531485500593"
     },
     "user_tz": -480
    },
    "id": "h0ttuqoO7SSL"
   },
   "outputs": [],
   "source": [
    "vectorizer = TfidfVectorizer(use_idf=True,ngram_range=(1,3))\n",
    "tfidf_features_train = vectorizer.fit_transform(X_train)\n",
    "tfidf_features_test = vectorizer.transform(X_test)"
   ]
  },
  {
   "cell_type": "code",
   "execution_count": 81,
   "metadata": {
    "id": "NNjBqzfBPiL4"
   },
   "outputs": [],
   "source": [
    "# save the model to disk\n",
    "filename = 'tfidf_vectorizer.sav'\n",
    "pickle.dump(vectorizer, open(filename, 'wb'))\n",
    "\n",
    "# load the model from disk\n",
    "#loaded_model = pickle.load(open(filename, 'rb'))"
   ]
  },
  {
   "cell_type": "markdown",
   "metadata": {
    "id": "epLbCiFHyhn2"
   },
   "source": [
    "# Machine Learning Models"
   ]
  },
  {
   "cell_type": "markdown",
   "metadata": {
    "id": "Zx-vN_9a7oU_"
   },
   "source": [
    "## Logistic Regression model"
   ]
  },
  {
   "cell_type": "code",
   "execution_count": 82,
   "metadata": {
    "colab": {
     "base_uri": "https://localhost:8080/",
     "height": 256
    },
    "executionInfo": {
     "elapsed": 73726,
     "status": "ok",
     "timestamp": 1695287912440,
     "user": {
      "displayName": "Hien Nga Luong",
      "userId": "10313683531485500593"
     },
     "user_tz": -480
    },
    "id": "RPlmKdex7qiq",
    "outputId": "5c02f1d1-0f1d-4abe-9770-66dd9ed06f4b"
   },
   "outputs": [
    {
     "name": "stdout",
     "output_type": "stream",
     "text": [
      "Fitting 5 folds for each of 14 candidates, totalling 70 fits\n"
     ]
    },
    {
     "data": {
      "text/plain": [
       "GridSearchCV(estimator=LogisticRegression(), n_jobs=-1,\n",
       "             param_grid={'C': array([1.e-03, 1.e-02, 1.e-01, 1.e+00, 1.e+01, 1.e+02, 1.e+03]),\n",
       "                         'penalty': ['l1', 'l2']},\n",
       "             verbose=5)"
      ]
     },
     "execution_count": 82,
     "metadata": {},
     "output_type": "execute_result"
    }
   ],
   "source": [
    "param_grid = {\"C\":np.logspace(-3,3,7),\n",
    "              \"penalty\":[\"l1\",\"l2\"]\n",
    "              }\n",
    "\n",
    "lr_model = GridSearchCV(LogisticRegression(),\n",
    "                        param_grid=param_grid,\n",
    "                        n_jobs=-1,\n",
    "                        verbose=5)\n",
    "\n",
    "#lr_model = LogisticRegression(C=10.0,penalty='l2')\n",
    "lr_model.fit(tfidf_features_train, y_train)"
   ]
  },
  {
   "cell_type": "code",
   "execution_count": 83,
   "metadata": {
    "colab": {
     "base_uri": "https://localhost:8080/"
    },
    "executionInfo": {
     "elapsed": 410,
     "status": "ok",
     "timestamp": 1695288223363,
     "user": {
      "displayName": "Hien Nga Luong",
      "userId": "10313683531485500593"
     },
     "user_tz": -480
    },
    "id": "tCi1P1iKzkMh",
    "outputId": "7586994e-15d9-4532-d31b-57cc3c800d72"
   },
   "outputs": [
    {
     "name": "stdout",
     "output_type": "stream",
     "text": [
      "Best Parameters found : {'C': 1.0, 'penalty': 'l2'}\n",
      "Best Accuracy found : 0.724\n",
      "\n"
     ]
    }
   ],
   "source": [
    "print('Best Parameters found : {}'.format(lr_model.best_params_))\n",
    "print('Best Accuracy found : {:.3f}\\n'.format(lr_model.best_score_))"
   ]
  },
  {
   "cell_type": "markdown",
   "metadata": {
    "id": "ySOO19ZB_1V0"
   },
   "source": [
    "Evaluation on test set"
   ]
  },
  {
   "cell_type": "code",
   "execution_count": 84,
   "metadata": {
    "executionInfo": {
     "elapsed": 3,
     "status": "ok",
     "timestamp": 1695288514155,
     "user": {
      "displayName": "Hien Nga Luong",
      "userId": "10313683531485500593"
     },
     "user_tz": -480
    },
    "id": "E3pHNEkyD6xP"
   },
   "outputs": [],
   "source": [
    "predictions = lr_model.predict(tfidf_features_test)\n",
    "cm = confusion_matrix(y_test, predictions, labels=lr_model.classes_)"
   ]
  },
  {
   "cell_type": "code",
   "execution_count": 85,
   "metadata": {
    "colab": {
     "base_uri": "https://localhost:8080/",
     "height": 449
    },
    "executionInfo": {
     "elapsed": 542,
     "status": "ok",
     "timestamp": 1695288518366,
     "user": {
      "displayName": "Hien Nga Luong",
      "userId": "10313683531485500593"
     },
     "user_tz": -480
    },
    "id": "7ERMddbuDUBL",
    "outputId": "49d51013-76c4-496e-d710-6329b1b8d62a"
   },
   "outputs": [
    {
     "data": {
      "image/png": "[encoded data removed]",
      "text/plain": [
       "<Figure size 432x288 with 2 Axes>"
      ]
     },
     "metadata": {
      "needs_background": "light"
     },
     "output_type": "display_data"
    }
   ],
   "source": [
    "disp = ConfusionMatrixDisplay(confusion_matrix=cm, display_labels=lr_model.classes_)\n",
    "disp.plot()\n",
    "plt.show()"
   ]
  },
  {
   "cell_type": "code",
   "execution_count": 87,
   "metadata": {
    "colab": {
     "base_uri": "https://localhost:8080/"
    },
    "executionInfo": {
     "elapsed": 912,
     "status": "ok",
     "timestamp": 1695288641834,
     "user": {
      "displayName": "Hien Nga Luong",
      "userId": "10313683531485500593"
     },
     "user_tz": -480
    },
    "id": "N8Dg61VW_StR",
    "outputId": "914fbad8-a981-4624-ebfb-9c00c50a56fd"
   },
   "outputs": [
    {
     "name": "stdout",
     "output_type": "stream",
     "text": [
      "Time Taken 0.009994029998779297 s, 281568.0961877952 rows per s\n",
      "              precision    recall  f1-score   support\n",
      "\n",
      "    Negative       0.48      0.77      0.59       207\n",
      "     Neutral       0.36      0.56      0.44       352\n",
      "    Positive       0.96      0.82      0.88      2255\n",
      "\n",
      "    accuracy                           0.78      2814\n",
      "   macro avg       0.60      0.72      0.64      2814\n",
      "weighted avg       0.85      0.78      0.81      2814\n",
      "\n",
      "[[ 159   42    6]\n",
      " [  80  198   74]\n",
      " [  93  312 1850]]\n"
     ]
    }
   ],
   "source": [
    "\n",
    "t1 = time.time()\n",
    "\n",
    "predictions = lr_model.predict(tfidf_features_test)\n",
    "t2 = time.time()\n",
    "print(f'Time Taken {t2-t1} s, {len(y_test)/(t2-t1)} rows per s')\n",
    "print(sklearn.metrics.classification_report(y_test, predictions, target_names=['Negative', 'Neutral', 'Positive']))\n",
    "print(sklearn.metrics.confusion_matrix(y_test, predictions, labels=lr_model.classes_))"
   ]
  },
  {
   "cell_type": "markdown",
   "metadata": {
    "id": "stCLJHaLYgrm"
   },
   "source": [
    "## Multinomial Naive Bayes Model"
   ]
  },
  {
   "cell_type": "code",
   "execution_count": 88,
   "metadata": {
    "colab": {
     "base_uri": "https://localhost:8080/",
     "height": 228
    },
    "executionInfo": {
     "elapsed": 9353,
     "status": "ok",
     "timestamp": 1695288698906,
     "user": {
      "displayName": "Hien Nga Luong",
      "userId": "10313683531485500593"
     },
     "user_tz": -480
    },
    "id": "cDCr7RQyYlmt",
    "outputId": "56281bd7-578f-44b9-8bbe-504b990098f6"
   },
   "outputs": [
    {
     "name": "stdout",
     "output_type": "stream",
     "text": [
      "Fitting 5 folds for each of 24 candidates, totalling 120 fits\n"
     ]
    },
    {
     "data": {
      "text/plain": [
       "GridSearchCV(estimator=MultinomialNB(), n_jobs=-1,\n",
       "             param_grid={'alpha': [0, 0.01, 0.1, 0.5, 1.0, 10.0],\n",
       "                         'class_prior': [None, [0.1, 0.1, 0.1]],\n",
       "                         'fit_prior': [True, False]},\n",
       "             verbose=5)"
      ]
     },
     "execution_count": 88,
     "metadata": {},
     "output_type": "execute_result"
    }
   ],
   "source": [
    "param_grid =  {'alpha':[0, 0.01, 0.1, 0.5, 1.0, 10.0],\n",
    "               'fit_prior': [True, False],\n",
    "               'class_prior': [None, [0.1,]*3]\n",
    "              }\n",
    "\n",
    "nb_model = GridSearchCV(MultinomialNB(),\n",
    "                        param_grid=param_grid,\n",
    "                        n_jobs=-1,\n",
    "                        verbose=5)\n",
    "#nb_model = MultinomialNB(alpha=1.0, class_prior=None, fit_prior=True)\n",
    "nb_model.fit(tfidf_features_train, y_train)"
   ]
  },
  {
   "cell_type": "code",
   "execution_count": 89,
   "metadata": {
    "colab": {
     "base_uri": "https://localhost:8080/"
    },
    "executionInfo": {
     "elapsed": 344,
     "status": "ok",
     "timestamp": 1695288719184,
     "user": {
      "displayName": "Hien Nga Luong",
      "userId": "10313683531485500593"
     },
     "user_tz": -480
    },
    "id": "P5dNS2rFzvgL",
    "outputId": "3c511960-24cb-4deb-900e-88cf9be39b96"
   },
   "outputs": [
    {
     "name": "stdout",
     "output_type": "stream",
     "text": [
      "Best Parameters found : {'alpha': 1.0, 'class_prior': None, 'fit_prior': True}\n",
      "Best Accuracy found : 0.716\n",
      "\n"
     ]
    }
   ],
   "source": [
    "print('Best Parameters found : {}'.format(nb_model.best_params_))\n",
    "print('Best Accuracy found : {:.3f}\\n'.format(nb_model.best_score_))"
   ]
  },
  {
   "cell_type": "markdown",
   "metadata": {
    "id": "FHe-YEWGZzOU"
   },
   "source": [
    "Evaluation on test set"
   ]
  },
  {
   "cell_type": "code",
   "execution_count": 90,
   "metadata": {
    "colab": {
     "base_uri": "https://localhost:8080/",
     "height": 449
    },
    "executionInfo": {
     "elapsed": 1270,
     "status": "ok",
     "timestamp": 1695288786141,
     "user": {
      "displayName": "Hien Nga Luong",
      "userId": "10313683531485500593"
     },
     "user_tz": -480
    },
    "id": "E5eBxOeQJIpq",
    "outputId": "23915929-7e35-4be3-d43e-d30bfc044869"
   },
   "outputs": [
    {
     "data": {
      "image/png": "[encoded data removed]",
      "text/plain": [
       "<Figure size 432x288 with 2 Axes>"
      ]
     },
     "metadata": {
      "needs_background": "light"
     },
     "output_type": "display_data"
    }
   ],
   "source": [
    "predictions = nb_model.predict(tfidf_features_test)\n",
    "cm = confusion_matrix(y_test, predictions, labels=nb_model.classes_)\n",
    "disp = ConfusionMatrixDisplay(confusion_matrix=cm, display_labels=nb_model.classes_)\n",
    "disp.plot()\n",
    "plt.show()"
   ]
  },
  {
   "cell_type": "code",
   "execution_count": 59,
   "metadata": {
    "colab": {
     "base_uri": "https://localhost:8080/"
    },
    "executionInfo": {
     "elapsed": 329,
     "status": "ok",
     "timestamp": 1695288813697,
     "user": {
      "displayName": "Hien Nga Luong",
      "userId": "10313683531485500593"
     },
     "user_tz": -480
    },
    "id": "gby6zpJaY1TF",
    "outputId": "5ba9d0e4-bc5d-4173-a02c-15a80d02ada6"
   },
   "outputs": [
    {
     "name": "stdout",
     "output_type": "stream",
     "text": [
      "Time Taken 0.004007577896118164 s, 615084.7379380094 rows per s\n",
      "              precision    recall  f1-score   support\n",
      "\n",
      "    Negative       0.58      0.91      0.71       210\n",
      "    Positive       0.99      0.94      0.96      2255\n",
      "\n",
      "    accuracy                           0.94      2465\n",
      "   macro avg       0.79      0.93      0.84      2465\n",
      "weighted avg       0.96      0.94      0.94      2465\n",
      "\n",
      "[[ 192   18]\n",
      " [ 139 2116]]\n"
     ]
    }
   ],
   "source": [
    "\n",
    "t1 = time.time()\n",
    "\n",
    "predictions = nb_model.predict(tfidf_features_test)\n",
    "t2 = time.time()\n",
    "print(f'Time Taken {t2-t1} s, {len(y_test)/(t2-t1)} rows per s')\n",
    "print(sklearn.metrics.classification_report(y_test, predictions, target_names=['Negative', 'Positive']))\n",
    "print(sklearn.metrics.confusion_matrix(y_test, predictions, labels=nb_model.classes_))"
   ]
  },
  {
   "cell_type": "markdown",
   "metadata": {
    "id": "nte-VSeTZgSh"
   },
   "source": [
    "## Linear SVM"
   ]
  },
  {
   "cell_type": "code",
   "execution_count": 91,
   "metadata": {
    "colab": {
     "base_uri": "https://localhost:8080/",
     "height": 135
    },
    "executionInfo": {
     "elapsed": 29483,
     "status": "ok",
     "timestamp": 1695288927037,
     "user": {
      "displayName": "Hien Nga Luong",
      "userId": "10313683531485500593"
     },
     "user_tz": -480
    },
    "id": "qLkQWR_rZl2w",
    "outputId": "c039bc10-6a5c-4c3c-b276-23807e62dde9"
   },
   "outputs": [
    {
     "name": "stdout",
     "output_type": "stream",
     "text": [
      "Fitting 5 folds for each of 24 candidates, totalling 120 fits\n"
     ]
    },
    {
     "data": {
      "text/plain": [
       "GridSearchCV(estimator=LinearSVC(random_state=1), n_jobs=-1,\n",
       "             param_grid={'C': [0, 0.01, 0.1, 0.5, 1.0, 10.0],\n",
       "                         'dual': [True, False], 'penalty': ['l1', 'l2']},\n",
       "             verbose=5)"
      ]
     },
     "execution_count": 91,
     "metadata": {},
     "output_type": "execute_result"
    }
   ],
   "source": [
    "param_grid =  {'C':[0, 0.01, 0.1, 0.5, 1.0, 10.0],\n",
    "               'dual': [True, False],\n",
    "               'penalty': ['l1','l2'],\n",
    "              }\n",
    "\n",
    "lsvm_model = GridSearchCV(sklearn.svm.LinearSVC(random_state=RANDOM_STATE),\n",
    "                        param_grid=param_grid,\n",
    "                        n_jobs=-1,\n",
    "                        verbose=5)\n",
    "#lsvm_model = sklearn.svm.LinearSVC(C=1.0,dual=False,penalty='l1')\n",
    "lsvm_model.fit(tfidf_features_train, y_train)"
   ]
  },
  {
   "cell_type": "code",
   "execution_count": 92,
   "metadata": {
    "colab": {
     "base_uri": "https://localhost:8080/"
    },
    "executionInfo": {
     "elapsed": 373,
     "status": "ok",
     "timestamp": 1695288955089,
     "user": {
      "displayName": "Hien Nga Luong",
      "userId": "10313683531485500593"
     },
     "user_tz": -480
    },
    "id": "1SVr5KYrz2rg",
    "outputId": "9ec7b709-cb83-454f-c896-648ba92f43af"
   },
   "outputs": [
    {
     "name": "stdout",
     "output_type": "stream",
     "text": [
      "Best Parameters found : {'C': 0.5, 'dual': True, 'penalty': 'l2'}\n",
      "Best Accuracy found : 0.720\n",
      "\n"
     ]
    }
   ],
   "source": [
    "print('Best Parameters found : {}'.format(lsvm_model.best_params_))\n",
    "print('Best Accuracy found : {:.3f}\\n'.format(lsvm_model.best_score_))"
   ]
  },
  {
   "cell_type": "markdown",
   "metadata": {
    "id": "OL9pHm7fZ1no"
   },
   "source": [
    "Evaluation on test set"
   ]
  },
  {
   "cell_type": "code",
   "execution_count": 93,
   "metadata": {
    "colab": {
     "base_uri": "https://localhost:8080/",
     "height": 449
    },
    "executionInfo": {
     "elapsed": 782,
     "status": "ok",
     "timestamp": 1695288993133,
     "user": {
      "displayName": "Hien Nga Luong",
      "userId": "10313683531485500593"
     },
     "user_tz": -480
    },
    "id": "im5MTiRkJOg6",
    "outputId": "d0182823-e122-4301-a6db-1f54b59baa64"
   },
   "outputs": [
    {
     "data": {
      "image/png": "[encoded data removed]",
      "text/plain": [
       "<Figure size 432x288 with 2 Axes>"
      ]
     },
     "metadata": {
      "needs_background": "light"
     },
     "output_type": "display_data"
    }
   ],
   "source": [
    "predictions = lsvm_model.predict(tfidf_features_test)\n",
    "cm = confusion_matrix(y_test, predictions, labels=lsvm_model.classes_)\n",
    "disp = ConfusionMatrixDisplay(confusion_matrix=cm, display_labels=lsvm_model.classes_)\n",
    "disp.plot()\n",
    "plt.show()"
   ]
  },
  {
   "cell_type": "code",
   "execution_count": 94,
   "metadata": {
    "colab": {
     "base_uri": "https://localhost:8080/"
    },
    "executionInfo": {
     "elapsed": 318,
     "status": "ok",
     "timestamp": 1695289048720,
     "user": {
      "displayName": "Hien Nga Luong",
      "userId": "10313683531485500593"
     },
     "user_tz": -480
    },
    "id": "qj9IIU8rZ0ll",
    "outputId": "d8502092-7006-41aa-a04b-44ffac3339a5"
   },
   "outputs": [
    {
     "name": "stdout",
     "output_type": "stream",
     "text": [
      "Time Taken 0.004998445510864258 s, 562975.0277128548 rows per s\n"
     ]
    },
    {
     "ename": "ValueError",
     "evalue": "Number of classes, 3, does not match size of target_names, 2. Try specifying the labels parameter",
     "output_type": "error",
     "traceback": [
      "\u001b[1;31m---------------------------------------------------------------------------\u001b[0m",
      "\u001b[1;31mValueError\u001b[0m                                Traceback (most recent call last)",
      "\u001b[1;32m<ipython-input-94-c1f9b2264fd2>\u001b[0m in \u001b[0;36m<module>\u001b[1;34m\u001b[0m\n\u001b[0;32m      4\u001b[0m \u001b[0mt2\u001b[0m \u001b[1;33m=\u001b[0m \u001b[0mtime\u001b[0m\u001b[1;33m.\u001b[0m\u001b[0mtime\u001b[0m\u001b[1;33m(\u001b[0m\u001b[1;33m)\u001b[0m\u001b[1;33m\u001b[0m\u001b[1;33m\u001b[0m\u001b[0m\n\u001b[0;32m      5\u001b[0m \u001b[0mprint\u001b[0m\u001b[1;33m(\u001b[0m\u001b[1;34mf'Time Taken {t2-t1} s, {len(y_test)/(t2-t1)} rows per s'\u001b[0m\u001b[1;33m)\u001b[0m\u001b[1;33m\u001b[0m\u001b[1;33m\u001b[0m\u001b[0m\n\u001b[1;32m----> 6\u001b[1;33m \u001b[0mprint\u001b[0m\u001b[1;33m(\u001b[0m\u001b[0msklearn\u001b[0m\u001b[1;33m.\u001b[0m\u001b[0mmetrics\u001b[0m\u001b[1;33m.\u001b[0m\u001b[0mclassification_report\u001b[0m\u001b[1;33m(\u001b[0m\u001b[0my_test\u001b[0m\u001b[1;33m,\u001b[0m \u001b[0mpredictions\u001b[0m\u001b[1;33m,\u001b[0m \u001b[0mtarget_names\u001b[0m\u001b[1;33m=\u001b[0m\u001b[1;33m[\u001b[0m\u001b[1;34m'Negative'\u001b[0m\u001b[1;33m,\u001b[0m \u001b[1;34m'Positive'\u001b[0m\u001b[1;33m]\u001b[0m\u001b[1;33m)\u001b[0m\u001b[1;33m)\u001b[0m\u001b[1;33m\u001b[0m\u001b[1;33m\u001b[0m\u001b[0m\n\u001b[0m\u001b[0;32m      7\u001b[0m \u001b[0mprint\u001b[0m\u001b[1;33m(\u001b[0m\u001b[0msklearn\u001b[0m\u001b[1;33m.\u001b[0m\u001b[0mmetrics\u001b[0m\u001b[1;33m.\u001b[0m\u001b[0mconfusion_matrix\u001b[0m\u001b[1;33m(\u001b[0m\u001b[0my_test\u001b[0m\u001b[1;33m,\u001b[0m \u001b[0mpredictions\u001b[0m\u001b[1;33m,\u001b[0m \u001b[0mlabels\u001b[0m\u001b[1;33m=\u001b[0m\u001b[0mlsvm_model\u001b[0m\u001b[1;33m.\u001b[0m\u001b[0mclasses_\u001b[0m\u001b[1;33m)\u001b[0m\u001b[1;33m)\u001b[0m\u001b[1;33m\u001b[0m\u001b[1;33m\u001b[0m\u001b[0m\n",
      "\u001b[1;32mc:\\Users\\ngalh\\anaconda3\\lib\\site-packages\\sklearn\\utils\\validation.py\u001b[0m in \u001b[0;36minner_f\u001b[1;34m(*args, **kwargs)\u001b[0m\n\u001b[0;32m     61\u001b[0m             \u001b[0mextra_args\u001b[0m \u001b[1;33m=\u001b[0m \u001b[0mlen\u001b[0m\u001b[1;33m(\u001b[0m\u001b[0margs\u001b[0m\u001b[1;33m)\u001b[0m \u001b[1;33m-\u001b[0m \u001b[0mlen\u001b[0m\u001b[1;33m(\u001b[0m\u001b[0mall_args\u001b[0m\u001b[1;33m)\u001b[0m\u001b[1;33m\u001b[0m\u001b[1;33m\u001b[0m\u001b[0m\n\u001b[0;32m     62\u001b[0m             \u001b[1;32mif\u001b[0m \u001b[0mextra_args\u001b[0m \u001b[1;33m<=\u001b[0m \u001b[1;36m0\u001b[0m\u001b[1;33m:\u001b[0m\u001b[1;33m\u001b[0m\u001b[1;33m\u001b[0m\u001b[0m\n\u001b[1;32m---> 63\u001b[1;33m                 \u001b[1;32mreturn\u001b[0m \u001b[0mf\u001b[0m\u001b[1;33m(\u001b[0m\u001b[1;33m*\u001b[0m\u001b[0margs\u001b[0m\u001b[1;33m,\u001b[0m \u001b[1;33m**\u001b[0m\u001b[0mkwargs\u001b[0m\u001b[1;33m)\u001b[0m\u001b[1;33m\u001b[0m\u001b[1;33m\u001b[0m\u001b[0m\n\u001b[0m\u001b[0;32m     64\u001b[0m \u001b[1;33m\u001b[0m\u001b[0m\n\u001b[0;32m     65\u001b[0m             \u001b[1;31m# extra_args > 0\u001b[0m\u001b[1;33m\u001b[0m\u001b[1;33m\u001b[0m\u001b[1;33m\u001b[0m\u001b[0m\n",
      "\u001b[1;32mc:\\Users\\ngalh\\anaconda3\\lib\\site-packages\\sklearn\\metrics\\_classification.py\u001b[0m in \u001b[0;36mclassification_report\u001b[1;34m(y_true, y_pred, labels, target_names, sample_weight, digits, output_dict, zero_division)\u001b[0m\n\u001b[0;32m   1985\u001b[0m             )\n\u001b[0;32m   1986\u001b[0m         \u001b[1;32melse\u001b[0m\u001b[1;33m:\u001b[0m\u001b[1;33m\u001b[0m\u001b[1;33m\u001b[0m\u001b[0m\n\u001b[1;32m-> 1987\u001b[1;33m             raise ValueError(\n\u001b[0m\u001b[0;32m   1988\u001b[0m                 \u001b[1;34m\"Number of classes, {0}, does not match size of \"\u001b[0m\u001b[1;33m\u001b[0m\u001b[1;33m\u001b[0m\u001b[0m\n\u001b[0;32m   1989\u001b[0m                 \u001b[1;34m\"target_names, {1}. Try specifying the labels \"\u001b[0m\u001b[1;33m\u001b[0m\u001b[1;33m\u001b[0m\u001b[0m\n",
      "\u001b[1;31mValueError\u001b[0m: Number of classes, 3, does not match size of target_names, 2. Try specifying the labels parameter"
     ]
    }
   ],
   "source": [
    "t1 = time.time()\n",
    "\n",
    "predictions = lsvm_model.predict(tfidf_features_test)\n",
    "t2 = time.time()\n",
    "print(f'Time Taken {t2-t1} s, {len(y_test)/(t2-t1)} rows per s')\n",
    "print(sklearn.metrics.classification_report(y_test, predictions, target_names=['Negative', 'Positive']))\n",
    "print(sklearn.metrics.confusion_matrix(y_test, predictions, labels=lsvm_model.classes_))"
   ]
  },
  {
   "cell_type": "markdown",
   "metadata": {
    "id": "RgxAuCTyyTYb"
   },
   "source": [
    "## Random Forest Classifier"
   ]
  },
  {
   "cell_type": "code",
   "execution_count": 95,
   "metadata": {
    "colab": {
     "base_uri": "https://localhost:8080/",
     "height": 135
    },
    "executionInfo": {
     "elapsed": 138753,
     "status": "ok",
     "timestamp": 1695289197089,
     "user": {
      "displayName": "Hien Nga Luong",
      "userId": "10313683531485500593"
     },
     "user_tz": -480
    },
    "id": "Zu1SIxDfyS9B",
    "outputId": "5ca6da6a-993e-4567-e440-c3aab51d9695"
   },
   "outputs": [
    {
     "name": "stdout",
     "output_type": "stream",
     "text": [
      "Fitting 5 folds for each of 12 candidates, totalling 60 fits\n"
     ]
    },
    {
     "data": {
      "text/plain": [
       "GridSearchCV(estimator=RandomForestClassifier(), n_jobs=-1,\n",
       "             param_grid={'max_depth': [5, 10, 15],\n",
       "                         'max_features': ['sqrt', 'log2'],\n",
       "                         'n_estimators': [100, 200]},\n",
       "             verbose=5)"
      ]
     },
     "execution_count": 95,
     "metadata": {},
     "output_type": "execute_result"
    }
   ],
   "source": [
    "param_grid = {'n_estimators': [100,200],\n",
    "              'max_features': ['sqrt','log2'],\n",
    "              'max_depth': [5,10,15],\n",
    "}\n",
    "\n",
    "rf_model = GridSearchCV(RandomForestClassifier(),\n",
    "                        param_grid=param_grid,\n",
    "                        n_jobs=-1,\n",
    "                        verbose=5)\n",
    "#rf_model = RandomForestClassifier(n_estimators=200, max_features='sqrt', max_depth=15)\n",
    "rf_model.fit(tfidf_features_train, y_train)"
   ]
  },
  {
   "cell_type": "code",
   "execution_count": 96,
   "metadata": {
    "colab": {
     "base_uri": "https://localhost:8080/"
    },
    "executionInfo": {
     "elapsed": 369,
     "status": "ok",
     "timestamp": 1695289230235,
     "user": {
      "displayName": "Hien Nga Luong",
      "userId": "10313683531485500593"
     },
     "user_tz": -480
    },
    "id": "DFgLRFyNz7d2",
    "outputId": "63afca8c-c2d6-4e57-f0ea-bade323ae425"
   },
   "outputs": [
    {
     "name": "stdout",
     "output_type": "stream",
     "text": [
      "Best Parameters found : {'max_depth': 10, 'max_features': 'sqrt', 'n_estimators': 200}\n",
      "Best Accuracy found : 0.664\n",
      "\n"
     ]
    }
   ],
   "source": [
    "print('Best Parameters found : {}'.format(rf_model.best_params_))\n",
    "print('Best Accuracy found : {:.3f}\\n'.format(rf_model.best_score_))"
   ]
  },
  {
   "cell_type": "markdown",
   "metadata": {
    "id": "lQC3qj_35AlE"
   },
   "source": [
    "Evaluate on test set"
   ]
  },
  {
   "cell_type": "code",
   "execution_count": 97,
   "metadata": {
    "colab": {
     "base_uri": "https://localhost:8080/",
     "height": 449
    },
    "executionInfo": {
     "elapsed": 1339,
     "status": "ok",
     "timestamp": 1695289234751,
     "user": {
      "displayName": "Hien Nga Luong",
      "userId": "10313683531485500593"
     },
     "user_tz": -480
    },
    "id": "e3JRAfZaJVxQ",
    "outputId": "7373500c-ae78-494c-c9c1-d0408c309607"
   },
   "outputs": [
    {
     "data": {
      "image/png": "[encoded data removed]",
      "text/plain": [
       "<Figure size 432x288 with 2 Axes>"
      ]
     },
     "metadata": {
      "needs_background": "light"
     },
     "output_type": "display_data"
    }
   ],
   "source": [
    "predictions = rf_model.predict(tfidf_features_test)\n",
    "cm = confusion_matrix(y_test, predictions, labels=rf_model.classes_)\n",
    "disp = ConfusionMatrixDisplay(confusion_matrix=cm, display_labels=rf_model.classes_)\n",
    "disp.plot()\n",
    "plt.show()"
   ]
  },
  {
   "cell_type": "code",
   "execution_count": 67,
   "metadata": {
    "colab": {
     "base_uri": "https://localhost:8080/"
    },
    "executionInfo": {
     "elapsed": 313,
     "status": "ok",
     "timestamp": 1695289235480,
     "user": {
      "displayName": "Hien Nga Luong",
      "userId": "10313683531485500593"
     },
     "user_tz": -480
    },
    "id": "GWA0HRwOzPRk",
    "outputId": "ee6e2160-27ce-4122-9f59-8c488986a63f"
   },
   "outputs": [
    {
     "name": "stdout",
     "output_type": "stream",
     "text": [
      "Time Taken 0.37888193130493164 s, 6505.984572846044 rows per s\n",
      "              precision    recall  f1-score   support\n",
      "\n",
      "    Negative       0.54      0.82      0.65       210\n",
      "    Positive       0.98      0.93      0.96      2255\n",
      "\n",
      "    accuracy                           0.92      2465\n",
      "   macro avg       0.76      0.88      0.80      2465\n",
      "weighted avg       0.94      0.92      0.93      2465\n",
      "\n",
      "[[ 173   37]\n",
      " [ 148 2107]]\n"
     ]
    }
   ],
   "source": [
    "t1 = time.time()\n",
    "\n",
    "predictions = rf_model.predict(tfidf_features_test)\n",
    "t2 = time.time()\n",
    "print(f'Time Taken {t2-t1} s, {len(y_test)/(t2-t1)} rows per s')\n",
    "print(sklearn.metrics.classification_report(y_test, predictions, target_names=['Negative', 'Positive']))\n",
    "print(sklearn.metrics.confusion_matrix(y_test, predictions, labels=rf_model.classes_))"
   ]
  },
  {
   "cell_type": "code",
   "execution_count": null,
   "metadata": {
    "id": "x41Ct1BcHNKZ"
   },
   "outputs": [],
   "source": []
  },
  {
   "cell_type": "code",
   "execution_count": null,
   "metadata": {},
   "outputs": [],
   "source": []
  }
 ],
 "metadata": {
  "colab": {
   "provenance": []
  },
  "kernelspec": {
   "display_name": "Python 3 (ipykernel)",
   "language": "python",
   "name": "python3"
  },
  "language_info": {
   "codemirror_mode": {
    "name": "ipython",
    "version": 3
   },
   "file_extension": ".py",
   "mimetype": "text/x-python",
   "name": "python",
   "nbconvert_exporter": "python",
   "pygments_lexer": "ipython3",
   "version": "3.8.8"
  }
 },
 "nbformat": 4,
 "nbformat_minor": 4
}
