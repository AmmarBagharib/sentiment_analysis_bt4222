{
 "cells": [
  {
   "cell_type": "code",
   "execution_count": 1,
   "id": "c3b864ce",
   "metadata": {
    "execution": {
     "iopub.execute_input": "2022-11-03T08:52:40.470090Z",
     "iopub.status.busy": "2022-11-03T08:52:40.469335Z",
     "iopub.status.idle": "2022-11-03T08:52:40.474771Z",
     "shell.execute_reply": "2022-11-03T08:52:40.473825Z"
    },
    "id": "_5z464ivsoWw",
    "papermill": {
     "duration": 0.029037,
     "end_time": "2022-11-03T08:52:40.478374",
     "exception": false,
     "start_time": "2022-11-03T08:52:40.449337",
     "status": "completed"
    },
    "tags": []
   },
   "outputs": [],
   "source": [
    "# from google.colab import drive\n",
    "# drive.mount('/content/gdrive')"
   ]
  },
  {
   "cell_type": "code",
   "execution_count": 1,
   "id": "17ea5e4c",
   "metadata": {
    "execution": {
     "iopub.execute_input": "2023-10-25T15:22:19.343289Z",
     "iopub.status.busy": "2023-10-25T15:22:19.342594Z",
     "iopub.status.idle": "2023-10-25T15:22:30.961176Z",
     "shell.execute_reply": "2023-10-25T15:22:30.960347Z",
     "shell.execute_reply.started": "2023-10-25T15:22:19.343260Z"
    },
    "id": "UU_9yCiGvutr",
    "papermill": {
     "duration": 12.497178,
     "end_time": "2022-11-03T08:53:46.160543",
     "exception": false,
     "start_time": "2022-11-03T08:53:33.663365",
     "status": "completed"
    },
    "tags": []
   },
   "outputs": [
    {
     "name": "stderr",
     "output_type": "stream",
     "text": [
      "/opt/conda/lib/python3.10/site-packages/scipy/__init__.py:146: UserWarning: A NumPy version >=1.16.5 and <1.23.0 is required for this version of SciPy (detected version 1.23.5\n",
      "  warnings.warn(f\"A NumPy version >={np_minversion} and <{np_maxversion}\"\n"
     ]
    }
   ],
   "source": [
    "#Importing required libraries\n",
    "from collections import Counter\n",
    "import numpy as np\n",
    "import pandas as pd\n",
    "import matplotlib.pyplot as plt\n",
    "\n",
    "import nltk\n",
    "from nltk.corpus import stopwords\n",
    "from textblob import Word\n",
    "\n",
    "import wordcloud\n",
    "from wordcloud import WordCloud\n",
    "\n",
    "import sklearn\n",
    "from sklearn.model_selection import train_test_split\n",
    "from sklearn.preprocessing import LabelEncoder\n",
    "from sklearn.metrics import classification_report, confusion_matrix, accuracy_score\n",
    "\n",
    "import tensorflow as tf\n",
    "\n",
    "from keras.models import Sequential\n",
    "from keras.preprocessing.text import Tokenizer\n",
    "#from keras.preprocessing.sequence import pad_sequences\n",
    "from keras.layers import Dense, Embedding, LSTM, SpatialDropout1D"
   ]
  },
  {
   "cell_type": "code",
   "execution_count": 2,
   "id": "ad141144",
   "metadata": {
    "execution": {
     "iopub.execute_input": "2023-10-25T15:23:51.508538Z",
     "iopub.status.busy": "2023-10-25T15:23:51.507855Z",
     "iopub.status.idle": "2023-10-25T15:24:04.693340Z",
     "shell.execute_reply": "2023-10-25T15:24:04.692256Z",
     "shell.execute_reply.started": "2023-10-25T15:23:51.508504Z"
    }
   },
   "outputs": [
    {
     "name": "stdout",
     "output_type": "stream",
     "text": [
      "Collecting Keras-Preprocessing\n",
      "  Downloading Keras_Preprocessing-1.1.2-py2.py3-none-any.whl (42 kB)\n",
      "\u001b[2K     \u001b[90m━━━━━━━━━━━━━━━━━━━━━━━━━━━━━━━━━━━━━━━━\u001b[0m \u001b[32m42.6/42.6 kB\u001b[0m \u001b[31m2.2 MB/s\u001b[0m eta \u001b[36m0:00:00\u001b[0m\n",
      "\u001b[?25hRequirement already satisfied: numpy>=1.9.1 in /opt/conda/lib/python3.10/site-packages (from Keras-Preprocessing) (1.23.5)\n",
      "Requirement already satisfied: six>=1.9.0 in /opt/conda/lib/python3.10/site-packages (from Keras-Preprocessing) (1.16.0)\n",
      "Installing collected packages: Keras-Preprocessing\n",
      "Successfully installed Keras-Preprocessing-1.1.2\n"
     ]
    }
   ],
   "source": [
    "!pip install Keras-Preprocessing"
   ]
  },
  {
   "cell_type": "code",
   "execution_count": 3,
   "id": "24c3b3ad",
   "metadata": {
    "execution": {
     "iopub.execute_input": "2023-10-25T15:24:04.695611Z",
     "iopub.status.busy": "2023-10-25T15:24:04.695243Z",
     "iopub.status.idle": "2023-10-25T15:24:04.705772Z",
     "shell.execute_reply": "2023-10-25T15:24:04.704660Z",
     "shell.execute_reply.started": "2023-10-25T15:24:04.695577Z"
    },
    "id": "D42SccYEP7Qn",
    "papermill": {
     "duration": 0.031096,
     "end_time": "2022-11-03T08:53:46.211477",
     "exception": false,
     "start_time": "2022-11-03T08:53:46.180381",
     "status": "completed"
    },
    "tags": []
   },
   "outputs": [],
   "source": [
    "from keras_preprocessing.sequence import pad_sequences"
   ]
  },
  {
   "cell_type": "code",
   "execution_count": 4,
   "id": "046bb3f1",
   "metadata": {
    "execution": {
     "iopub.execute_input": "2023-10-25T15:24:04.707183Z",
     "iopub.status.busy": "2023-10-25T15:24:04.706902Z",
     "iopub.status.idle": "2023-10-25T15:24:11.611087Z",
     "shell.execute_reply": "2023-10-25T15:24:11.610235Z",
     "shell.execute_reply.started": "2023-10-25T15:24:04.707159Z"
    }
   },
   "outputs": [],
   "source": [
    "import pandas as pd\n",
    "import time\n",
    "import numpy as np\n",
    "import pickle\n",
    "from sklearn.metrics import confusion_matrix\n",
    "import warnings\n",
    "warnings.filterwarnings(\"ignore\")\n",
    "pd.set_option('display.max_colwidth',300)\n",
    "\n",
    "from nltk.corpus import stopwords\n",
    "import re\n",
    "import nltk\n",
    "from nltk import tokenize\n",
    "from nltk.stem import WordNetLemmatizer\n",
    "\n",
    "import math\n",
    "\n",
    "import spacy\n",
    "import os\n",
    "\n",
    "csvs = os.listdir(\"/kaggle/input/hotel-reviews\")"
   ]
  },
  {
   "cell_type": "code",
   "execution_count": 5,
   "id": "6ab95313",
   "metadata": {
    "execution": {
     "iopub.execute_input": "2023-10-25T15:24:11.614147Z",
     "iopub.status.busy": "2023-10-25T15:24:11.613560Z",
     "iopub.status.idle": "2023-10-25T15:24:11.626439Z",
     "shell.execute_reply": "2023-10-25T15:24:11.625526Z",
     "shell.execute_reply.started": "2023-10-25T15:24:11.614119Z"
    }
   },
   "outputs": [],
   "source": [
    "# TODO: modify these list if needed (eg. if you want to load only 1 csv from star3, delete other csvs in star3 list)\n",
    "star3 = ['cleaned_ibis-sg-bencoolen.csv','cleaned_hotel-boss.csv','cleaned_hotel-G.csv',\n",
    "           'cleaned_village-hotel-albert-court-by-far-east-hospitality.csv',\n",
    "           'cleaned_holiday-inn-express-clarke-quay.csv']\n",
    "star4 = ['cleaned_village-hotel-changi-by-far-east-hospitality.csv',\n",
    "         'cleaned_park-regis.csv', 'cleaned_grand-mercure-sg-roxy.csv',\n",
    "         'cleaned_paradox-sg-merchant-court.csv','cleaned_crowne-plaza.csv']\n",
    "star5 = ['cleaned_fullerton.csv', 'cleaned_parkroyal-collection-marina-bay.csv', 'cleaned_pan-pacific.csv',\n",
    "          'cleaned_mbs_total.csv', 'cleaned_swissotel-the-stamford.csv']\n",
    "ROOT = ''\n",
    "RAW_FOLDER = \"/kaggle/input/hotel-reviews\"\n",
    "def filter_date(row):\n",
    "      try:\n",
    "        #print(int(row[\"date_of_stay\"][-4:]))\n",
    "        return int(row[\"date_of_stay\"][-4:])\n",
    "      except:\n",
    "        #print(\"2000\")\n",
    "        return 2000\n",
    "def combine_csv_to_dataframe(file_names, all_star = False, filterDate = True):\n",
    "    \"\"\"\n",
    "    Combine multiple CSV files into a single DataFrame.\n",
    "\n",
    "    Parameters:\n",
    "    file_names (list): List of CSV file names. \n",
    "    all_star (bool): whether or not to load all the hotels (False if only want to load 1 type of hotel star). \n",
    "    filterData (bool): whether or not to remove all data dated before 2015\n",
    "\n",
    "    Returns:\n",
    "    pd.DataFrame: Combined DataFrame.\n",
    "    \"\"\"\n",
    "    combined_df = pd.DataFrame()\n",
    "\n",
    "    for file_name in file_names:\n",
    "        file_name = RAW_FOLDER + \"/\" + file_name\n",
    "        try:\n",
    "            df = pd.read_csv(file_name)\n",
    "            if all_star:\n",
    "                if file_name in star3:\n",
    "                    df[\"star\"] = 3\n",
    "                elif file_name in star4:\n",
    "                    df[\"star\"] = 4\n",
    "                else:\n",
    "                    df[\"star\"] = 5\n",
    "            print(f\"Length of {file_name} is {len(df)}\")\n",
    "            combined_df = pd.concat([combined_df, df], ignore_index=True)\n",
    "        except FileNotFoundError:\n",
    "            print(f\"File not found: {file_name}\")\n",
    "        except pd.errors.EmptyDataError:\n",
    "            print(f\"Empty or invalid CSV file: {file_name}\")\n",
    "    combined_df[\"year\"] = combined_df.apply(lambda row: filter_date(row), axis = 1)\n",
    "    if filterDate:\n",
    "        combined_df = combined_df[combined_df[\"year\"]>=2015]\n",
    "    return combined_df"
   ]
  },
  {
   "cell_type": "code",
   "execution_count": 78,
   "id": "6c625393",
   "metadata": {
    "execution": {
     "iopub.execute_input": "2023-10-25T15:36:19.226058Z",
     "iopub.status.busy": "2023-10-25T15:36:19.225684Z",
     "iopub.status.idle": "2023-10-25T15:36:19.825683Z",
     "shell.execute_reply": "2023-10-25T15:36:19.824843Z",
     "shell.execute_reply.started": "2023-10-25T15:36:19.226029Z"
    },
    "id": "Rx_tNoLpswtk",
    "papermill": {
     "duration": 1.098061,
     "end_time": "2022-11-03T08:53:47.331671",
     "exception": false,
     "start_time": "2022-11-03T08:53:46.233610",
     "status": "completed"
    },
    "tags": []
   },
   "outputs": [
    {
     "name": "stdout",
     "output_type": "stream",
     "text": [
      "Length of /kaggle/input/hotel-reviews/cleaned_ibis-sg-bencoolen.csv is 2217\n",
      "Length of /kaggle/input/hotel-reviews/cleaned_hotel-boss.csv is 3568\n",
      "Length of /kaggle/input/hotel-reviews/cleaned_hotel-G.csv is 3826\n",
      "Length of /kaggle/input/hotel-reviews/cleaned_village-hotel-albert-court-by-far-east-hospitality.csv is 2290\n",
      "Length of /kaggle/input/hotel-reviews/cleaned_holiday-inn-express-clarke-quay.csv is 2169\n"
     ]
    }
   ],
   "source": [
    "df = combine_csv_to_dataframe(star3, all_star = False, filterDate = False)"
   ]
  },
  {
   "cell_type": "code",
   "execution_count": 79,
   "id": "1c4668c2",
   "metadata": {
    "execution": {
     "iopub.execute_input": "2023-10-25T15:36:19.828413Z",
     "iopub.status.busy": "2023-10-25T15:36:19.827600Z",
     "iopub.status.idle": "2023-10-25T15:36:19.841890Z",
     "shell.execute_reply": "2023-10-25T15:36:19.841032Z",
     "shell.execute_reply.started": "2023-10-25T15:36:19.828376Z"
    }
   },
   "outputs": [],
   "source": [
    "df.dropna(subset=['label'], inplace=True)"
   ]
  },
  {
   "cell_type": "code",
   "execution_count": 80,
   "id": "7d4f2a90",
   "metadata": {
    "execution": {
     "iopub.execute_input": "2023-10-25T15:36:19.843632Z",
     "iopub.status.busy": "2023-10-25T15:36:19.843275Z",
     "iopub.status.idle": "2023-10-25T15:36:19.872077Z",
     "shell.execute_reply": "2023-10-25T15:36:19.871169Z",
     "shell.execute_reply.started": "2023-10-25T15:36:19.843608Z"
    },
    "id": "vOABB69tBg24",
    "outputId": "e456f548-0faa-4460-9981-9ee4bd19e4b4",
    "papermill": {
     "duration": 0.042935,
     "end_time": "2022-11-03T08:53:47.536311",
     "exception": false,
     "start_time": "2022-11-03T08:53:47.493376",
     "status": "completed"
    },
    "tags": []
   },
   "outputs": [
    {
     "name": "stdout",
     "output_type": "stream",
     "text": [
      "<class 'pandas.core.frame.DataFrame'>\n",
      "Index: 14069 entries, 0 to 14069\n",
      "Data columns (total 18 columns):\n",
      " #   Column                                 Non-Null Count  Dtype  \n",
      "---  ------                                 --------------  -----  \n",
      " 0   Unnamed: 0                             14069 non-null  int64  \n",
      " 1   traveller_username                     14069 non-null  object \n",
      " 2   review_title                           14067 non-null  object \n",
      " 3   review_text                            14069 non-null  object \n",
      " 4   travel_type                            4634 non-null   object \n",
      " 5   traveller_country_origin               9921 non-null   object \n",
      " 6   traveller_total_contributions          14040 non-null  object \n",
      " 7   traveller_total_helpful_contributions  9934 non-null   float64\n",
      " 8   rating                                 14069 non-null  float64\n",
      " 9   valid_rating                           14069 non-null  bool   \n",
      " 10  label                                  14069 non-null  object \n",
      " 11  cleaned_review                         14069 non-null  object \n",
      " 12  combined_review                        14069 non-null  object \n",
      " 13  date                                   14069 non-null  object \n",
      " 14  covid                                  14069 non-null  object \n",
      " 15  year                                   14069 non-null  int64  \n",
      " 16  stem_review                            14069 non-null  object \n",
      " 17  lem_review                             14069 non-null  object \n",
      "dtypes: bool(1), float64(2), int64(2), object(13)\n",
      "memory usage: 1.9+ MB\n"
     ]
    }
   ],
   "source": [
    "df.info()"
   ]
  },
  {
   "cell_type": "code",
   "execution_count": 81,
   "id": "5e60ebda",
   "metadata": {
    "execution": {
     "iopub.execute_input": "2023-10-25T15:36:20.037742Z",
     "iopub.status.busy": "2023-10-25T15:36:20.036729Z",
     "iopub.status.idle": "2023-10-25T15:36:20.046924Z",
     "shell.execute_reply": "2023-10-25T15:36:20.045827Z",
     "shell.execute_reply.started": "2023-10-25T15:36:20.037710Z"
    },
    "id": "E2UVJUZ72bNR",
    "outputId": "67d4fe66-c184-4805-ad9b-57da23aae385",
    "papermill": {
     "duration": 0.039154,
     "end_time": "2022-11-03T08:53:47.675619",
     "exception": false,
     "start_time": "2022-11-03T08:53:47.636465",
     "status": "completed"
    },
    "tags": []
   },
   "outputs": [
    {
     "data": {
      "text/plain": [
       "label\n",
       "Positive    11266\n",
       "Neutral      1745\n",
       "Negative     1058\n",
       "Name: count, dtype: int64"
      ]
     },
     "execution_count": 81,
     "metadata": {},
     "output_type": "execute_result"
    }
   ],
   "source": [
    "df.label.value_counts()"
   ]
  },
  {
   "cell_type": "code",
   "execution_count": 82,
   "id": "7bcd3ff9",
   "metadata": {
    "execution": {
     "iopub.execute_input": "2023-10-25T15:36:20.348958Z",
     "iopub.status.busy": "2023-10-25T15:36:20.348646Z",
     "iopub.status.idle": "2023-10-25T15:36:20.357545Z",
     "shell.execute_reply": "2023-10-25T15:36:20.356598Z",
     "shell.execute_reply.started": "2023-10-25T15:36:20.348931Z"
    },
    "id": "Tn3DGSfgBrxX",
    "outputId": "a89870f8-7b4a-4ccb-dc50-41dc7d721c10",
    "papermill": {
     "duration": 0.032463,
     "end_time": "2022-11-03T08:53:47.727362",
     "exception": false,
     "start_time": "2022-11-03T08:53:47.694899",
     "status": "completed"
    },
    "tags": []
   },
   "outputs": [
    {
     "data": {
      "text/plain": [
       "1058"
      ]
     },
     "execution_count": 82,
     "metadata": {},
     "output_type": "execute_result"
    }
   ],
   "source": [
    "min(df.label.value_counts())"
   ]
  },
  {
   "cell_type": "code",
   "execution_count": 83,
   "id": "ac60f620",
   "metadata": {
    "execution": {
     "iopub.execute_input": "2023-10-25T15:36:20.651040Z",
     "iopub.status.busy": "2023-10-25T15:36:20.650493Z",
     "iopub.status.idle": "2023-10-25T15:36:20.665670Z",
     "shell.execute_reply": "2023-10-25T15:36:20.664755Z",
     "shell.execute_reply.started": "2023-10-25T15:36:20.651011Z"
    }
   },
   "outputs": [],
   "source": [
    "df = df[df[\"label\"]!=\"Neutral\"]"
   ]
  },
  {
   "cell_type": "code",
   "execution_count": 84,
   "id": "60208ea9",
   "metadata": {
    "execution": {
     "iopub.execute_input": "2023-10-25T15:36:21.163261Z",
     "iopub.status.busy": "2023-10-25T15:36:21.162873Z",
     "iopub.status.idle": "2023-10-25T15:36:21.167785Z",
     "shell.execute_reply": "2023-10-25T15:36:21.166812Z",
     "shell.execute_reply.started": "2023-10-25T15:36:21.163231Z"
    },
    "id": "jSaUvn_X6A6L",
    "papermill": {
     "duration": 0.027796,
     "end_time": "2022-11-03T08:53:47.774694",
     "exception": false,
     "start_time": "2022-11-03T08:53:47.746898",
     "status": "completed"
    },
    "tags": []
   },
   "outputs": [],
   "source": [
    "import random"
   ]
  },
  {
   "cell_type": "code",
   "execution_count": 85,
   "id": "928db6a2",
   "metadata": {
    "execution": {
     "iopub.execute_input": "2023-10-25T15:36:21.472723Z",
     "iopub.status.busy": "2023-10-25T15:36:21.472415Z",
     "iopub.status.idle": "2023-10-25T15:36:21.477393Z",
     "shell.execute_reply": "2023-10-25T15:36:21.476314Z",
     "shell.execute_reply.started": "2023-10-25T15:36:21.472699Z"
    }
   },
   "outputs": [],
   "source": [
    "def encode_label(row):\n",
    "    if row[\"label\"] == \"Positive\":\n",
    "        return 1\n",
    "    else:\n",
    "        return 0"
   ]
  },
  {
   "cell_type": "code",
   "execution_count": 86,
   "id": "4acc965d",
   "metadata": {
    "execution": {
     "iopub.execute_input": "2023-10-25T15:36:21.901692Z",
     "iopub.status.busy": "2023-10-25T15:36:21.901334Z",
     "iopub.status.idle": "2023-10-25T15:36:21.907105Z",
     "shell.execute_reply": "2023-10-25T15:36:21.906026Z",
     "shell.execute_reply.started": "2023-10-25T15:36:21.901663Z"
    },
    "id": "9foY5rhU6pHI",
    "papermill": {
     "duration": 0.029291,
     "end_time": "2022-11-03T08:54:29.196731",
     "exception": false,
     "start_time": "2022-11-03T08:54:29.167440",
     "status": "completed"
    },
    "tags": []
   },
   "outputs": [],
   "source": [
    "def split_dataset(df, test_size, random_state):\n",
    "\n",
    "    df_train, df_test = train_test_split(df, test_size=test_size, random_state=random_state)\n",
    "    return df_train, df_test"
   ]
  },
  {
   "cell_type": "code",
   "execution_count": 87,
   "id": "8bc4a4ff",
   "metadata": {
    "execution": {
     "iopub.execute_input": "2023-10-25T15:36:22.494720Z",
     "iopub.status.busy": "2023-10-25T15:36:22.494362Z",
     "iopub.status.idle": "2023-10-25T15:36:22.639756Z",
     "shell.execute_reply": "2023-10-25T15:36:22.639001Z",
     "shell.execute_reply.started": "2023-10-25T15:36:22.494692Z"
    }
   },
   "outputs": [],
   "source": [
    "df[\"label\"] = df.apply(lambda row: encode_label(row), axis = 1)"
   ]
  },
  {
   "cell_type": "code",
   "execution_count": 88,
   "id": "52b506e3",
   "metadata": {
    "execution": {
     "iopub.execute_input": "2023-10-25T15:36:23.211677Z",
     "iopub.status.busy": "2023-10-25T15:36:23.210794Z",
     "iopub.status.idle": "2023-10-25T15:36:23.232941Z",
     "shell.execute_reply": "2023-10-25T15:36:23.232040Z",
     "shell.execute_reply.started": "2023-10-25T15:36:23.211643Z"
    },
    "id": "wCxPWsM16o6Q",
    "papermill": {
     "duration": 0.047878,
     "end_time": "2022-11-03T08:54:29.310512",
     "exception": false,
     "start_time": "2022-11-03T08:54:29.262634",
     "status": "completed"
    },
    "tags": []
   },
   "outputs": [],
   "source": [
    "train, test = split_dataset(df, test_size=0.2, random_state=0) # positive labels being encoded as 1"
   ]
  },
  {
   "cell_type": "code",
   "execution_count": 89,
   "id": "c97270a3",
   "metadata": {
    "execution": {
     "iopub.execute_input": "2023-10-25T15:36:26.489288Z",
     "iopub.status.busy": "2023-10-25T15:36:26.488857Z",
     "iopub.status.idle": "2023-10-25T15:36:26.497756Z",
     "shell.execute_reply": "2023-10-25T15:36:26.496737Z",
     "shell.execute_reply.started": "2023-10-25T15:36:26.489256Z"
    },
    "id": "WMzvkVdekFy7",
    "outputId": "ef803d37-d05e-4579-96a7-976325a0a007",
    "papermill": {
     "duration": 0.034985,
     "end_time": "2022-11-03T08:54:29.368270",
     "exception": false,
     "start_time": "2022-11-03T08:54:29.333285",
     "status": "completed"
    },
    "tags": []
   },
   "outputs": [
    {
     "data": {
      "text/plain": [
       "label\n",
       "1    9021\n",
       "0     838\n",
       "Name: count, dtype: int64"
      ]
     },
     "execution_count": 89,
     "metadata": {},
     "output_type": "execute_result"
    }
   ],
   "source": [
    "train.label.value_counts()"
   ]
  },
  {
   "cell_type": "code",
   "execution_count": 90,
   "id": "2e8bfdf1",
   "metadata": {
    "execution": {
     "iopub.execute_input": "2023-10-25T15:36:28.170297Z",
     "iopub.status.busy": "2023-10-25T15:36:28.169911Z",
     "iopub.status.idle": "2023-10-25T15:36:28.176384Z",
     "shell.execute_reply": "2023-10-25T15:36:28.175438Z",
     "shell.execute_reply.started": "2023-10-25T15:36:28.170269Z"
    }
   },
   "outputs": [],
   "source": [
    "df = train"
   ]
  },
  {
   "cell_type": "code",
   "execution_count": 91,
   "id": "a4d059fa",
   "metadata": {
    "execution": {
     "iopub.execute_input": "2023-10-25T15:36:34.065289Z",
     "iopub.status.busy": "2023-10-25T15:36:34.064936Z",
     "iopub.status.idle": "2023-10-25T15:36:34.071463Z",
     "shell.execute_reply": "2023-10-25T15:36:34.070409Z",
     "shell.execute_reply.started": "2023-10-25T15:36:34.065263Z"
    },
    "id": "-GuTNPcSijwU",
    "papermill": {
     "duration": 0.027809,
     "end_time": "2022-11-03T08:53:47.821832",
     "exception": false,
     "start_time": "2022-11-03T08:53:47.794023",
     "status": "completed"
    },
    "tags": []
   },
   "outputs": [],
   "source": [
    "def undersampling(df, label):\n",
    "    no_samples = min(df.label.value_counts())\n",
    "    df0 = df[df[label]==0].sample(n=no_samples, random_state=1)\n",
    "    df1 = df[df[label]==1].sample(n=no_samples, random_state=1)\n",
    "    #df2 = df[df[label]==2].sample(n=no_samples, random_state=1)\n",
    "    return pd.concat([df0, df1])"
   ]
  },
  {
   "cell_type": "code",
   "execution_count": 92,
   "id": "380bae8d",
   "metadata": {
    "execution": {
     "iopub.execute_input": "2023-10-25T15:36:40.930786Z",
     "iopub.status.busy": "2023-10-25T15:36:40.930107Z",
     "iopub.status.idle": "2023-10-25T15:36:40.950837Z",
     "shell.execute_reply": "2023-10-25T15:36:40.950032Z",
     "shell.execute_reply.started": "2023-10-25T15:36:40.930755Z"
    },
    "id": "6uLfH7GA6e65",
    "papermill": {
     "duration": 0.099799,
     "end_time": "2022-11-03T08:53:47.941636",
     "exception": false,
     "start_time": "2022-11-03T08:53:47.841837",
     "status": "completed"
    },
    "tags": []
   },
   "outputs": [],
   "source": [
    "undersampled = undersampling(df, 'label')"
   ]
  },
  {
   "cell_type": "code",
   "execution_count": 93,
   "id": "4eb4ee13",
   "metadata": {
    "execution": {
     "iopub.execute_input": "2023-10-25T15:36:44.667925Z",
     "iopub.status.busy": "2023-10-25T15:36:44.667509Z",
     "iopub.status.idle": "2023-10-25T15:36:44.676531Z",
     "shell.execute_reply": "2023-10-25T15:36:44.675463Z",
     "shell.execute_reply.started": "2023-10-25T15:36:44.667889Z"
    },
    "id": "zfx4nBO37eKY",
    "outputId": "1246ebdd-e1e6-4828-8a24-2b1f67bb90d9",
    "papermill": {
     "duration": 0.032341,
     "end_time": "2022-11-03T08:53:47.994412",
     "exception": false,
     "start_time": "2022-11-03T08:53:47.962071",
     "status": "completed"
    },
    "tags": []
   },
   "outputs": [
    {
     "data": {
      "text/plain": [
       "label\n",
       "0    838\n",
       "1    838\n",
       "Name: count, dtype: int64"
      ]
     },
     "execution_count": 93,
     "metadata": {},
     "output_type": "execute_result"
    }
   ],
   "source": [
    "undersampled.label.value_counts()"
   ]
  },
  {
   "cell_type": "code",
   "execution_count": 94,
   "id": "68ea7571",
   "metadata": {
    "execution": {
     "iopub.execute_input": "2023-10-25T15:36:46.190745Z",
     "iopub.status.busy": "2023-10-25T15:36:46.189853Z",
     "iopub.status.idle": "2023-10-25T15:36:47.932480Z",
     "shell.execute_reply": "2023-10-25T15:36:47.931632Z",
     "shell.execute_reply.started": "2023-10-25T15:36:46.190711Z"
    },
    "id": "CAKJBJZ72KUA",
    "outputId": "ca888abc-40f6-4362-dd19-f85f0af0a64c",
    "papermill": {
     "duration": 41.068823,
     "end_time": "2022-11-03T08:54:29.083274",
     "exception": false,
     "start_time": "2022-11-03T08:53:48.014451",
     "status": "completed"
    },
    "tags": []
   },
   "outputs": [
    {
     "name": "stderr",
     "output_type": "stream",
     "text": [
      "All PyTorch model weights were used when initializing TFBertForSequenceClassification.\n",
      "\n",
      "Some weights or buffers of the TF 2.0 model TFBertForSequenceClassification were not initialized from the PyTorch model and are newly initialized: ['classifier.weight', 'classifier.bias']\n",
      "You should probably TRAIN this model on a down-stream task to be able to use it for predictions and inference.\n"
     ]
    }
   ],
   "source": [
    "from transformers import BertTokenizer, TFBertForSequenceClassification, InputExample, InputFeatures\n",
    "\n",
    "\n",
    "model = TFBertForSequenceClassification.from_pretrained(\"bert-base-uncased\",num_labels=2)\n",
    "tokenizer = BertTokenizer.from_pretrained(\"bert-base-uncased\")"
   ]
  },
  {
   "cell_type": "code",
   "execution_count": 95,
   "id": "781c62cc",
   "metadata": {
    "execution": {
     "iopub.execute_input": "2023-10-25T15:36:47.934488Z",
     "iopub.status.busy": "2023-10-25T15:36:47.934152Z",
     "iopub.status.idle": "2023-10-25T15:36:47.968098Z",
     "shell.execute_reply": "2023-10-25T15:36:47.967055Z",
     "shell.execute_reply.started": "2023-10-25T15:36:47.934461Z"
    },
    "id": "hkDcS_oA2KQ_",
    "outputId": "2133831c-42cb-49c6-cbae-0e11b454359d",
    "papermill": {
     "duration": 0.041429,
     "end_time": "2022-11-03T08:54:29.146668",
     "exception": false,
     "start_time": "2022-11-03T08:54:29.105239",
     "status": "completed"
    },
    "tags": []
   },
   "outputs": [
    {
     "name": "stdout",
     "output_type": "stream",
     "text": [
      "Model: \"tf_bert_for_sequence_classification_2\"\n",
      "_________________________________________________________________\n",
      " Layer (type)                Output Shape              Param #   \n",
      "=================================================================\n",
      " bert (TFBertMainLayer)      multiple                  109482240 \n",
      "                                                                 \n",
      " dropout_113 (Dropout)       multiple                  0         \n",
      "                                                                 \n",
      " classifier (Dense)          multiple                  1538      \n",
      "                                                                 \n",
      "=================================================================\n",
      "Total params: 109,483,778\n",
      "Trainable params: 109,483,778\n",
      "Non-trainable params: 0\n",
      "_________________________________________________________________\n"
     ]
    }
   ],
   "source": [
    "model.summary()"
   ]
  },
  {
   "cell_type": "code",
   "execution_count": 96,
   "id": "a03fe2cb",
   "metadata": {
    "execution": {
     "iopub.execute_input": "2023-10-25T15:36:48.403758Z",
     "iopub.status.busy": "2023-10-25T15:36:48.403326Z",
     "iopub.status.idle": "2023-10-25T15:36:48.408422Z",
     "shell.execute_reply": "2023-10-25T15:36:48.407325Z",
     "shell.execute_reply.started": "2023-10-25T15:36:48.403730Z"
    },
    "id": "mlnjrHyakaUc",
    "papermill": {
     "duration": 0.030644,
     "end_time": "2022-11-03T08:54:29.421613",
     "exception": false,
     "start_time": "2022-11-03T08:54:29.390969",
     "status": "completed"
    },
    "tags": []
   },
   "outputs": [],
   "source": [
    "#cw = sklearn.utils.class_weight.compute_class_weight(class_weight='balanced', classes=np.array([0,1]), y=np.array(train.textblob_sentiment))"
   ]
  },
  {
   "cell_type": "code",
   "execution_count": 97,
   "id": "1cce8cf4",
   "metadata": {
    "execution": {
     "iopub.execute_input": "2023-10-25T15:36:48.709886Z",
     "iopub.status.busy": "2023-10-25T15:36:48.709586Z",
     "iopub.status.idle": "2023-10-25T15:36:48.713961Z",
     "shell.execute_reply": "2023-10-25T15:36:48.712981Z",
     "shell.execute_reply.started": "2023-10-25T15:36:48.709862Z"
    },
    "id": "_Q2MyIuabW9r",
    "outputId": "6f8f8590-5fd0-4f15-c09d-304a146863c5",
    "papermill": {
     "duration": 0.030005,
     "end_time": "2022-11-03T08:54:29.474267",
     "exception": false,
     "start_time": "2022-11-03T08:54:29.444262",
     "status": "completed"
    },
    "tags": []
   },
   "outputs": [],
   "source": [
    "#cw"
   ]
  },
  {
   "cell_type": "code",
   "execution_count": 98,
   "id": "0d097213",
   "metadata": {
    "execution": {
     "iopub.execute_input": "2023-10-25T15:36:49.120492Z",
     "iopub.status.busy": "2023-10-25T15:36:49.119541Z",
     "iopub.status.idle": "2023-10-25T15:36:49.124472Z",
     "shell.execute_reply": "2023-10-25T15:36:49.123496Z",
     "shell.execute_reply.started": "2023-10-25T15:36:49.120456Z"
    },
    "id": "vB4-dIGqbw2Q",
    "papermill": {
     "duration": 0.02778,
     "end_time": "2022-11-03T08:54:29.522835",
     "exception": false,
     "start_time": "2022-11-03T08:54:29.495055",
     "status": "completed"
    },
    "tags": []
   },
   "outputs": [],
   "source": [
    "#class_weight = {}"
   ]
  },
  {
   "cell_type": "code",
   "execution_count": 99,
   "id": "28f93a43",
   "metadata": {
    "execution": {
     "iopub.execute_input": "2023-10-25T15:36:49.427005Z",
     "iopub.status.busy": "2023-10-25T15:36:49.426321Z",
     "iopub.status.idle": "2023-10-25T15:36:49.431025Z",
     "shell.execute_reply": "2023-10-25T15:36:49.430068Z",
     "shell.execute_reply.started": "2023-10-25T15:36:49.426960Z"
    },
    "id": "6I9dbft6bnng",
    "outputId": "da53b6fa-e4c2-424b-e2f0-0049b60b51ee",
    "papermill": {
     "duration": 0.02801,
     "end_time": "2022-11-03T08:54:29.571826",
     "exception": false,
     "start_time": "2022-11-03T08:54:29.543816",
     "status": "completed"
    },
    "tags": []
   },
   "outputs": [],
   "source": [
    "#for i in range(len(list(cw))):\n",
    "#  class_weight[i]=cw[i]\n",
    "#class_weight"
   ]
  },
  {
   "cell_type": "code",
   "execution_count": 100,
   "id": "39854933",
   "metadata": {
    "execution": {
     "iopub.execute_input": "2023-10-25T15:36:49.737936Z",
     "iopub.status.busy": "2023-10-25T15:36:49.737625Z",
     "iopub.status.idle": "2023-10-25T15:36:49.750438Z",
     "shell.execute_reply": "2023-10-25T15:36:49.749455Z",
     "shell.execute_reply.started": "2023-10-25T15:36:49.737911Z"
    },
    "id": "IkhkZ7vB28SP",
    "papermill": {
     "duration": 0.03653,
     "end_time": "2022-11-03T08:54:29.629599",
     "exception": false,
     "start_time": "2022-11-03T08:54:29.593069",
     "status": "completed"
    },
    "tags": []
   },
   "outputs": [],
   "source": [
    "def convert_data_to_examples(train, test, DATA_COLUMN, LABEL_COLUMN): \n",
    "    train_InputExamples = train.apply(lambda x: InputExample(guid=None, #Globally unique ID for bookkeeping, unused in this case\n",
    "                                                           text_a=x[DATA_COLUMN],\n",
    "                                                           text_b=None,\n",
    "                                                           label=x[LABEL_COLUMN]), axis=1)\n",
    "\n",
    "    validation_InputExamples = test.apply(lambda x: InputExample(guid=None, # Globally unique ID for bookkeeping, unused in this case\n",
    "                                                               text_a=x[DATA_COLUMN],\n",
    "                                                               text_b=None,\n",
    "                                                               label=x[LABEL_COLUMN]), axis=1)\n",
    "  \n",
    "    return train_InputExamples, validation_InputExamples\n",
    "\n",
    "#train_InputExamples, validation_InputExamples = convert_data_to_examples(train, test, 'lem_review', 'label')\n",
    "def convert_examples_to_tf_dataset(examples, tokenizer, max_length=128):\n",
    "    features = [] # -> will hold InputFeatures to be converted later\n",
    "\n",
    "    for e in examples:\n",
    "        # Documentation is really strong for this method, so please take a look at it\n",
    "        input_dict = tokenizer.encode_plus(\n",
    "            e.text_a,\n",
    "            add_special_tokens=True,\n",
    "            max_length=max_length, # truncates if len(s) > max_length\n",
    "            return_token_type_ids=True,\n",
    "            return_attention_mask=True,\n",
    "            pad_to_max_length=True, # pads to the right by default # CHECK THIS for pad_to_max_length\n",
    "            truncation=True\n",
    "        )\n",
    "\n",
    "        input_ids, token_type_ids, attention_mask = (input_dict[\"input_ids\"],\n",
    "            input_dict[\"token_type_ids\"], input_dict['attention_mask'])\n",
    "\n",
    "        features.append(\n",
    "            InputFeatures(\n",
    "                input_ids=input_ids, attention_mask=attention_mask, token_type_ids=token_type_ids, label=e.label\n",
    "            )\n",
    "        )\n",
    "\n",
    "    def gen():\n",
    "        for f in features:\n",
    "            yield (\n",
    "                {\n",
    "                    \"input_ids\": f.input_ids,\n",
    "                    \"attention_mask\": f.attention_mask,\n",
    "                    \"token_type_ids\": f.token_type_ids,\n",
    "                },\n",
    "                f.label,\n",
    "            )\n",
    "\n",
    "    return tf.data.Dataset.from_generator(\n",
    "        gen,\n",
    "        ({\"input_ids\": tf.int32, \"attention_mask\": tf.int32, \"token_type_ids\": tf.int32}, tf.int64),\n",
    "        (\n",
    "            {\n",
    "                \"input_ids\": tf.TensorShape([None]),\n",
    "                \"attention_mask\": tf.TensorShape([None]),\n",
    "                \"token_type_ids\": tf.TensorShape([None]),\n",
    "            },\n",
    "            tf.TensorShape([]),\n",
    "        ),\n",
    "    )\n",
    "\n",
    "\n"
   ]
  },
  {
   "cell_type": "code",
   "execution_count": 101,
   "id": "e63b4ec8",
   "metadata": {
    "execution": {
     "iopub.execute_input": "2023-10-25T15:36:50.144079Z",
     "iopub.status.busy": "2023-10-25T15:36:50.143344Z",
     "iopub.status.idle": "2023-10-25T15:36:50.148066Z",
     "shell.execute_reply": "2023-10-25T15:36:50.147127Z",
     "shell.execute_reply.started": "2023-10-25T15:36:50.144042Z"
    },
    "id": "foKWLBTmi1cb",
    "papermill": {
     "duration": 0.028358,
     "end_time": "2022-11-03T08:54:29.737521",
     "exception": false,
     "start_time": "2022-11-03T08:54:29.709163",
     "status": "completed"
    },
    "tags": []
   },
   "outputs": [],
   "source": [
    "DATA_COLUMN = 'lem_review'\n",
    "LABEL_COLUMN = 'label'"
   ]
  },
  {
   "cell_type": "code",
   "execution_count": 102,
   "id": "5824b2bf",
   "metadata": {
    "execution": {
     "iopub.execute_input": "2023-10-25T15:36:50.575900Z",
     "iopub.status.busy": "2023-10-25T15:36:50.575578Z",
     "iopub.status.idle": "2023-10-25T15:36:50.811007Z",
     "shell.execute_reply": "2023-10-25T15:36:50.810110Z",
     "shell.execute_reply.started": "2023-10-25T15:36:50.575872Z"
    },
    "id": "VRO0BZtXkpm3",
    "papermill": {
     "duration": 2.00465,
     "end_time": "2022-11-03T08:54:31.764055",
     "exception": false,
     "start_time": "2022-11-03T08:54:29.759405",
     "status": "completed"
    },
    "tags": []
   },
   "outputs": [],
   "source": [
    "train_InputExamples, validation_InputExamples = convert_data_to_examples(train, test, DATA_COLUMN, LABEL_COLUMN)"
   ]
  },
  {
   "cell_type": "code",
   "execution_count": 104,
   "id": "704513ac",
   "metadata": {
    "execution": {
     "iopub.execute_input": "2023-10-25T15:37:12.692796Z",
     "iopub.status.busy": "2023-10-25T15:37:12.692076Z",
     "iopub.status.idle": "2023-10-25T15:37:33.353030Z",
     "shell.execute_reply": "2023-10-25T15:37:33.352046Z",
     "shell.execute_reply.started": "2023-10-25T15:37:12.692758Z"
    },
    "id": "lO1iq5ggkuOd",
    "outputId": "7123c004-a3bd-470b-9541-ebf80e069d52",
    "papermill": {
     "duration": 93.497096,
     "end_time": "2022-11-03T08:56:05.283236",
     "exception": false,
     "start_time": "2022-11-03T08:54:31.786140",
     "status": "completed"
    },
    "tags": []
   },
   "outputs": [],
   "source": [
    "train_data = convert_examples_to_tf_dataset(list(train_InputExamples), tokenizer)"
   ]
  },
  {
   "cell_type": "code",
   "execution_count": 105,
   "id": "239f34a8",
   "metadata": {
    "execution": {
     "iopub.execute_input": "2023-10-25T15:37:33.355132Z",
     "iopub.status.busy": "2023-10-25T15:37:33.354847Z",
     "iopub.status.idle": "2023-10-25T15:37:38.481204Z",
     "shell.execute_reply": "2023-10-25T15:37:38.480169Z",
     "shell.execute_reply.started": "2023-10-25T15:37:33.355109Z"
    },
    "id": "vcaOa5f928Ov",
    "papermill": {
     "duration": 38.595492,
     "end_time": "2022-11-03T08:56:43.901751",
     "exception": false,
     "start_time": "2022-11-03T08:56:05.306259",
     "status": "completed"
    },
    "tags": []
   },
   "outputs": [],
   "source": [
    "train_data = train_data.shuffle(100).batch(32)\n",
    "#.repeat(2)\n",
    "validation_data = convert_examples_to_tf_dataset(list(validation_InputExamples), tokenizer)\n",
    "validation_data = validation_data.batch(32)"
   ]
  },
  {
   "cell_type": "code",
   "execution_count": null,
   "id": "ec72fa4c",
   "metadata": {
    "execution": {
     "iopub.status.busy": "2023-10-25T15:36:56.913179Z",
     "iopub.status.idle": "2023-10-25T15:36:56.913547Z",
     "shell.execute_reply": "2023-10-25T15:36:56.913380Z",
     "shell.execute_reply.started": "2023-10-25T15:36:56.913362Z"
    },
    "id": "N1Hqdk1D28MC",
    "outputId": "e1cfed23-25da-4169-d72e-c76909e368cd",
    "papermill": {
     "duration": 0.033219,
     "end_time": "2022-11-03T08:56:43.958131",
     "exception": false,
     "start_time": "2022-11-03T08:56:43.924912",
     "status": "completed"
    },
    "tags": []
   },
   "outputs": [],
   "source": [
    "'''\n",
    "val_accs = {}\n",
    "for lr in [0.001, 1e-4, 1e-5]:\n",
    "  for eps in [1e-6, 1e-7, 1e-8]:\n",
    "    for cn in [1e-3, 1e-2, 1]:\n",
    "        model = TFBertForSequenceClassification.from_pretrained(\"bert-base-uncased\",num_labels=3)\n",
    "        model.compile(optimizer=tf.keras.optimizers.Adam(learning_rate=0.001, epsilon=1e-6, clipnorm=1.0), #lr = 3e-5, eps = 01e-8\n",
    "                      loss=tf.keras.losses.SparseCategoricalCrossentropy(from_logits=True), \n",
    "                      metrics=[tf.keras.metrics.SparseCategoricalAccuracy('val_accuracy')])\n",
    "\n",
    "        history = model.fit(train_data, epochs=2, validation_data=validation_data, class_weight = class_weight)\n",
    "        val_accs[(lr, eps, cn)] = history\n",
    "'''"
   ]
  },
  {
   "cell_type": "code",
   "execution_count": 106,
   "id": "f8b88a50",
   "metadata": {
    "execution": {
     "iopub.execute_input": "2023-10-25T15:37:38.483007Z",
     "iopub.status.busy": "2023-10-25T15:37:38.482682Z",
     "iopub.status.idle": "2023-10-25T15:37:38.487976Z",
     "shell.execute_reply": "2023-10-25T15:37:38.486775Z",
     "shell.execute_reply.started": "2023-10-25T15:37:38.482963Z"
    },
    "id": "auZXLrLbkigC",
    "papermill": {
     "duration": 0.03085,
     "end_time": "2022-11-03T08:56:44.012199",
     "exception": false,
     "start_time": "2022-11-03T08:56:43.981349",
     "status": "completed"
    },
    "tags": []
   },
   "outputs": [],
   "source": [
    "callback = tf.keras.callbacks.EarlyStopping(monitor='val_sc_accuracy', patience=2, restore_best_weights=True)"
   ]
  },
  {
   "cell_type": "code",
   "execution_count": 107,
   "id": "8aa170aa",
   "metadata": {
    "execution": {
     "iopub.execute_input": "2023-10-25T15:37:38.490568Z",
     "iopub.status.busy": "2023-10-25T15:37:38.490205Z",
     "iopub.status.idle": "2023-10-25T16:00:55.395134Z",
     "shell.execute_reply": "2023-10-25T16:00:55.394153Z",
     "shell.execute_reply.started": "2023-10-25T15:37:38.490534Z"
    },
    "id": "81CbNIoiBP5t",
    "outputId": "3f1cd4e3-96ff-4c28-d96d-a1f3c1a5e507",
    "papermill": {
     "duration": 11711.151808,
     "end_time": "2022-11-03T12:11:55.186058",
     "exception": false,
     "start_time": "2022-11-03T08:56:44.034250",
     "status": "completed"
    },
    "tags": []
   },
   "outputs": [
    {
     "name": "stderr",
     "output_type": "stream",
     "text": [
      "All PyTorch model weights were used when initializing TFBertForSequenceClassification.\n",
      "\n",
      "Some weights or buffers of the TF 2.0 model TFBertForSequenceClassification were not initialized from the PyTorch model and are newly initialized: ['classifier.weight', 'classifier.bias']\n",
      "You should probably TRAIN this model on a down-stream task to be able to use it for predictions and inference.\n"
     ]
    },
    {
     "name": "stdout",
     "output_type": "stream",
     "text": [
      "Epoch 1/5\n",
      "309/309 [==============================] - 328s 896ms/step - loss: 0.1378 - sc_accuracy: 0.9506 - val_loss: 0.0772 - val_sc_accuracy: 0.9712\n",
      "Epoch 2/5\n",
      "309/309 [==============================] - 268s 868ms/step - loss: 0.0588 - sc_accuracy: 0.9817 - val_loss: 0.0904 - val_sc_accuracy: 0.9716\n",
      "Epoch 3/5\n",
      "309/309 [==============================] - 267s 864ms/step - loss: 0.0324 - sc_accuracy: 0.9887 - val_loss: 0.0933 - val_sc_accuracy: 0.9732\n",
      "Epoch 4/5\n",
      "309/309 [==============================] - 266s 862ms/step - loss: 0.0195 - sc_accuracy: 0.9944 - val_loss: 0.1285 - val_sc_accuracy: 0.9728\n",
      "Epoch 5/5\n",
      "309/309 [==============================] - 266s 861ms/step - loss: 0.0120 - sc_accuracy: 0.9959 - val_loss: 0.0784 - val_sc_accuracy: 0.9736\n"
     ]
    }
   ],
   "source": [
    "model = TFBertForSequenceClassification.from_pretrained(\"bert-base-uncased\",num_labels=2)\n",
    "model.compile(\n",
    "    optimizer=tf.keras.optimizers.Adam(learning_rate=3e-5, epsilon=1e-8, clipnorm=1.0), #lr=3e-5, eps=01e-8\n",
    "    loss=tf.keras.losses.SparseCategoricalCrossentropy(from_logits=True), \n",
    "    metrics=[tf.keras.metrics.SparseCategoricalAccuracy('sc_accuracy')]\n",
    ")\n",
    "\n",
    "history = model.fit(\n",
    "    train_data,\n",
    "    epochs=5,\n",
    "    validation_data=validation_data,\n",
    "    callbacks=[callback],\n",
    "    #class_weight=class_weight\n",
    ")"
   ]
  },
  {
   "cell_type": "code",
   "execution_count": null,
   "id": "ac9d13d7",
   "metadata": {
    "execution": {
     "iopub.status.busy": "2023-10-25T15:36:56.917558Z",
     "iopub.status.idle": "2023-10-25T15:36:56.917861Z",
     "shell.execute_reply": "2023-10-25T15:36:56.917723Z",
     "shell.execute_reply.started": "2023-10-25T15:36:56.917709Z"
    },
    "id": "RcNiIapr45Bk",
    "outputId": "70b68c15-1786-4a87-a263-601b23cc97a2",
    "papermill": {
     "duration": 36.804147,
     "end_time": "2022-11-03T12:12:32.337238",
     "exception": false,
     "start_time": "2022-11-03T12:11:55.533091",
     "status": "completed"
    },
    "tags": []
   },
   "outputs": [],
   "source": [
    "#import os\n",
    "#saved_model = \"textblob_saved_model_booking3\"\n",
    "#os.makedirs(saved_model, exist_ok=True)\n",
    "#model.save(saved_model)"
   ]
  },
  {
   "cell_type": "code",
   "execution_count": 117,
   "id": "0b607293",
   "metadata": {
    "execution": {
     "iopub.execute_input": "2023-10-25T16:01:44.592387Z",
     "iopub.status.busy": "2023-10-25T16:01:44.592015Z",
     "iopub.status.idle": "2023-10-25T16:01:44.596852Z",
     "shell.execute_reply": "2023-10-25T16:01:44.595932Z",
     "shell.execute_reply.started": "2023-10-25T16:01:44.592358Z"
    },
    "papermill": {
     "duration": 0.440977,
     "end_time": "2022-11-03T12:13:42.835065",
     "exception": false,
     "start_time": "2022-11-03T12:13:42.394088",
     "status": "completed"
    },
    "tags": []
   },
   "outputs": [],
   "source": [
    "test_set = test\n",
    "\n",
    "#test_set = test_set[test_set[\"label\"]!=\"neutral\"]\n",
    "\n",
    "#test_set=test_set.replace({\"label\": {'positive':1, 'negative':0}})"
   ]
  },
  {
   "cell_type": "code",
   "execution_count": 118,
   "id": "39c64c59",
   "metadata": {
    "execution": {
     "iopub.execute_input": "2023-10-25T16:01:44.901573Z",
     "iopub.status.busy": "2023-10-25T16:01:44.901216Z",
     "iopub.status.idle": "2023-10-25T16:01:44.905918Z",
     "shell.execute_reply": "2023-10-25T16:01:44.904909Z",
     "shell.execute_reply.started": "2023-10-25T16:01:44.901547Z"
    },
    "id": "Snig3GWJAScZ",
    "outputId": "ab597d8b-ff51-4a83-861c-c0ef6366b80d",
    "papermill": {
     "duration": 0.414885,
     "end_time": "2022-11-03T12:13:43.611706",
     "exception": false,
     "start_time": "2022-11-03T12:13:43.196821",
     "status": "completed"
    },
    "tags": []
   },
   "outputs": [],
   "source": [
    "#from google.colab import files\n",
    "#files.download('textblob_saved_model.zip') "
   ]
  },
  {
   "cell_type": "code",
   "execution_count": null,
   "id": "35f2cdd8",
   "metadata": {},
   "outputs": [],
   "source": []
  },
  {
   "cell_type": "code",
   "execution_count": 119,
   "id": "4e5e09af",
   "metadata": {
    "execution": {
     "iopub.execute_input": "2023-10-25T16:01:45.616506Z",
     "iopub.status.busy": "2023-10-25T16:01:45.615612Z",
     "iopub.status.idle": "2023-10-25T16:01:45.620978Z",
     "shell.execute_reply": "2023-10-25T16:01:45.619973Z",
     "shell.execute_reply.started": "2023-10-25T16:01:45.616470Z"
    },
    "id": "cid5qB_P28Jf",
    "papermill": {
     "duration": 0.355937,
     "end_time": "2022-11-03T12:13:44.308538",
     "exception": false,
     "start_time": "2022-11-03T12:13:43.952601",
     "status": "completed"
    },
    "tags": []
   },
   "outputs": [],
   "source": [
    "pred_sentences = ['Cool',\n",
    "                  'One of the worst movies of all time. I cannot believe I wasted two hours of my life for this movie']"
   ]
  },
  {
   "cell_type": "code",
   "execution_count": 120,
   "id": "480440a1",
   "metadata": {
    "execution": {
     "iopub.execute_input": "2023-10-25T16:01:45.937261Z",
     "iopub.status.busy": "2023-10-25T16:01:45.936879Z",
     "iopub.status.idle": "2023-10-25T16:01:46.141916Z",
     "shell.execute_reply": "2023-10-25T16:01:46.141060Z",
     "shell.execute_reply.started": "2023-10-25T16:01:45.937232Z"
    },
    "id": "LxDceUJq28Gt",
    "outputId": "a1da097a-741a-4091-f1e3-ca95fa6b9af8",
    "papermill": {
     "duration": 0.81278,
     "end_time": "2022-11-03T12:13:45.463565",
     "exception": false,
     "start_time": "2022-11-03T12:13:44.650785",
     "status": "completed"
    },
    "tags": []
   },
   "outputs": [
    {
     "name": "stdout",
     "output_type": "stream",
     "text": [
      "Cool : \n",
      " 1\n",
      "One of the worst movies of all time. I cannot believe I wasted two hours of my life for this movie : \n",
      " 0\n"
     ]
    }
   ],
   "source": [
    "tf_batch = tokenizer(pred_sentences, max_length=128, padding=True, truncation=True, return_tensors='tf')\n",
    "tf_outputs = model(tf_batch)\n",
    "tf_predictions = tf.nn.softmax(tf_outputs[0], axis=-1)\n",
    "labels = ['Negative','Positive']\n",
    "label = tf.argmax(tf_predictions, axis=1)\n",
    "label = label.numpy()\n",
    "for i in range(len(pred_sentences)):\n",
    "      print(pred_sentences[i], \": \\n\", label[i])"
   ]
  },
  {
   "cell_type": "code",
   "execution_count": 121,
   "id": "a63d1939",
   "metadata": {
    "execution": {
     "iopub.execute_input": "2023-10-25T16:01:46.364701Z",
     "iopub.status.busy": "2023-10-25T16:01:46.363849Z",
     "iopub.status.idle": "2023-10-25T16:01:46.370343Z",
     "shell.execute_reply": "2023-10-25T16:01:46.369415Z",
     "shell.execute_reply.started": "2023-10-25T16:01:46.364667Z"
    },
    "id": "ushzZiw65-Lz",
    "papermill": {
     "duration": 0.418448,
     "end_time": "2022-11-03T12:13:59.414117",
     "exception": false,
     "start_time": "2022-11-03T12:13:58.995669",
     "status": "completed"
    },
    "tags": []
   },
   "outputs": [],
   "source": [
    "def convert_data_to_examples(data, DATA_COLUMN, LABEL_COLUMN): \n",
    "\n",
    "  data_InputExamples = data.apply(lambda x: InputExample(guid=None, # Globally unique ID for bookkeeping, unused in this case\n",
    "                                                         text_a=x[DATA_COLUMN],\n",
    "                                                         text_b=None,\n",
    "                                                         label=x[LABEL_COLUMN]), axis=1)\n",
    "  \n",
    "  return data_InputExamples\n",
    "\n",
    "  train_InputExamples, validation_InputExamples = convert_data_to_examples(train, \n",
    "                                                                           test, \n",
    "                                                                           'DATA_COLUMN', \n",
    "                                                                           'LABEL_COLUMN')"
   ]
  },
  {
   "cell_type": "code",
   "execution_count": 122,
   "id": "e611aa29",
   "metadata": {
    "execution": {
     "iopub.execute_input": "2023-10-25T16:01:47.152344Z",
     "iopub.status.busy": "2023-10-25T16:01:47.151968Z",
     "iopub.status.idle": "2023-10-25T16:01:47.156724Z",
     "shell.execute_reply": "2023-10-25T16:01:47.155810Z",
     "shell.execute_reply.started": "2023-10-25T16:01:47.152317Z"
    },
    "papermill": {
     "duration": 0.351898,
     "end_time": "2022-11-03T12:14:00.806201",
     "exception": false,
     "start_time": "2022-11-03T12:14:00.454303",
     "status": "completed"
    },
    "tags": []
   },
   "outputs": [],
   "source": [
    "DATA_COLUMN = 'lem_review'\n",
    "LABEL_COLUMN = 'label'"
   ]
  },
  {
   "cell_type": "code",
   "execution_count": 123,
   "id": "9a73c208",
   "metadata": {
    "execution": {
     "iopub.execute_input": "2023-10-25T16:01:47.767583Z",
     "iopub.status.busy": "2023-10-25T16:01:47.766887Z",
     "iopub.status.idle": "2023-10-25T16:01:47.772133Z",
     "shell.execute_reply": "2023-10-25T16:01:47.770998Z",
     "shell.execute_reply.started": "2023-10-25T16:01:47.767551Z"
    },
    "id": "-pFnfg7tQ1bO",
    "papermill": {
     "duration": 0.381914,
     "end_time": "2022-11-03T12:14:02.302015",
     "exception": false,
     "start_time": "2022-11-03T12:14:01.920101",
     "status": "completed"
    },
    "tags": []
   },
   "outputs": [],
   "source": [
    "#X_test = list(test_data.total_review)\n",
    "y_test = list(test_set.label)"
   ]
  },
  {
   "cell_type": "code",
   "execution_count": 124,
   "id": "844047aa",
   "metadata": {
    "execution": {
     "iopub.execute_input": "2023-10-25T16:01:48.521975Z",
     "iopub.status.busy": "2023-10-25T16:01:48.521040Z",
     "iopub.status.idle": "2023-10-25T16:01:48.576453Z",
     "shell.execute_reply": "2023-10-25T16:01:48.575672Z",
     "shell.execute_reply.started": "2023-10-25T16:01:48.521937Z"
    },
    "id": "m6aX-Sep8Ldf",
    "papermill": {
     "duration": 0.449371,
     "end_time": "2022-11-03T12:14:03.231346",
     "exception": false,
     "start_time": "2022-11-03T12:14:02.781975",
     "status": "completed"
    },
    "tags": []
   },
   "outputs": [],
   "source": [
    "test_InputExamples = convert_data_to_examples(test_set, DATA_COLUMN, LABEL_COLUMN)"
   ]
  },
  {
   "cell_type": "code",
   "execution_count": 125,
   "id": "f1278279",
   "metadata": {
    "execution": {
     "iopub.execute_input": "2023-10-25T16:01:49.815782Z",
     "iopub.status.busy": "2023-10-25T16:01:49.814891Z",
     "iopub.status.idle": "2023-10-25T16:01:54.773766Z",
     "shell.execute_reply": "2023-10-25T16:01:54.772907Z",
     "shell.execute_reply.started": "2023-10-25T16:01:49.815745Z"
    },
    "id": "bSm_vBF-8AsT",
    "outputId": "955285fa-e365-4baa-8993-112e8f35d142",
    "papermill": {
     "duration": 5.027298,
     "end_time": "2022-11-03T12:14:08.601221",
     "exception": false,
     "start_time": "2022-11-03T12:14:03.573923",
     "status": "completed"
    },
    "tags": []
   },
   "outputs": [],
   "source": [
    "test_data = convert_examples_to_tf_dataset(list(test_InputExamples), tokenizer)\n",
    "test_data = test_data.batch(32)"
   ]
  },
  {
   "cell_type": "code",
   "execution_count": 126,
   "id": "48363831",
   "metadata": {
    "execution": {
     "iopub.execute_input": "2023-10-25T16:01:57.701882Z",
     "iopub.status.busy": "2023-10-25T16:01:57.700942Z",
     "iopub.status.idle": "2023-10-25T16:02:23.328144Z",
     "shell.execute_reply": "2023-10-25T16:02:23.327296Z",
     "shell.execute_reply.started": "2023-10-25T16:01:57.701844Z"
    },
    "id": "sjIaDyAy3Z6s",
    "outputId": "b3885037-f695-4267-db3f-db1a7fd2d5fd",
    "papermill": {
     "duration": 19.601955,
     "end_time": "2022-11-03T12:14:29.240999",
     "exception": false,
     "start_time": "2022-11-03T12:14:09.639044",
     "status": "completed"
    },
    "tags": []
   },
   "outputs": [
    {
     "name": "stdout",
     "output_type": "stream",
     "text": [
      "78/78 [==============================] - 26s 271ms/step\n"
     ]
    }
   ],
   "source": [
    "preds = model.predict(test_data)"
   ]
  },
  {
   "cell_type": "code",
   "execution_count": 127,
   "id": "1db17010",
   "metadata": {
    "execution": {
     "iopub.execute_input": "2023-10-25T16:02:23.330231Z",
     "iopub.status.busy": "2023-10-25T16:02:23.329891Z",
     "iopub.status.idle": "2023-10-25T16:02:23.337164Z",
     "shell.execute_reply": "2023-10-25T16:02:23.336183Z",
     "shell.execute_reply.started": "2023-10-25T16:02:23.330204Z"
    },
    "id": "4L3aoEhXAKxB",
    "outputId": "409f6e25-3c87-4073-b062-ec827c769a34",
    "papermill": {
     "duration": 0.415336,
     "end_time": "2022-11-03T12:14:30.006985",
     "exception": false,
     "start_time": "2022-11-03T12:14:29.591649",
     "status": "completed"
    },
    "tags": []
   },
   "outputs": [
    {
     "data": {
      "text/plain": [
       "array([[-4.290108  ,  5.0183053 ],\n",
       "       [ 1.6917638 , -2.811709  ],\n",
       "       [-3.9198232 ,  4.244393  ],\n",
       "       ...,\n",
       "       [-3.6839182 ,  4.065287  ],\n",
       "       [-1.5210677 ,  0.87264025],\n",
       "       [-3.551209  ,  4.739506  ]], dtype=float32)"
      ]
     },
     "execution_count": 127,
     "metadata": {},
     "output_type": "execute_result"
    }
   ],
   "source": [
    "preds.logits"
   ]
  },
  {
   "cell_type": "code",
   "execution_count": 128,
   "id": "efbd0084",
   "metadata": {
    "execution": {
     "iopub.execute_input": "2023-10-25T16:02:23.338967Z",
     "iopub.status.busy": "2023-10-25T16:02:23.338567Z",
     "iopub.status.idle": "2023-10-25T16:02:23.348550Z",
     "shell.execute_reply": "2023-10-25T16:02:23.347685Z",
     "shell.execute_reply.started": "2023-10-25T16:02:23.338929Z"
    },
    "id": "0gx8SZPd-Mko",
    "papermill": {
     "duration": 0.354425,
     "end_time": "2022-11-03T12:14:30.724098",
     "exception": false,
     "start_time": "2022-11-03T12:14:30.369673",
     "status": "completed"
    },
    "tags": []
   },
   "outputs": [],
   "source": [
    "label = tf.argmax(preds.logits, axis=1)\n",
    "label = label.numpy()"
   ]
  },
  {
   "cell_type": "code",
   "execution_count": 129,
   "id": "6011fa0d",
   "metadata": {
    "execution": {
     "iopub.execute_input": "2023-10-25T16:02:23.350855Z",
     "iopub.status.busy": "2023-10-25T16:02:23.350499Z",
     "iopub.status.idle": "2023-10-25T16:02:23.361532Z",
     "shell.execute_reply": "2023-10-25T16:02:23.360597Z",
     "shell.execute_reply.started": "2023-10-25T16:02:23.350827Z"
    },
    "id": "V_WEHLpOAdsl",
    "outputId": "3f958a35-ca02-4273-e456-be64bf806c03",
    "papermill": {
     "duration": 0.362179,
     "end_time": "2022-11-03T12:14:31.430586",
     "exception": false,
     "start_time": "2022-11-03T12:14:31.068407",
     "status": "completed"
    },
    "tags": []
   },
   "outputs": [
    {
     "data": {
      "text/plain": [
       "array([1, 0, 1, ..., 1, 1, 1])"
      ]
     },
     "execution_count": 129,
     "metadata": {},
     "output_type": "execute_result"
    }
   ],
   "source": [
    "label"
   ]
  },
  {
   "cell_type": "code",
   "execution_count": 130,
   "id": "ba9fa1b1",
   "metadata": {
    "execution": {
     "iopub.execute_input": "2023-10-25T16:02:23.363043Z",
     "iopub.status.busy": "2023-10-25T16:02:23.362657Z",
     "iopub.status.idle": "2023-10-25T16:02:23.376568Z",
     "shell.execute_reply": "2023-10-25T16:02:23.375546Z",
     "shell.execute_reply.started": "2023-10-25T16:02:23.363007Z"
    },
    "id": "pxRjLvFbCf-s",
    "outputId": "6898ff56-4534-44bc-be40-5d1ed5522a77",
    "papermill": {
     "duration": 0.364434,
     "end_time": "2022-11-03T12:14:32.221811",
     "exception": false,
     "start_time": "2022-11-03T12:14:31.857377",
     "status": "completed"
    },
    "tags": []
   },
   "outputs": [
    {
     "data": {
      "text/plain": [
       "array([[ 196,   41],\n",
       "       [  24, 2204]])"
      ]
     },
     "execution_count": 130,
     "metadata": {},
     "output_type": "execute_result"
    }
   ],
   "source": [
    "sklearn.metrics.confusion_matrix(label, y_test)"
   ]
  },
  {
   "cell_type": "code",
   "execution_count": 131,
   "id": "9c39c3be",
   "metadata": {
    "execution": {
     "iopub.execute_input": "2023-10-25T16:02:23.378149Z",
     "iopub.status.busy": "2023-10-25T16:02:23.377725Z",
     "iopub.status.idle": "2023-10-25T16:02:23.732039Z",
     "shell.execute_reply": "2023-10-25T16:02:23.731122Z",
     "shell.execute_reply.started": "2023-10-25T16:02:23.378124Z"
    },
    "id": "gXX0r7BQrJf7",
    "outputId": "baa7912b-c227-4377-cabc-006fd6fb78f8",
    "papermill": {
     "duration": 0.685538,
     "end_time": "2022-11-03T12:14:33.252622",
     "exception": false,
     "start_time": "2022-11-03T12:14:32.567084",
     "status": "completed"
    },
    "tags": []
   },
   "outputs": [
    {
     "data": {
      "text/plain": [
       "<sklearn.metrics._plot.confusion_matrix.ConfusionMatrixDisplay at 0x78c5ccc04280>"
      ]
     },
     "execution_count": 131,
     "metadata": {},
     "output_type": "execute_result"
    },
    {
     "data": {
      "image/png": "[encoded data removed]",
      "text/plain": [
       "<Figure size 640x480 with 2 Axes>"
      ]
     },
     "metadata": {},
     "output_type": "display_data"
    }
   ],
   "source": [
    "from sklearn.metrics import ConfusionMatrixDisplay\n",
    "ConfusionMatrixDisplay.from_predictions(y_test, label)"
   ]
  },
  {
   "cell_type": "code",
   "execution_count": 132,
   "id": "886bd0c2",
   "metadata": {
    "execution": {
     "iopub.execute_input": "2023-10-25T16:02:23.733429Z",
     "iopub.status.busy": "2023-10-25T16:02:23.733146Z",
     "iopub.status.idle": "2023-10-25T16:02:23.744571Z",
     "shell.execute_reply": "2023-10-25T16:02:23.743619Z",
     "shell.execute_reply.started": "2023-10-25T16:02:23.733404Z"
    },
    "id": "fVyRjmFvsE4E",
    "outputId": "e3bcf9e4-d2af-4800-d1ab-aa2e742118e9",
    "papermill": {
     "duration": 0.353707,
     "end_time": "2022-11-03T12:14:33.950826",
     "exception": false,
     "start_time": "2022-11-03T12:14:33.597119",
     "status": "completed"
    },
    "tags": []
   },
   "outputs": [
    {
     "data": {
      "text/plain": [
       "0.973630831643002"
      ]
     },
     "execution_count": 132,
     "metadata": {},
     "output_type": "execute_result"
    }
   ],
   "source": [
    "from sklearn.metrics import accuracy_score\n",
    "accuracy_score(y_test, label)"
   ]
  },
  {
   "cell_type": "code",
   "execution_count": null,
   "id": "6a365c54",
   "metadata": {
    "id": "49AITDmC3JP5",
    "papermill": {
     "duration": 0.346341,
     "end_time": "2022-11-03T12:14:34.700243",
     "exception": false,
     "start_time": "2022-11-03T12:14:34.353902",
     "status": "completed"
    },
    "tags": []
   },
   "outputs": [],
   "source": []
  },
  {
   "cell_type": "code",
   "execution_count": null,
   "id": "3db3fb18",
   "metadata": {
    "papermill": {
     "duration": 0.346644,
     "end_time": "2022-11-03T12:15:15.285752",
     "exception": false,
     "start_time": "2022-11-03T12:15:14.939108",
     "status": "completed"
    },
    "tags": []
   },
   "outputs": [],
   "source": []
  }
 ],
 "metadata": {
  "kernelspec": {
   "display_name": "Python 3 (ipykernel)",
   "language": "python",
   "name": "python3"
  },
  "language_info": {
   "codemirror_mode": {
    "name": "ipython",
    "version": 3
   },
   "file_extension": ".py",
   "mimetype": "text/x-python",
   "name": "python",
   "nbconvert_exporter": "python",
   "pygments_lexer": "ipython3",
   "version": "3.10.8"
  },
  "papermill": {
   "default_parameters": {},
   "duration": 12169.461371,
   "end_time": "2022-11-03T12:15:18.777947",
   "environment_variables": {},
   "exception": null,
   "input_path": "__notebook__.ipynb",
   "output_path": "__notebook__.ipynb",
   "parameters": {},
   "start_time": "2022-11-03T08:52:29.316576",
   "version": "2.3.4"
  },
  "widgets": {
   "application/vnd.jupyter.widget-state+json": {
    "state": {
     "0567430f05644cf7815f5eeb91a8a0d3": {
      "model_module": "@jupyter-widgets/controls",
      "model_module_version": "1.5.0",
      "model_name": "ProgressStyleModel",
      "state": {
       "_model_module": "@jupyter-widgets/controls",
       "_model_module_version": "1.5.0",
       "_model_name": "ProgressStyleModel",
       "_view_count": null,
       "_view_module": "@jupyter-widgets/base",
       "_view_module_version": "1.2.0",
       "_view_name": "StyleView",
       "bar_color": null,
       "description_width": ""
      }
     },
     "0d08e20fc9744782b427b837e976600a": {
      "model_module": "@jupyter-widgets/controls",
      "model_module_version": "1.5.0",
      "model_name": "HTMLModel",
      "state": {
       "_dom_classes": [],
       "_model_module": "@jupyter-widgets/controls",
       "_model_module_version": "1.5.0",
       "_model_name": "HTMLModel",
       "_view_count": null,
       "_view_module": "@jupyter-widgets/controls",
       "_view_module_version": "1.5.0",
       "_view_name": "HTMLView",
       "description": "",
       "description_tooltip": null,
       "layout": "IPY_MODEL_af7ed36293244aab98a7301a3741fc5b",
       "placeholder": "​",
       "style": "IPY_MODEL_3c4fa37203ce42999d13ba3fbb513cfe",
       "value": "Downloading: 100%"
      }
     },
     "0f1edc4ccc084349acf2552c5f46a0dd": {
      "model_module": "@jupyter-widgets/controls",
      "model_module_version": "1.5.0",
      "model_name": "DescriptionStyleModel",
      "state": {
       "_model_module": "@jupyter-widgets/controls",
       "_model_module_version": "1.5.0",
       "_model_name": "DescriptionStyleModel",
       "_view_count": null,
       "_view_module": "@jupyter-widgets/base",
       "_view_module_version": "1.2.0",
       "_view_name": "StyleView",
       "description_width": ""
      }
     },
     "1689a289dae84ee68e45d0738b0376f6": {
      "model_module": "@jupyter-widgets/controls",
      "model_module_version": "1.5.0",
      "model_name": "FloatProgressModel",
      "state": {
       "_dom_classes": [],
       "_model_module": "@jupyter-widgets/controls",
       "_model_module_version": "1.5.0",
       "_model_name": "FloatProgressModel",
       "_view_count": null,
       "_view_module": "@jupyter-widgets/controls",
       "_view_module_version": "1.5.0",
       "_view_name": "ProgressView",
       "bar_style": "success",
       "description": "",
       "description_tooltip": null,
       "layout": "IPY_MODEL_2ea9e9e1579a4d9c9dafb1fb27f3e723",
       "max": 28,
       "min": 0,
       "orientation": "horizontal",
       "style": "IPY_MODEL_f68cc4479f94488faa2a45633a2264ad",
       "value": 28
      }
     },
     "1a2ed0c5a9954c528038b0b88f4e1b94": {
      "model_module": "@jupyter-widgets/base",
      "model_module_version": "1.2.0",
      "model_name": "LayoutModel",
      "state": {
       "_model_module": "@jupyter-widgets/base",
       "_model_module_version": "1.2.0",
       "_model_name": "LayoutModel",
       "_view_count": null,
       "_view_module": "@jupyter-widgets/base",
       "_view_module_version": "1.2.0",
       "_view_name": "LayoutView",
       "align_content": null,
       "align_items": null,
       "align_self": null,
       "border": null,
       "bottom": null,
       "display": null,
       "flex": null,
       "flex_flow": null,
       "grid_area": null,
       "grid_auto_columns": null,
       "grid_auto_flow": null,
       "grid_auto_rows": null,
       "grid_column": null,
       "grid_gap": null,
       "grid_row": null,
       "grid_template_areas": null,
       "grid_template_columns": null,
       "grid_template_rows": null,
       "height": null,
       "justify_content": null,
       "justify_items": null,
       "left": null,
       "margin": null,
       "max_height": null,
       "max_width": null,
       "min_height": null,
       "min_width": null,
       "object_fit": null,
       "object_position": null,
       "order": null,
       "overflow": null,
       "overflow_x": null,
       "overflow_y": null,
       "padding": null,
       "right": null,
       "top": null,
       "visibility": null,
       "width": null
      }
     },
     "1c32c385698a441aa0a92a19390b835c": {
      "model_module": "@jupyter-widgets/controls",
      "model_module_version": "1.5.0",
      "model_name": "DescriptionStyleModel",
      "state": {
       "_model_module": "@jupyter-widgets/controls",
       "_model_module_version": "1.5.0",
       "_model_name": "DescriptionStyleModel",
       "_view_count": null,
       "_view_module": "@jupyter-widgets/base",
       "_view_module_version": "1.2.0",
       "_view_name": "StyleView",
       "description_width": ""
      }
     },
     "1d383cea3e794b75971d580219723fa0": {
      "model_module": "@jupyter-widgets/controls",
      "model_module_version": "1.5.0",
      "model_name": "FloatProgressModel",
      "state": {
       "_dom_classes": [],
       "_model_module": "@jupyter-widgets/controls",
       "_model_module_version": "1.5.0",
       "_model_name": "FloatProgressModel",
       "_view_count": null,
       "_view_module": "@jupyter-widgets/controls",
       "_view_module_version": "1.5.0",
       "_view_name": "ProgressView",
       "bar_style": "success",
       "description": "",
       "description_tooltip": null,
       "layout": "IPY_MODEL_9cf89da9fce34fbf9a0aea0ff3ae305d",
       "max": 536063208,
       "min": 0,
       "orientation": "horizontal",
       "style": "IPY_MODEL_a6bf2e5afb33412b827b6bbcfd9e7261",
       "value": 536063208
      }
     },
     "2213bfc14b164314afacaf68e44d3a1c": {
      "model_module": "@jupyter-widgets/controls",
      "model_module_version": "1.5.0",
      "model_name": "HTMLModel",
      "state": {
       "_dom_classes": [],
       "_model_module": "@jupyter-widgets/controls",
       "_model_module_version": "1.5.0",
       "_model_name": "HTMLModel",
       "_view_count": null,
       "_view_module": "@jupyter-widgets/controls",
       "_view_module_version": "1.5.0",
       "_view_name": "HTMLView",
       "description": "",
       "description_tooltip": null,
       "layout": "IPY_MODEL_d9f7c2e86ef446788e65daa53ecb9e33",
       "placeholder": "​",
       "style": "IPY_MODEL_a60608fd069f46c5a49ad0cc5a051873",
       "value": " 226k/226k [00:00&lt;00:00, 1.13MB/s]"
      }
     },
     "2ea9e9e1579a4d9c9dafb1fb27f3e723": {
      "model_module": "@jupyter-widgets/base",
      "model_module_version": "1.2.0",
      "model_name": "LayoutModel",
      "state": {
       "_model_module": "@jupyter-widgets/base",
       "_model_module_version": "1.2.0",
       "_model_name": "LayoutModel",
       "_view_count": null,
       "_view_module": "@jupyter-widgets/base",
       "_view_module_version": "1.2.0",
       "_view_name": "LayoutView",
       "align_content": null,
       "align_items": null,
       "align_self": null,
       "border": null,
       "bottom": null,
       "display": null,
       "flex": null,
       "flex_flow": null,
       "grid_area": null,
       "grid_auto_columns": null,
       "grid_auto_flow": null,
       "grid_auto_rows": null,
       "grid_column": null,
       "grid_gap": null,
       "grid_row": null,
       "grid_template_areas": null,
       "grid_template_columns": null,
       "grid_template_rows": null,
       "height": null,
       "justify_content": null,
       "justify_items": null,
       "left": null,
       "margin": null,
       "max_height": null,
       "max_width": null,
       "min_height": null,
       "min_width": null,
       "object_fit": null,
       "object_position": null,
       "order": null,
       "overflow": null,
       "overflow_x": null,
       "overflow_y": null,
       "padding": null,
       "right": null,
       "top": null,
       "visibility": null,
       "width": null
      }
     },
     "36a0df70882840adbd7f22af45f9a605": {
      "model_module": "@jupyter-widgets/controls",
      "model_module_version": "1.5.0",
      "model_name": "HTMLModel",
      "state": {
       "_dom_classes": [],
       "_model_module": "@jupyter-widgets/controls",
       "_model_module_version": "1.5.0",
       "_model_name": "HTMLModel",
       "_view_count": null,
       "_view_module": "@jupyter-widgets/controls",
       "_view_module_version": "1.5.0",
       "_view_name": "HTMLView",
       "description": "",
       "description_tooltip": null,
       "layout": "IPY_MODEL_a4ed1c17c9d24771897623cc6f259605",
       "placeholder": "​",
       "style": "IPY_MODEL_0f1edc4ccc084349acf2552c5f46a0dd",
       "value": "Downloading: 100%"
      }
     },
     "3b6718e0fd134ba5a0b9421923a8573b": {
      "model_module": "@jupyter-widgets/controls",
      "model_module_version": "1.5.0",
      "model_name": "FloatProgressModel",
      "state": {
       "_dom_classes": [],
       "_model_module": "@jupyter-widgets/controls",
       "_model_module_version": "1.5.0",
       "_model_name": "FloatProgressModel",
       "_view_count": null,
       "_view_module": "@jupyter-widgets/controls",
       "_view_module_version": "1.5.0",
       "_view_name": "ProgressView",
       "bar_style": "success",
       "description": "",
       "description_tooltip": null,
       "layout": "IPY_MODEL_1a2ed0c5a9954c528038b0b88f4e1b94",
       "max": 570,
       "min": 0,
       "orientation": "horizontal",
       "style": "IPY_MODEL_9331ca2fc633474e817f52d57a73e261",
       "value": 570
      }
     },
     "3c4fa37203ce42999d13ba3fbb513cfe": {
      "model_module": "@jupyter-widgets/controls",
      "model_module_version": "1.5.0",
      "model_name": "DescriptionStyleModel",
      "state": {
       "_model_module": "@jupyter-widgets/controls",
       "_model_module_version": "1.5.0",
       "_model_name": "DescriptionStyleModel",
       "_view_count": null,
       "_view_module": "@jupyter-widgets/base",
       "_view_module_version": "1.2.0",
       "_view_name": "StyleView",
       "description_width": ""
      }
     },
     "3e03fbd306694bf2acfcb36651925cd0": {
      "model_module": "@jupyter-widgets/base",
      "model_module_version": "1.2.0",
      "model_name": "LayoutModel",
      "state": {
       "_model_module": "@jupyter-widgets/base",
       "_model_module_version": "1.2.0",
       "_model_name": "LayoutModel",
       "_view_count": null,
       "_view_module": "@jupyter-widgets/base",
       "_view_module_version": "1.2.0",
       "_view_name": "LayoutView",
       "align_content": null,
       "align_items": null,
       "align_self": null,
       "border": null,
       "bottom": null,
       "display": null,
       "flex": null,
       "flex_flow": null,
       "grid_area": null,
       "grid_auto_columns": null,
       "grid_auto_flow": null,
       "grid_auto_rows": null,
       "grid_column": null,
       "grid_gap": null,
       "grid_row": null,
       "grid_template_areas": null,
       "grid_template_columns": null,
       "grid_template_rows": null,
       "height": null,
       "justify_content": null,
       "justify_items": null,
       "left": null,
       "margin": null,
       "max_height": null,
       "max_width": null,
       "min_height": null,
       "min_width": null,
       "object_fit": null,
       "object_position": null,
       "order": null,
       "overflow": null,
       "overflow_x": null,
       "overflow_y": null,
       "padding": null,
       "right": null,
       "top": null,
       "visibility": null,
       "width": null
      }
     },
     "4508c911ac934c4093b69a83b97be272": {
      "model_module": "@jupyter-widgets/base",
      "model_module_version": "1.2.0",
      "model_name": "LayoutModel",
      "state": {
       "_model_module": "@jupyter-widgets/base",
       "_model_module_version": "1.2.0",
       "_model_name": "LayoutModel",
       "_view_count": null,
       "_view_module": "@jupyter-widgets/base",
       "_view_module_version": "1.2.0",
       "_view_name": "LayoutView",
       "align_content": null,
       "align_items": null,
       "align_self": null,
       "border": null,
       "bottom": null,
       "display": null,
       "flex": null,
       "flex_flow": null,
       "grid_area": null,
       "grid_auto_columns": null,
       "grid_auto_flow": null,
       "grid_auto_rows": null,
       "grid_column": null,
       "grid_gap": null,
       "grid_row": null,
       "grid_template_areas": null,
       "grid_template_columns": null,
       "grid_template_rows": null,
       "height": null,
       "justify_content": null,
       "justify_items": null,
       "left": null,
       "margin": null,
       "max_height": null,
       "max_width": null,
       "min_height": null,
       "min_width": null,
       "object_fit": null,
       "object_position": null,
       "order": null,
       "overflow": null,
       "overflow_x": null,
       "overflow_y": null,
       "padding": null,
       "right": null,
       "top": null,
       "visibility": null,
       "width": null
      }
     },
     "58a7bfdb0d704bdc81928f64529c4e72": {
      "model_module": "@jupyter-widgets/base",
      "model_module_version": "1.2.0",
      "model_name": "LayoutModel",
      "state": {
       "_model_module": "@jupyter-widgets/base",
       "_model_module_version": "1.2.0",
       "_model_name": "LayoutModel",
       "_view_count": null,
       "_view_module": "@jupyter-widgets/base",
       "_view_module_version": "1.2.0",
       "_view_name": "LayoutView",
       "align_content": null,
       "align_items": null,
       "align_self": null,
       "border": null,
       "bottom": null,
       "display": null,
       "flex": null,
       "flex_flow": null,
       "grid_area": null,
       "grid_auto_columns": null,
       "grid_auto_flow": null,
       "grid_auto_rows": null,
       "grid_column": null,
       "grid_gap": null,
       "grid_row": null,
       "grid_template_areas": null,
       "grid_template_columns": null,
       "grid_template_rows": null,
       "height": null,
       "justify_content": null,
       "justify_items": null,
       "left": null,
       "margin": null,
       "max_height": null,
       "max_width": null,
       "min_height": null,
       "min_width": null,
       "object_fit": null,
       "object_position": null,
       "order": null,
       "overflow": null,
       "overflow_x": null,
       "overflow_y": null,
       "padding": null,
       "right": null,
       "top": null,
       "visibility": null,
       "width": null
      }
     },
     "5cd3969fa2fa403c9b52757d20513221": {
      "model_module": "@jupyter-widgets/base",
      "model_module_version": "1.2.0",
      "model_name": "LayoutModel",
      "state": {
       "_model_module": "@jupyter-widgets/base",
       "_model_module_version": "1.2.0",
       "_model_name": "LayoutModel",
       "_view_count": null,
       "_view_module": "@jupyter-widgets/base",
       "_view_module_version": "1.2.0",
       "_view_name": "LayoutView",
       "align_content": null,
       "align_items": null,
       "align_self": null,
       "border": null,
       "bottom": null,
       "display": null,
       "flex": null,
       "flex_flow": null,
       "grid_area": null,
       "grid_auto_columns": null,
       "grid_auto_flow": null,
       "grid_auto_rows": null,
       "grid_column": null,
       "grid_gap": null,
       "grid_row": null,
       "grid_template_areas": null,
       "grid_template_columns": null,
       "grid_template_rows": null,
       "height": null,
       "justify_content": null,
       "justify_items": null,
       "left": null,
       "margin": null,
       "max_height": null,
       "max_width": null,
       "min_height": null,
       "min_width": null,
       "object_fit": null,
       "object_position": null,
       "order": null,
       "overflow": null,
       "overflow_x": null,
       "overflow_y": null,
       "padding": null,
       "right": null,
       "top": null,
       "visibility": null,
       "width": null
      }
     },
     "5dcb9eaa3e5c4d6ca8b33502580fd9c6": {
      "model_module": "@jupyter-widgets/controls",
      "model_module_version": "1.5.0",
      "model_name": "DescriptionStyleModel",
      "state": {
       "_model_module": "@jupyter-widgets/controls",
       "_model_module_version": "1.5.0",
       "_model_name": "DescriptionStyleModel",
       "_view_count": null,
       "_view_module": "@jupyter-widgets/base",
       "_view_module_version": "1.2.0",
       "_view_name": "StyleView",
       "description_width": ""
      }
     },
     "6d1e49bcea44458a9f6b5c6af3b0dba5": {
      "model_module": "@jupyter-widgets/controls",
      "model_module_version": "1.5.0",
      "model_name": "HTMLModel",
      "state": {
       "_dom_classes": [],
       "_model_module": "@jupyter-widgets/controls",
       "_model_module_version": "1.5.0",
       "_model_name": "HTMLModel",
       "_view_count": null,
       "_view_module": "@jupyter-widgets/controls",
       "_view_module_version": "1.5.0",
       "_view_name": "HTMLView",
       "description": "",
       "description_tooltip": null,
       "layout": "IPY_MODEL_d3c24a0376014e1f85d88aa4a5d6857c",
       "placeholder": "​",
       "style": "IPY_MODEL_94105fce65a44b5bacb27f84ef3edce3",
       "value": " 28.0/28.0 [00:00&lt;00:00, 1.05kB/s]"
      }
     },
     "7401e24401f34c9780e04b89810d788a": {
      "model_module": "@jupyter-widgets/base",
      "model_module_version": "1.2.0",
      "model_name": "LayoutModel",
      "state": {
       "_model_module": "@jupyter-widgets/base",
       "_model_module_version": "1.2.0",
       "_model_name": "LayoutModel",
       "_view_count": null,
       "_view_module": "@jupyter-widgets/base",
       "_view_module_version": "1.2.0",
       "_view_name": "LayoutView",
       "align_content": null,
       "align_items": null,
       "align_self": null,
       "border": null,
       "bottom": null,
       "display": null,
       "flex": null,
       "flex_flow": null,
       "grid_area": null,
       "grid_auto_columns": null,
       "grid_auto_flow": null,
       "grid_auto_rows": null,
       "grid_column": null,
       "grid_gap": null,
       "grid_row": null,
       "grid_template_areas": null,
       "grid_template_columns": null,
       "grid_template_rows": null,
       "height": null,
       "justify_content": null,
       "justify_items": null,
       "left": null,
       "margin": null,
       "max_height": null,
       "max_width": null,
       "min_height": null,
       "min_width": null,
       "object_fit": null,
       "object_position": null,
       "order": null,
       "overflow": null,
       "overflow_x": null,
       "overflow_y": null,
       "padding": null,
       "right": null,
       "top": null,
       "visibility": null,
       "width": null
      }
     },
     "7d13117bba484e62a211d5e6ff39c0ba": {
      "model_module": "@jupyter-widgets/controls",
      "model_module_version": "1.5.0",
      "model_name": "HTMLModel",
      "state": {
       "_dom_classes": [],
       "_model_module": "@jupyter-widgets/controls",
       "_model_module_version": "1.5.0",
       "_model_name": "HTMLModel",
       "_view_count": null,
       "_view_module": "@jupyter-widgets/controls",
       "_view_module_version": "1.5.0",
       "_view_name": "HTMLView",
       "description": "",
       "description_tooltip": null,
       "layout": "IPY_MODEL_ebaa2c3cf2b3467b8465b14b0d231208",
       "placeholder": "​",
       "style": "IPY_MODEL_9798181427d24802839778660dcadcb1",
       "value": "Downloading: 100%"
      }
     },
     "8b96f210c5914552b151be2853929b24": {
      "model_module": "@jupyter-widgets/controls",
      "model_module_version": "1.5.0",
      "model_name": "HBoxModel",
      "state": {
       "_dom_classes": [],
       "_model_module": "@jupyter-widgets/controls",
       "_model_module_version": "1.5.0",
       "_model_name": "HBoxModel",
       "_view_count": null,
       "_view_module": "@jupyter-widgets/controls",
       "_view_module_version": "1.5.0",
       "_view_name": "HBoxView",
       "box_style": "",
       "children": [
        "IPY_MODEL_0d08e20fc9744782b427b837e976600a",
        "IPY_MODEL_c2ef600b9b3b4377a56cfe1f433b16cc",
        "IPY_MODEL_2213bfc14b164314afacaf68e44d3a1c"
       ],
       "layout": "IPY_MODEL_a131a00d3dfc463fba8af63b376d0ff0"
      }
     },
     "8e1b93bbe771403791d6db45a65641ed": {
      "model_module": "@jupyter-widgets/base",
      "model_module_version": "1.2.0",
      "model_name": "LayoutModel",
      "state": {
       "_model_module": "@jupyter-widgets/base",
       "_model_module_version": "1.2.0",
       "_model_name": "LayoutModel",
       "_view_count": null,
       "_view_module": "@jupyter-widgets/base",
       "_view_module_version": "1.2.0",
       "_view_name": "LayoutView",
       "align_content": null,
       "align_items": null,
       "align_self": null,
       "border": null,
       "bottom": null,
       "display": null,
       "flex": null,
       "flex_flow": null,
       "grid_area": null,
       "grid_auto_columns": null,
       "grid_auto_flow": null,
       "grid_auto_rows": null,
       "grid_column": null,
       "grid_gap": null,
       "grid_row": null,
       "grid_template_areas": null,
       "grid_template_columns": null,
       "grid_template_rows": null,
       "height": null,
       "justify_content": null,
       "justify_items": null,
       "left": null,
       "margin": null,
       "max_height": null,
       "max_width": null,
       "min_height": null,
       "min_width": null,
       "object_fit": null,
       "object_position": null,
       "order": null,
       "overflow": null,
       "overflow_x": null,
       "overflow_y": null,
       "padding": null,
       "right": null,
       "top": null,
       "visibility": null,
       "width": null
      }
     },
     "9331ca2fc633474e817f52d57a73e261": {
      "model_module": "@jupyter-widgets/controls",
      "model_module_version": "1.5.0",
      "model_name": "ProgressStyleModel",
      "state": {
       "_model_module": "@jupyter-widgets/controls",
       "_model_module_version": "1.5.0",
       "_model_name": "ProgressStyleModel",
       "_view_count": null,
       "_view_module": "@jupyter-widgets/base",
       "_view_module_version": "1.2.0",
       "_view_name": "StyleView",
       "bar_color": null,
       "description_width": ""
      }
     },
     "94105fce65a44b5bacb27f84ef3edce3": {
      "model_module": "@jupyter-widgets/controls",
      "model_module_version": "1.5.0",
      "model_name": "DescriptionStyleModel",
      "state": {
       "_model_module": "@jupyter-widgets/controls",
       "_model_module_version": "1.5.0",
       "_model_name": "DescriptionStyleModel",
       "_view_count": null,
       "_view_module": "@jupyter-widgets/base",
       "_view_module_version": "1.2.0",
       "_view_name": "StyleView",
       "description_width": ""
      }
     },
     "9798181427d24802839778660dcadcb1": {
      "model_module": "@jupyter-widgets/controls",
      "model_module_version": "1.5.0",
      "model_name": "DescriptionStyleModel",
      "state": {
       "_model_module": "@jupyter-widgets/controls",
       "_model_module_version": "1.5.0",
       "_model_name": "DescriptionStyleModel",
       "_view_count": null,
       "_view_module": "@jupyter-widgets/base",
       "_view_module_version": "1.2.0",
       "_view_name": "StyleView",
       "description_width": ""
      }
     },
     "9a9af059879644cb906cb63f01e443e4": {
      "model_module": "@jupyter-widgets/controls",
      "model_module_version": "1.5.0",
      "model_name": "HBoxModel",
      "state": {
       "_dom_classes": [],
       "_model_module": "@jupyter-widgets/controls",
       "_model_module_version": "1.5.0",
       "_model_name": "HBoxModel",
       "_view_count": null,
       "_view_module": "@jupyter-widgets/controls",
       "_view_module_version": "1.5.0",
       "_view_name": "HBoxView",
       "box_style": "",
       "children": [
        "IPY_MODEL_7d13117bba484e62a211d5e6ff39c0ba",
        "IPY_MODEL_1d383cea3e794b75971d580219723fa0",
        "IPY_MODEL_fd788bd9670c4c189d7be838e08b2da9"
       ],
       "layout": "IPY_MODEL_7401e24401f34c9780e04b89810d788a"
      }
     },
     "9cf89da9fce34fbf9a0aea0ff3ae305d": {
      "model_module": "@jupyter-widgets/base",
      "model_module_version": "1.2.0",
      "model_name": "LayoutModel",
      "state": {
       "_model_module": "@jupyter-widgets/base",
       "_model_module_version": "1.2.0",
       "_model_name": "LayoutModel",
       "_view_count": null,
       "_view_module": "@jupyter-widgets/base",
       "_view_module_version": "1.2.0",
       "_view_name": "LayoutView",
       "align_content": null,
       "align_items": null,
       "align_self": null,
       "border": null,
       "bottom": null,
       "display": null,
       "flex": null,
       "flex_flow": null,
       "grid_area": null,
       "grid_auto_columns": null,
       "grid_auto_flow": null,
       "grid_auto_rows": null,
       "grid_column": null,
       "grid_gap": null,
       "grid_row": null,
       "grid_template_areas": null,
       "grid_template_columns": null,
       "grid_template_rows": null,
       "height": null,
       "justify_content": null,
       "justify_items": null,
       "left": null,
       "margin": null,
       "max_height": null,
       "max_width": null,
       "min_height": null,
       "min_width": null,
       "object_fit": null,
       "object_position": null,
       "order": null,
       "overflow": null,
       "overflow_x": null,
       "overflow_y": null,
       "padding": null,
       "right": null,
       "top": null,
       "visibility": null,
       "width": null
      }
     },
     "a131a00d3dfc463fba8af63b376d0ff0": {
      "model_module": "@jupyter-widgets/base",
      "model_module_version": "1.2.0",
      "model_name": "LayoutModel",
      "state": {
       "_model_module": "@jupyter-widgets/base",
       "_model_module_version": "1.2.0",
       "_model_name": "LayoutModel",
       "_view_count": null,
       "_view_module": "@jupyter-widgets/base",
       "_view_module_version": "1.2.0",
       "_view_name": "LayoutView",
       "align_content": null,
       "align_items": null,
       "align_self": null,
       "border": null,
       "bottom": null,
       "display": null,
       "flex": null,
       "flex_flow": null,
       "grid_area": null,
       "grid_auto_columns": null,
       "grid_auto_flow": null,
       "grid_auto_rows": null,
       "grid_column": null,
       "grid_gap": null,
       "grid_row": null,
       "grid_template_areas": null,
       "grid_template_columns": null,
       "grid_template_rows": null,
       "height": null,
       "justify_content": null,
       "justify_items": null,
       "left": null,
       "margin": null,
       "max_height": null,
       "max_width": null,
       "min_height": null,
       "min_width": null,
       "object_fit": null,
       "object_position": null,
       "order": null,
       "overflow": null,
       "overflow_x": null,
       "overflow_y": null,
       "padding": null,
       "right": null,
       "top": null,
       "visibility": null,
       "width": null
      }
     },
     "a4ed1c17c9d24771897623cc6f259605": {
      "model_module": "@jupyter-widgets/base",
      "model_module_version": "1.2.0",
      "model_name": "LayoutModel",
      "state": {
       "_model_module": "@jupyter-widgets/base",
       "_model_module_version": "1.2.0",
       "_model_name": "LayoutModel",
       "_view_count": null,
       "_view_module": "@jupyter-widgets/base",
       "_view_module_version": "1.2.0",
       "_view_name": "LayoutView",
       "align_content": null,
       "align_items": null,
       "align_self": null,
       "border": null,
       "bottom": null,
       "display": null,
       "flex": null,
       "flex_flow": null,
       "grid_area": null,
       "grid_auto_columns": null,
       "grid_auto_flow": null,
       "grid_auto_rows": null,
       "grid_column": null,
       "grid_gap": null,
       "grid_row": null,
       "grid_template_areas": null,
       "grid_template_columns": null,
       "grid_template_rows": null,
       "height": null,
       "justify_content": null,
       "justify_items": null,
       "left": null,
       "margin": null,
       "max_height": null,
       "max_width": null,
       "min_height": null,
       "min_width": null,
       "object_fit": null,
       "object_position": null,
       "order": null,
       "overflow": null,
       "overflow_x": null,
       "overflow_y": null,
       "padding": null,
       "right": null,
       "top": null,
       "visibility": null,
       "width": null
      }
     },
     "a60608fd069f46c5a49ad0cc5a051873": {
      "model_module": "@jupyter-widgets/controls",
      "model_module_version": "1.5.0",
      "model_name": "DescriptionStyleModel",
      "state": {
       "_model_module": "@jupyter-widgets/controls",
       "_model_module_version": "1.5.0",
       "_model_name": "DescriptionStyleModel",
       "_view_count": null,
       "_view_module": "@jupyter-widgets/base",
       "_view_module_version": "1.2.0",
       "_view_name": "StyleView",
       "description_width": ""
      }
     },
     "a6bf2e5afb33412b827b6bbcfd9e7261": {
      "model_module": "@jupyter-widgets/controls",
      "model_module_version": "1.5.0",
      "model_name": "ProgressStyleModel",
      "state": {
       "_model_module": "@jupyter-widgets/controls",
       "_model_module_version": "1.5.0",
       "_model_name": "ProgressStyleModel",
       "_view_count": null,
       "_view_module": "@jupyter-widgets/base",
       "_view_module_version": "1.2.0",
       "_view_name": "StyleView",
       "bar_color": null,
       "description_width": ""
      }
     },
     "a81c29e641524f7a82676c904ef826d0": {
      "model_module": "@jupyter-widgets/controls",
      "model_module_version": "1.5.0",
      "model_name": "HTMLModel",
      "state": {
       "_dom_classes": [],
       "_model_module": "@jupyter-widgets/controls",
       "_model_module_version": "1.5.0",
       "_model_name": "HTMLModel",
       "_view_count": null,
       "_view_module": "@jupyter-widgets/controls",
       "_view_module_version": "1.5.0",
       "_view_name": "HTMLView",
       "description": "",
       "description_tooltip": null,
       "layout": "IPY_MODEL_8e1b93bbe771403791d6db45a65641ed",
       "placeholder": "​",
       "style": "IPY_MODEL_5dcb9eaa3e5c4d6ca8b33502580fd9c6",
       "value": "Downloading: 100%"
      }
     },
     "ab962ca0f0e44d92a191c3985a9ff23a": {
      "model_module": "@jupyter-widgets/controls",
      "model_module_version": "1.5.0",
      "model_name": "HBoxModel",
      "state": {
       "_dom_classes": [],
       "_model_module": "@jupyter-widgets/controls",
       "_model_module_version": "1.5.0",
       "_model_name": "HBoxModel",
       "_view_count": null,
       "_view_module": "@jupyter-widgets/controls",
       "_view_module_version": "1.5.0",
       "_view_name": "HBoxView",
       "box_style": "",
       "children": [
        "IPY_MODEL_36a0df70882840adbd7f22af45f9a605",
        "IPY_MODEL_3b6718e0fd134ba5a0b9421923a8573b",
        "IPY_MODEL_b74e5c55843442da92c56e481fcdfb98"
       ],
       "layout": "IPY_MODEL_3e03fbd306694bf2acfcb36651925cd0"
      }
     },
     "ad260239db5b4e81a59a0fbfc664be94": {
      "model_module": "@jupyter-widgets/base",
      "model_module_version": "1.2.0",
      "model_name": "LayoutModel",
      "state": {
       "_model_module": "@jupyter-widgets/base",
       "_model_module_version": "1.2.0",
       "_model_name": "LayoutModel",
       "_view_count": null,
       "_view_module": "@jupyter-widgets/base",
       "_view_module_version": "1.2.0",
       "_view_name": "LayoutView",
       "align_content": null,
       "align_items": null,
       "align_self": null,
       "border": null,
       "bottom": null,
       "display": null,
       "flex": null,
       "flex_flow": null,
       "grid_area": null,
       "grid_auto_columns": null,
       "grid_auto_flow": null,
       "grid_auto_rows": null,
       "grid_column": null,
       "grid_gap": null,
       "grid_row": null,
       "grid_template_areas": null,
       "grid_template_columns": null,
       "grid_template_rows": null,
       "height": null,
       "justify_content": null,
       "justify_items": null,
       "left": null,
       "margin": null,
       "max_height": null,
       "max_width": null,
       "min_height": null,
       "min_width": null,
       "object_fit": null,
       "object_position": null,
       "order": null,
       "overflow": null,
       "overflow_x": null,
       "overflow_y": null,
       "padding": null,
       "right": null,
       "top": null,
       "visibility": null,
       "width": null
      }
     },
     "af7ed36293244aab98a7301a3741fc5b": {
      "model_module": "@jupyter-widgets/base",
      "model_module_version": "1.2.0",
      "model_name": "LayoutModel",
      "state": {
       "_model_module": "@jupyter-widgets/base",
       "_model_module_version": "1.2.0",
       "_model_name": "LayoutModel",
       "_view_count": null,
       "_view_module": "@jupyter-widgets/base",
       "_view_module_version": "1.2.0",
       "_view_name": "LayoutView",
       "align_content": null,
       "align_items": null,
       "align_self": null,
       "border": null,
       "bottom": null,
       "display": null,
       "flex": null,
       "flex_flow": null,
       "grid_area": null,
       "grid_auto_columns": null,
       "grid_auto_flow": null,
       "grid_auto_rows": null,
       "grid_column": null,
       "grid_gap": null,
       "grid_row": null,
       "grid_template_areas": null,
       "grid_template_columns": null,
       "grid_template_rows": null,
       "height": null,
       "justify_content": null,
       "justify_items": null,
       "left": null,
       "margin": null,
       "max_height": null,
       "max_width": null,
       "min_height": null,
       "min_width": null,
       "object_fit": null,
       "object_position": null,
       "order": null,
       "overflow": null,
       "overflow_x": null,
       "overflow_y": null,
       "padding": null,
       "right": null,
       "top": null,
       "visibility": null,
       "width": null
      }
     },
     "b74e5c55843442da92c56e481fcdfb98": {
      "model_module": "@jupyter-widgets/controls",
      "model_module_version": "1.5.0",
      "model_name": "HTMLModel",
      "state": {
       "_dom_classes": [],
       "_model_module": "@jupyter-widgets/controls",
       "_model_module_version": "1.5.0",
       "_model_name": "HTMLModel",
       "_view_count": null,
       "_view_module": "@jupyter-widgets/controls",
       "_view_module_version": "1.5.0",
       "_view_name": "HTMLView",
       "description": "",
       "description_tooltip": null,
       "layout": "IPY_MODEL_ad260239db5b4e81a59a0fbfc664be94",
       "placeholder": "​",
       "style": "IPY_MODEL_c9841807ae254a53aa01199d54dcaf2e",
       "value": " 570/570 [00:00&lt;00:00, 22.0kB/s]"
      }
     },
     "be521462753c4c8986cca0868b206ba7": {
      "model_module": "@jupyter-widgets/controls",
      "model_module_version": "1.5.0",
      "model_name": "HBoxModel",
      "state": {
       "_dom_classes": [],
       "_model_module": "@jupyter-widgets/controls",
       "_model_module_version": "1.5.0",
       "_model_name": "HBoxModel",
       "_view_count": null,
       "_view_module": "@jupyter-widgets/controls",
       "_view_module_version": "1.5.0",
       "_view_name": "HBoxView",
       "box_style": "",
       "children": [
        "IPY_MODEL_a81c29e641524f7a82676c904ef826d0",
        "IPY_MODEL_1689a289dae84ee68e45d0738b0376f6",
        "IPY_MODEL_6d1e49bcea44458a9f6b5c6af3b0dba5"
       ],
       "layout": "IPY_MODEL_58a7bfdb0d704bdc81928f64529c4e72"
      }
     },
     "c2ef600b9b3b4377a56cfe1f433b16cc": {
      "model_module": "@jupyter-widgets/controls",
      "model_module_version": "1.5.0",
      "model_name": "FloatProgressModel",
      "state": {
       "_dom_classes": [],
       "_model_module": "@jupyter-widgets/controls",
       "_model_module_version": "1.5.0",
       "_model_name": "FloatProgressModel",
       "_view_count": null,
       "_view_module": "@jupyter-widgets/controls",
       "_view_module_version": "1.5.0",
       "_view_name": "ProgressView",
       "bar_style": "success",
       "description": "",
       "description_tooltip": null,
       "layout": "IPY_MODEL_4508c911ac934c4093b69a83b97be272",
       "max": 231508,
       "min": 0,
       "orientation": "horizontal",
       "style": "IPY_MODEL_0567430f05644cf7815f5eeb91a8a0d3",
       "value": 231508
      }
     },
     "c9841807ae254a53aa01199d54dcaf2e": {
      "model_module": "@jupyter-widgets/controls",
      "model_module_version": "1.5.0",
      "model_name": "DescriptionStyleModel",
      "state": {
       "_model_module": "@jupyter-widgets/controls",
       "_model_module_version": "1.5.0",
       "_model_name": "DescriptionStyleModel",
       "_view_count": null,
       "_view_module": "@jupyter-widgets/base",
       "_view_module_version": "1.2.0",
       "_view_name": "StyleView",
       "description_width": ""
      }
     },
     "d3c24a0376014e1f85d88aa4a5d6857c": {
      "model_module": "@jupyter-widgets/base",
      "model_module_version": "1.2.0",
      "model_name": "LayoutModel",
      "state": {
       "_model_module": "@jupyter-widgets/base",
       "_model_module_version": "1.2.0",
       "_model_name": "LayoutModel",
       "_view_count": null,
       "_view_module": "@jupyter-widgets/base",
       "_view_module_version": "1.2.0",
       "_view_name": "LayoutView",
       "align_content": null,
       "align_items": null,
       "align_self": null,
       "border": null,
       "bottom": null,
       "display": null,
       "flex": null,
       "flex_flow": null,
       "grid_area": null,
       "grid_auto_columns": null,
       "grid_auto_flow": null,
       "grid_auto_rows": null,
       "grid_column": null,
       "grid_gap": null,
       "grid_row": null,
       "grid_template_areas": null,
       "grid_template_columns": null,
       "grid_template_rows": null,
       "height": null,
       "justify_content": null,
       "justify_items": null,
       "left": null,
       "margin": null,
       "max_height": null,
       "max_width": null,
       "min_height": null,
       "min_width": null,
       "object_fit": null,
       "object_position": null,
       "order": null,
       "overflow": null,
       "overflow_x": null,
       "overflow_y": null,
       "padding": null,
       "right": null,
       "top": null,
       "visibility": null,
       "width": null
      }
     },
     "d9f7c2e86ef446788e65daa53ecb9e33": {
      "model_module": "@jupyter-widgets/base",
      "model_module_version": "1.2.0",
      "model_name": "LayoutModel",
      "state": {
       "_model_module": "@jupyter-widgets/base",
       "_model_module_version": "1.2.0",
       "_model_name": "LayoutModel",
       "_view_count": null,
       "_view_module": "@jupyter-widgets/base",
       "_view_module_version": "1.2.0",
       "_view_name": "LayoutView",
       "align_content": null,
       "align_items": null,
       "align_self": null,
       "border": null,
       "bottom": null,
       "display": null,
       "flex": null,
       "flex_flow": null,
       "grid_area": null,
       "grid_auto_columns": null,
       "grid_auto_flow": null,
       "grid_auto_rows": null,
       "grid_column": null,
       "grid_gap": null,
       "grid_row": null,
       "grid_template_areas": null,
       "grid_template_columns": null,
       "grid_template_rows": null,
       "height": null,
       "justify_content": null,
       "justify_items": null,
       "left": null,
       "margin": null,
       "max_height": null,
       "max_width": null,
       "min_height": null,
       "min_width": null,
       "object_fit": null,
       "object_position": null,
       "order": null,
       "overflow": null,
       "overflow_x": null,
       "overflow_y": null,
       "padding": null,
       "right": null,
       "top": null,
       "visibility": null,
       "width": null
      }
     },
     "ebaa2c3cf2b3467b8465b14b0d231208": {
      "model_module": "@jupyter-widgets/base",
      "model_module_version": "1.2.0",
      "model_name": "LayoutModel",
      "state": {
       "_model_module": "@jupyter-widgets/base",
       "_model_module_version": "1.2.0",
       "_model_name": "LayoutModel",
       "_view_count": null,
       "_view_module": "@jupyter-widgets/base",
       "_view_module_version": "1.2.0",
       "_view_name": "LayoutView",
       "align_content": null,
       "align_items": null,
       "align_self": null,
       "border": null,
       "bottom": null,
       "display": null,
       "flex": null,
       "flex_flow": null,
       "grid_area": null,
       "grid_auto_columns": null,
       "grid_auto_flow": null,
       "grid_auto_rows": null,
       "grid_column": null,
       "grid_gap": null,
       "grid_row": null,
       "grid_template_areas": null,
       "grid_template_columns": null,
       "grid_template_rows": null,
       "height": null,
       "justify_content": null,
       "justify_items": null,
       "left": null,
       "margin": null,
       "max_height": null,
       "max_width": null,
       "min_height": null,
       "min_width": null,
       "object_fit": null,
       "object_position": null,
       "order": null,
       "overflow": null,
       "overflow_x": null,
       "overflow_y": null,
       "padding": null,
       "right": null,
       "top": null,
       "visibility": null,
       "width": null
      }
     },
     "f68cc4479f94488faa2a45633a2264ad": {
      "model_module": "@jupyter-widgets/controls",
      "model_module_version": "1.5.0",
      "model_name": "ProgressStyleModel",
      "state": {
       "_model_module": "@jupyter-widgets/controls",
       "_model_module_version": "1.5.0",
       "_model_name": "ProgressStyleModel",
       "_view_count": null,
       "_view_module": "@jupyter-widgets/base",
       "_view_module_version": "1.2.0",
       "_view_name": "StyleView",
       "bar_color": null,
       "description_width": ""
      }
     },
     "fd788bd9670c4c189d7be838e08b2da9": {
      "model_module": "@jupyter-widgets/controls",
      "model_module_version": "1.5.0",
      "model_name": "HTMLModel",
      "state": {
       "_dom_classes": [],
       "_model_module": "@jupyter-widgets/controls",
       "_model_module_version": "1.5.0",
       "_model_name": "HTMLModel",
       "_view_count": null,
       "_view_module": "@jupyter-widgets/controls",
       "_view_module_version": "1.5.0",
       "_view_name": "HTMLView",
       "description": "",
       "description_tooltip": null,
       "layout": "IPY_MODEL_5cd3969fa2fa403c9b52757d20513221",
       "placeholder": "​",
       "style": "IPY_MODEL_1c32c385698a441aa0a92a19390b835c",
       "value": " 511M/511M [00:18&lt;00:00, 30.8MB/s]"
      }
     }
    },
    "version_major": 2,
    "version_minor": 0
   }
  }
 },
 "nbformat": 4,
 "nbformat_minor": 5
}
