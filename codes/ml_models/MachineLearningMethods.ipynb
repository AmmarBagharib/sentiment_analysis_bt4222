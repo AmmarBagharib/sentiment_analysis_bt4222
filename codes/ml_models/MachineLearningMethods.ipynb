{
 "cells": [
  {
   "cell_type": "code",
   "execution_count": 290,
   "metadata": {
    "executionInfo": {
     "elapsed": 4,
     "status": "ok",
     "timestamp": 1695284946502,
     "user": {
      "displayName": "Hien Nga Luong",
      "userId": "10313683531485500593"
     },
     "user_tz": -480
    },
    "id": "XbhdfhA58msr"
   },
   "outputs": [],
   "source": [
    "RANDOM_STATE = 1"
   ]
  },
  {
   "cell_type": "markdown",
   "metadata": {
    "id": "J7gjrM5d2rFt"
   },
   "source": [
    "# Imports"
   ]
  },
  {
   "cell_type": "code",
   "execution_count": 291,
   "metadata": {
    "executionInfo": {
     "elapsed": 2498,
     "status": "ok",
     "timestamp": 1695284946501,
     "user": {
      "displayName": "Hien Nga Luong",
      "userId": "10313683531485500593"
     },
     "user_tz": -480
    },
    "id": "jIQzdKEO2hcv"
   },
   "outputs": [],
   "source": [
    "import pandas as pd\n",
    "import time\n",
    "import numpy as np\n",
    "import pickle\n",
    "from sklearn.metrics import confusion_matrix\n",
    "import warnings\n",
    "warnings.filterwarnings(\"ignore\")\n",
    "pd.set_option('display.max_colwidth',300)\n",
    "import matplotlib.pyplot as plt\n",
    "import seaborn as sns\n",
    "import sklearn\n",
    "from sklearn.model_selection import GridSearchCV\n",
    "from sklearn.model_selection import train_test_split, KFold, GridSearchCV\n",
    "from sklearn.ensemble import RandomForestClassifier\n",
    "from sklearn.linear_model import LogisticRegression\n",
    "from sklearn.naive_bayes import MultinomialNB\n",
    "from sklearn.metrics import classification_report, precision_recall_curve, confusion_matrix, ConfusionMatrixDisplay\n",
    "from sklearn.feature_extraction.text import TfidfVectorizer\n",
    "from sklearn.ensemble import StackingClassifier\n",
    "from sklearn.neural_network import MLPClassifier\n",
    "from imblearn.under_sampling import RandomUnderSampler\n",
    "from sklearn.utils import shuffle"
   ]
  },
  {
   "cell_type": "code",
   "execution_count": 292,
   "metadata": {
    "executionInfo": {
     "elapsed": 518,
     "status": "ok",
     "timestamp": 1695284949845,
     "user": {
      "displayName": "Hien Nga Luong",
      "userId": "10313683531485500593"
     },
     "user_tz": -480
    },
    "id": "YlQ22k-C2vq-"
   },
   "outputs": [],
   "source": [
    "from nltk.corpus import stopwords\n",
    "import re\n",
    "import nltk\n",
    "from nltk import tokenize\n",
    "from nltk.stem import WordNetLemmatizer"
   ]
  },
  {
   "cell_type": "code",
   "execution_count": 293,
   "metadata": {
    "executionInfo": {
     "elapsed": 17196,
     "status": "ok",
     "timestamp": 1695285264038,
     "user": {
      "displayName": "Hien Nga Luong",
      "userId": "10313683531485500593"
     },
     "user_tz": -480
    },
    "id": "VfY2pENH3-I0"
   },
   "outputs": [],
   "source": [
    "import spacy"
   ]
  },
  {
   "cell_type": "markdown",
   "metadata": {
    "id": "yNwZ7KS62vlr",
    "tags": []
   },
   "source": [
    "# Import datasets from drive"
   ]
  },
  {
   "cell_type": "markdown",
   "metadata": {
    "id": "XViMCq4E3il1"
   },
   "source": [
    "Note - for the purpose of brevity, data has already been preprocessed and cleaned."
   ]
  },
  {
   "cell_type": "code",
   "execution_count": 294,
   "metadata": {
    "colab": {
     "base_uri": "https://localhost:8080/"
    },
    "executionInfo": {
     "elapsed": 19315,
     "status": "ok",
     "timestamp": 1695285040903,
     "user": {
      "displayName": "Hien Nga Luong",
      "userId": "10313683531485500593"
     },
     "user_tz": -480
    },
    "id": "TrJjJAFp2zHG",
    "outputId": "955c85b4-afc0-4111-dead-fa8a972d996e"
   },
   "outputs": [],
   "source": [
    "#from google.colab import drive\n",
    "#drive.mount('/content/drive')"
   ]
  },
  {
   "cell_type": "code",
   "execution_count": 295,
   "metadata": {
    "executionInfo": {
     "elapsed": 5,
     "status": "ok",
     "timestamp": 1695285040904,
     "user": {
      "displayName": "Hien Nga Luong",
      "userId": "10313683531485500593"
     },
     "user_tz": -480
    },
    "id": "v6DgU-lDzeAK"
   },
   "outputs": [],
   "source": [
    "import math"
   ]
  },
  {
   "cell_type": "code",
   "execution_count": 296,
   "metadata": {},
   "outputs": [],
   "source": [
    "# TODO: modify these list if needed (eg. if you want to load only 1 csv from star3, delete other csvs in star3 list)\n",
    "mbs = ['cleaned_mbs_total.csv']\n",
    "bencoolen = ['cleaned_ibis-sg-bencoolen.csv']\n",
    "paradox = ['cleaned_paradox-sg-merchant-court.csv']\n",
    "star3 = ['cleaned_ibis-sg-bencoolen.csv','cleaned_hotel-boss.csv','cleaned_hotel-G.csv',\n",
    "           'cleaned_village-hotel-albert-court-by-far-east-hospitality.csv',\n",
    "           'cleaned_holiday-inn-express-clarke-quay.csv']\n",
    "star4 = ['cleaned_village-hotel-changi-by-far-east-hospitality.csv',\n",
    "         'cleaned_park-regis.csv', 'cleaned_grand-mercure-sg-roxy.csv',\n",
    "         'cleaned_paradox-sg-merchant-court.csv','cleaned_crowne-plaza.csv']\n",
    "star5 = ['cleaned_fullerton.csv', 'cleaned_parkroyal-collection-marina-bay.csv', 'cleaned_pan-pacific.csv',\n",
    "          'cleaned_mbs_total.csv', 'cleaned_swissotel-the-stamford.csv']\n",
    "ROOT = ''\n",
    "RAW_FOLDER = \"..\\\\data\\\\processed\"\n",
    "def filter_date(row):\n",
    "  try:\n",
    "    #print(int(row[\"date_of_stay\"][-4:]))\n",
    "    print(row[\"date_of_stay\"][-4:])\n",
    "    return int(row[\"date_of_stay\"][-4:])\n",
    "  except:\n",
    "    #print(\"2000\")\n",
    "    return 2000\n",
    "def combine_csv_to_dataframe(file_names, all_star = False, filterDate = True):\n",
    "    \"\"\"\n",
    "    Combine multiple CSV files into a single DataFrame.\n",
    "\n",
    "    Parameters:\n",
    "    file_names (list): List of CSV file names. \n",
    "    all_star (bool): whether or not to load all the hotels (False if only want to load 1 type of hotel star). \n",
    "    filterData (bool): whether or not to remove all data dated before 2015\n",
    "\n",
    "    Returns:\n",
    "    pd.DataFrame: Combined DataFrame.\n",
    "    \"\"\"\n",
    "    combined_df = pd.DataFrame()\n",
    "\n",
    "    for file_name in file_names:\n",
    "        file_name = RAW_FOLDER + \"\\\\\" + file_name\n",
    "        try:\n",
    "            df = pd.read_csv(file_name)\n",
    "            if all_star:\n",
    "              if file_name in star3:\n",
    "                df[\"star\"] = 3\n",
    "              elif file_name in star4:\n",
    "                df[\"star\"] = 4\n",
    "              else:\n",
    "                df[\"star\"] = 5\n",
    "            print(f\"Length of {file_name} is {len(df)}\")\n",
    "            combined_df = pd.concat([combined_df, df], ignore_index=True)\n",
    "        except FileNotFoundError:\n",
    "            print(f\"File not found: {file_name}\")\n",
    "        except pd.errors.EmptyDataError:\n",
    "            print(f\"Empty or invalid CSV file: {file_name}\")\n",
    "    if filterDate:\n",
    "      combined_df[\"year\"] = combined_df.apply(lambda row: filter_date(row), axis = 1)\n",
    "      combined_df = combined_df[combined_df[\"year\"]>=2015]\n",
    "    return combined_df"
   ]
  },
  {
   "cell_type": "code",
   "execution_count": null,
   "metadata": {},
   "outputs": [],
   "source": []
  },
  {
   "cell_type": "code",
   "execution_count": 297,
   "metadata": {
    "executionInfo": {
     "elapsed": 1589,
     "status": "ok",
     "timestamp": 1695285047288,
     "user": {
      "displayName": "Hien Nga Luong",
      "userId": "10313683531485500593"
     },
     "user_tz": -480
    },
    "id": "eWYRx4-e2zex"
   },
   "outputs": [
    {
     "name": "stdout",
     "output_type": "stream",
     "text": [
      "Length of ..\\data\\processed\\cleaned_ibis-sg-bencoolen.csv is 2217\n",
      "Length of ..\\data\\processed\\cleaned_hotel-boss.csv is 3568\n",
      "Length of ..\\data\\processed\\cleaned_hotel-G.csv is 3826\n",
      "Length of ..\\data\\processed\\cleaned_village-hotel-albert-court-by-far-east-hospitality.csv is 2290\n",
      "Length of ..\\data\\processed\\cleaned_holiday-inn-express-clarke-quay.csv is 2169\n",
      "Length of ..\\data\\processed\\cleaned_village-hotel-changi-by-far-east-hospitality.csv is 4325\n",
      "Length of ..\\data\\processed\\cleaned_park-regis.csv is 4719\n",
      "Length of ..\\data\\processed\\cleaned_grand-mercure-sg-roxy.csv is 2317\n",
      "Length of ..\\data\\processed\\cleaned_paradox-sg-merchant-court.csv is 3571\n",
      "Length of ..\\data\\processed\\cleaned_crowne-plaza.csv is 3668\n",
      "Length of ..\\data\\processed\\cleaned_fullerton.csv is 6374\n",
      "Length of ..\\data\\processed\\cleaned_parkroyal-collection-marina-bay.csv is 6237\n",
      "Length of ..\\data\\processed\\cleaned_pan-pacific.csv is 7430\n",
      "Length of ..\\data\\processed\\cleaned_mbs_total.csv is 10523\n",
      "Length of ..\\data\\processed\\cleaned_swissotel-the-stamford.csv is 5058\n"
     ]
    }
   ],
   "source": [
    "#data_path = '/content/drive/MyDrive/BT4222/data/mbs_reviews.csv'\n",
    "df = combine_csv_to_dataframe(star3+star4+star5, all_star = True, filterDate = False)"
   ]
  },
  {
   "cell_type": "code",
   "execution_count": 298,
   "metadata": {},
   "outputs": [],
   "source": [
    "DATANAME = \"ALLDATA\""
   ]
  },
  {
   "cell_type": "code",
   "execution_count": 299,
   "metadata": {
    "colab": {
     "base_uri": "https://localhost:8080/"
    },
    "executionInfo": {
     "elapsed": 563,
     "status": "ok",
     "timestamp": 1695285727523,
     "user": {
      "displayName": "Hien Nga Luong",
      "userId": "10313683531485500593"
     },
     "user_tz": -480
    },
    "id": "8FKE7zrP5zqq",
    "outputId": "00612ddf-384b-4fd2-db25-db02e6953048"
   },
   "outputs": [
    {
     "name": "stdout",
     "output_type": "stream",
     "text": [
      "<class 'pandas.core.frame.DataFrame'>\n",
      "RangeIndex: 68292 entries, 0 to 68291\n",
      "Data columns (total 19 columns):\n",
      " #   Column                                 Non-Null Count  Dtype  \n",
      "---  ------                                 --------------  -----  \n",
      " 0   Unnamed: 0                             68292 non-null  int64  \n",
      " 1   traveller_username                     68292 non-null  object \n",
      " 2   review_title                           68285 non-null  object \n",
      " 3   review_text                            68292 non-null  object \n",
      " 4   travel_type                            31354 non-null  object \n",
      " 5   traveller_country_origin               51724 non-null  object \n",
      " 6   traveller_total_contributions          68103 non-null  object \n",
      " 7   traveller_total_helpful_contributions  54090 non-null  float64\n",
      " 8   rating                                 54837 non-null  float64\n",
      " 9   valid_rating                           68292 non-null  bool   \n",
      " 10  label                                  54837 non-null  object \n",
      " 11  cleaned_review                         68292 non-null  object \n",
      " 12  combined_review                        68292 non-null  object \n",
      " 13  date                                   68292 non-null  object \n",
      " 14  covid                                  68292 non-null  object \n",
      " 15  year                                   68292 non-null  int64  \n",
      " 16  stem_review                            68292 non-null  object \n",
      " 17  lem_review                             68292 non-null  object \n",
      " 18  star                                   68292 non-null  int64  \n",
      "dtypes: bool(1), float64(2), int64(3), object(13)\n",
      "memory usage: 9.4+ MB\n"
     ]
    }
   ],
   "source": [
    "df.info()"
   ]
  },
  {
   "cell_type": "markdown",
   "metadata": {
    "id": "vzoBN5g-4fgu",
    "tags": []
   },
   "source": [
    "# Data Preprocessing"
   ]
  },
  {
   "cell_type": "markdown",
   "metadata": {
    "id": "430Ee6JI8L6Q"
   },
   "source": [
    "Then, we split the data into train and validation sets using train_test_split."
   ]
  },
  {
   "cell_type": "code",
   "execution_count": 300,
   "metadata": {},
   "outputs": [],
   "source": [
    "df.dropna(subset=['label'], inplace=True)\n"
   ]
  },
  {
   "cell_type": "code",
   "execution_count": 301,
   "metadata": {},
   "outputs": [],
   "source": [
    "df = df[df[\"label\"]!='Neutral']"
   ]
  },
  {
   "cell_type": "code",
   "execution_count": 302,
   "metadata": {},
   "outputs": [],
   "source": [
    "df['label'] = df['label'].astype('category')\n"
   ]
  },
  {
   "cell_type": "code",
   "execution_count": 303,
   "metadata": {
    "executionInfo": {
     "elapsed": 385,
     "status": "ok",
     "timestamp": 1695287785457,
     "user": {
      "displayName": "Hien Nga Luong",
      "userId": "10313683531485500593"
     },
     "user_tz": -480
    },
    "id": "LYxEkW3O8PYf"
   },
   "outputs": [],
   "source": [
    "train_set, test_set = train_test_split(df[['lem_review','label']],\n",
    "                                      test_size=0.2,\n",
    "                                      shuffle=True,\n",
    "                                      random_state=RANDOM_STATE)\n",
    "X_train = train_set.lem_review\n",
    "y_train = train_set.label\n",
    "X_test = test_set.lem_review\n",
    "y_test = test_set.label"
   ]
  },
  {
   "cell_type": "code",
   "execution_count": 304,
   "metadata": {},
   "outputs": [
    {
     "data": {
      "text/html": [
       "<div>\n",
       "<style scoped>\n",
       "    .dataframe tbody tr th:only-of-type {\n",
       "        vertical-align: middle;\n",
       "    }\n",
       "\n",
       "    .dataframe tbody tr th {\n",
       "        vertical-align: top;\n",
       "    }\n",
       "\n",
       "    .dataframe thead th {\n",
       "        text-align: right;\n",
       "    }\n",
       "</style>\n",
       "<table border=\"1\" class=\"dataframe\">\n",
       "  <thead>\n",
       "    <tr style=\"text-align: right;\">\n",
       "      <th></th>\n",
       "      <th>lem_review</th>\n",
       "      <th>label</th>\n",
       "    </tr>\n",
       "  </thead>\n",
       "  <tbody>\n",
       "    <tr>\n",
       "      <th>61530</th>\n",
       "      <td>amazing swimpool really great amazing view room ok garden bay view really like scent toiletry mbs skypark really full son birthday cake mbs compliment like</td>\n",
       "      <td>Positive</td>\n",
       "    </tr>\n",
       "    <tr>\n",
       "      <th>25354</th>\n",
       "      <td>quick singapore stayover modern well equip facility nice pool area half way airport city walk distance beach area local market choice resturant staff courteous helpful adjoining shopping mall wide variety shop include beauty treatment nail massage hairdressing</td>\n",
       "      <td>Positive</td>\n",
       "    </tr>\n",
       "    <tr>\n",
       "      <th>53325</th>\n",
       "      <td>worth hype iconic hotel heart singapore iconic hotel set standard luxury amongst singaporean hotel city young beautiful head hour classy cocktail fine dining gambling course plenty tourist visit world famous observation deck afford stunning view lion city room marina bay sands huge modern incred...</td>\n",
       "      <td>Positive</td>\n",
       "    </tr>\n",
       "    <tr>\n",
       "      <th>1900</th>\n",
       "      <td>ibis bencoolen great stay use place hour stopover singapore en route sydney amsterdam central amazingly professional friendly staff easy get clean efficient room helpful staff perfect wifi stay singapore good value job book hour stopover go back</td>\n",
       "      <td>Positive</td>\n",
       "    </tr>\n",
       "    <tr>\n",
       "      <th>51511</th>\n",
       "      <td>beautiful property beautiful city stay pan pacific singapore four night end asia cruise end march earlyapril hotel exceptional every way grand atrium spacious room comfort singapore close equator hot come back cool room wonderful shower cozy robe slipper comfy bed refreshing breakfast buffet wou...</td>\n",
       "      <td>Positive</td>\n",
       "    </tr>\n",
       "    <tr>\n",
       "      <th>...</th>\n",
       "      <td>...</td>\n",
       "      <td>...</td>\n",
       "    </tr>\n",
       "    <tr>\n",
       "      <th>68191</th>\n",
       "      <td>ok hotel we wi fi nice modern convenient hotel spacious room great view accessible via mrt however charge singapore dollar hour wi fi access ridiculous first singapore prides intelligent island drown bandwidth second fishing hut rural cambodia provide free internet access</td>\n",
       "      <td>Positive</td>\n",
       "    </tr>\n",
       "    <tr>\n",
       "      <th>48916</th>\n",
       "      <td>wow pan pacific hotel high rate premium quality hotel singapore stay day travel hong kong hotel gem staff well mannered polite professional accommodate hotel nice view great dining experience good restaurant love breakfast pool amazing gym great room equip nice king size bed spacious update loca...</td>\n",
       "      <td>Positive</td>\n",
       "    </tr>\n",
       "    <tr>\n",
       "      <th>6047</th>\n",
       "      <td>amazing stay staff stay hotel g singapore couple night everything excellent manager daryl super nice provide we excellent service time staff stay location everything perfect come back sure</td>\n",
       "      <td>Positive</td>\n",
       "    </tr>\n",
       "    <tr>\n",
       "      <th>13901</th>\n",
       "      <td>great location great value spend night hotel honestly say absolute pleasure start finish room small clean new breakfast good selection suit taste location also spot city attraction china town clarke quay ect staff friendly first visit singapore helpful tourist inquiry also hour wait time checkou...</td>\n",
       "      <td>Positive</td>\n",
       "    </tr>\n",
       "    <tr>\n",
       "      <th>49440</th>\n",
       "      <td>two tier hotel excellent hotel helpful professional staff mention archie leisure center go way make we comfortable waiting room complaint apparently great view top floor unable access standard room can not go past something like th floor shame rest facility faultless comfortable bed ever sleep w...</td>\n",
       "      <td>Positive</td>\n",
       "    </tr>\n",
       "  </tbody>\n",
       "</table>\n",
       "<p>40110 rows × 2 columns</p>\n",
       "</div>"
      ],
      "text/plain": [
       "                                                                                                                                                                                                                                                                                                        lem_review  \\\n",
       "61530                                                                                                                                                  amazing swimpool really great amazing view room ok garden bay view really like scent toiletry mbs skypark really full son birthday cake mbs compliment like   \n",
       "25354                                         quick singapore stayover modern well equip facility nice pool area half way airport city walk distance beach area local market choice resturant staff courteous helpful adjoining shopping mall wide variety shop include beauty treatment nail massage hairdressing   \n",
       "53325  worth hype iconic hotel heart singapore iconic hotel set standard luxury amongst singaporean hotel city young beautiful head hour classy cocktail fine dining gambling course plenty tourist visit world famous observation deck afford stunning view lion city room marina bay sands huge modern incred...   \n",
       "1900                                                         ibis bencoolen great stay use place hour stopover singapore en route sydney amsterdam central amazingly professional friendly staff easy get clean efficient room helpful staff perfect wifi stay singapore good value job book hour stopover go back   \n",
       "51511  beautiful property beautiful city stay pan pacific singapore four night end asia cruise end march earlyapril hotel exceptional every way grand atrium spacious room comfort singapore close equator hot come back cool room wonderful shower cozy robe slipper comfy bed refreshing breakfast buffet wou...   \n",
       "...                                                                                                                                                                                                                                                                                                            ...   \n",
       "68191                             ok hotel we wi fi nice modern convenient hotel spacious room great view accessible via mrt however charge singapore dollar hour wi fi access ridiculous first singapore prides intelligent island drown bandwidth second fishing hut rural cambodia provide free internet access   \n",
       "48916  wow pan pacific hotel high rate premium quality hotel singapore stay day travel hong kong hotel gem staff well mannered polite professional accommodate hotel nice view great dining experience good restaurant love breakfast pool amazing gym great room equip nice king size bed spacious update loca...   \n",
       "6047                                                                                                                  amazing stay staff stay hotel g singapore couple night everything excellent manager daryl super nice provide we excellent service time staff stay location everything perfect come back sure   \n",
       "13901  great location great value spend night hotel honestly say absolute pleasure start finish room small clean new breakfast good selection suit taste location also spot city attraction china town clarke quay ect staff friendly first visit singapore helpful tourist inquiry also hour wait time checkou...   \n",
       "49440  two tier hotel excellent hotel helpful professional staff mention archie leisure center go way make we comfortable waiting room complaint apparently great view top floor unable access standard room can not go past something like th floor shame rest facility faultless comfortable bed ever sleep w...   \n",
       "\n",
       "          label  \n",
       "61530  Positive  \n",
       "25354  Positive  \n",
       "53325  Positive  \n",
       "1900   Positive  \n",
       "51511  Positive  \n",
       "...         ...  \n",
       "68191  Positive  \n",
       "48916  Positive  \n",
       "6047   Positive  \n",
       "13901  Positive  \n",
       "49440  Positive  \n",
       "\n",
       "[40110 rows x 2 columns]"
      ]
     },
     "execution_count": 304,
     "metadata": {},
     "output_type": "execute_result"
    }
   ],
   "source": [
    "train_set"
   ]
  },
  {
   "cell_type": "code",
   "execution_count": 305,
   "metadata": {
    "colab": {
     "base_uri": "https://localhost:8080/"
    },
    "executionInfo": {
     "elapsed": 5,
     "status": "ok",
     "timestamp": 1695287786819,
     "user": {
      "displayName": "Hien Nga Luong",
      "userId": "10313683531485500593"
     },
     "user_tz": -480
    },
    "id": "oYvPOWGGSWMP",
    "outputId": "ac068b8a-eaeb-4f30-fd78-3c4e6643ea37"
   },
   "outputs": [
    {
     "data": {
      "text/plain": [
       "Positive    37729\n",
       "Negative     2381\n",
       "Name: label, dtype: int64"
      ]
     },
     "execution_count": 305,
     "metadata": {},
     "output_type": "execute_result"
    }
   ],
   "source": [
    "y_train.value_counts()"
   ]
  },
  {
   "cell_type": "markdown",
   "metadata": {
    "id": "flWoRNHRSjpL"
   },
   "source": [
    "The data is very imbalanced, so we will perform undersampling on the train data."
   ]
  },
  {
   "cell_type": "code",
   "execution_count": 306,
   "metadata": {},
   "outputs": [],
   "source": [
    "train_set['label'] = train_set['label'].astype('category')\n"
   ]
  },
  {
   "cell_type": "code",
   "execution_count": 307,
   "metadata": {
    "executionInfo": {
     "elapsed": 416,
     "status": "ok",
     "timestamp": 1695287791805,
     "user": {
      "displayName": "Hien Nga Luong",
      "userId": "10313683531485500593"
     },
     "user_tz": -480
    },
    "id": "SOTUK_cZSq_p"
   },
   "outputs": [],
   "source": [
    "rus = RandomUnderSampler(random_state=RANDOM_STATE)\n",
    "X_train, y_train = rus.fit_resample(train_set, train_set['label'])\n",
    "train_set = shuffle(X_train)\n",
    "train_set.reset_index(inplace=True, drop=True)"
   ]
  },
  {
   "cell_type": "code",
   "execution_count": 308,
   "metadata": {
    "executionInfo": {
     "elapsed": 4,
     "status": "ok",
     "timestamp": 1695287792215,
     "user": {
      "displayName": "Hien Nga Luong",
      "userId": "10313683531485500593"
     },
     "user_tz": -480
    },
    "id": "5G_agiUAXGTh"
   },
   "outputs": [],
   "source": [
    "X_train = train_set['lem_review']\n",
    "y_train = train_set['label']"
   ]
  },
  {
   "cell_type": "code",
   "execution_count": 309,
   "metadata": {
    "colab": {
     "base_uri": "https://localhost:8080/"
    },
    "executionInfo": {
     "elapsed": 4,
     "status": "ok",
     "timestamp": 1695287792534,
     "user": {
      "displayName": "Hien Nga Luong",
      "userId": "10313683531485500593"
     },
     "user_tz": -480
    },
    "id": "YU4FgDzCXTXD",
    "outputId": "57014394-11ec-4e98-f456-7e245a027e50"
   },
   "outputs": [
    {
     "data": {
      "text/plain": [
       "Negative    2381\n",
       "Positive    2381\n",
       "Name: label, dtype: int64"
      ]
     },
     "execution_count": 309,
     "metadata": {},
     "output_type": "execute_result"
    }
   ],
   "source": [
    "y_train.value_counts()"
   ]
  },
  {
   "cell_type": "markdown",
   "metadata": {
    "id": "t3D8PMGF6ZTb"
   },
   "source": [
    "We can now use this data for training and testing. To use text data in our machine learning models, we first convert them into TF-IDF vectors."
   ]
  },
  {
   "cell_type": "code",
   "execution_count": 310,
   "metadata": {
    "executionInfo": {
     "elapsed": 4780,
     "status": "ok",
     "timestamp": 1695287811469,
     "user": {
      "displayName": "Hien Nga Luong",
      "userId": "10313683531485500593"
     },
     "user_tz": -480
    },
    "id": "h0ttuqoO7SSL"
   },
   "outputs": [],
   "source": [
    "vectorizer = TfidfVectorizer(use_idf=True,ngram_range=(1,3))\n",
    "tfidf_features_train = vectorizer.fit_transform(X_train)\n",
    "tfidf_features_test = vectorizer.transform(X_test)"
   ]
  },
  {
   "cell_type": "code",
   "execution_count": 311,
   "metadata": {
    "id": "NNjBqzfBPiL4"
   },
   "outputs": [],
   "source": [
    "# save the model to disk\n",
    "filename = 'tfidf_vectorizer.sav'\n",
    "pickle.dump(vectorizer, open(filename, 'wb'))\n",
    "\n",
    "# load the model from disk\n",
    "#loaded_model = pickle.load(open(filename, 'rb'))"
   ]
  },
  {
   "cell_type": "markdown",
   "metadata": {
    "id": "epLbCiFHyhn2"
   },
   "source": [
    "# Machine Learning Models"
   ]
  },
  {
   "cell_type": "markdown",
   "metadata": {
    "id": "Zx-vN_9a7oU_"
   },
   "source": [
    "## Logistic Regression model"
   ]
  },
  {
   "cell_type": "code",
   "execution_count": 312,
   "metadata": {
    "colab": {
     "base_uri": "https://localhost:8080/",
     "height": 256
    },
    "executionInfo": {
     "elapsed": 73726,
     "status": "ok",
     "timestamp": 1695287912440,
     "user": {
      "displayName": "Hien Nga Luong",
      "userId": "10313683531485500593"
     },
     "user_tz": -480
    },
    "id": "RPlmKdex7qiq",
    "outputId": "5c02f1d1-0f1d-4abe-9770-66dd9ed06f4b"
   },
   "outputs": [
    {
     "name": "stdout",
     "output_type": "stream",
     "text": [
      "Fitting 5 folds for each of 14 candidates, totalling 70 fits\n"
     ]
    },
    {
     "data": {
      "text/plain": [
       "GridSearchCV(estimator=LogisticRegression(), n_jobs=-1,\n",
       "             param_grid={'C': array([1.e-03, 1.e-02, 1.e-01, 1.e+00, 1.e+01, 1.e+02, 1.e+03]),\n",
       "                         'penalty': ['l1', 'l2']},\n",
       "             verbose=5)"
      ]
     },
     "execution_count": 312,
     "metadata": {},
     "output_type": "execute_result"
    }
   ],
   "source": [
    "param_grid = {\"C\":np.logspace(-3,3,7),\n",
    "              \"penalty\":[\"l1\",\"l2\"]\n",
    "              }\n",
    "\n",
    "lr_model = GridSearchCV(LogisticRegression(),\n",
    "                        param_grid=param_grid,\n",
    "                        n_jobs=-1,\n",
    "                        verbose=5)\n",
    "\n",
    "#lr_model = LogisticRegression(C=10.0,penalty='l2')\n",
    "lr_model.fit(tfidf_features_train, y_train)"
   ]
  },
  {
   "cell_type": "code",
   "execution_count": 313,
   "metadata": {
    "colab": {
     "base_uri": "https://localhost:8080/"
    },
    "executionInfo": {
     "elapsed": 410,
     "status": "ok",
     "timestamp": 1695288223363,
     "user": {
      "displayName": "Hien Nga Luong",
      "userId": "10313683531485500593"
     },
     "user_tz": -480
    },
    "id": "tCi1P1iKzkMh",
    "outputId": "7586994e-15d9-4532-d31b-57cc3c800d72"
   },
   "outputs": [
    {
     "name": "stdout",
     "output_type": "stream",
     "text": [
      "Best Parameters found : {'C': 1000.0, 'penalty': 'l2'}\n",
      "Best Accuracy found : 0.939\n",
      "\n"
     ]
    }
   ],
   "source": [
    "print('Best Parameters found : {}'.format(lr_model.best_params_))\n",
    "print('Best Accuracy found : {:.3f}\\n'.format(lr_model.best_score_))"
   ]
  },
  {
   "cell_type": "markdown",
   "metadata": {
    "id": "ySOO19ZB_1V0"
   },
   "source": [
    "Evaluation on test set"
   ]
  },
  {
   "cell_type": "code",
   "execution_count": 314,
   "metadata": {
    "executionInfo": {
     "elapsed": 3,
     "status": "ok",
     "timestamp": 1695288514155,
     "user": {
      "displayName": "Hien Nga Luong",
      "userId": "10313683531485500593"
     },
     "user_tz": -480
    },
    "id": "E3pHNEkyD6xP"
   },
   "outputs": [],
   "source": [
    "predictions = lr_model.predict(tfidf_features_test)\n",
    "cm = confusion_matrix(y_test, predictions, labels=lr_model.classes_)"
   ]
  },
  {
   "cell_type": "code",
   "execution_count": 315,
   "metadata": {
    "colab": {
     "base_uri": "https://localhost:8080/",
     "height": 449
    },
    "executionInfo": {
     "elapsed": 542,
     "status": "ok",
     "timestamp": 1695288518366,
     "user": {
      "displayName": "Hien Nga Luong",
      "userId": "10313683531485500593"
     },
     "user_tz": -480
    },
    "id": "7ERMddbuDUBL",
    "outputId": "49d51013-76c4-496e-d710-6329b1b8d62a"
   },
   "outputs": [
    {
     "data": {
      "image/png": "[encoded data removed]",
      "text/plain": [
       "<Figure size 432x288 with 2 Axes>"
      ]
     },
     "metadata": {
      "needs_background": "light"
     },
     "output_type": "display_data"
    }
   ],
   "source": [
    "disp = ConfusionMatrixDisplay(confusion_matrix=cm, display_labels=lr_model.classes_)\n",
    "disp.plot()\n",
    "plt.title(f\"{DATANAME} Logistic Regression Confusion Matrix\")\n",
    "plt.show()\n"
   ]
  },
  {
   "cell_type": "code",
   "execution_count": 316,
   "metadata": {
    "colab": {
     "base_uri": "https://localhost:8080/"
    },
    "executionInfo": {
     "elapsed": 912,
     "status": "ok",
     "timestamp": 1695288641834,
     "user": {
      "displayName": "Hien Nga Luong",
      "userId": "10313683531485500593"
     },
     "user_tz": -480
    },
    "id": "N8Dg61VW_StR",
    "outputId": "914fbad8-a981-4624-ebfb-9c00c50a56fd"
   },
   "outputs": [
    {
     "name": "stdout",
     "output_type": "stream",
     "text": [
      "REPORT FOR ALLDATA LOGISTIC REGRESSION\n",
      "Time Taken 0.005009174346923828 s, 2001926.7259400287 rows per s\n",
      "              precision    recall  f1-score   support\n",
      "\n",
      "    Negative       0.49      0.94      0.65       622\n",
      "    Positive       1.00      0.94      0.97      9406\n",
      "\n",
      "    accuracy                           0.94     10028\n",
      "   macro avg       0.75      0.94      0.81     10028\n",
      "weighted avg       0.96      0.94      0.95     10028\n",
      "\n",
      "[[ 586   36]\n",
      " [ 598 8808]]\n"
     ]
    }
   ],
   "source": [
    "\n",
    "t1 = time.time()\n",
    "\n",
    "predictions = lr_model.predict(tfidf_features_test)\n",
    "t2 = time.time()\n",
    "print(f\"REPORT FOR {DATANAME} LOGISTIC REGRESSION\")\n",
    "print(f'Time Taken {t2-t1} s, {len(y_test)/(t2-t1)} rows per s')\n",
    "print(sklearn.metrics.classification_report(y_test, predictions, target_names=['Negative', 'Positive']))\n",
    "print(sklearn.metrics.confusion_matrix(y_test, predictions, labels=lr_model.classes_))"
   ]
  },
  {
   "cell_type": "markdown",
   "metadata": {
    "id": "stCLJHaLYgrm"
   },
   "source": [
    "## Multinomial Naive Bayes Model"
   ]
  },
  {
   "cell_type": "code",
   "execution_count": 317,
   "metadata": {
    "colab": {
     "base_uri": "https://localhost:8080/",
     "height": 228
    },
    "executionInfo": {
     "elapsed": 9353,
     "status": "ok",
     "timestamp": 1695288698906,
     "user": {
      "displayName": "Hien Nga Luong",
      "userId": "10313683531485500593"
     },
     "user_tz": -480
    },
    "id": "cDCr7RQyYlmt",
    "outputId": "56281bd7-578f-44b9-8bbe-504b990098f6"
   },
   "outputs": [
    {
     "name": "stdout",
     "output_type": "stream",
     "text": [
      "Fitting 5 folds for each of 24 candidates, totalling 120 fits\n"
     ]
    },
    {
     "data": {
      "text/plain": [
       "GridSearchCV(estimator=MultinomialNB(), n_jobs=-1,\n",
       "             param_grid={'alpha': [0, 0.01, 0.1, 0.5, 1.0, 10.0],\n",
       "                         'class_prior': [None, [0.1, 0.1, 0.1]],\n",
       "                         'fit_prior': [True, False]},\n",
       "             verbose=5)"
      ]
     },
     "execution_count": 317,
     "metadata": {},
     "output_type": "execute_result"
    }
   ],
   "source": [
    "param_grid =  {'alpha':[0, 0.01, 0.1, 0.5, 1.0, 10.0],\n",
    "               'fit_prior': [True, False],\n",
    "               'class_prior': [None, [0.1,]*3]\n",
    "              }\n",
    "\n",
    "nb_model = GridSearchCV(MultinomialNB(),\n",
    "                        param_grid=param_grid,\n",
    "                        n_jobs=-1,\n",
    "                        verbose=5)\n",
    "#nb_model = MultinomialNB(alpha=1.0, class_prior=None, fit_prior=True)\n",
    "nb_model.fit(tfidf_features_train, y_train)"
   ]
  },
  {
   "cell_type": "code",
   "execution_count": 318,
   "metadata": {
    "colab": {
     "base_uri": "https://localhost:8080/"
    },
    "executionInfo": {
     "elapsed": 344,
     "status": "ok",
     "timestamp": 1695288719184,
     "user": {
      "displayName": "Hien Nga Luong",
      "userId": "10313683531485500593"
     },
     "user_tz": -480
    },
    "id": "P5dNS2rFzvgL",
    "outputId": "3c511960-24cb-4deb-900e-88cf9be39b96"
   },
   "outputs": [
    {
     "name": "stdout",
     "output_type": "stream",
     "text": [
      "Best Parameters found : {'alpha': 0.5, 'class_prior': None, 'fit_prior': True}\n",
      "Best Accuracy found : 0.935\n",
      "\n"
     ]
    }
   ],
   "source": [
    "print('Best Parameters found : {}'.format(nb_model.best_params_))\n",
    "print('Best Accuracy found : {:.3f}\\n'.format(nb_model.best_score_))"
   ]
  },
  {
   "cell_type": "markdown",
   "metadata": {
    "id": "FHe-YEWGZzOU"
   },
   "source": [
    "Evaluation on test set"
   ]
  },
  {
   "cell_type": "code",
   "execution_count": 319,
   "metadata": {
    "colab": {
     "base_uri": "https://localhost:8080/",
     "height": 449
    },
    "executionInfo": {
     "elapsed": 1270,
     "status": "ok",
     "timestamp": 1695288786141,
     "user": {
      "displayName": "Hien Nga Luong",
      "userId": "10313683531485500593"
     },
     "user_tz": -480
    },
    "id": "E5eBxOeQJIpq",
    "outputId": "23915929-7e35-4be3-d43e-d30bfc044869"
   },
   "outputs": [
    {
     "data": {
      "image/png": "[encoded data removed]",
      "text/plain": [
       "<Figure size 432x288 with 2 Axes>"
      ]
     },
     "metadata": {
      "needs_background": "light"
     },
     "output_type": "display_data"
    }
   ],
   "source": [
    "predictions = nb_model.predict(tfidf_features_test)\n",
    "cm = confusion_matrix(y_test, predictions, labels=nb_model.classes_)\n",
    "disp = ConfusionMatrixDisplay(confusion_matrix=cm, display_labels=nb_model.classes_)\n",
    "\n",
    "disp.plot()\n",
    "plt.title(f\"{DATANAME} Multinomial Naive Bayes Confusion Matrix\")\n",
    "plt.show()"
   ]
  },
  {
   "cell_type": "code",
   "execution_count": 320,
   "metadata": {
    "colab": {
     "base_uri": "https://localhost:8080/"
    },
    "executionInfo": {
     "elapsed": 329,
     "status": "ok",
     "timestamp": 1695288813697,
     "user": {
      "displayName": "Hien Nga Luong",
      "userId": "10313683531485500593"
     },
     "user_tz": -480
    },
    "id": "gby6zpJaY1TF",
    "outputId": "5ba9d0e4-bc5d-4173-a02c-15a80d02ada6"
   },
   "outputs": [
    {
     "name": "stdout",
     "output_type": "stream",
     "text": [
      "REPORT FOR ALLDATA MULTINOMIAL NAIVE BAYES\n",
      "Time Taken 0.028732776641845703 s, 349009.0820319631 rows per s\n",
      "              precision    recall  f1-score   support\n",
      "\n",
      "    Negative       0.46      0.95      0.62       622\n",
      "    Positive       1.00      0.93      0.96      9406\n",
      "\n",
      "    accuracy                           0.93     10028\n",
      "   macro avg       0.73      0.94      0.79     10028\n",
      "weighted avg       0.96      0.93      0.94     10028\n",
      "\n",
      "[[ 594   28]\n",
      " [ 697 8709]]\n"
     ]
    }
   ],
   "source": [
    "\n",
    "t1 = time.time()\n",
    "\n",
    "predictions = nb_model.predict(tfidf_features_test)\n",
    "t2 = time.time()\n",
    "print(f\"REPORT FOR {DATANAME} MULTINOMIAL NAIVE BAYES\")\n",
    "print(f'Time Taken {t2-t1} s, {len(y_test)/(t2-t1)} rows per s')\n",
    "print(sklearn.metrics.classification_report(y_test, predictions, target_names=['Negative', 'Positive']))\n",
    "print(sklearn.metrics.confusion_matrix(y_test, predictions, labels=nb_model.classes_))"
   ]
  },
  {
   "cell_type": "markdown",
   "metadata": {
    "id": "nte-VSeTZgSh"
   },
   "source": [
    "## Linear SVM"
   ]
  },
  {
   "cell_type": "code",
   "execution_count": 321,
   "metadata": {
    "colab": {
     "base_uri": "https://localhost:8080/",
     "height": 135
    },
    "executionInfo": {
     "elapsed": 29483,
     "status": "ok",
     "timestamp": 1695288927037,
     "user": {
      "displayName": "Hien Nga Luong",
      "userId": "10313683531485500593"
     },
     "user_tz": -480
    },
    "id": "qLkQWR_rZl2w",
    "outputId": "c039bc10-6a5c-4c3c-b276-23807e62dde9"
   },
   "outputs": [
    {
     "name": "stdout",
     "output_type": "stream",
     "text": [
      "Fitting 5 folds for each of 24 candidates, totalling 120 fits\n"
     ]
    },
    {
     "data": {
      "text/plain": [
       "GridSearchCV(estimator=LinearSVC(random_state=1), n_jobs=-1,\n",
       "             param_grid={'C': [0, 0.01, 0.1, 0.5, 1.0, 10.0],\n",
       "                         'dual': [True, False], 'penalty': ['l1', 'l2']},\n",
       "             verbose=5)"
      ]
     },
     "execution_count": 321,
     "metadata": {},
     "output_type": "execute_result"
    }
   ],
   "source": [
    "param_grid =  {'C':[0, 0.01, 0.1, 0.5, 1.0, 10.0],\n",
    "               'dual': [True, False],\n",
    "               'penalty': ['l1','l2'],\n",
    "              }\n",
    "\n",
    "lsvm_model = GridSearchCV(sklearn.svm.LinearSVC(random_state=RANDOM_STATE),\n",
    "                        param_grid=param_grid,\n",
    "                        n_jobs=-1,\n",
    "                        verbose=5)\n",
    "#lsvm_model = sklearn.svm.LinearSVC(C=1.0,dual=False,penalty='l1')\n",
    "lsvm_model.fit(tfidf_features_train, y_train)"
   ]
  },
  {
   "cell_type": "code",
   "execution_count": 322,
   "metadata": {
    "colab": {
     "base_uri": "https://localhost:8080/"
    },
    "executionInfo": {
     "elapsed": 373,
     "status": "ok",
     "timestamp": 1695288955089,
     "user": {
      "displayName": "Hien Nga Luong",
      "userId": "10313683531485500593"
     },
     "user_tz": -480
    },
    "id": "1SVr5KYrz2rg",
    "outputId": "9ec7b709-cb83-454f-c896-648ba92f43af"
   },
   "outputs": [
    {
     "name": "stdout",
     "output_type": "stream",
     "text": [
      "Best Parameters found : {'C': 10.0, 'dual': True, 'penalty': 'l2'}\n",
      "Best Accuracy found : 0.940\n",
      "\n"
     ]
    }
   ],
   "source": [
    "print('Best Parameters found : {}'.format(lsvm_model.best_params_))\n",
    "print('Best Accuracy found : {:.3f}\\n'.format(lsvm_model.best_score_))"
   ]
  },
  {
   "cell_type": "markdown",
   "metadata": {
    "id": "OL9pHm7fZ1no"
   },
   "source": [
    "Evaluation on test set"
   ]
  },
  {
   "cell_type": "code",
   "execution_count": 323,
   "metadata": {
    "colab": {
     "base_uri": "https://localhost:8080/",
     "height": 449
    },
    "executionInfo": {
     "elapsed": 782,
     "status": "ok",
     "timestamp": 1695288993133,
     "user": {
      "displayName": "Hien Nga Luong",
      "userId": "10313683531485500593"
     },
     "user_tz": -480
    },
    "id": "im5MTiRkJOg6",
    "outputId": "d0182823-e122-4301-a6db-1f54b59baa64"
   },
   "outputs": [
    {
     "data": {
      "image/png": "[encoded data removed]",
      "text/plain": [
       "<Figure size 432x288 with 2 Axes>"
      ]
     },
     "metadata": {
      "needs_background": "light"
     },
     "output_type": "display_data"
    }
   ],
   "source": [
    "predictions = lsvm_model.predict(tfidf_features_test)\n",
    "cm = confusion_matrix(y_test, predictions, labels=lsvm_model.classes_)\n",
    "disp = ConfusionMatrixDisplay(confusion_matrix=cm, display_labels=lsvm_model.classes_)\n",
    "\n",
    "disp.plot()\n",
    "plt.title(f\"{DATANAME} Linear SVM Confusion Matrix\")\n",
    "plt.show()"
   ]
  },
  {
   "cell_type": "code",
   "execution_count": 324,
   "metadata": {
    "colab": {
     "base_uri": "https://localhost:8080/"
    },
    "executionInfo": {
     "elapsed": 318,
     "status": "ok",
     "timestamp": 1695289048720,
     "user": {
      "displayName": "Hien Nga Luong",
      "userId": "10313683531485500593"
     },
     "user_tz": -480
    },
    "id": "qj9IIU8rZ0ll",
    "outputId": "d8502092-7006-41aa-a04b-44ffac3339a5"
   },
   "outputs": [
    {
     "name": "stdout",
     "output_type": "stream",
     "text": [
      "REPORT FOR ALLDATA LINEAR SVM\n",
      "Time Taken 0.017894506454467773 s, 560395.4501632137 rows per s\n",
      "              precision    recall  f1-score   support\n",
      "\n",
      "    Negative       0.51      0.94      0.66       622\n",
      "    Positive       1.00      0.94      0.97      9406\n",
      "\n",
      "    accuracy                           0.94     10028\n",
      "   macro avg       0.75      0.94      0.81     10028\n",
      "weighted avg       0.97      0.94      0.95     10028\n",
      "\n",
      "[[ 587   35]\n",
      " [ 567 8839]]\n"
     ]
    }
   ],
   "source": [
    "t1 = time.time()\n",
    "\n",
    "predictions = lsvm_model.predict(tfidf_features_test)\n",
    "t2 = time.time()\n",
    "print(f\"REPORT FOR {DATANAME} LINEAR SVM\")\n",
    "print(f'Time Taken {t2-t1} s, {len(y_test)/(t2-t1)} rows per s')\n",
    "print(sklearn.metrics.classification_report(y_test, predictions, target_names=['Negative', 'Positive']))\n",
    "print(sklearn.metrics.confusion_matrix(y_test, predictions, labels=lsvm_model.classes_))"
   ]
  },
  {
   "cell_type": "markdown",
   "metadata": {
    "id": "RgxAuCTyyTYb"
   },
   "source": [
    "## Random Forest Classifier"
   ]
  },
  {
   "cell_type": "code",
   "execution_count": 325,
   "metadata": {
    "colab": {
     "base_uri": "https://localhost:8080/",
     "height": 135
    },
    "executionInfo": {
     "elapsed": 138753,
     "status": "ok",
     "timestamp": 1695289197089,
     "user": {
      "displayName": "Hien Nga Luong",
      "userId": "10313683531485500593"
     },
     "user_tz": -480
    },
    "id": "Zu1SIxDfyS9B",
    "outputId": "5ca6da6a-993e-4567-e440-c3aab51d9695"
   },
   "outputs": [
    {
     "name": "stdout",
     "output_type": "stream",
     "text": [
      "Fitting 5 folds for each of 12 candidates, totalling 60 fits\n"
     ]
    },
    {
     "data": {
      "text/plain": [
       "GridSearchCV(estimator=RandomForestClassifier(), n_jobs=-1,\n",
       "             param_grid={'max_depth': [5, 10, 15],\n",
       "                         'max_features': ['sqrt', 'log2'],\n",
       "                         'n_estimators': [100, 200]},\n",
       "             verbose=5)"
      ]
     },
     "execution_count": 325,
     "metadata": {},
     "output_type": "execute_result"
    }
   ],
   "source": [
    "param_grid = {'n_estimators': [100,200],\n",
    "              'max_features': ['sqrt','log2'],\n",
    "              'max_depth': [5,10,15],\n",
    "}\n",
    "\n",
    "rf_model = GridSearchCV(RandomForestClassifier(),\n",
    "                        param_grid=param_grid,\n",
    "                        n_jobs=-1,\n",
    "                        verbose=5)\n",
    "#rf_model = RandomForestClassifier(n_estimators=200, max_features='sqrt', max_depth=15)\n",
    "rf_model.fit(tfidf_features_train, y_train)"
   ]
  },
  {
   "cell_type": "code",
   "execution_count": 326,
   "metadata": {
    "colab": {
     "base_uri": "https://localhost:8080/"
    },
    "executionInfo": {
     "elapsed": 369,
     "status": "ok",
     "timestamp": 1695289230235,
     "user": {
      "displayName": "Hien Nga Luong",
      "userId": "10313683531485500593"
     },
     "user_tz": -480
    },
    "id": "DFgLRFyNz7d2",
    "outputId": "63afca8c-c2d6-4e57-f0ea-bade323ae425"
   },
   "outputs": [
    {
     "name": "stdout",
     "output_type": "stream",
     "text": [
      "Best Parameters found : {'max_depth': 15, 'max_features': 'sqrt', 'n_estimators': 200}\n",
      "Best Accuracy found : 0.887\n",
      "\n"
     ]
    }
   ],
   "source": [
    "print('Best Parameters found : {}'.format(rf_model.best_params_))\n",
    "print('Best Accuracy found : {:.3f}\\n'.format(rf_model.best_score_))"
   ]
  },
  {
   "cell_type": "markdown",
   "metadata": {
    "id": "lQC3qj_35AlE"
   },
   "source": [
    "Evaluate on test set"
   ]
  },
  {
   "cell_type": "code",
   "execution_count": 327,
   "metadata": {
    "colab": {
     "base_uri": "https://localhost:8080/",
     "height": 449
    },
    "executionInfo": {
     "elapsed": 1339,
     "status": "ok",
     "timestamp": 1695289234751,
     "user": {
      "displayName": "Hien Nga Luong",
      "userId": "10313683531485500593"
     },
     "user_tz": -480
    },
    "id": "e3JRAfZaJVxQ",
    "outputId": "7373500c-ae78-494c-c9c1-d0408c309607"
   },
   "outputs": [
    {
     "data": {
      "image/png": "[encoded data removed]",
      "text/plain": [
       "<Figure size 432x288 with 2 Axes>"
      ]
     },
     "metadata": {
      "needs_background": "light"
     },
     "output_type": "display_data"
    }
   ],
   "source": [
    "predictions = rf_model.predict(tfidf_features_test)\n",
    "cm = confusion_matrix(y_test, predictions, labels=rf_model.classes_)\n",
    "disp = ConfusionMatrixDisplay(confusion_matrix=cm, display_labels=rf_model.classes_)\n",
    "\n",
    "disp.plot()\n",
    "plt.title(f\"{DATANAME} Random Forest Classifier Confusion Matrix\")\n",
    "plt.show()"
   ]
  },
  {
   "cell_type": "code",
   "execution_count": 328,
   "metadata": {
    "colab": {
     "base_uri": "https://localhost:8080/"
    },
    "executionInfo": {
     "elapsed": 313,
     "status": "ok",
     "timestamp": 1695289235480,
     "user": {
      "displayName": "Hien Nga Luong",
      "userId": "10313683531485500593"
     },
     "user_tz": -480
    },
    "id": "GWA0HRwOzPRk",
    "outputId": "ee6e2160-27ce-4122-9f59-8c488986a63f"
   },
   "outputs": [
    {
     "name": "stdout",
     "output_type": "stream",
     "text": [
      "REPORT FOR ALLDATA RANDOM FOREST CLASSIFIER\n",
      "Time Taken 1.635437250137329 s, 6131.693526705436 rows per s\n",
      "              precision    recall  f1-score   support\n",
      "\n",
      "    Negative       0.51      0.84      0.63       622\n",
      "    Positive       0.99      0.95      0.97      9406\n",
      "\n",
      "    accuracy                           0.94     10028\n",
      "   macro avg       0.75      0.89      0.80     10028\n",
      "weighted avg       0.96      0.94      0.95     10028\n",
      "\n",
      "[[ 522  100]\n",
      " [ 503 8903]]\n"
     ]
    }
   ],
   "source": [
    "t1 = time.time()\n",
    "\n",
    "predictions = rf_model.predict(tfidf_features_test)\n",
    "t2 = time.time()\n",
    "print(f\"REPORT FOR {DATANAME} RANDOM FOREST CLASSIFIER\")\n",
    "print(f'Time Taken {t2-t1} s, {len(y_test)/(t2-t1)} rows per s')\n",
    "print(sklearn.metrics.classification_report(y_test, predictions, target_names=['Negative', 'Positive']))\n",
    "print(sklearn.metrics.confusion_matrix(y_test, predictions, labels=rf_model.classes_))"
   ]
  },
  {
   "cell_type": "markdown",
   "metadata": {},
   "source": [
    "# PRE-POST COVID "
   ]
  },
  {
   "cell_type": "code",
   "execution_count": 329,
   "metadata": {},
   "outputs": [
    {
     "name": "stdout",
     "output_type": "stream",
     "text": [
      "Length of ..\\data\\processed\\cleaned_ibis-sg-bencoolen.csv is 2217\n",
      "Length of ..\\data\\processed\\cleaned_hotel-boss.csv is 3568\n",
      "Length of ..\\data\\processed\\cleaned_hotel-G.csv is 3826\n",
      "Length of ..\\data\\processed\\cleaned_village-hotel-albert-court-by-far-east-hospitality.csv is 2290\n",
      "Length of ..\\data\\processed\\cleaned_holiday-inn-express-clarke-quay.csv is 2169\n",
      "Length of ..\\data\\processed\\cleaned_village-hotel-changi-by-far-east-hospitality.csv is 4325\n",
      "Length of ..\\data\\processed\\cleaned_park-regis.csv is 4719\n",
      "Length of ..\\data\\processed\\cleaned_grand-mercure-sg-roxy.csv is 2317\n",
      "Length of ..\\data\\processed\\cleaned_paradox-sg-merchant-court.csv is 3571\n",
      "Length of ..\\data\\processed\\cleaned_crowne-plaza.csv is 3668\n",
      "Length of ..\\data\\processed\\cleaned_fullerton.csv is 6374\n",
      "Length of ..\\data\\processed\\cleaned_parkroyal-collection-marina-bay.csv is 6237\n",
      "Length of ..\\data\\processed\\cleaned_pan-pacific.csv is 7430\n",
      "Length of ..\\data\\processed\\cleaned_mbs_total.csv is 10523\n",
      "Length of ..\\data\\processed\\cleaned_swissotel-the-stamford.csv is 5058\n"
     ]
    }
   ],
   "source": [
    "df = combine_csv_to_dataframe(star3+star4+star5, all_star = True, filterDate = False)"
   ]
  },
  {
   "cell_type": "code",
   "execution_count": 333,
   "metadata": {},
   "outputs": [
    {
     "data": {
      "text/html": [
       "<div>\n",
       "<style scoped>\n",
       "    .dataframe tbody tr th:only-of-type {\n",
       "        vertical-align: middle;\n",
       "    }\n",
       "\n",
       "    .dataframe tbody tr th {\n",
       "        vertical-align: top;\n",
       "    }\n",
       "\n",
       "    .dataframe thead th {\n",
       "        text-align: right;\n",
       "    }\n",
       "</style>\n",
       "<table border=\"1\" class=\"dataframe\">\n",
       "  <thead>\n",
       "    <tr style=\"text-align: right;\">\n",
       "      <th></th>\n",
       "      <th>Unnamed: 0</th>\n",
       "      <th>traveller_username</th>\n",
       "      <th>review_title</th>\n",
       "      <th>review_text</th>\n",
       "      <th>travel_type</th>\n",
       "      <th>traveller_country_origin</th>\n",
       "      <th>traveller_total_contributions</th>\n",
       "      <th>traveller_total_helpful_contributions</th>\n",
       "      <th>rating</th>\n",
       "      <th>valid_rating</th>\n",
       "      <th>label</th>\n",
       "      <th>cleaned_review</th>\n",
       "      <th>combined_review</th>\n",
       "      <th>date</th>\n",
       "      <th>covid</th>\n",
       "      <th>year</th>\n",
       "      <th>stem_review</th>\n",
       "      <th>lem_review</th>\n",
       "      <th>star</th>\n",
       "    </tr>\n",
       "  </thead>\n",
       "  <tbody>\n",
       "    <tr>\n",
       "      <th>0</th>\n",
       "      <td>0</td>\n",
       "      <td>Love_Life_Sydney</td>\n",
       "      <td>Clean and comfortable</td>\n",
       "      <td>Hotel rooms in Singapore are so expensive so to find a decent hotel, with easy transport access and food locations, at less than S$200 was a good deal. The compact room meets your basic needs, no fancy mood lightning or lovely artworks to grace the wall. It has clean sheets and towels, a small b...</td>\n",
       "      <td>Trip type: Travelled as a couple</td>\n",
       "      <td>Sydney, Australia</td>\n",
       "      <td>2302.0</td>\n",
       "      <td>871.0</td>\n",
       "      <td>4.0</td>\n",
       "      <td>True</td>\n",
       "      <td>Positive</td>\n",
       "      <td>clean comfortable hotel rooms singapore expensive find decent hotel easy transport access food locations less good deal compact room meets basic needs fancy mood lightning lovely artworks grace wall clean sheets towels small bathroom pump pack amenities kettle glass bottle refills small selectio...</td>\n",
       "      <td>Clean and comfortable Hotel rooms in Singapore are so expensive so to find a decent hotel, with easy transport access and food locations, at less than S$200 was a good deal. The compact room meets your basic needs, no fancy mood lightning or lovely artworks to grace the wall. It has clean sheets...</td>\n",
       "      <td>2023-08-01</td>\n",
       "      <td>PostCovid</td>\n",
       "      <td>2023</td>\n",
       "      <td>clean comfort hotel room singapor expens find decent hotel easi transport access food locat less good deal compact room meet basic need fanci mood lightn love artwork grace wall clean sheet towel small bathroom pump pack amen kettl glass bottl refil small select tea coffe small fridg room safe c...</td>\n",
       "      <td>clean comfortable hotel room singapore expensive find decent hotel easy transport access food location less good deal compact room meet basic need fancy mood lightne lovely artwork grace wall clean sheet towel small bathroom pump pack amenity kettle glass bottle refill small selection tea coffee...</td>\n",
       "      <td>5</td>\n",
       "    </tr>\n",
       "  </tbody>\n",
       "</table>\n",
       "</div>"
      ],
      "text/plain": [
       "   Unnamed: 0 traveller_username           review_title  \\\n",
       "0           0   Love_Life_Sydney  Clean and comfortable   \n",
       "\n",
       "                                                                                                                                                                                                                                                                                                   review_text  \\\n",
       "0  Hotel rooms in Singapore are so expensive so to find a decent hotel, with easy transport access and food locations, at less than S$200 was a good deal. The compact room meets your basic needs, no fancy mood lightning or lovely artworks to grace the wall. It has clean sheets and towels, a small b...   \n",
       "\n",
       "                        travel_type traveller_country_origin  \\\n",
       "0  Trip type: Travelled as a couple        Sydney, Australia   \n",
       "\n",
       "  traveller_total_contributions  traveller_total_helpful_contributions  \\\n",
       "0                        2302.0                                  871.0   \n",
       "\n",
       "   rating  valid_rating     label  \\\n",
       "0     4.0          True  Positive   \n",
       "\n",
       "                                                                                                                                                                                                                                                                                                cleaned_review  \\\n",
       "0  clean comfortable hotel rooms singapore expensive find decent hotel easy transport access food locations less good deal compact room meets basic needs fancy mood lightning lovely artworks grace wall clean sheets towels small bathroom pump pack amenities kettle glass bottle refills small selectio...   \n",
       "\n",
       "                                                                                                                                                                                                                                                                                               combined_review  \\\n",
       "0  Clean and comfortable Hotel rooms in Singapore are so expensive so to find a decent hotel, with easy transport access and food locations, at less than S$200 was a good deal. The compact room meets your basic needs, no fancy mood lightning or lovely artworks to grace the wall. It has clean sheets...   \n",
       "\n",
       "         date      covid  year  \\\n",
       "0  2023-08-01  PostCovid  2023   \n",
       "\n",
       "                                                                                                                                                                                                                                                                                                   stem_review  \\\n",
       "0  clean comfort hotel room singapor expens find decent hotel easi transport access food locat less good deal compact room meet basic need fanci mood lightn love artwork grace wall clean sheet towel small bathroom pump pack amen kettl glass bottl refil small select tea coffe small fridg room safe c...   \n",
       "\n",
       "                                                                                                                                                                                                                                                                                                    lem_review  \\\n",
       "0  clean comfortable hotel room singapore expensive find decent hotel easy transport access food location less good deal compact room meet basic need fancy mood lightne lovely artwork grace wall clean sheet towel small bathroom pump pack amenity kettle glass bottle refill small selection tea coffee...   \n",
       "\n",
       "   star  \n",
       "0     5  "
      ]
     },
     "execution_count": 333,
     "metadata": {},
     "output_type": "execute_result"
    }
   ],
   "source": [
    "df.head(1)"
   ]
  },
  {
   "cell_type": "code",
   "execution_count": 359,
   "metadata": {},
   "outputs": [
    {
     "name": "stdout",
     "output_type": "stream",
     "text": [
      "number of precovid data is  56020\n",
      "number of postcovid data is  6951\n"
     ]
    }
   ],
   "source": [
    "precovid = df[df[\"covid\"] == \"PreCovid\"]\n",
    "print(\"number of precovid data is \", len(precovid))\n",
    "postcovid = df[df[\"covid\"] == \"PostCovid\"]\n",
    "print(\"number of postcovid data is \", len(postcovid))\n",
    "min_number = min(len(precovid), len(postcovid))"
   ]
  },
  {
   "cell_type": "code",
   "execution_count": 360,
   "metadata": {},
   "outputs": [
    {
     "data": {
      "text/plain": [
       "6951"
      ]
     },
     "execution_count": 360,
     "metadata": {},
     "output_type": "execute_result"
    }
   ],
   "source": [
    "min_number"
   ]
  },
  {
   "cell_type": "code",
   "execution_count": 361,
   "metadata": {},
   "outputs": [],
   "source": [
    "# RANDOMLY DOWNSAMPLE THE LARGER SET\n",
    "precovid = precovid.sample(n=min_number)\n",
    "postcovid = postcovid.sample(n=min_number)"
   ]
  },
  {
   "cell_type": "code",
   "execution_count": 362,
   "metadata": {},
   "outputs": [
    {
     "name": "stdout",
     "output_type": "stream",
     "text": [
      "number of precovid data is  6951\n",
      "number of postcovid data is  6951\n"
     ]
    }
   ],
   "source": [
    "print(\"number of precovid data is \", len(precovid))\n",
    "print(\"number of postcovid data is \", len(postcovid))"
   ]
  },
  {
   "cell_type": "code",
   "execution_count": 363,
   "metadata": {},
   "outputs": [],
   "source": [
    "# Data Preprocessing\n",
    "precovid.dropna(subset=['label'], inplace=True)\n",
    "precovid = precovid[precovid[\"label\"]!='Neutral']\n",
    "precovid['label'] = df['label'].astype('category')\n",
    "\n",
    "postcovid.dropna(subset=['label'], inplace=True)\n",
    "postcovid = postcovid[postcovid[\"label\"]!='Neutral']\n",
    "postcovid['label'] = df['label'].astype('category')"
   ]
  },
  {
   "cell_type": "code",
   "execution_count": 366,
   "metadata": {},
   "outputs": [],
   "source": [
    "train_set_pre, test_set_pre = train_test_split(precovid[['lem_review','label']],\n",
    "                                      test_size=0.2,\n",
    "                                      shuffle=True,\n",
    "                                      random_state=RANDOM_STATE)\n",
    "X_train_pre = train_set_pre.lem_review\n",
    "y_train_pre = train_set_pre.label\n",
    "X_test_pre = test_set_pre.lem_review\n",
    "y_test_pre = test_set_pre.label\n",
    "\n",
    "# load the model from disk\n",
    "#loaded_model = pickle.load(open(filename, 'rb'))\n"
   ]
  },
  {
   "cell_type": "code",
   "execution_count": 370,
   "metadata": {},
   "outputs": [
    {
     "data": {
      "text/plain": [
       "Negative    226\n",
       "Positive    226\n",
       "Neutral       0\n",
       "Name: label, dtype: int64"
      ]
     },
     "execution_count": 370,
     "metadata": {},
     "output_type": "execute_result"
    }
   ],
   "source": [
    "rus = RandomUnderSampler(random_state=RANDOM_STATE)\n",
    "X_train_pre, y_train_pre = rus.fit_resample(train_set_pre, train_set_pre['label'])\n",
    "train_set_pre = shuffle(X_train_pre)\n",
    "train_set_pre.reset_index(inplace=True, drop=True)\n",
    "X_train_pre = train_set_pre['lem_review']\n",
    "y_train_pre = train_set_pre['label']\n",
    "y_train_pre.value_counts()"
   ]
  },
  {
   "cell_type": "code",
   "execution_count": 374,
   "metadata": {},
   "outputs": [],
   "source": [
    "vectorizer_pre = TfidfVectorizer(use_idf=True,ngram_range=(1,3))\n",
    "tfidf_features_train_pre = vectorizer_pre.fit_transform(X_train_pre)\n",
    "tfidf_features_test_pre = vectorizer_pre.transform(X_test_pre)"
   ]
  },
  {
   "cell_type": "code",
   "execution_count": 375,
   "metadata": {},
   "outputs": [],
   "source": [
    "train_set_post, test_set_post = train_test_split(postcovid[['lem_review','label']],\n",
    "                                      test_size=0.2,\n",
    "                                      shuffle=True,\n",
    "                                      random_state=RANDOM_STATE)\n",
    "X_train_post = train_set_post.lem_review\n",
    "y_train_post = train_set_post.label\n",
    "X_test_post = test_set_post.lem_review\n",
    "y_test_post = test_set_post.label\n",
    "\n",
    "# load the model from disk\n",
    "#loaded_model = pickle.load(open(filename, 'rb'))\n",
    "\n",
    "rus = RandomUnderSampler(random_state=RANDOM_STATE)\n",
    "X_train_post, y_train_post = rus.fit_resample(train_set_post, train_set_post['label'])\n",
    "train_set_post = shuffle(X_train_post)\n",
    "train_set_post.reset_index(inplace=True, drop=True)\n",
    "X_train_post = train_set_post['lem_review']\n",
    "y_train_post = train_set_post['label']\n",
    "y_train_post.value_counts()\n",
    "vectorizer_post = TfidfVectorizer(use_idf=True,ngram_range=(1,3))\n",
    "tfidf_features_train_post = vectorizer_post.fit_transform(X_train_post)\n",
    "tfidf_features_test_post = vectorizer_post.transform(X_test_post)"
   ]
  },
  {
   "cell_type": "code",
   "execution_count": 376,
   "metadata": {},
   "outputs": [],
   "source": [
    "## Random Forest Classifier\n",
    "param_grid = {'n_estimators': [100,200],\n",
    "              'max_features': ['sqrt','log2'],\n",
    "              'max_depth': [5,10,15],\n",
    "}\n",
    "\n",
    "rf_model = GridSearchCV(RandomForestClassifier(),\n",
    "                        param_grid=param_grid,\n",
    "                        n_jobs=-1,\n",
    "                        verbose=5)\n"
   ]
  },
  {
   "cell_type": "code",
   "execution_count": 377,
   "metadata": {},
   "outputs": [
    {
     "name": "stdout",
     "output_type": "stream",
     "text": [
      "Fitting 5 folds for each of 12 candidates, totalling 60 fits\n",
      "Best Parameters found : {'max_depth': 15, 'max_features': 'sqrt', 'n_estimators': 100}\n",
      "Best Accuracy found : 0.876\n",
      "\n"
     ]
    }
   ],
   "source": [
    "#rf_model = RandomForestClassifier(n_estimators=200, max_features='sqrt', max_depth=15)\n",
    "rf_model.fit(tfidf_features_train_pre, y_train_pre)\n",
    "print('Best Parameters found : {}'.format(rf_model.best_params_))\n",
    "print('Best Accuracy found : {:.3f}\\n'.format(rf_model.best_score_))"
   ]
  },
  {
   "cell_type": "markdown",
   "metadata": {},
   "source": [
    "## Model trained on Pre tested on Pre"
   ]
  },
  {
   "cell_type": "code",
   "execution_count": 378,
   "metadata": {},
   "outputs": [
    {
     "data": {
      "image/png": "[encoded data removed]",
      "text/plain": [
       "<Figure size 432x288 with 2 Axes>"
      ]
     },
     "metadata": {
      "needs_background": "light"
     },
     "output_type": "display_data"
    }
   ],
   "source": [
    "predictions = rf_model.predict(tfidf_features_test_pre)\n",
    "cm = confusion_matrix(y_test_pre, predictions, labels=rf_model.classes_)\n",
    "disp = ConfusionMatrixDisplay(confusion_matrix=cm, display_labels=rf_model.classes_)\n",
    "\n",
    "disp.plot()\n",
    "plt.title(f\"{DATANAME} Random Forest Classifier Confusion Matrix\")\n",
    "plt.show()\n"
   ]
  },
  {
   "cell_type": "code",
   "execution_count": 379,
   "metadata": {},
   "outputs": [
    {
     "name": "stdout",
     "output_type": "stream",
     "text": [
      "REPORT FOR ALLDATA RANDOM FOREST CLASSIFIER\n",
      "Time Taken 0.06571483612060547 s, 152598.72187150797 rows per s\n",
      "              precision    recall  f1-score   support\n",
      "\n",
      "    Negative       0.38      0.80      0.52        56\n",
      "    Positive       0.99      0.92      0.95       954\n",
      "\n",
      "    accuracy                           0.92      1010\n",
      "   macro avg       0.68      0.86      0.74      1010\n",
      "weighted avg       0.95      0.92      0.93      1010\n",
      "\n",
      "[[ 45  11]\n",
      " [ 73 881]]\n"
     ]
    }
   ],
   "source": [
    "t1 = time.time()\n",
    "\n",
    "predictions = rf_model.predict(tfidf_features_test_pre)\n",
    "t2 = time.time()\n",
    "print(f\"REPORT FOR {DATANAME} RANDOM FOREST CLASSIFIER\")\n",
    "print(f'Time Taken {t2-t1} s, {len(y_test)/(t2-t1)} rows per s')\n",
    "print(sklearn.metrics.classification_report(y_test_pre, predictions, target_names=['Negative', 'Positive']))\n",
    "print(sklearn.metrics.confusion_matrix(y_test_pre, predictions, labels=rf_model.classes_))"
   ]
  },
  {
   "cell_type": "markdown",
   "metadata": {},
   "source": [
    "## Model trained on Pre tested on Post"
   ]
  },
  {
   "cell_type": "code",
   "execution_count": 381,
   "metadata": {},
   "outputs": [],
   "source": [
    "\n",
    "tfidf_features_test_post2 = vectorizer_pre.transform(X_test_post)"
   ]
  },
  {
   "cell_type": "code",
   "execution_count": 382,
   "metadata": {},
   "outputs": [
    {
     "data": {
      "image/png": "[encoded data removed]",
      "text/plain": [
       "<Figure size 432x288 with 2 Axes>"
      ]
     },
     "metadata": {
      "needs_background": "light"
     },
     "output_type": "display_data"
    }
   ],
   "source": [
    "predictions = rf_model.predict(tfidf_features_test_post2)\n",
    "cm = confusion_matrix(y_test_post, predictions, labels=rf_model.classes_)\n",
    "disp = ConfusionMatrixDisplay(confusion_matrix=cm, display_labels=rf_model.classes_)\n",
    "\n",
    "disp.plot()\n",
    "plt.title(f\"{DATANAME} Random Forest Classifier Confusion Matrix\")\n",
    "plt.show()\n"
   ]
  },
  {
   "cell_type": "code",
   "execution_count": 383,
   "metadata": {},
   "outputs": [
    {
     "name": "stdout",
     "output_type": "stream",
     "text": [
      "REPORT FOR ALLDATA RANDOM FOREST CLASSIFIER\n",
      "Time Taken 0.03898739814758301 s, 257211.3163858737 rows per s\n",
      "              precision    recall  f1-score   support\n",
      "\n",
      "    Negative       0.36      0.87      0.51        62\n",
      "    Positive       0.99      0.90      0.94       930\n",
      "\n",
      "    accuracy                           0.89       992\n",
      "   macro avg       0.67      0.88      0.72       992\n",
      "weighted avg       0.95      0.89      0.91       992\n",
      "\n",
      "[[ 54   8]\n",
      " [ 97 833]]\n"
     ]
    }
   ],
   "source": [
    "\n",
    "t1 = time.time()\n",
    "\n",
    "predictions = rf_model.predict(tfidf_features_test_post2)\n",
    "t2 = time.time()\n",
    "print(f\"REPORT FOR {DATANAME} RANDOM FOREST CLASSIFIER\")\n",
    "print(f'Time Taken {t2-t1} s, {len(y_test)/(t2-t1)} rows per s')\n",
    "print(sklearn.metrics.classification_report(y_test_post, predictions, target_names=['Negative', 'Positive']))\n",
    "print(sklearn.metrics.confusion_matrix(y_test_post, predictions, labels=rf_model.classes_))"
   ]
  },
  {
   "cell_type": "markdown",
   "metadata": {},
   "source": [
    "## Train model on Post"
   ]
  },
  {
   "cell_type": "code",
   "execution_count": 384,
   "metadata": {},
   "outputs": [
    {
     "name": "stdout",
     "output_type": "stream",
     "text": [
      "Fitting 5 folds for each of 12 candidates, totalling 60 fits\n",
      "Best Parameters found : {'max_depth': 15, 'max_features': 'sqrt', 'n_estimators': 100}\n",
      "Best Accuracy found : 0.926\n",
      "\n"
     ]
    }
   ],
   "source": [
    "## Random Forest Classifier\n",
    "param_grid = {'n_estimators': [100,200],\n",
    "              'max_features': ['sqrt','log2'],\n",
    "              'max_depth': [5,10,15],\n",
    "}\n",
    "\n",
    "rf_model = GridSearchCV(RandomForestClassifier(),\n",
    "                        param_grid=param_grid,\n",
    "                        n_jobs=-1,\n",
    "                        verbose=5)\n",
    "\n",
    "#rf_model = RandomForestClassifier(n_estimators=200, max_features='sqrt', max_depth=15)\n",
    "rf_model.fit(tfidf_features_train_post, y_train_post)\n",
    "print('Best Parameters found : {}'.format(rf_model.best_params_))\n",
    "print('Best Accuracy found : {:.3f}\\n'.format(rf_model.best_score_))"
   ]
  },
  {
   "cell_type": "markdown",
   "metadata": {},
   "source": [
    "## Model trained on Post tested on Post"
   ]
  },
  {
   "cell_type": "code",
   "execution_count": 385,
   "metadata": {},
   "outputs": [
    {
     "data": {
      "image/png": "[encoded data removed]",
      "text/plain": [
       "<Figure size 432x288 with 2 Axes>"
      ]
     },
     "metadata": {
      "needs_background": "light"
     },
     "output_type": "display_data"
    }
   ],
   "source": [
    "predictions = rf_model.predict(tfidf_features_test_post)\n",
    "cm = confusion_matrix(y_test_post, predictions, labels=rf_model.classes_)\n",
    "disp = ConfusionMatrixDisplay(confusion_matrix=cm, display_labels=rf_model.classes_)\n",
    "\n",
    "disp.plot()\n",
    "plt.title(f\"{DATANAME} Random Forest Classifier Confusion Matrix\")\n",
    "plt.show()"
   ]
  },
  {
   "cell_type": "code",
   "execution_count": 386,
   "metadata": {},
   "outputs": [
    {
     "name": "stdout",
     "output_type": "stream",
     "text": [
      "REPORT FOR ALLDATA RANDOM FOREST CLASSIFIER\n",
      "Time Taken 0.0647437572479248 s, 154887.52006775793 rows per s\n",
      "              precision    recall  f1-score   support\n",
      "\n",
      "    Negative       0.55      0.85      0.67        62\n",
      "    Positive       0.99      0.95      0.97       930\n",
      "\n",
      "    accuracy                           0.95       992\n",
      "   macro avg       0.77      0.90      0.82       992\n",
      "weighted avg       0.96      0.95      0.95       992\n",
      "\n",
      "[[ 53   9]\n",
      " [ 43 887]]\n"
     ]
    }
   ],
   "source": [
    "t1 = time.time()\n",
    "\n",
    "predictions = rf_model.predict(tfidf_features_test_post)\n",
    "t2 = time.time()\n",
    "print(f\"REPORT FOR {DATANAME} RANDOM FOREST CLASSIFIER\")\n",
    "print(f'Time Taken {t2-t1} s, {len(y_test)/(t2-t1)} rows per s')\n",
    "print(sklearn.metrics.classification_report(y_test_post, predictions, target_names=['Negative', 'Positive']))\n",
    "print(sklearn.metrics.confusion_matrix(y_test_post, predictions, labels=rf_model.classes_))"
   ]
  },
  {
   "cell_type": "markdown",
   "metadata": {},
   "source": [
    "## Model trained on Post test on Pre"
   ]
  },
  {
   "cell_type": "code",
   "execution_count": 388,
   "metadata": {},
   "outputs": [],
   "source": [
    "tfidf_features_test_pre2 = vectorizer_post.transform(X_test_pre)\n",
    "predictions = rf_model.predict(tfidf_features_test_pre2)"
   ]
  },
  {
   "cell_type": "code",
   "execution_count": 389,
   "metadata": {},
   "outputs": [
    {
     "data": {
      "image/png": "[encoded data removed]",
      "text/plain": [
       "<Figure size 432x288 with 2 Axes>"
      ]
     },
     "metadata": {
      "needs_background": "light"
     },
     "output_type": "display_data"
    }
   ],
   "source": [
    "cm = confusion_matrix(y_test_pre, predictions, labels=rf_model.classes_)\n",
    "disp = ConfusionMatrixDisplay(confusion_matrix=cm, display_labels=rf_model.classes_)\n",
    "\n",
    "disp.plot()\n",
    "plt.title(f\"{DATANAME} Random Forest Classifier Confusion Matrix\")\n",
    "plt.show()"
   ]
  },
  {
   "cell_type": "code",
   "execution_count": 390,
   "metadata": {},
   "outputs": [
    {
     "name": "stdout",
     "output_type": "stream",
     "text": [
      "REPORT FOR ALLDATA RANDOM FOREST CLASSIFIER\n",
      "Time Taken 0.06923055648803711 s, 144849.33400373312 rows per s\n",
      "              precision    recall  f1-score   support\n",
      "\n",
      "    Negative       0.31      0.79      0.44        56\n",
      "    Positive       0.99      0.90      0.94       954\n",
      "\n",
      "    accuracy                           0.89      1010\n",
      "   macro avg       0.65      0.84      0.69      1010\n",
      "weighted avg       0.95      0.89      0.91      1010\n",
      "\n",
      "[[ 44  12]\n",
      " [100 854]]\n"
     ]
    }
   ],
   "source": [
    "t1 = time.time()\n",
    "\n",
    "predictions = rf_model.predict(tfidf_features_test_pre2)\n",
    "t2 = time.time()\n",
    "print(f\"REPORT FOR {DATANAME} RANDOM FOREST CLASSIFIER\")\n",
    "print(f'Time Taken {t2-t1} s, {len(y_test)/(t2-t1)} rows per s')\n",
    "print(sklearn.metrics.classification_report(y_test_pre, predictions, target_names=['Negative', 'Positive']))\n",
    "print(sklearn.metrics.confusion_matrix(y_test_pre, predictions, labels=rf_model.classes_))"
   ]
  },
  {
   "cell_type": "code",
   "execution_count": null,
   "metadata": {},
   "outputs": [],
   "source": []
  }
 ],
 "metadata": {
  "colab": {
   "provenance": []
  },
  "kernelspec": {
   "display_name": "Python 3 (ipykernel)",
   "language": "python",
   "name": "python3"
  },
  "language_info": {
   "codemirror_mode": {
    "name": "ipython",
    "version": 3
   },
   "file_extension": ".py",
   "mimetype": "text/x-python",
   "name": "python",
   "nbconvert_exporter": "python",
   "pygments_lexer": "ipython3",
   "version": "3.10.8"
  }
 },
 "nbformat": 4,
 "nbformat_minor": 4
}
