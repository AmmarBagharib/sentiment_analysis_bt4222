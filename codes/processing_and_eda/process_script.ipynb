{
 "cells": [
  {
   "cell_type": "code",
   "execution_count": 1,
   "metadata": {
    "executionInfo": {
     "elapsed": 4,
     "status": "ok",
     "timestamp": 1695284946502,
     "user": {
      "displayName": "Hien Nga Luong",
      "userId": "10313683531485500593"
     },
     "user_tz": -480
    },
    "id": "XbhdfhA58msr"
   },
   "outputs": [],
   "source": [
    "RANDOM_STATE = 1"
   ]
  },
  {
   "cell_type": "markdown",
   "metadata": {
    "id": "J7gjrM5d2rFt"
   },
   "source": [
    "# Imports"
   ]
  },
  {
   "cell_type": "code",
   "execution_count": 2,
   "metadata": {
    "executionInfo": {
     "elapsed": 2498,
     "status": "ok",
     "timestamp": 1695284946501,
     "user": {
      "displayName": "Hien Nga Luong",
      "userId": "10313683531485500593"
     },
     "user_tz": -480
    },
    "id": "jIQzdKEO2hcv"
   },
   "outputs": [],
   "source": [
    "import pandas as pd\n",
    "import time\n",
    "import numpy as np\n",
    "import pickle\n",
    "from sklearn.metrics import confusion_matrix\n",
    "import warnings\n",
    "warnings.filterwarnings(\"ignore\")\n",
    "pd.set_option('display.max_colwidth',300)\n",
    "\n",
    "from nltk.corpus import stopwords\n",
    "import re\n",
    "import nltk\n",
    "from nltk import tokenize\n",
    "from nltk.stem import WordNetLemmatizer\n",
    "\n",
    "import math\n",
    "\n",
    "import spacy\n",
    "import os\n",
    "import pyprojroot.here as here"
   ]
  },
  {
   "cell_type": "markdown",
   "metadata": {
    "id": "yNwZ7KS62vlr"
   },
   "source": [
    "# Import datasets from drive"
   ]
  },
  {
   "cell_type": "markdown",
   "metadata": {
    "id": "XViMCq4E3il1"
   },
   "source": [
    "Note - for the purpose of brevity, data has already been preprocessed and cleaned."
   ]
  },
  {
   "cell_type": "code",
   "execution_count": 3,
   "metadata": {
    "tags": []
   },
   "outputs": [],
   "source": [
    "# TODO: modify these list if needed (eg. if you want to load only 1 csv from star3, delete other csvs in star3 list)\n",
    "star3 = ['cleaned_ibis-sg-bencoolen.csv','cleaned_hotel-boss.csv','cleaned_hotel-G.csv',\n",
    "           'cleaned_village-hotel-albert-court-by-far-east-hospitality.csv',\n",
    "           'cleaned_holiday-inn-express-clarke-quay.csv']\n",
    "star4 = ['cleaned_village-hotel-changi-by-far-east-hospitality.csv',\n",
    "         'cleaned_park-regis.csv', 'cleaned_grand-mercure-sg-roxy.csv',\n",
    "         'cleaned_paradox-sg-merchant-court.csv','cleaned_crowne-plaza.csv']\n",
    "star5 = ['cleaned_fullerton.csv', 'cleaned_parkroyal-collection-marina-bay.csv', 'cleaned_pan-pacific.csv',\n",
    "          'cleaned_mbs_total.csv', 'cleaned_swissotel-the-stamford.csv']\n",
    "\n",
    "RAW_FOLDER = \"data/cleaned/\"\n",
    "\n",
    "def combine_csv_to_dataframe(file_names, all_star = False, filterDate = True):\n",
    "    \"\"\"\n",
    "    Combine multiple CSV files into a single DataFrame.\n",
    "\n",
    "    Parameters:\n",
    "    file_names (list): List of CSV file names. \n",
    "    all_star (bool): whether or not to load all the hotels (False if only want to load 1 type of hotel star). \n",
    "    filterData (bool): whether or not to remove all data dated before 2015\n",
    "\n",
    "    Returns:\n",
    "    pd.DataFrame: Combined DataFrame.\n",
    "    \"\"\"\n",
    "    combined_df = pd.DataFrame()\n",
    "\n",
    "    for file_name in file_names:\n",
    "        file_interim_path = RAW_FOLDER + file_name\n",
    "        file_path = here(file_interim_path)\n",
    "        try:\n",
    "            df = pd.read_csv(file_path)\n",
    "            if all_star:\n",
    "                if file_name in star3:\n",
    "                    df[\"star\"] = 3\n",
    "                elif file_name in star4:\n",
    "                    df[\"star\"] = 4\n",
    "                else:\n",
    "                    df[\"star\"] = 5\n",
    "            #print(f\"Length of {file_name} is {len(df)}\")\n",
    "            combined_df = pd.concat([combined_df, df], ignore_index=True)\n",
    "            #print(len(combined_df))\n",
    "        except FileNotFoundError:\n",
    "            print(f\"File not found: {file_name}\")\n",
    "        except pd.errors.EmptyDataError:\n",
    "            print(f\"Empty or invalid CSV file: {file_name}\")\n",
    "            \n",
    "\n",
    "                                \n",
    "    return combined_df"
   ]
  },
  {
   "cell_type": "code",
   "execution_count": 4,
   "metadata": {},
   "outputs": [
    {
     "name": "stdout",
     "output_type": "stream",
     "text": [
      "<class 'pandas.core.frame.DataFrame'>\n",
      "RangeIndex: 101761 entries, 0 to 101760\n",
      "Data columns (total 9 columns):\n",
      " #   Column           Non-Null Count   Dtype  \n",
      "---  ------           --------------   -----  \n",
      " 0   travel_type      46064 non-null   object \n",
      " 1   rating           84847 non-null   float64\n",
      " 2   valid_rating     101761 non-null  bool   \n",
      " 3   label            84847 non-null   object \n",
      " 4   combined_review  101761 non-null  object \n",
      " 5   date             101054 non-null  object \n",
      " 6   covid            101054 non-null  object \n",
      " 7   is_local         101761 non-null  int64  \n",
      " 8   star             101761 non-null  int64  \n",
      "dtypes: bool(1), float64(1), int64(2), object(5)\n",
      "memory usage: 6.3+ MB\n"
     ]
    },
    {
     "data": {
      "text/html": [
       "<div>\n",
       "<style scoped>\n",
       "    .dataframe tbody tr th:only-of-type {\n",
       "        vertical-align: middle;\n",
       "    }\n",
       "\n",
       "    .dataframe tbody tr th {\n",
       "        vertical-align: top;\n",
       "    }\n",
       "\n",
       "    .dataframe thead th {\n",
       "        text-align: right;\n",
       "    }\n",
       "</style>\n",
       "<table border=\"1\" class=\"dataframe\">\n",
       "  <thead>\n",
       "    <tr style=\"text-align: right;\">\n",
       "      <th></th>\n",
       "      <th>travel_type</th>\n",
       "      <th>rating</th>\n",
       "      <th>valid_rating</th>\n",
       "      <th>label</th>\n",
       "      <th>combined_review</th>\n",
       "      <th>date</th>\n",
       "      <th>covid</th>\n",
       "      <th>is_local</th>\n",
       "      <th>star</th>\n",
       "    </tr>\n",
       "  </thead>\n",
       "  <tbody>\n",
       "    <tr>\n",
       "      <th>0</th>\n",
       "      <td>couple</td>\n",
       "      <td>4.0</td>\n",
       "      <td>True</td>\n",
       "      <td>Positive</td>\n",
       "      <td>Clean and comfortable Hotel rooms in Singapore are so expensive so to find a decent hotel, with easy transport access and food locations, at less than S$200 was a good deal. The compact room meets your basic needs, no fancy mood lightning or lovely artworks to grace the wall. It has clean sheets...</td>\n",
       "      <td>2023-08-01</td>\n",
       "      <td>PostCovid</td>\n",
       "      <td>0</td>\n",
       "      <td>3</td>\n",
       "    </tr>\n",
       "    <tr>\n",
       "      <th>1</th>\n",
       "      <td>family</td>\n",
       "      <td>5.0</td>\n",
       "      <td>True</td>\n",
       "      <td>Positive</td>\n",
       "      <td>Good hotel, great location  This is a great place! Location is great but the room is very small. There is no room service available. Overall it's ok and they were kind enough to hold my luggage after check out! It is a good hotel!!</td>\n",
       "      <td>2023-08-01</td>\n",
       "      <td>PostCovid</td>\n",
       "      <td>0</td>\n",
       "      <td>3</td>\n",
       "    </tr>\n",
       "    <tr>\n",
       "      <th>2</th>\n",
       "      <td>friends</td>\n",
       "      <td>5.0</td>\n",
       "      <td>True</td>\n",
       "      <td>Positive</td>\n",
       "      <td>Good place for a decent price. Good place good price  Easy access to the city. All walking distance. Very close to the buggies junction. Food comers around you. Also walking distance to marina bay sands   Cozy rooms. Easy checking and check out.  Worth for the price. Quick getaway.</td>\n",
       "      <td>2022-10-01</td>\n",
       "      <td>PostCovid</td>\n",
       "      <td>0</td>\n",
       "      <td>3</td>\n",
       "    </tr>\n",
       "    <tr>\n",
       "      <th>3</th>\n",
       "      <td>solo</td>\n",
       "      <td>5.0</td>\n",
       "      <td>True</td>\n",
       "      <td>Positive</td>\n",
       "      <td>Great Location and great staff. The IBIS was a neat and tidy hotel in line with the star rating. The staff on the front desk were super helpful and friendly. The hotel itself was in a great location from Orchard Road, Little India and had some local markets just behind it with the Bugis shopping...</td>\n",
       "      <td>2023-08-01</td>\n",
       "      <td>PostCovid</td>\n",
       "      <td>0</td>\n",
       "      <td>3</td>\n",
       "    </tr>\n",
       "    <tr>\n",
       "      <th>4</th>\n",
       "      <td>business</td>\n",
       "      <td>4.0</td>\n",
       "      <td>True</td>\n",
       "      <td>Positive</td>\n",
       "      <td>Good for budget stay. I stayed there for 7 days. It was a nice location. Seven eleven is next door. Easy access to the downtown and there was also a night market in the neighborhood. Room was nice. However I had to wait for a long time to check-in but overall experience was good.</td>\n",
       "      <td>2022-08-01</td>\n",
       "      <td>PostCovid</td>\n",
       "      <td>0</td>\n",
       "      <td>3</td>\n",
       "    </tr>\n",
       "  </tbody>\n",
       "</table>\n",
       "</div>"
      ],
      "text/plain": [
       "  travel_type  rating  valid_rating     label  \\\n",
       "0      couple     4.0          True  Positive   \n",
       "1      family     5.0          True  Positive   \n",
       "2     friends     5.0          True  Positive   \n",
       "3        solo     5.0          True  Positive   \n",
       "4    business     4.0          True  Positive   \n",
       "\n",
       "                                                                                                                                                                                                                                                                                               combined_review  \\\n",
       "0  Clean and comfortable Hotel rooms in Singapore are so expensive so to find a decent hotel, with easy transport access and food locations, at less than S$200 was a good deal. The compact room meets your basic needs, no fancy mood lightning or lovely artworks to grace the wall. It has clean sheets...   \n",
       "1                                                                      Good hotel, great location  This is a great place! Location is great but the room is very small. There is no room service available. Overall it's ok and they were kind enough to hold my luggage after check out! It is a good hotel!!   \n",
       "2                   Good place for a decent price. Good place good price  Easy access to the city. All walking distance. Very close to the buggies junction. Food comers around you. Also walking distance to marina bay sands   Cozy rooms. Easy checking and check out.  Worth for the price. Quick getaway.   \n",
       "3  Great Location and great staff. The IBIS was a neat and tidy hotel in line with the star rating. The staff on the front desk were super helpful and friendly. The hotel itself was in a great location from Orchard Road, Little India and had some local markets just behind it with the Bugis shopping...   \n",
       "4                     Good for budget stay. I stayed there for 7 days. It was a nice location. Seven eleven is next door. Easy access to the downtown and there was also a night market in the neighborhood. Room was nice. However I had to wait for a long time to check-in but overall experience was good.   \n",
       "\n",
       "         date      covid  is_local  star  \n",
       "0  2023-08-01  PostCovid         0     3  \n",
       "1  2023-08-01  PostCovid         0     3  \n",
       "2  2022-10-01  PostCovid         0     3  \n",
       "3  2023-08-01  PostCovid         0     3  \n",
       "4  2022-08-01  PostCovid         0     3  "
      ]
     },
     "execution_count": 4,
     "metadata": {},
     "output_type": "execute_result"
    }
   ],
   "source": [
    "data = combine_csv_to_dataframe(star3+star4+star5, all_star = True, filterDate = True)\n",
    "#data[['traveller_username','date','travel_type','traveller_total_contributions','traveller_total_helpful_contributions','review_title','review_text','rating']].head(5)\n",
    "data.info()\n",
    "data.head()"
   ]
  },
  {
   "cell_type": "code",
   "execution_count": 5,
   "metadata": {},
   "outputs": [
    {
     "data": {
      "text/plain": [
       "Index(['travel_type', 'rating', 'valid_rating', 'label', 'combined_review',\n",
       "       'date', 'covid', 'is_local', 'star'],\n",
       "      dtype='object')"
      ]
     },
     "execution_count": 5,
     "metadata": {},
     "output_type": "execute_result"
    }
   ],
   "source": [
    "data.columns"
   ]
  },
  {
   "cell_type": "markdown",
   "metadata": {},
   "source": [
    "# Clean Data"
   ]
  },
  {
   "cell_type": "markdown",
   "metadata": {},
   "source": [
    "## General text preprocess (remove nonalphanum, lowercase, remove stop words)"
   ]
  },
  {
   "cell_type": "code",
   "execution_count": 6,
   "metadata": {},
   "outputs": [
    {
     "name": "stderr",
     "output_type": "stream",
     "text": [
      "[nltk_data] Downloading package stopwords to\n",
      "[nltk_data]     /Users/ammarbagharib/nltk_data...\n",
      "[nltk_data]   Package stopwords is already up-to-date!\n"
     ]
    }
   ],
   "source": [
    "# preprocess function\n",
    "nltk.download('stopwords')\n",
    "stop_words = set(stopwords.words('english'))\n",
    "spacy_lemmatizer = spacy.load('en_core_web_sm', disable=['parser','ner'])"
   ]
  },
  {
   "cell_type": "code",
   "execution_count": 7,
   "metadata": {},
   "outputs": [
    {
     "name": "stderr",
     "output_type": "stream",
     "text": [
      "[nltk_data] Downloading package stopwords to\n",
      "[nltk_data]     /Users/ammarbagharib/nltk_data...\n",
      "[nltk_data]   Package stopwords is already up-to-date!\n",
      "[nltk_data] Downloading package words to\n",
      "[nltk_data]     /Users/ammarbagharib/nltk_data...\n",
      "[nltk_data]   Package words is already up-to-date!\n"
     ]
    }
   ],
   "source": [
    "from nltk.corpus import words\n",
    "from nltk.corpus import stopwords\n",
    "from nltk.tokenize import word_tokenize\n",
    "\n",
    "nltk.download('stopwords')\n",
    "nltk.download('words')\n",
    "\n",
    "def remove_non_english_words(text, valid_words):\n",
    "    tokens = word_tokenize(text)\n",
    "    ans = [w for w in tokens if w.lower() in valid_words]\n",
    "    return ' '.join(ans)\n",
    "\n",
    "# Define the valid English words\n",
    "english_words = set(words.words())"
   ]
  },
  {
   "cell_type": "code",
   "execution_count": 8,
   "metadata": {},
   "outputs": [],
   "source": [
    "def preprocess(text):\n",
    "    # lower text\n",
    "    text = text.lower()\n",
    "    # Remove newline characters\n",
    "    text = text.replace('\\\\n',' ').replace('\\n', ' ').replace('\\t', ' ').replace('\\r', ' ').replace('\\\\', ' ')\n",
    "    # Remove punctuation and numbers\n",
    "    text = re.sub('[^a-zA-Z]', ' ', text)\n",
    "    # Remove multiple spaces\n",
    "    text = re.sub(r'\\s+',' ', text)\n",
    "    # remove stop word\n",
    "    text = text.split()\n",
    "    text = ' '.join([word for word in text if word not in stop_words])\n",
    "\n",
    "    # Apply the remove_non_english_words function\n",
    "    text = remove_non_english_words(text, valid_words=english_words)\n",
    "    \n",
    "    return text"
   ]
  },
  {
   "cell_type": "markdown",
   "metadata": {},
   "source": [
    "## Lemmatize and Stemming"
   ]
  },
  {
   "cell_type": "code",
   "execution_count": 9,
   "metadata": {},
   "outputs": [],
   "source": [
    "from nltk.stem.porter import *\n",
    "from nltk.stem.snowball import SnowballStemmer"
   ]
  },
  {
   "cell_type": "code",
   "execution_count": 10,
   "metadata": {},
   "outputs": [],
   "source": [
    "def lem_stem(text, lem = False, stem = None):\n",
    "    text = preprocess(text)\n",
    "    # lemmatize\n",
    "    if lem:\n",
    "        text = spacy_lemmatizer(text)\n",
    "        text = ' '.join([token.lemma_ for token in text])\n",
    "    # Remove stop words\n",
    "    if stem:\n",
    "        if stem == \"porter\":\n",
    "            stemmer = PorterStemmer()\n",
    "        else: \n",
    "            stemmer = SnowballStemmer(\"english\")\n",
    "        text = ' '.join([stemmer.stem(word) for word in text.split()])\n",
    "    return text"
   ]
  },
  {
   "cell_type": "markdown",
   "metadata": {},
   "source": [
    "## Test"
   ]
  },
  {
   "cell_type": "code",
   "execution_count": 11,
   "metadata": {},
   "outputs": [],
   "source": [
    "remove_col = ['valid_rating']\n",
    "data = data.drop(columns = remove_col)"
   ]
  },
  {
   "cell_type": "code",
   "execution_count": 12,
   "metadata": {},
   "outputs": [
    {
     "data": {
      "text/html": [
       "<div>\n",
       "<style scoped>\n",
       "    .dataframe tbody tr th:only-of-type {\n",
       "        vertical-align: middle;\n",
       "    }\n",
       "\n",
       "    .dataframe tbody tr th {\n",
       "        vertical-align: top;\n",
       "    }\n",
       "\n",
       "    .dataframe thead th {\n",
       "        text-align: right;\n",
       "    }\n",
       "</style>\n",
       "<table border=\"1\" class=\"dataframe\">\n",
       "  <thead>\n",
       "    <tr style=\"text-align: right;\">\n",
       "      <th></th>\n",
       "      <th>travel_type</th>\n",
       "      <th>rating</th>\n",
       "      <th>label</th>\n",
       "      <th>combined_review</th>\n",
       "      <th>date</th>\n",
       "      <th>covid</th>\n",
       "      <th>is_local</th>\n",
       "      <th>star</th>\n",
       "      <th>stem_review</th>\n",
       "    </tr>\n",
       "  </thead>\n",
       "  <tbody>\n",
       "    <tr>\n",
       "      <th>0</th>\n",
       "      <td>couple</td>\n",
       "      <td>4.0</td>\n",
       "      <td>Positive</td>\n",
       "      <td>Clean and comfortable Hotel rooms in Singapore are so expensive so to find a decent hotel, with easy transport access and food locations, at less than S$200 was a good deal. The compact room meets your basic needs, no fancy mood lightning or lovely artworks to grace the wall. It has clean sheets...</td>\n",
       "      <td>2023-08-01</td>\n",
       "      <td>PostCovid</td>\n",
       "      <td>0</td>\n",
       "      <td>3</td>\n",
       "      <td>clean comfort hotel expens find decent hotel easi transport access food less good deal compact room basic need fanci mood lightn love grace wall clean small bathroom pump pack kettl glass bottl small select tea small room safe closet space quit limit board use luggag rack complimentari suffici e...</td>\n",
       "    </tr>\n",
       "    <tr>\n",
       "      <th>1</th>\n",
       "      <td>family</td>\n",
       "      <td>5.0</td>\n",
       "      <td>Positive</td>\n",
       "      <td>Good hotel, great location  This is a great place! Location is great but the room is very small. There is no room service available. Overall it's ok and they were kind enough to hold my luggage after check out! It is a good hotel!!</td>\n",
       "      <td>2023-08-01</td>\n",
       "      <td>PostCovid</td>\n",
       "      <td>0</td>\n",
       "      <td>3</td>\n",
       "      <td>good hotel great locat great place locat great room small room servic avail overal kind enough hold luggag check good hotel</td>\n",
       "    </tr>\n",
       "  </tbody>\n",
       "</table>\n",
       "</div>"
      ],
      "text/plain": [
       "  travel_type  rating     label  \\\n",
       "0      couple     4.0  Positive   \n",
       "1      family     5.0  Positive   \n",
       "\n",
       "                                                                                                                                                                                                                                                                                               combined_review  \\\n",
       "0  Clean and comfortable Hotel rooms in Singapore are so expensive so to find a decent hotel, with easy transport access and food locations, at less than S$200 was a good deal. The compact room meets your basic needs, no fancy mood lightning or lovely artworks to grace the wall. It has clean sheets...   \n",
       "1                                                                      Good hotel, great location  This is a great place! Location is great but the room is very small. There is no room service available. Overall it's ok and they were kind enough to hold my luggage after check out! It is a good hotel!!   \n",
       "\n",
       "         date      covid  is_local  star  \\\n",
       "0  2023-08-01  PostCovid         0     3   \n",
       "1  2023-08-01  PostCovid         0     3   \n",
       "\n",
       "                                                                                                                                                                                                                                                                                                   stem_review  \n",
       "0  clean comfort hotel expens find decent hotel easi transport access food less good deal compact room basic need fanci mood lightn love grace wall clean small bathroom pump pack kettl glass bottl small select tea small room safe closet space quit limit board use luggag rack complimentari suffici e...  \n",
       "1                                                                                                                                                                                  good hotel great locat great place locat great room small room servic avail overal kind enough hold luggag check good hotel  "
      ]
     },
     "execution_count": 12,
     "metadata": {},
     "output_type": "execute_result"
    }
   ],
   "source": [
    "data[\"stem_review\"] = data.apply(lambda row: lem_stem(row['combined_review'], lem = False, stem = \"porter\"), axis = 1)\n",
    "data.head(2)"
   ]
  },
  {
   "cell_type": "code",
   "execution_count": 13,
   "metadata": {},
   "outputs": [
    {
     "data": {
      "text/html": [
       "<div>\n",
       "<style scoped>\n",
       "    .dataframe tbody tr th:only-of-type {\n",
       "        vertical-align: middle;\n",
       "    }\n",
       "\n",
       "    .dataframe tbody tr th {\n",
       "        vertical-align: top;\n",
       "    }\n",
       "\n",
       "    .dataframe thead th {\n",
       "        text-align: right;\n",
       "    }\n",
       "</style>\n",
       "<table border=\"1\" class=\"dataframe\">\n",
       "  <thead>\n",
       "    <tr style=\"text-align: right;\">\n",
       "      <th></th>\n",
       "      <th>travel_type</th>\n",
       "      <th>rating</th>\n",
       "      <th>label</th>\n",
       "      <th>combined_review</th>\n",
       "      <th>date</th>\n",
       "      <th>covid</th>\n",
       "      <th>is_local</th>\n",
       "      <th>star</th>\n",
       "      <th>stem_review</th>\n",
       "      <th>lem_review</th>\n",
       "    </tr>\n",
       "  </thead>\n",
       "  <tbody>\n",
       "    <tr>\n",
       "      <th>0</th>\n",
       "      <td>couple</td>\n",
       "      <td>4.0</td>\n",
       "      <td>Positive</td>\n",
       "      <td>Clean and comfortable Hotel rooms in Singapore are so expensive so to find a decent hotel, with easy transport access and food locations, at less than S$200 was a good deal. The compact room meets your basic needs, no fancy mood lightning or lovely artworks to grace the wall. It has clean sheets...</td>\n",
       "      <td>2023-08-01</td>\n",
       "      <td>PostCovid</td>\n",
       "      <td>0</td>\n",
       "      <td>3</td>\n",
       "      <td>clean comfort hotel expens find decent hotel easi transport access food less good deal compact room basic need fanci mood lightn love grace wall clean small bathroom pump pack kettl glass bottl small select tea small room safe closet space quit limit board use luggag rack complimentari suffici e...</td>\n",
       "      <td>clean comfortable hotel expensive find decent hotel easy transport access food less good deal compact room basic need fancy mood lightne lovely grace wall clean small bathroom pump pack kettle glass bottle small selection tea small room safe closet space quite limited board use luggage rack comp...</td>\n",
       "    </tr>\n",
       "    <tr>\n",
       "      <th>1</th>\n",
       "      <td>family</td>\n",
       "      <td>5.0</td>\n",
       "      <td>Positive</td>\n",
       "      <td>Good hotel, great location  This is a great place! Location is great but the room is very small. There is no room service available. Overall it's ok and they were kind enough to hold my luggage after check out! It is a good hotel!!</td>\n",
       "      <td>2023-08-01</td>\n",
       "      <td>PostCovid</td>\n",
       "      <td>0</td>\n",
       "      <td>3</td>\n",
       "      <td>good hotel great locat great place locat great room small room servic avail overal kind enough hold luggag check good hotel</td>\n",
       "      <td>good hotel great location great place location great room small room service available overall kind enough hold luggage check good hotel</td>\n",
       "    </tr>\n",
       "  </tbody>\n",
       "</table>\n",
       "</div>"
      ],
      "text/plain": [
       "  travel_type  rating     label  \\\n",
       "0      couple     4.0  Positive   \n",
       "1      family     5.0  Positive   \n",
       "\n",
       "                                                                                                                                                                                                                                                                                               combined_review  \\\n",
       "0  Clean and comfortable Hotel rooms in Singapore are so expensive so to find a decent hotel, with easy transport access and food locations, at less than S$200 was a good deal. The compact room meets your basic needs, no fancy mood lightning or lovely artworks to grace the wall. It has clean sheets...   \n",
       "1                                                                      Good hotel, great location  This is a great place! Location is great but the room is very small. There is no room service available. Overall it's ok and they were kind enough to hold my luggage after check out! It is a good hotel!!   \n",
       "\n",
       "         date      covid  is_local  star  \\\n",
       "0  2023-08-01  PostCovid         0     3   \n",
       "1  2023-08-01  PostCovid         0     3   \n",
       "\n",
       "                                                                                                                                                                                                                                                                                                   stem_review  \\\n",
       "0  clean comfort hotel expens find decent hotel easi transport access food less good deal compact room basic need fanci mood lightn love grace wall clean small bathroom pump pack kettl glass bottl small select tea small room safe closet space quit limit board use luggag rack complimentari suffici e...   \n",
       "1                                                                                                                                                                                  good hotel great locat great place locat great room small room servic avail overal kind enough hold luggag check good hotel   \n",
       "\n",
       "                                                                                                                                                                                                                                                                                                    lem_review  \n",
       "0  clean comfortable hotel expensive find decent hotel easy transport access food less good deal compact room basic need fancy mood lightne lovely grace wall clean small bathroom pump pack kettle glass bottle small selection tea small room safe closet space quite limited board use luggage rack comp...  \n",
       "1                                                                                                                                                                     good hotel great location great place location great room small room service available overall kind enough hold luggage check good hotel  "
      ]
     },
     "execution_count": 13,
     "metadata": {},
     "output_type": "execute_result"
    }
   ],
   "source": [
    "data[\"lem_review\"] = data.apply(lambda row: lem_stem(row['combined_review'], lem = True, stem = None), axis = 1)\n",
    "data.head(2)"
   ]
  },
  {
   "cell_type": "markdown",
   "metadata": {},
   "source": [
    "# All CSVs"
   ]
  },
  {
   "cell_type": "code",
   "execution_count": 19,
   "metadata": {},
   "outputs": [],
   "source": [
    "remove_col = ['valid_rating']\n",
    "\n",
    "for csv in star3+star4+star5:\n",
    "    \n",
    "    data = combine_csv_to_dataframe([csv], all_star=False, filterDate=True)\n",
    "    \n",
    "    data[\"combined_review\"] = data.apply(lambda row: preprocess(row[\"combined_review\"]), axis = 1)\n",
    "    \n",
    "    data[\"stem_review\"] = data.apply(lambda row: lem_stem(row['combined_review'], lem = False, stem = \"porter\"), axis = 1)\n",
    "    \n",
    "    data[\"lem_review\"] = data.apply(lambda row: lem_stem(row['combined_review'], lem = True, stem = None), axis = 1)\n",
    "    \n",
    "    data[\"cleaned_review\"] = data.apply(lambda row: preprocess(row['combined_review']), axis = 1)\n",
    "    \n",
    "    data = data.drop(columns = remove_col)\n",
    "    \n",
    "    file_output_path = here('data/processed/' + csv)\n",
    "    \n",
    "    data.to_csv(file_output_path, index=False)"
   ]
  }
 ],
 "metadata": {
  "colab": {
   "provenance": []
  },
  "kernelspec": {
   "display_name": "Python [conda env:bt4222_hotels]",
   "language": "python",
   "name": "conda-env-bt4222_hotels-py"
  },
  "language_info": {
   "codemirror_mode": {
    "name": "ipython",
    "version": 3
   },
   "file_extension": ".py",
   "mimetype": "text/x-python",
   "name": "python",
   "nbconvert_exporter": "python",
   "pygments_lexer": "ipython3",
   "version": "3.10.4"
  }
 },
 "nbformat": 4,
 "nbformat_minor": 4
}
