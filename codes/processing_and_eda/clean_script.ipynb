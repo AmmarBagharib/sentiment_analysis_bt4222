{
 "cells": [
  {
   "cell_type": "code",
   "execution_count": 1,
   "metadata": {
    "executionInfo": {
     "elapsed": 4,
     "status": "ok",
     "timestamp": 1695284946502,
     "user": {
      "displayName": "Hien Nga Luong",
      "userId": "10313683531485500593"
     },
     "user_tz": -480
    },
    "id": "XbhdfhA58msr"
   },
   "outputs": [],
   "source": [
    "RANDOM_STATE = 1"
   ]
  },
  {
   "cell_type": "markdown",
   "metadata": {
    "id": "J7gjrM5d2rFt"
   },
   "source": [
    "# Imports"
   ]
  },
  {
   "cell_type": "code",
   "execution_count": 2,
   "metadata": {
    "executionInfo": {
     "elapsed": 2498,
     "status": "ok",
     "timestamp": 1695284946501,
     "user": {
      "displayName": "Hien Nga Luong",
      "userId": "10313683531485500593"
     },
     "user_tz": -480
    },
    "id": "jIQzdKEO2hcv"
   },
   "outputs": [],
   "source": [
    "import pandas as pd\n",
    "import time\n",
    "import numpy as np\n",
    "import pickle\n",
    "from sklearn.metrics import confusion_matrix\n",
    "import warnings\n",
    "warnings.filterwarnings(\"ignore\")\n",
    "pd.set_option('display.max_colwidth',300)\n",
    "\n",
    "from nltk.corpus import stopwords\n",
    "import re\n",
    "import nltk\n",
    "from nltk import tokenize\n",
    "from nltk.stem import WordNetLemmatizer\n",
    "\n",
    "import math\n",
    "\n",
    "import spacy\n",
    "import os\n",
    "import pyprojroot.here as here"
   ]
  },
  {
   "cell_type": "markdown",
   "metadata": {
    "id": "yNwZ7KS62vlr"
   },
   "source": [
    "# Import datasets from drive"
   ]
  },
  {
   "cell_type": "code",
   "execution_count": 3,
   "metadata": {
    "tags": []
   },
   "outputs": [],
   "source": [
    "# TODO: modify these list if needed (eg. if you want to load only 1 csv from star3, delete other csvs in star3 list)\n",
    "star3 = ['ibis-sg-bencoolen.csv','hotel-boss.csv','hotel-G.csv',\n",
    "           'village-hotel-albert-court-by-far-east-hospitality.csv',\n",
    "           'holiday-inn-express-clarke-quay.csv']\n",
    "star4 = ['village-hotel-changi-by-far-east-hospitality.csv',\n",
    "         'park-regis.csv', 'grand-mercure-sg-roxy.csv',\n",
    "         'paradox-sg-merchant-court.csv','crowne-plaza.csv']\n",
    "star5 = ['fullerton.csv', 'parkroyal-collection-marina-bay.csv', 'pan-pacific.csv',\n",
    "          'mbs_total.csv', 'swissotel-the-stamford.csv']\n",
    "\n",
    "RAW_FOLDER = \"data/raw/\"\n",
    "\n",
    "def combine_csv_to_dataframe(file_names, all_star = False, filterDate = True):\n",
    "    \"\"\"\n",
    "    Combine multiple CSV files into a single DataFrame.\n",
    "\n",
    "    Parameters:\n",
    "    file_names (list): List of CSV file names. \n",
    "    all_star (bool): whether or not to load all the hotels (False if only want to load 1 type of hotel star). \n",
    "    filterData (bool): whether or not to remove all data dated before 2015\n",
    "\n",
    "    Returns:\n",
    "    pd.DataFrame: Combined DataFrame.\n",
    "    \"\"\"\n",
    "    combined_df = pd.DataFrame()\n",
    "\n",
    "    for file_name in file_names:\n",
    "        file_interim_path = RAW_FOLDER + file_name\n",
    "        file_path = here(file_interim_path)\n",
    "        try:\n",
    "            df = pd.read_csv(file_path)\n",
    "            if all_star:\n",
    "                if file_name in star3:\n",
    "                    df[\"star\"] = 3\n",
    "                elif file_name in star4:\n",
    "                    df[\"star\"] = 4\n",
    "                else:\n",
    "                    df[\"star\"] = 5\n",
    "            #print(f\"Length of {file_name} is {len(df)}\")\n",
    "            combined_df = pd.concat([combined_df, df], ignore_index=True)\n",
    "            #print(len(combined_df))\n",
    "        except FileNotFoundError:\n",
    "            print(f\"File not found: {file_name}\")\n",
    "        except pd.errors.EmptyDataError:\n",
    "            print(f\"Empty or invalid CSV file: {file_name}\")\n",
    "                                \n",
    "    return combined_df"
   ]
  },
  {
   "cell_type": "code",
   "execution_count": 4,
   "metadata": {
    "tags": []
   },
   "outputs": [
    {
     "name": "stdout",
     "output_type": "stream",
     "text": [
      "<class 'pandas.core.frame.DataFrame'>\n",
      "RangeIndex: 101761 entries, 0 to 101760\n",
      "Data columns (total 11 columns):\n",
      " #   Column                                 Non-Null Count   Dtype  \n",
      "---  ------                                 --------------   -----  \n",
      " 0   date_of_stay                           101054 non-null  object \n",
      " 1   traveller_username                     101761 non-null  object \n",
      " 2   review_title                           101721 non-null  object \n",
      " 3   review_text                            101761 non-null  object \n",
      " 4   travel_type                            46064 non-null   object \n",
      " 5   traveller_country_origin               83686 non-null   object \n",
      " 6   traveller_total_contributions          101558 non-null  object \n",
      " 7   traveller_total_helpful_contributions  84123 non-null   float64\n",
      " 8   rating1                                86074 non-null   object \n",
      " 9   rating2                                15663 non-null   float64\n",
      " 10  star                                   101761 non-null  int64  \n",
      "dtypes: float64(2), int64(1), object(8)\n",
      "memory usage: 8.5+ MB\n"
     ]
    },
    {
     "data": {
      "text/html": [
       "<div>\n",
       "<style scoped>\n",
       "    .dataframe tbody tr th:only-of-type {\n",
       "        vertical-align: middle;\n",
       "    }\n",
       "\n",
       "    .dataframe tbody tr th {\n",
       "        vertical-align: top;\n",
       "    }\n",
       "\n",
       "    .dataframe thead th {\n",
       "        text-align: right;\n",
       "    }\n",
       "</style>\n",
       "<table border=\"1\" class=\"dataframe\">\n",
       "  <thead>\n",
       "    <tr style=\"text-align: right;\">\n",
       "      <th></th>\n",
       "      <th>date_of_stay</th>\n",
       "      <th>traveller_username</th>\n",
       "      <th>review_title</th>\n",
       "      <th>review_text</th>\n",
       "      <th>travel_type</th>\n",
       "      <th>traveller_country_origin</th>\n",
       "      <th>traveller_total_contributions</th>\n",
       "      <th>traveller_total_helpful_contributions</th>\n",
       "      <th>rating1</th>\n",
       "      <th>rating2</th>\n",
       "      <th>star</th>\n",
       "    </tr>\n",
       "  </thead>\n",
       "  <tbody>\n",
       "    <tr>\n",
       "      <th>0</th>\n",
       "      <td>Date of stay: August 2023</td>\n",
       "      <td>Love_Life_Sydney</td>\n",
       "      <td>Clean and comfortable</td>\n",
       "      <td>Hotel rooms in Singapore are so expensive so to find a decent hotel, with easy transport access and food locations, at less than S$200 was a good deal. The compact room meets your basic needs, no fancy mood lightning or lovely artworks to grace the wall. It has clean sheets and towels, a small b...</td>\n",
       "      <td>Trip type: Travelled as a couple</td>\n",
       "      <td>Sydney, Australia</td>\n",
       "      <td>2302.0</td>\n",
       "      <td>871.0</td>\n",
       "      <td>NaN</td>\n",
       "      <td>4.0</td>\n",
       "      <td>3</td>\n",
       "    </tr>\n",
       "    <tr>\n",
       "      <th>1</th>\n",
       "      <td>Date of stay: August 2023</td>\n",
       "      <td>Bilal S</td>\n",
       "      <td>Good hotel, great location</td>\n",
       "      <td>This is a great place! Location is great but the room is very small. There is no room service available. Overall it's ok and they were kind enough to hold my luggage after check out! It is a good hotel!!</td>\n",
       "      <td>Trip type: Travelled with family</td>\n",
       "      <td>Houston, Texas</td>\n",
       "      <td>4.0</td>\n",
       "      <td>NaN</td>\n",
       "      <td>5.0</td>\n",
       "      <td>NaN</td>\n",
       "      <td>3</td>\n",
       "    </tr>\n",
       "    <tr>\n",
       "      <th>2</th>\n",
       "      <td>Date of stay: October 2022</td>\n",
       "      <td>Anthony Fernando</td>\n",
       "      <td>Good place for a decent price.</td>\n",
       "      <td>Good place good price  Easy access to the city. All walking distance. Very close to the buggies junction. Food comers around you. Also walking distance to marina bay sands   Cozy rooms. Easy checking and check out.  Worth for the price. Quick getaway.</td>\n",
       "      <td>Trip type: Travelled with friends</td>\n",
       "      <td>Dubai, United Arab Emirates</td>\n",
       "      <td>39.0</td>\n",
       "      <td>38.0</td>\n",
       "      <td>5.0</td>\n",
       "      <td>NaN</td>\n",
       "      <td>3</td>\n",
       "    </tr>\n",
       "    <tr>\n",
       "      <th>3</th>\n",
       "      <td>Date of stay: August 2023</td>\n",
       "      <td>Mjkc204</td>\n",
       "      <td>Great Location and great staff.</td>\n",
       "      <td>The IBIS was a neat and tidy hotel in line with the star rating. The staff on the front desk were super helpful and friendly. The hotel itself was in a great location from Orchard Road, Little India and had some local markets just behind it with the Bugis shopping malls. An atm and 7-11 was next...</td>\n",
       "      <td>Trip type: Travelled solo</td>\n",
       "      <td>Ellenbrook, Australia</td>\n",
       "      <td>37.0</td>\n",
       "      <td>19.0</td>\n",
       "      <td>5.0</td>\n",
       "      <td>NaN</td>\n",
       "      <td>3</td>\n",
       "    </tr>\n",
       "    <tr>\n",
       "      <th>4</th>\n",
       "      <td>Date of stay: August 2022</td>\n",
       "      <td>Aung Nanda</td>\n",
       "      <td>Good for budget stay.</td>\n",
       "      <td>I stayed there for 7 days. It was a nice location. Seven eleven is next door. Easy access to the downtown and there was also a night market in the neighborhood. Room was nice. However I had to wait for a long time to check-in but overall experience was good.</td>\n",
       "      <td>Trip type: Travelled on business</td>\n",
       "      <td>Dubai, United Arab Emirates</td>\n",
       "      <td>3.0</td>\n",
       "      <td>4.0</td>\n",
       "      <td>NaN</td>\n",
       "      <td>4.0</td>\n",
       "      <td>3</td>\n",
       "    </tr>\n",
       "  </tbody>\n",
       "</table>\n",
       "</div>"
      ],
      "text/plain": [
       "                 date_of_stay traveller_username  \\\n",
       "0   Date of stay: August 2023   Love_Life_Sydney   \n",
       "1   Date of stay: August 2023            Bilal S   \n",
       "2  Date of stay: October 2022   Anthony Fernando   \n",
       "3   Date of stay: August 2023            Mjkc204   \n",
       "4   Date of stay: August 2022         Aung Nanda   \n",
       "\n",
       "                      review_title  \\\n",
       "0            Clean and comfortable   \n",
       "1      Good hotel, great location    \n",
       "2   Good place for a decent price.   \n",
       "3  Great Location and great staff.   \n",
       "4            Good for budget stay.   \n",
       "\n",
       "                                                                                                                                                                                                                                                                                                   review_text  \\\n",
       "0  Hotel rooms in Singapore are so expensive so to find a decent hotel, with easy transport access and food locations, at less than S$200 was a good deal. The compact room meets your basic needs, no fancy mood lightning or lovely artworks to grace the wall. It has clean sheets and towels, a small b...   \n",
       "1                                                                                                  This is a great place! Location is great but the room is very small. There is no room service available. Overall it's ok and they were kind enough to hold my luggage after check out! It is a good hotel!!   \n",
       "2                                                  Good place good price  Easy access to the city. All walking distance. Very close to the buggies junction. Food comers around you. Also walking distance to marina bay sands   Cozy rooms. Easy checking and check out.  Worth for the price. Quick getaway.   \n",
       "3  The IBIS was a neat and tidy hotel in line with the star rating. The staff on the front desk were super helpful and friendly. The hotel itself was in a great location from Orchard Road, Little India and had some local markets just behind it with the Bugis shopping malls. An atm and 7-11 was next...   \n",
       "4                                           I stayed there for 7 days. It was a nice location. Seven eleven is next door. Easy access to the downtown and there was also a night market in the neighborhood. Room was nice. However I had to wait for a long time to check-in but overall experience was good.   \n",
       "\n",
       "                         travel_type     traveller_country_origin  \\\n",
       "0   Trip type: Travelled as a couple            Sydney, Australia   \n",
       "1   Trip type: Travelled with family               Houston, Texas   \n",
       "2  Trip type: Travelled with friends  Dubai, United Arab Emirates   \n",
       "3          Trip type: Travelled solo        Ellenbrook, Australia   \n",
       "4   Trip type: Travelled on business  Dubai, United Arab Emirates   \n",
       "\n",
       "  traveller_total_contributions  traveller_total_helpful_contributions  \\\n",
       "0                        2302.0                                  871.0   \n",
       "1                           4.0                                    NaN   \n",
       "2                          39.0                                   38.0   \n",
       "3                          37.0                                   19.0   \n",
       "4                           3.0                                    4.0   \n",
       "\n",
       "  rating1  rating2  star  \n",
       "0     NaN      4.0     3  \n",
       "1     5.0      NaN     3  \n",
       "2     5.0      NaN     3  \n",
       "3     5.0      NaN     3  \n",
       "4     NaN      4.0     3  "
      ]
     },
     "execution_count": 4,
     "metadata": {},
     "output_type": "execute_result"
    }
   ],
   "source": [
    "df = combine_csv_to_dataframe(star3+star4+star5, all_star = True, filterDate = True)\n",
    "df.info()\n",
    "df.head()"
   ]
  },
  {
   "cell_type": "markdown",
   "metadata": {},
   "source": [
    "# Clean Data"
   ]
  },
  {
   "cell_type": "markdown",
   "metadata": {},
   "source": [
    "## Clean Ratings column"
   ]
  },
  {
   "cell_type": "code",
   "execution_count": 5,
   "metadata": {
    "tags": []
   },
   "outputs": [],
   "source": [
    "def rating_clean(rating1, rating2):\n",
    "    try:\n",
    "        if not math.isnan(rating1):\n",
    "            return rating1\n",
    "    except:\n",
    "        try:\n",
    "            if not math.isnan(rating2):\n",
    "                return rating2\n",
    "        except:\n",
    "            return None\n",
    "    return rating2\n",
    "\n",
    "def valid_rating(rating):\n",
    "    try:\n",
    "        if math.isnan(rating):\n",
    "            return False\n",
    "        return True\n",
    "    except:\n",
    "        return False\n",
    "\n",
    "def classify_rating(rating):\n",
    "    if rating>=4:\n",
    "        return \"Positive\"\n",
    "    if rating<=2:\n",
    "        return \"Negative\"\n",
    "    if rating == 3:\n",
    "        return \"Neutral\"\n",
    "    return None"
   ]
  },
  {
   "cell_type": "code",
   "execution_count": 6,
   "metadata": {
    "colab": {
     "base_uri": "https://localhost:8080/"
    },
    "executionInfo": {
     "elapsed": 602,
     "status": "ok",
     "timestamp": 1695286186465,
     "user": {
      "displayName": "Hien Nga Luong",
      "userId": "10313683531485500593"
     },
     "user_tz": -480
    },
    "id": "fsTYQ3qS2QTW",
    "outputId": "7ac791ca-9373-451f-8769-bdf0fc6a1d28"
   },
   "outputs": [
    {
     "data": {
      "text/plain": [
       "label\n",
       "Positive    71398\n",
       "Neutral      8465\n",
       "Negative     4984\n",
       "Name: count, dtype: int64"
      ]
     },
     "execution_count": 6,
     "metadata": {},
     "output_type": "execute_result"
    }
   ],
   "source": [
    "df[\"rating\"] = df.apply(lambda row: rating_clean(row['rating1'], row['rating2']), axis = 1)\n",
    "df['valid_rating'] = df.apply(lambda row: valid_rating(row['rating']), axis = 1)\n",
    "df[\"label\"] = df.apply(lambda row: classify_rating(row['rating']), axis = 1)\n",
    "df[\"label\"].value_counts()"
   ]
  },
  {
   "cell_type": "markdown",
   "metadata": {},
   "source": [
    "## Cleaning Raw title and review, and date"
   ]
  },
  {
   "cell_type": "code",
   "execution_count": 7,
   "metadata": {},
   "outputs": [],
   "source": [
    "# combine raw title and review\n",
    "def combine(r):\n",
    "  return str(r['review_title']) + \" \" + str(r['review_text'])"
   ]
  },
  {
   "cell_type": "code",
   "execution_count": 8,
   "metadata": {},
   "outputs": [
    {
     "data": {
      "text/html": [
       "<div>\n",
       "<style scoped>\n",
       "    .dataframe tbody tr th:only-of-type {\n",
       "        vertical-align: middle;\n",
       "    }\n",
       "\n",
       "    .dataframe tbody tr th {\n",
       "        vertical-align: top;\n",
       "    }\n",
       "\n",
       "    .dataframe thead th {\n",
       "        text-align: right;\n",
       "    }\n",
       "</style>\n",
       "<table border=\"1\" class=\"dataframe\">\n",
       "  <thead>\n",
       "    <tr style=\"text-align: right;\">\n",
       "      <th></th>\n",
       "      <th>date_of_stay</th>\n",
       "      <th>traveller_username</th>\n",
       "      <th>review_title</th>\n",
       "      <th>review_text</th>\n",
       "      <th>travel_type</th>\n",
       "      <th>traveller_country_origin</th>\n",
       "      <th>traveller_total_contributions</th>\n",
       "      <th>traveller_total_helpful_contributions</th>\n",
       "      <th>rating1</th>\n",
       "      <th>rating2</th>\n",
       "      <th>star</th>\n",
       "      <th>rating</th>\n",
       "      <th>valid_rating</th>\n",
       "      <th>label</th>\n",
       "      <th>combined_review</th>\n",
       "    </tr>\n",
       "  </thead>\n",
       "  <tbody>\n",
       "    <tr>\n",
       "      <th>0</th>\n",
       "      <td>Date of stay: August 2023</td>\n",
       "      <td>Love_Life_Sydney</td>\n",
       "      <td>Clean and comfortable</td>\n",
       "      <td>Hotel rooms in Singapore are so expensive so to find a decent hotel, with easy transport access and food locations, at less than S$200 was a good deal. The compact room meets your basic needs, no fancy mood lightning or lovely artworks to grace the wall. It has clean sheets and towels, a small b...</td>\n",
       "      <td>Trip type: Travelled as a couple</td>\n",
       "      <td>Sydney, Australia</td>\n",
       "      <td>2302.0</td>\n",
       "      <td>871.0</td>\n",
       "      <td>NaN</td>\n",
       "      <td>4.0</td>\n",
       "      <td>3</td>\n",
       "      <td>4.0</td>\n",
       "      <td>True</td>\n",
       "      <td>Positive</td>\n",
       "      <td>Clean and comfortable Hotel rooms in Singapore are so expensive so to find a decent hotel, with easy transport access and food locations, at less than S$200 was a good deal. The compact room meets your basic needs, no fancy mood lightning or lovely artworks to grace the wall. It has clean sheets...</td>\n",
       "    </tr>\n",
       "  </tbody>\n",
       "</table>\n",
       "</div>"
      ],
      "text/plain": [
       "                date_of_stay traveller_username           review_title  \\\n",
       "0  Date of stay: August 2023   Love_Life_Sydney  Clean and comfortable   \n",
       "\n",
       "                                                                                                                                                                                                                                                                                                   review_text  \\\n",
       "0  Hotel rooms in Singapore are so expensive so to find a decent hotel, with easy transport access and food locations, at less than S$200 was a good deal. The compact room meets your basic needs, no fancy mood lightning or lovely artworks to grace the wall. It has clean sheets and towels, a small b...   \n",
       "\n",
       "                        travel_type traveller_country_origin  \\\n",
       "0  Trip type: Travelled as a couple        Sydney, Australia   \n",
       "\n",
       "  traveller_total_contributions  traveller_total_helpful_contributions  \\\n",
       "0                        2302.0                                  871.0   \n",
       "\n",
       "  rating1  rating2  star  rating  valid_rating     label  \\\n",
       "0     NaN      4.0     3     4.0          True  Positive   \n",
       "\n",
       "                                                                                                                                                                                                                                                                                               combined_review  \n",
       "0  Clean and comfortable Hotel rooms in Singapore are so expensive so to find a decent hotel, with easy transport access and food locations, at less than S$200 was a good deal. The compact room meets your basic needs, no fancy mood lightning or lovely artworks to grace the wall. It has clean sheets...  "
      ]
     },
     "execution_count": 8,
     "metadata": {},
     "output_type": "execute_result"
    }
   ],
   "source": [
    "df[\"combined_review\"] = df.apply(lambda row: combine(row), axis = 1)\n",
    "df.head(1)"
   ]
  },
  {
   "cell_type": "markdown",
   "metadata": {},
   "source": [
    "## Specify Covid"
   ]
  },
  {
   "cell_type": "code",
   "execution_count": 9,
   "metadata": {},
   "outputs": [
    {
     "data": {
      "text/html": [
       "<div>\n",
       "<style scoped>\n",
       "    .dataframe tbody tr th:only-of-type {\n",
       "        vertical-align: middle;\n",
       "    }\n",
       "\n",
       "    .dataframe tbody tr th {\n",
       "        vertical-align: top;\n",
       "    }\n",
       "\n",
       "    .dataframe thead th {\n",
       "        text-align: right;\n",
       "    }\n",
       "</style>\n",
       "<table border=\"1\" class=\"dataframe\">\n",
       "  <thead>\n",
       "    <tr style=\"text-align: right;\">\n",
       "      <th></th>\n",
       "      <th>date_of_stay</th>\n",
       "      <th>traveller_username</th>\n",
       "      <th>review_title</th>\n",
       "      <th>review_text</th>\n",
       "      <th>travel_type</th>\n",
       "      <th>traveller_country_origin</th>\n",
       "      <th>traveller_total_contributions</th>\n",
       "      <th>traveller_total_helpful_contributions</th>\n",
       "      <th>rating1</th>\n",
       "      <th>rating2</th>\n",
       "      <th>star</th>\n",
       "      <th>rating</th>\n",
       "      <th>valid_rating</th>\n",
       "      <th>label</th>\n",
       "      <th>combined_review</th>\n",
       "      <th>date</th>\n",
       "      <th>year</th>\n",
       "    </tr>\n",
       "  </thead>\n",
       "  <tbody>\n",
       "    <tr>\n",
       "      <th>0</th>\n",
       "      <td>Date of stay: August 2023</td>\n",
       "      <td>Love_Life_Sydney</td>\n",
       "      <td>Clean and comfortable</td>\n",
       "      <td>Hotel rooms in Singapore are so expensive so to find a decent hotel, with easy transport access and food locations, at less than S$200 was a good deal. The compact room meets your basic needs, no fancy mood lightning or lovely artworks to grace the wall. It has clean sheets and towels, a small b...</td>\n",
       "      <td>Trip type: Travelled as a couple</td>\n",
       "      <td>Sydney, Australia</td>\n",
       "      <td>2302.0</td>\n",
       "      <td>871.0</td>\n",
       "      <td>NaN</td>\n",
       "      <td>4.0</td>\n",
       "      <td>3</td>\n",
       "      <td>4.0</td>\n",
       "      <td>True</td>\n",
       "      <td>Positive</td>\n",
       "      <td>Clean and comfortable Hotel rooms in Singapore are so expensive so to find a decent hotel, with easy transport access and food locations, at less than S$200 was a good deal. The compact room meets your basic needs, no fancy mood lightning or lovely artworks to grace the wall. It has clean sheets...</td>\n",
       "      <td>2023-08-01</td>\n",
       "      <td>2023.0</td>\n",
       "    </tr>\n",
       "  </tbody>\n",
       "</table>\n",
       "</div>"
      ],
      "text/plain": [
       "                date_of_stay traveller_username           review_title  \\\n",
       "0  Date of stay: August 2023   Love_Life_Sydney  Clean and comfortable   \n",
       "\n",
       "                                                                                                                                                                                                                                                                                                   review_text  \\\n",
       "0  Hotel rooms in Singapore are so expensive so to find a decent hotel, with easy transport access and food locations, at less than S$200 was a good deal. The compact room meets your basic needs, no fancy mood lightning or lovely artworks to grace the wall. It has clean sheets and towels, a small b...   \n",
       "\n",
       "                        travel_type traveller_country_origin  \\\n",
       "0  Trip type: Travelled as a couple        Sydney, Australia   \n",
       "\n",
       "  traveller_total_contributions  traveller_total_helpful_contributions  \\\n",
       "0                        2302.0                                  871.0   \n",
       "\n",
       "  rating1  rating2  star  rating  valid_rating     label  \\\n",
       "0     NaN      4.0     3     4.0          True  Positive   \n",
       "\n",
       "                                                                                                                                                                                                                                                                                               combined_review  \\\n",
       "0  Clean and comfortable Hotel rooms in Singapore are so expensive so to find a decent hotel, with easy transport access and food locations, at less than S$200 was a good deal. The compact room meets your basic needs, no fancy mood lightning or lovely artworks to grace the wall. It has clean sheets...   \n",
       "\n",
       "        date    year  \n",
       "0 2023-08-01  2023.0  "
      ]
     },
     "execution_count": 9,
     "metadata": {},
     "output_type": "execute_result"
    }
   ],
   "source": [
    "df['date'] = df['date_of_stay'].str.split(':').str[1]\n",
    "df[\"date\"] = pd.to_datetime(df[\"date\"])\n",
    "# Extracting the year from the 'date' column\n",
    "df['year'] = df['date'].dt.year\n",
    "\n",
    "df.head(1)"
   ]
  },
  {
   "cell_type": "code",
   "execution_count": 10,
   "metadata": {},
   "outputs": [],
   "source": [
    "from datetime import date, timedelta, datetime"
   ]
  },
  {
   "cell_type": "code",
   "execution_count": 11,
   "metadata": {},
   "outputs": [],
   "source": [
    "covid_start = datetime(2020, 1, 29, 0, 0)\n",
    "covid_end = datetime(2022, 4, 1, 0, 0, 0)\n",
    "def get_period(t):\n",
    "    if pd.isnull(t):\n",
    "        return None\n",
    "    if t - covid_start < timedelta(0):\n",
    "        return \"PreCovid\"\n",
    "    elif t-covid_end >= timedelta(0):\n",
    "        return \"PostCovid\"\n",
    "    return \"Covid\""
   ]
  },
  {
   "cell_type": "code",
   "execution_count": 12,
   "metadata": {},
   "outputs": [],
   "source": [
    "df[\"covid\"] = df.apply(lambda row: get_period(row[\"date\"]), axis = 1)"
   ]
  },
  {
   "cell_type": "code",
   "execution_count": 13,
   "metadata": {},
   "outputs": [
    {
     "data": {
      "text/html": [
       "<div>\n",
       "<style scoped>\n",
       "    .dataframe tbody tr th:only-of-type {\n",
       "        vertical-align: middle;\n",
       "    }\n",
       "\n",
       "    .dataframe tbody tr th {\n",
       "        vertical-align: top;\n",
       "    }\n",
       "\n",
       "    .dataframe thead th {\n",
       "        text-align: right;\n",
       "    }\n",
       "</style>\n",
       "<table border=\"1\" class=\"dataframe\">\n",
       "  <thead>\n",
       "    <tr style=\"text-align: right;\">\n",
       "      <th></th>\n",
       "      <th>date_of_stay</th>\n",
       "      <th>traveller_username</th>\n",
       "      <th>review_title</th>\n",
       "      <th>review_text</th>\n",
       "      <th>travel_type</th>\n",
       "      <th>traveller_country_origin</th>\n",
       "      <th>traveller_total_contributions</th>\n",
       "      <th>traveller_total_helpful_contributions</th>\n",
       "      <th>rating1</th>\n",
       "      <th>rating2</th>\n",
       "      <th>star</th>\n",
       "      <th>rating</th>\n",
       "      <th>valid_rating</th>\n",
       "      <th>label</th>\n",
       "      <th>combined_review</th>\n",
       "      <th>date</th>\n",
       "      <th>year</th>\n",
       "      <th>covid</th>\n",
       "    </tr>\n",
       "  </thead>\n",
       "  <tbody>\n",
       "    <tr>\n",
       "      <th>0</th>\n",
       "      <td>Date of stay: August 2023</td>\n",
       "      <td>Love_Life_Sydney</td>\n",
       "      <td>Clean and comfortable</td>\n",
       "      <td>Hotel rooms in Singapore are so expensive so to find a decent hotel, with easy transport access and food locations, at less than S$200 was a good deal. The compact room meets your basic needs, no fancy mood lightning or lovely artworks to grace the wall. It has clean sheets and towels, a small b...</td>\n",
       "      <td>Trip type: Travelled as a couple</td>\n",
       "      <td>Sydney, Australia</td>\n",
       "      <td>2302.0</td>\n",
       "      <td>871.0</td>\n",
       "      <td>NaN</td>\n",
       "      <td>4.0</td>\n",
       "      <td>3</td>\n",
       "      <td>4.0</td>\n",
       "      <td>True</td>\n",
       "      <td>Positive</td>\n",
       "      <td>Clean and comfortable Hotel rooms in Singapore are so expensive so to find a decent hotel, with easy transport access and food locations, at less than S$200 was a good deal. The compact room meets your basic needs, no fancy mood lightning or lovely artworks to grace the wall. It has clean sheets...</td>\n",
       "      <td>2023-08-01</td>\n",
       "      <td>2023.0</td>\n",
       "      <td>PostCovid</td>\n",
       "    </tr>\n",
       "    <tr>\n",
       "      <th>1</th>\n",
       "      <td>Date of stay: August 2023</td>\n",
       "      <td>Bilal S</td>\n",
       "      <td>Good hotel, great location</td>\n",
       "      <td>This is a great place! Location is great but the room is very small. There is no room service available. Overall it's ok and they were kind enough to hold my luggage after check out! It is a good hotel!!</td>\n",
       "      <td>Trip type: Travelled with family</td>\n",
       "      <td>Houston, Texas</td>\n",
       "      <td>4.0</td>\n",
       "      <td>NaN</td>\n",
       "      <td>5.0</td>\n",
       "      <td>NaN</td>\n",
       "      <td>3</td>\n",
       "      <td>5.0</td>\n",
       "      <td>True</td>\n",
       "      <td>Positive</td>\n",
       "      <td>Good hotel, great location  This is a great place! Location is great but the room is very small. There is no room service available. Overall it's ok and they were kind enough to hold my luggage after check out! It is a good hotel!!</td>\n",
       "      <td>2023-08-01</td>\n",
       "      <td>2023.0</td>\n",
       "      <td>PostCovid</td>\n",
       "    </tr>\n",
       "    <tr>\n",
       "      <th>2</th>\n",
       "      <td>Date of stay: October 2022</td>\n",
       "      <td>Anthony Fernando</td>\n",
       "      <td>Good place for a decent price.</td>\n",
       "      <td>Good place good price  Easy access to the city. All walking distance. Very close to the buggies junction. Food comers around you. Also walking distance to marina bay sands   Cozy rooms. Easy checking and check out.  Worth for the price. Quick getaway.</td>\n",
       "      <td>Trip type: Travelled with friends</td>\n",
       "      <td>Dubai, United Arab Emirates</td>\n",
       "      <td>39.0</td>\n",
       "      <td>38.0</td>\n",
       "      <td>5.0</td>\n",
       "      <td>NaN</td>\n",
       "      <td>3</td>\n",
       "      <td>5.0</td>\n",
       "      <td>True</td>\n",
       "      <td>Positive</td>\n",
       "      <td>Good place for a decent price. Good place good price  Easy access to the city. All walking distance. Very close to the buggies junction. Food comers around you. Also walking distance to marina bay sands   Cozy rooms. Easy checking and check out.  Worth for the price. Quick getaway.</td>\n",
       "      <td>2022-10-01</td>\n",
       "      <td>2022.0</td>\n",
       "      <td>PostCovid</td>\n",
       "    </tr>\n",
       "  </tbody>\n",
       "</table>\n",
       "</div>"
      ],
      "text/plain": [
       "                 date_of_stay traveller_username  \\\n",
       "0   Date of stay: August 2023   Love_Life_Sydney   \n",
       "1   Date of stay: August 2023            Bilal S   \n",
       "2  Date of stay: October 2022   Anthony Fernando   \n",
       "\n",
       "                     review_title  \\\n",
       "0           Clean and comfortable   \n",
       "1     Good hotel, great location    \n",
       "2  Good place for a decent price.   \n",
       "\n",
       "                                                                                                                                                                                                                                                                                                   review_text  \\\n",
       "0  Hotel rooms in Singapore are so expensive so to find a decent hotel, with easy transport access and food locations, at less than S$200 was a good deal. The compact room meets your basic needs, no fancy mood lightning or lovely artworks to grace the wall. It has clean sheets and towels, a small b...   \n",
       "1                                                                                                  This is a great place! Location is great but the room is very small. There is no room service available. Overall it's ok and they were kind enough to hold my luggage after check out! It is a good hotel!!   \n",
       "2                                                  Good place good price  Easy access to the city. All walking distance. Very close to the buggies junction. Food comers around you. Also walking distance to marina bay sands   Cozy rooms. Easy checking and check out.  Worth for the price. Quick getaway.   \n",
       "\n",
       "                         travel_type     traveller_country_origin  \\\n",
       "0   Trip type: Travelled as a couple            Sydney, Australia   \n",
       "1   Trip type: Travelled with family               Houston, Texas   \n",
       "2  Trip type: Travelled with friends  Dubai, United Arab Emirates   \n",
       "\n",
       "  traveller_total_contributions  traveller_total_helpful_contributions  \\\n",
       "0                        2302.0                                  871.0   \n",
       "1                           4.0                                    NaN   \n",
       "2                          39.0                                   38.0   \n",
       "\n",
       "  rating1  rating2  star  rating  valid_rating     label  \\\n",
       "0     NaN      4.0     3     4.0          True  Positive   \n",
       "1     5.0      NaN     3     5.0          True  Positive   \n",
       "2     5.0      NaN     3     5.0          True  Positive   \n",
       "\n",
       "                                                                                                                                                                                                                                                                                               combined_review  \\\n",
       "0  Clean and comfortable Hotel rooms in Singapore are so expensive so to find a decent hotel, with easy transport access and food locations, at less than S$200 was a good deal. The compact room meets your basic needs, no fancy mood lightning or lovely artworks to grace the wall. It has clean sheets...   \n",
       "1                                                                      Good hotel, great location  This is a great place! Location is great but the room is very small. There is no room service available. Overall it's ok and they were kind enough to hold my luggage after check out! It is a good hotel!!   \n",
       "2                   Good place for a decent price. Good place good price  Easy access to the city. All walking distance. Very close to the buggies junction. Food comers around you. Also walking distance to marina bay sands   Cozy rooms. Easy checking and check out.  Worth for the price. Quick getaway.   \n",
       "\n",
       "        date    year      covid  \n",
       "0 2023-08-01  2023.0  PostCovid  \n",
       "1 2023-08-01  2023.0  PostCovid  \n",
       "2 2022-10-01  2022.0  PostCovid  "
      ]
     },
     "execution_count": 13,
     "metadata": {},
     "output_type": "execute_result"
    }
   ],
   "source": [
    "df.head(3)"
   ]
  },
  {
   "cell_type": "markdown",
   "metadata": {},
   "source": [
    "## Travel type"
   ]
  },
  {
   "cell_type": "code",
   "execution_count": 15,
   "metadata": {},
   "outputs": [],
   "source": [
    "def short_type(t):\n",
    "  try:\n",
    "    return t.split(\" \")[-1]\n",
    "  except:\n",
    "    return"
   ]
  },
  {
   "cell_type": "code",
   "execution_count": 16,
   "metadata": {
    "id": "KZgnGWBveCm3"
   },
   "outputs": [
    {
     "data": {
      "text/plain": [
       "travel_type\n",
       "couple      17059\n",
       "family      11984\n",
       "business     9573\n",
       "friends      4411\n",
       "solo         3037\n",
       "Name: count, dtype: int64"
      ]
     },
     "execution_count": 16,
     "metadata": {},
     "output_type": "execute_result"
    }
   ],
   "source": [
    "df[\"travel_type\"] = df.apply(lambda row: short_type(row[\"travel_type\"]), axis = 1)\n",
    "df.travel_type.value_counts()"
   ]
  },
  {
   "cell_type": "markdown",
   "metadata": {},
   "source": [
    "## Local vs Foreigner"
   ]
  },
  {
   "cell_type": "code",
   "execution_count": 23,
   "metadata": {},
   "outputs": [
    {
     "data": {
      "text/plain": [
       "is_local\n",
       "0    90496\n",
       "1    11265\n",
       "Name: count, dtype: int64"
      ]
     },
     "execution_count": 23,
     "metadata": {},
     "output_type": "execute_result"
    }
   ],
   "source": [
    "# Creating a new column based on the presence of \"Singapore\"\n",
    "df['is_local'] = df['traveller_country_origin'].apply(lambda x: 1 if 'singapore' in str(x).lower() else 0)\n",
    "df.is_local.value_counts()"
   ]
  },
  {
   "cell_type": "markdown",
   "metadata": {},
   "source": [
    "## Drop irrelevant columns"
   ]
  },
  {
   "cell_type": "code",
   "execution_count": 25,
   "metadata": {},
   "outputs": [
    {
     "data": {
      "text/html": [
       "<div>\n",
       "<style scoped>\n",
       "    .dataframe tbody tr th:only-of-type {\n",
       "        vertical-align: middle;\n",
       "    }\n",
       "\n",
       "    .dataframe tbody tr th {\n",
       "        vertical-align: top;\n",
       "    }\n",
       "\n",
       "    .dataframe thead th {\n",
       "        text-align: right;\n",
       "    }\n",
       "</style>\n",
       "<table border=\"1\" class=\"dataframe\">\n",
       "  <thead>\n",
       "    <tr style=\"text-align: right;\">\n",
       "      <th></th>\n",
       "      <th>travel_type</th>\n",
       "      <th>rating1</th>\n",
       "      <th>rating2</th>\n",
       "      <th>star</th>\n",
       "      <th>rating</th>\n",
       "      <th>valid_rating</th>\n",
       "      <th>label</th>\n",
       "      <th>combined_review</th>\n",
       "      <th>date</th>\n",
       "      <th>year</th>\n",
       "      <th>covid</th>\n",
       "      <th>is_local</th>\n",
       "    </tr>\n",
       "  </thead>\n",
       "  <tbody>\n",
       "    <tr>\n",
       "      <th>0</th>\n",
       "      <td>couple</td>\n",
       "      <td>NaN</td>\n",
       "      <td>4.0</td>\n",
       "      <td>3</td>\n",
       "      <td>4.0</td>\n",
       "      <td>True</td>\n",
       "      <td>Positive</td>\n",
       "      <td>Clean and comfortable Hotel rooms in Singapore are so expensive so to find a decent hotel, with easy transport access and food locations, at less than S$200 was a good deal. The compact room meets your basic needs, no fancy mood lightning or lovely artworks to grace the wall. It has clean sheets...</td>\n",
       "      <td>2023-08-01</td>\n",
       "      <td>2023.0</td>\n",
       "      <td>PostCovid</td>\n",
       "      <td>0</td>\n",
       "    </tr>\n",
       "  </tbody>\n",
       "</table>\n",
       "</div>"
      ],
      "text/plain": [
       "  travel_type rating1  rating2  star  rating  valid_rating     label  \\\n",
       "0      couple     NaN      4.0     3     4.0          True  Positive   \n",
       "\n",
       "                                                                                                                                                                                                                                                                                               combined_review  \\\n",
       "0  Clean and comfortable Hotel rooms in Singapore are so expensive so to find a decent hotel, with easy transport access and food locations, at less than S$200 was a good deal. The compact room meets your basic needs, no fancy mood lightning or lovely artworks to grace the wall. It has clean sheets...   \n",
       "\n",
       "        date    year      covid  is_local  \n",
       "0 2023-08-01  2023.0  PostCovid         0  "
      ]
     },
     "execution_count": 25,
     "metadata": {},
     "output_type": "execute_result"
    }
   ],
   "source": [
    "col_drop = [\"date_of_stay\", \"traveller_username\", \"review_title\", \"review_text\", \"traveller_country_origin\", \"traveller_total_contributions\", \"traveller_total_helpful_contributions\"]\n",
    "df = df.drop(columns=col_drop)\n",
    "df.head(1)"
   ]
  },
  {
   "cell_type": "markdown",
   "metadata": {},
   "source": [
    "# Export Cleaned Data"
   ]
  },
  {
   "cell_type": "code",
   "execution_count": 47,
   "metadata": {},
   "outputs": [],
   "source": [
    "def clean_data(csv):\n",
    "    \n",
    "    data_path = here('data/raw/' + csv)\n",
    "    \n",
    "    df = pd.read_csv(here(data_path))\n",
    "    \n",
    "    df[\"rating\"] = df.apply(lambda row: rating_clean(row['rating1'], row['rating2']), axis = 1)\n",
    "    \n",
    "    df['valid_rating'] = df.apply(lambda row: valid_rating(row['rating']), axis = 1)\n",
    "    \n",
    "    df[\"label\"] = df.apply(lambda row: classify_rating(row['rating']), axis = 1)\n",
    "        \n",
    "    df[\"combined_review\"] = df.apply(lambda row: combine(row), axis = 1)\n",
    "    \n",
    "    df['date'] = df['date_of_stay'].str.split(':').str[1]\n",
    "    \n",
    "    df[\"date\"] = pd.to_datetime(df[\"date\"])\n",
    "    \n",
    "    df[\"covid\"] = df.apply(lambda row: get_period(row[\"date\"]), axis = 1)\n",
    "    \n",
    "    df[\"travel_type\"] = df.apply(lambda row: short_type(row[\"travel_type\"]), axis = 1)\n",
    "    \n",
    "    df['is_local'] = df['traveller_country_origin'].apply(lambda x: 1 if 'singapore' in str(x).lower() else 0)\n",
    "\n",
    "    col_drop = [\"date_of_stay\", \"traveller_username\", \"review_title\", \"review_text\", \"traveller_country_origin\", \n",
    "                \"traveller_total_contributions\", \"traveller_total_helpful_contributions\",\n",
    "               \"rating1\", \"rating2\"]\n",
    "    \n",
    "    df = df.drop(columns=col_drop)\n",
    "    \n",
    "    file_path = here('data/cleaned/cleaned_' + csv)\n",
    "    \n",
    "    \n",
    "    df.to_csv(file_path, index=False)"
   ]
  },
  {
   "cell_type": "code",
   "execution_count": 48,
   "metadata": {},
   "outputs": [],
   "source": [
    "for csv in star3+star4+star5:\n",
    "    clean_data(csv)"
   ]
  }
 ],
 "metadata": {
  "colab": {
   "provenance": []
  },
  "kernelspec": {
   "display_name": "Python [conda env:bt4222_hotels]",
   "language": "python",
   "name": "conda-env-bt4222_hotels-py"
  },
  "language_info": {
   "codemirror_mode": {
    "name": "ipython",
    "version": 3
   },
   "file_extension": ".py",
   "mimetype": "text/x-python",
   "name": "python",
   "nbconvert_exporter": "python",
   "pygments_lexer": "ipython3",
   "version": "3.10.4"
  }
 },
 "nbformat": 4,
 "nbformat_minor": 4
}
