import numpy as np
import pandas as pd
import matplotlib.pyplot as plt
import string


import warnings
warnings.filterwarnings('ignore')
plt.rcParams['figure.figsize'] = (17,7)
plt.rcParams['font.size'] = 18


import pyprojroot.here as here #here function automatically brings us back to project root folder


data = pd.read_csv(here('data/cleaned/cleaned_mbs_reviews.csv'))
data.head(1)


plt.pie(data['label'].value_counts(), labels=data['label'].unique().tolist(), autopct='%1.1f%%')
plt.show()


timeline = data.groupby('date').count()['traveller_username']

timeline.index = pd.to_datetime(timeline.index)

timeline = timeline.sort_index()


plt.plot(timeline)
plt.title("Time against Number of Reviews")
plt.xlabel("Date")
plt.ylabel("Number of Reviews")


covid_data = data.dropna(axis=0, subset=['covid'])

covid_data['covid'].value_counts()


plt.pie(covid_data['covid'].value_counts(), labels=covid_data['covid'].value_counts().index.unique().tolist(), autopct='%1.1f%%')
plt.show()
