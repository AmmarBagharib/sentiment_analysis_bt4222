import numpy as np
import pandas as pd
import matplotlib.pyplot as plt
import string
import os


import warnings
warnings.filterwarnings('ignore')
plt.rcParams['figure.figsize'] = (17,7)
plt.rcParams['font.size'] = 18


data = pd.read_csv(here('data/cleaned/cleaned_mbs_reviews.csv'))
data.head(1)


plt.pie(data['label'].value_counts(), labels=data['label'].unique().tolist(), autopct='%1.1f%%')
plt.show()


timeline = data.groupby('date').count()['traveller_username']

timeline.index = pd.to_datetime(timeline.index)

timeline = timeline.sort_index()


plt.plot(timeline)
plt.title("Time against Number of Reviews")
plt.xlabel("Date")
plt.ylabel("Number of Reviews")


covid_data = data.dropna(axis=0, subset=['covid'])

covid_data['covid'].value_counts()


plt.pie(covid_data['covid'].value_counts(), labels=covid_data['covid'].value_counts().index.unique().tolist(), autopct='%1.1f%%')
plt.show()


csvs = os.listdir(r"C:\Nga\BT4222\sentiment_analysis_bt4222\data\cleaned")
csvs


star3 = ['cleaned_ibis-sg-bencoolen.csv','cleaned_hotel-boss.csv','cleaned_hotel-G.csv',
           'cleaned_village-hotel-albert-court-by-far-east-hospitality.csv',
           'cleaned_holiday-inn-express-clarke-quay.csv']
star4 = ['cleaned_village-hotel-changi-by-far-east-hospitality.csv',
         'cleaned_park-regis.csv', 'cleaned_grand-mercure-sg-roxy.csv',
         'cleaned_paradox-sg-merchant-court.csv','cleaned_crowne-plaza.csv']
star5 = ['cleaned_fullerton.csv', 'cleaned_parkroyal-collection-marina-bay.csv', 'cleaned_pan-pacific.csv',
          'cleaned_mbs_total.csv', 'cleaned_swissotel-the-stamford.csv']


ROOT = r'C:\Nga\BT4222\sentiment_analysis_bt4222'
RAW_FOLDER = "data\\cleaned"


import pandas as pd

def combine_csv_to_dataframe(file_names):
    """
    Combine multiple CSV files into a single DataFrame.

    Parameters:
    file_names (list): List of CSV file names.

    Returns:
    pd.DataFrame: Combined DataFrame.
    """
    combined_df = pd.DataFrame()
    
    for file_name in file_names:
        file_name = ROOT + "\\"+RAW_FOLDER + "\\" + file_name
        try:
            df = pd.read_csv(file_name)
            combined_df = pd.concat([combined_df, df], ignore_index=True)
        except FileNotFoundError:
            print(f"File not found: {file_name}")
        except pd.errors.EmptyDataError:
            print(f"Empty or invalid CSV file: {file_name}")
    
    return combined_df



combined_dataframe.columns


combined_dataframe = combine_csv_to_dataframe(star3)
combined_dataframe[['traveller_username','date','travel_type','traveller_total_contributions','traveller_total_helpful_contributions','review_title','review_text','rating']].head(5)


combined_dataframe.covid.value_counts()


plt.pie(combined_dataframe['covid'].value_counts(), labels=combined_dataframe['covid'].value_counts().index.unique().tolist(), autopct='%1.1f%%')
plt.title("Covid Time Distribution for 5 star hotels")
plt.show()


# Create a figure with 1 row and 2 columns of subplots
fig, axs = plt.subplots(1, 2, figsize=(14, 6))
#fig.suptitle('3 star hotels', y=1.02)  # Adjust the y position of the title

# Plot pie chart for label distribution
labels1 = combined_dataframe['label'].value_counts().index
sizes1 = combined_dataframe['label'].value_counts()
threshold1 = 1  # Adjust the threshold for displaying percentages
def func1(pct, allvalues):
    absolute = int(pct/100.*np.sum(allvalues))
    return "{:.1f}%".format(pct) if pct > threshold1 else ""

axs[0].pie(sizes1, labels=labels1, autopct=lambda pct: func1(pct, sizes1), startangle=140, rotatelabels=False, textprops={'fontsize': 14})
axs[0].set_title("Label Distribution")

# Plot pie chart for COVID combined_dataframe
covid_combined_dataframe = combined_dataframe.dropna(axis=0, subset=['covid'])
labels2 = covid_combined_dataframe['covid'].value_counts().index
sizes2 = covid_combined_dataframe['covid'].value_counts()
threshold2 = 3  # Adjust the threshold for displaying percentages
def func2(pct, allvalues):
    absolute = int(pct/100.*np.sum(allvalues))
    return "{:.1f}%".format(pct) if pct > threshold2 else ""

axs[1].pie(sizes2, labels=labels2, autopct=lambda pct: func2(pct, sizes2), startangle=140, rotatelabels=False, textprops={'fontsize': 14})
axs[1].set_title("COVID Distribution")

# Adjust layout and spacing
plt.tight_layout(rect=[0, 0, 0.85, 0.9])  # Adjust the rectangle for the layout
plt.subplots_adjust(wspace=0.5)  # Adjust horizontal spacing between subplots

plt.show()



