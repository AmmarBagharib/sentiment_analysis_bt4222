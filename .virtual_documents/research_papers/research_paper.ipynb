import PyPDF2
from transformers import pipeline

import torch
print(torch.__version__)

# Load the summarization pipeline


# Load the summarization pipeline
summarizer = pipeline("summarization",  model="t5-base", tokenizer="t5-base", framework="tf") 
#T5 (Text-To-Text Transfer Transformer)


pdf_summary_text = ""


pdf_file_path = "dong2020.pdf"

# # Open the PDF file in read-binary mode
pdf_file = open(pdf_file_path, 'rb')

#create a PDF object
pdf_reader = PyPDF2.PdfReader(pdf_file)


# Initialize a list to store extracted text from each page
extracted_text = []

# Loop through all the pages in the PDF file
for page_number in range(len(pdf_reader.pages)):
    # Extract text from the current page
    page = pdf_reader.pages[page_number]
    page_text = page.extract_text().lower()
    
    # Append the extracted text to the list
    extracted_text.append(page_text)

# Close the PDF file
pdf_file.close()


range(len(pdf_reader.pages))


extracted_text[6:11]


import concurrent.futures

# Function to generate a summary for a given page's text
def generate_summary(page_text):
    summary = summarizer(page_text, max_length=100, min_length=30)
    return summary[0]['summary_text']

# Create a ThreadPoolExecutor with a specified number of workers (adjust as needed)
with concurrent.futures.ThreadPoolExecutor(max_workers=4) as executor:
    # Generate summaries concurrently for each page's text
    summaries = list(executor.map(generate_summary, extracted_text))
